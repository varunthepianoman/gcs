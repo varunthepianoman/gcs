{
 "cells": [
  {
   "cell_type": "code",
   "execution_count": 147,
   "metadata": {
    "pycharm": {
     "name": "#%%\n"
    }
   },
   "outputs": [
    {
     "name": "stdout",
     "output_type": "stream",
     "text": [
      "The autoreload extension is already loaded. To reload it, use:\n",
      "  %reload_ext autoreload\n",
      "True\n"
     ]
    }
   ],
   "source": [
    "%load_ext autoreload\n",
    "%autoreload 2\n",
    "import os\n",
    "import time\n",
    "import pickle\n",
    "import numpy as np\n",
    "import pandas as pd\n",
    "import multiprocess as mp\n",
    "from IPython.display import HTML, SVG\n",
    "\n",
    "from pydrake.geometry import MeshcatVisualizerCpp, MeshcatVisualizerParams, Role, StartMeshcat\n",
    "from pydrake.geometry.optimization import IrisInConfigurationSpace, IrisOptions\n",
    "from pydrake.multibody.parsing import LoadModelDirectives, Parser, ProcessModelDirectives\n",
    "from pydrake.multibody.plant import AddMultibodyPlantSceneGraph\n",
    "# from pydrake.solvers.gurobi import GurobiSolver\n",
    "from pydrake.solvers.mosek import MosekSolver\n",
    "# from pydrake.solvers import MathematicalProgram\n",
    "from pydrake.solvers.snopt import SnoptSolver\n",
    "from pydrake.systems.framework import DiagramBuilder\n",
    "# from pydrake.planning.common_robotics_utilities import SimpleRRTPlannerState\n",
    "\n",
    "\n",
    "from gcs.linear import LinearGCS\n",
    "from gcs.rounding import randomForwardPathSearch\n",
    "from reproduction.prm_comparison.planning import PRM, BiRRT\n",
    "from reproduction.prm_comparison.helpers import (\n",
    "    ForwardKinematics,\n",
    "    get_traj_length,\n",
    "    InverseKinematics,\n",
    "    is_traj_confined,\n",
    "    make_traj,\n",
    "    visualize_trajectory,\n",
    ")\n",
    "from reproduction.util import *\n",
    "\n",
    "# GurobiSolver.AcquireLicense()\n",
    "os.environ['MOSEKLM_LICENSE_FILE'] = '/Users/varun/mosek/mosek.lic'\n",
    "MosekSolver.AcquireLicense()\n",
    "\n",
    "print(MosekSolver().available())"
   ]
  },
  {
   "cell_type": "code",
   "execution_count": 148,
   "metadata": {
    "pycharm": {
     "name": "#%%\n"
    }
   },
   "outputs": [],
   "source": [
    "# Start the visualizer (run this cell only once, each instance consumes a port)\n",
    "# meshcat = StartMeshcat()"
   ]
  },
  {
   "cell_type": "code",
   "execution_count": 149,
   "metadata": {
    "pycharm": {
     "name": "#%%\n"
    }
   },
   "outputs": [],
   "source": [
    "SEED = 17\n",
    "np.random.seed(SEED)"
   ]
  },
  {
   "cell_type": "code",
   "execution_count": 150,
   "metadata": {
    "pycharm": {
     "name": "#%%\n"
    }
   },
   "outputs": [
    {
     "name": "stderr",
     "output_type": "stream",
     "text": [
      "/var/folders/p0/l4__0wtd3j184sv9zspd0qlm0000gn/T/ipykernel_8862/1353813250.py:18: DrakeDeprecationWarning: MeshcatVisualizerCpp has been renamed to MeshcatVisualizer. The deprecated code will be removed from Drake on or after 2022-11-01.\n",
      "  meshcat_cpp = MeshcatVisualizerCpp.AddToBuilder(builder, scene_graph, meshcat, meshcat_params)\n"
     ]
    }
   ],
   "source": [
    "builder = DiagramBuilder()\n",
    "plant, scene_graph = AddMultibodyPlantSceneGraph(builder, time_step=0.0)\n",
    "parser = Parser(plant)\n",
    "parser.package_map().Add(\"gcs\", GcsDir())\n",
    "\n",
    "directives_file = FindModelFile(\"models/iiwa14_spheres_collision_welded_gripper.yaml\")\n",
    "directives = LoadModelDirectives(directives_file)\n",
    "models = ProcessModelDirectives(directives, plant, parser)\n",
    "[iiwa, wsg, binR, binL, table] =  models\n",
    " \n",
    "\n",
    "plant.Finalize()\n",
    "\n",
    "meshcat_params = MeshcatVisualizerParams()\n",
    "meshcat_params.delete_on_initialization_event = False\n",
    "meshcat_params.role = Role.kIllustration\n",
    "# meshcat_params.role = Role.kProximity\n",
    "meshcat_cpp = MeshcatVisualizerCpp.AddToBuilder(builder, scene_graph, meshcat, meshcat_params)\n",
    "\n",
    "diagram = builder.Build()\n",
    "\n",
    "context = diagram.CreateDefaultContext()\n",
    "#plant_context = plant.GetMyContextFromRoot(context)\n",
    "plant_context = plant.GetMyMutableContextFromRoot(context)\n",
    "q0 =[0, 0.3, 0, -1.8, 0, 1, 1.57]\n",
    "plant.SetPositions(plant_context, q0)\n",
    "diagram.Publish(context)"
   ]
  },
  {
   "cell_type": "markdown",
   "metadata": {
    "pycharm": {
     "name": "#%% md\n"
    }
   },
   "source": [
    "# Generate Iris Regions\n",
    "### via manual seeds"
   ]
  },
  {
   "cell_type": "code",
   "execution_count": 153,
   "metadata": {
    "pycharm": {
     "name": "#%%\n"
    }
   },
   "outputs": [],
   "source": [
    "milestones =  {\"Above Shelve\": [[0.75, 0, 0.9],    [0, -np.pi, -np.pi/2]],   \n",
    "#                 \"Top Rack\":    [[0.75, 0, 0.67],   [0, -np.pi, -np.pi/2]],   \n",
    "#                 \"Middle Rack\": [[0.75, 0, 0.41],   [0, -np.pi, -np.pi/2]],       \n",
    "                \"Left Bin\":    [[0.05,  0.6, 0.22], [np.pi/2, np.pi, 0]], \n",
    "                \"Right Bin\":   [[0.05, -0.6, 0.22], [np.pi/2, np.pi, np.pi]]}\n",
    "\n",
    "\n",
    "additional_seed_points = {\"Front to Shelve\":np.array([0, 0.2, 0, -2.09, 0, -0.3, np.pi/2]), \n",
    "                          \"Left to Shelve\": np.array([0.8, 0.7, 0, -1.6, 0, 0, np.pi/2]),\n",
    "                          \"Right to Shelve\":np.array([-0.8, 0.7, 0, -1.6, 0, 0, np.pi/2])} \n",
    "\n",
    "q0 =[0, 0.3, 0, -1.8, 0, 1, 1.57]\n",
    "milestone_configurations =  {name: InverseKinematics(q0, trans, rot) for name, (trans, rot) in milestones.items()}\n",
    "\n",
    "seed_points = {**milestone_configurations, **additional_seed_points}"
   ]
  },
  {
   "cell_type": "code",
   "execution_count": 154,
   "metadata": {
    "pycharm": {
     "name": "#%%\n"
    },
    "scrolled": true
   },
   "outputs": [
    {
     "name": "stdout",
     "output_type": "stream",
     "text": [
      "{'Above Shelve': array([ 6.41950821e-05,  4.71953264e-01, -1.49318242e-04, -6.71673454e-01,\n",
      "        1.85368193e-04,  4.26169599e-01,  1.57069215e+00]), 'Left Bin': array([ 1.25194117,  0.7900597 ,  0.36009026, -1.48422768, -0.31763875,\n",
      "        0.9249147 ,  1.70611194]), 'Right Bin': array([-1.25173807,  0.79011397, -0.360409  , -1.48422782,  0.31792331,\n",
      "        0.924965  ,  1.43528708]), 'Front to Shelve': array([ 0.        ,  0.2       ,  0.        , -2.09      ,  0.        ,\n",
      "       -0.3       ,  1.57079633]), 'Left to Shelve': array([ 0.8       ,  0.7       ,  0.        , -1.6       ,  0.        ,\n",
      "        0.        ,  1.57079633]), 'Right to Shelve': array([-0.8       ,  0.7       ,  0.        , -1.6       ,  0.        ,\n",
      "        0.        ,  1.57079633])}\n"
     ]
    }
   ],
   "source": [
    "print(seed_points)"
   ]
  },
  {
   "cell_type": "code",
   "execution_count": 155,
   "metadata": {
    "pycharm": {
     "name": "#%%\n"
    }
   },
   "outputs": [],
   "source": [
    "iris_options = IrisOptions()\n",
    "iris_options.require_sample_point_is_contained = True\n",
    "iris_options.iteration_limit = 10\n",
    "iris_options.termination_threshold = -1\n",
    "iris_options.relative_termination_threshold = 0.01\n",
    "iris_options.enable_ibex = False\n",
    "CORE_CNT = mp.cpu_count() # you may edit this"
   ]
  },
  {
   "cell_type": "code",
   "execution_count": 156,
   "metadata": {
    "pycharm": {
     "name": "#%%\n"
    }
   },
   "outputs": [],
   "source": [
    "def calcRegion(seed, verbose):\n",
    "    print(\"Seed:\", seed)\n",
    "    start_time = time.time()\n",
    "    context = diagram.CreateDefaultContext()\n",
    "    plant_context = plant.GetMyContextFromRoot(context)\n",
    "    plant.SetPositions(plant_context, seed)\n",
    "    hpoly = IrisInConfigurationSpace(plant, plant_context, iris_options)\n",
    "    print(\"Seed:\", seed, \"\\tTime:\", time.time() - start_time, flush=True)\n",
    "    return hpoly"
   ]
  },
  {
   "cell_type": "code",
   "execution_count": 157,
   "metadata": {
    "pycharm": {
     "name": "#%%\n"
    }
   },
   "outputs": [],
   "source": [
    "def generateRegions(seed_points, verbose = True):\n",
    "    seeds = list(seed_points.values()) if type(seed_points) is dict else seed_points\n",
    "    regions = []\n",
    "    loop_time = time.time()\n",
    "#     with mp.Pool(processes = CORE_CNT) as pool:\n",
    "#         regions = pool.starmap(calcRegion, [[seed, verbose] for seed in seeds])\n",
    "    regions = [calcRegion(seed, verbose) for seed in seeds]\n",
    "\n",
    "    \n",
    "    if verbose:\n",
    "        print(\"Loop time:\", time.time() - loop_time)\n",
    "    \n",
    "    if type(seed_points) is dict:\n",
    "        return dict(list(zip(seed_points.keys(), regions)))\n",
    "    \n",
    "    return regions"
   ]
  },
  {
   "cell_type": "code",
   "execution_count": 158,
   "metadata": {
    "pycharm": {
     "name": "#%%\n"
    },
    "scrolled": false
   },
   "outputs": [
    {
     "name": "stdout",
     "output_type": "stream",
     "text": [
      "Seed: [ 6.41950821e-05  4.71953264e-01 -1.49318242e-04 -6.71673454e-01\n",
      "  1.85368193e-04  4.26169599e-01  1.57069215e+00]\n",
      "Seed: [ 6.41950821e-05  4.71953264e-01 -1.49318242e-04 -6.71673454e-01\n",
      "  1.85368193e-04  4.26169599e-01  1.57069215e+00] \tTime: 97.07257294654846\n",
      "Seed: [ 1.25194117  0.7900597   0.36009026 -1.48422768 -0.31763875  0.9249147\n",
      "  1.70611194]\n",
      "Seed: [ 1.25194117  0.7900597   0.36009026 -1.48422768 -0.31763875  0.9249147\n",
      "  1.70611194] \tTime: 34.34035110473633\n",
      "Seed: [-1.25173807  0.79011397 -0.360409   -1.48422782  0.31792331  0.924965\n",
      "  1.43528708]\n",
      "Seed: [-1.25173807  0.79011397 -0.360409   -1.48422782  0.31792331  0.924965\n",
      "  1.43528708] \tTime: 22.350597143173218\n",
      "Seed: [ 0.          0.2         0.         -2.09        0.         -0.3\n",
      "  1.57079633]\n",
      "Seed: [ 0.          0.2         0.         -2.09        0.         -0.3\n",
      "  1.57079633] \tTime: 117.60096311569214\n",
      "Seed: [ 0.8         0.7         0.         -1.6         0.          0.\n",
      "  1.57079633]\n",
      "Seed: [ 0.8         0.7         0.         -1.6         0.          0.\n",
      "  1.57079633] \tTime: 11.811854124069214\n",
      "Seed: [-0.8         0.7         0.         -1.6         0.          0.\n",
      "  1.57079633]\n",
      "Seed: [-0.8         0.7         0.         -1.6         0.          0.\n",
      "  1.57079633] \tTime: 11.479996919631958\n",
      "Loop time: 294.82822608947754\n"
     ]
    }
   ],
   "source": [
    "regions = generateRegions(seed_points)"
   ]
  },
  {
   "cell_type": "code",
   "execution_count": 159,
   "metadata": {
    "pycharm": {
     "name": "#%%\n"
    }
   },
   "outputs": [
    {
     "name": "stdout",
     "output_type": "stream",
     "text": [
      "{'Above Shelve': <pydrake.geometry.optimization.HPolyhedron object at 0x14c408df0>, 'Left Bin': <pydrake.geometry.optimization.HPolyhedron object at 0x14d75a970>, 'Right Bin': <pydrake.geometry.optimization.HPolyhedron object at 0x14d4a15b0>, 'Front to Shelve': <pydrake.geometry.optimization.HPolyhedron object at 0x14d1df270>, 'Left to Shelve': <pydrake.geometry.optimization.HPolyhedron object at 0x14d49ea30>, 'Right to Shelve': <pydrake.geometry.optimization.HPolyhedron object at 0x14d49efb0>}\n"
     ]
    }
   ],
   "source": [
    "print(regions)"
   ]
  },
  {
   "cell_type": "markdown",
   "metadata": {
    "pycharm": {
     "name": "#%% md\n"
    }
   },
   "source": [
    "## via pre-generated regions"
   ]
  },
  {
   "cell_type": "code",
   "execution_count": 160,
   "metadata": {
    "pycharm": {
     "name": "#%%\n"
    }
   },
   "outputs": [],
   "source": [
    "#load regions\n",
    "# with open(os.path.join(GcsDir(), \"data/prm_comparison/IRIS.reg\"), \"rb\") as f:\n",
    "#     regions = pickle.load(f)"
   ]
  },
  {
   "cell_type": "code",
   "execution_count": 161,
   "metadata": {
    "pycharm": {
     "name": "#%%\n"
    }
   },
   "outputs": [
    {
     "data": {
      "image/svg+xml": [
       "<svg xmlns=\"http://www.w3.org/2000/svg\" xmlns:xlink=\"http://www.w3.org/1999/xlink\" width=\"854pt\" height=\"479pt\" viewBox=\"0.00 0.00 854.00 479.00\">\n",
       "<g id=\"graph0\" class=\"graph\" transform=\"scale(1 1) rotate(0) translate(4 475)\">\n",
       "<title>GraphOfConvexSets</title>\n",
       "<polygon fill=\"white\" stroke=\"transparent\" points=\"-4,4 -4,-475 850,-475 850,4 -4,4\"/>\n",
       "<!-- v28292 -->\n",
       "<g id=\"node1\" class=\"node\">\n",
       "<title>v28292</title>\n",
       "<ellipse fill=\"none\" stroke=\"black\" cx=\"379\" cy=\"-453\" rx=\"27\" ry=\"18\"/>\n",
       "<text text-anchor=\"middle\" x=\"379\" y=\"-449.3\" font-family=\"Times,serif\" font-size=\"14.00\">q_1</text>\n",
       "</g>\n",
       "<!-- v28293 -->\n",
       "<g id=\"node2\" class=\"node\">\n",
       "<title>v28293</title>\n",
       "<ellipse fill=\"none\" stroke=\"black\" cx=\"391\" cy=\"-366\" rx=\"27\" ry=\"18\"/>\n",
       "<text text-anchor=\"middle\" x=\"391\" y=\"-362.3\" font-family=\"Times,serif\" font-size=\"14.00\">q_2</text>\n",
       "</g>\n",
       "<!-- v28292&#45;&gt;v28293 -->\n",
       "<g id=\"edge1\" class=\"edge\">\n",
       "<title>v28292-&gt;v28293</title>\n",
       "<path fill=\"none\" stroke=\"black\" d=\"M359.71,-440.31C346.44,-430.68 332.46,-416.32 340,-402 344.48,-393.49 352.07,-386.65 360.05,-381.35\"/>\n",
       "<polygon fill=\"black\" stroke=\"black\" points=\"361.91,-384.31 368.73,-376.2 358.34,-378.29 361.91,-384.31\"/>\n",
       "<text text-anchor=\"middle\" x=\"369\" y=\"-405.8\" font-family=\"Times,serif\" font-size=\"14.00\">(q_1, q_2)</text>\n",
       "</g>\n",
       "<!-- v28294 -->\n",
       "<g id=\"node3\" class=\"node\">\n",
       "<title>v28294</title>\n",
       "<ellipse fill=\"none\" stroke=\"black\" cx=\"510\" cy=\"-18\" rx=\"27\" ry=\"18\"/>\n",
       "<text text-anchor=\"middle\" x=\"510\" y=\"-14.3\" font-family=\"Times,serif\" font-size=\"14.00\">q_3</text>\n",
       "</g>\n",
       "<!-- v28292&#45;&gt;v28294 -->\n",
       "<g id=\"edge3\" class=\"edge\">\n",
       "<title>v28292-&gt;v28294</title>\n",
       "<path fill=\"none\" stroke=\"black\" d=\"M352.05,-451.72C265.46,-450.1 0,-439.24 0,-367 0,-367 0,-367 0,-104 0,-66.84 32.23,-67.09 67,-54 140.96,-26.16 380.22,-20.47 472.88,-19.3\"/>\n",
       "<polygon fill=\"black\" stroke=\"black\" points=\"472.96,-22.8 482.92,-19.18 472.88,-15.8 472.96,-22.8\"/>\n",
       "<text text-anchor=\"middle\" x=\"29\" y=\"-231.8\" font-family=\"Times,serif\" font-size=\"14.00\">(q_1, q_3)</text>\n",
       "</g>\n",
       "<!-- v28295 -->\n",
       "<g id=\"node4\" class=\"node\">\n",
       "<title>v28295</title>\n",
       "<ellipse fill=\"none\" stroke=\"black\" cx=\"399\" cy=\"-105\" rx=\"27\" ry=\"18\"/>\n",
       "<text text-anchor=\"middle\" x=\"399\" y=\"-101.3\" font-family=\"Times,serif\" font-size=\"14.00\">q_4</text>\n",
       "</g>\n",
       "<!-- v28292&#45;&gt;v28295 -->\n",
       "<g id=\"edge5\" class=\"edge\">\n",
       "<title>v28292-&gt;v28295</title>\n",
       "<path fill=\"none\" stroke=\"black\" d=\"M352.23,-449.31C309.85,-444.6 229.77,-433.75 207,-417 146.36,-372.38 122.27,-333.92 141,-261 156.14,-202.05 157.61,-176.57 207,-141 231.27,-123.52 313.38,-113.5 362.01,-108.97\"/>\n",
       "<polygon fill=\"black\" stroke=\"black\" points=\"362.49,-112.44 372.14,-108.06 361.86,-105.47 362.49,-112.44\"/>\n",
       "<text text-anchor=\"middle\" x=\"170\" y=\"-275.3\" font-family=\"Times,serif\" font-size=\"14.00\">(q_1, q_4)</text>\n",
       "</g>\n",
       "<!-- v28296 -->\n",
       "<g id=\"node5\" class=\"node\">\n",
       "<title>v28296</title>\n",
       "<ellipse fill=\"none\" stroke=\"black\" cx=\"614\" cy=\"-192\" rx=\"27\" ry=\"18\"/>\n",
       "<text text-anchor=\"middle\" x=\"614\" y=\"-188.3\" font-family=\"Times,serif\" font-size=\"14.00\">q_5</text>\n",
       "</g>\n",
       "<!-- v28292&#45;&gt;v28296 -->\n",
       "<g id=\"edge7\" class=\"edge\">\n",
       "<title>v28292-&gt;v28296</title>\n",
       "<path fill=\"none\" stroke=\"black\" d=\"M399.05,-440.89C404.12,-438.54 409.64,-436.37 415,-435 479.92,-418.39 659.34,-452.77 716,-417 758.36,-390.25 776.5,-363.52 764,-315 752.99,-272.23 749.82,-256.4 716,-228 697.4,-212.38 671.44,-203.6 650.37,-198.74\"/>\n",
       "<polygon fill=\"black\" stroke=\"black\" points=\"650.98,-195.29 640.48,-196.66 649.54,-202.14 650.98,-195.29\"/>\n",
       "<text text-anchor=\"middle\" x=\"795\" y=\"-318.8\" font-family=\"Times,serif\" font-size=\"14.00\">(q_1, q_5)</text>\n",
       "</g>\n",
       "<!-- v28297 -->\n",
       "<g id=\"node6\" class=\"node\">\n",
       "<title>v28297</title>\n",
       "<ellipse fill=\"none\" stroke=\"black\" cx=\"590\" cy=\"-279\" rx=\"27\" ry=\"18\"/>\n",
       "<text text-anchor=\"middle\" x=\"590\" y=\"-275.3\" font-family=\"Times,serif\" font-size=\"14.00\">q_6</text>\n",
       "</g>\n",
       "<!-- v28292&#45;&gt;v28297 -->\n",
       "<g id=\"edge9\" class=\"edge\">\n",
       "<title>v28292-&gt;v28297</title>\n",
       "<path fill=\"none\" stroke=\"black\" d=\"M400.21,-441.69C405.04,-439.42 410.18,-437.08 415,-435 435.16,-426.31 442.38,-428.63 461,-417 499.41,-393 498.08,-372.77 536,-348 552.66,-337.12 564.09,-345.15 577,-330 582.48,-323.57 585.69,-315.1 587.55,-306.96\"/>\n",
       "<polygon fill=\"black\" stroke=\"black\" points=\"591.02,-307.46 589.27,-297.01 584.12,-306.27 591.02,-307.46\"/>\n",
       "<text text-anchor=\"middle\" x=\"565\" y=\"-362.3\" font-family=\"Times,serif\" font-size=\"14.00\">(q_1, q_6)</text>\n",
       "</g>\n",
       "<!-- v28293&#45;&gt;v28292 -->\n",
       "<g id=\"edge2\" class=\"edge\">\n",
       "<title>v28293-&gt;v28292</title>\n",
       "<path fill=\"none\" stroke=\"black\" d=\"M396.57,-383.84C399.01,-393.63 400.76,-406.13 398,-417 397.12,-420.46 395.83,-423.94 394.32,-427.3\"/>\n",
       "<polygon fill=\"black\" stroke=\"black\" points=\"391.14,-425.82 389.67,-436.31 397.36,-429.03 391.14,-425.82\"/>\n",
       "<text text-anchor=\"middle\" x=\"428\" y=\"-405.8\" font-family=\"Times,serif\" font-size=\"14.00\">(q_2, q_1)</text>\n",
       "</g>\n",
       "<!-- v28293&#45;&gt;v28295 -->\n",
       "<g id=\"edge11\" class=\"edge\">\n",
       "<title>v28293-&gt;v28295</title>\n",
       "<path fill=\"none\" stroke=\"black\" d=\"M369.22,-355.21C357.11,-349.08 342.25,-340.39 331,-330 303.55,-304.66 306.97,-289.65 283,-261 275.74,-252.32 269.33,-253.45 265,-243 262.45,-236.84 262.87,-234.32 265,-228 280.47,-182 293.83,-172.21 331,-141 341.59,-132.11 354.82,-124.66 366.79,-118.95\"/>\n",
       "<polygon fill=\"black\" stroke=\"black\" points=\"368.38,-122.07 376.04,-114.75 365.49,-115.69 368.38,-122.07\"/>\n",
       "<text text-anchor=\"middle\" x=\"294\" y=\"-231.8\" font-family=\"Times,serif\" font-size=\"14.00\">(q_2, q_4)</text>\n",
       "</g>\n",
       "<!-- v28293&#45;&gt;v28296 -->\n",
       "<g id=\"edge13\" class=\"edge\">\n",
       "<title>v28293-&gt;v28296</title>\n",
       "<path fill=\"none\" stroke=\"black\" d=\"M388.42,-347.9C386.04,-325.5 385.38,-286.13 405,-261 452.24,-200.5 496.11,-230.79 570,-210 574.08,-208.85 578.31,-207.47 582.46,-206\"/>\n",
       "<polygon fill=\"black\" stroke=\"black\" points=\"583.75,-209.26 591.89,-202.48 581.3,-202.7 583.75,-209.26\"/>\n",
       "<text text-anchor=\"middle\" x=\"434\" y=\"-275.3\" font-family=\"Times,serif\" font-size=\"14.00\">(q_2, q_5)</text>\n",
       "</g>\n",
       "<!-- v28293&#45;&gt;v28297 -->\n",
       "<g id=\"edge15\" class=\"edge\">\n",
       "<title>v28293-&gt;v28297</title>\n",
       "<path fill=\"none\" stroke=\"black\" d=\"M401.42,-349.3C409.88,-337.88 422.86,-323.07 438,-315 481.32,-291.89 499.68,-310.1 547,-297 550.81,-295.95 554.74,-294.67 558.61,-293.29\"/>\n",
       "<polygon fill=\"black\" stroke=\"black\" points=\"559.88,-296.56 567.99,-289.74 557.4,-290.01 559.88,-296.56\"/>\n",
       "<text text-anchor=\"middle\" x=\"467\" y=\"-318.8\" font-family=\"Times,serif\" font-size=\"14.00\">(q_2, q_6)</text>\n",
       "</g>\n",
       "<!-- v28294&#45;&gt;v28292 -->\n",
       "<g id=\"edge4\" class=\"edge\">\n",
       "<title>v28294-&gt;v28292</title>\n",
       "<path fill=\"none\" stroke=\"black\" d=\"M482.84,-18.58C388.54,-17.83 81,-21.71 81,-104 81,-367 81,-367 81,-367 81,-420.74 262.49,-442.37 342.2,-449.28\"/>\n",
       "<polygon fill=\"black\" stroke=\"black\" points=\"342.04,-452.78 352.29,-450.12 342.62,-445.8 342.04,-452.78\"/>\n",
       "<text text-anchor=\"middle\" x=\"110\" y=\"-231.8\" font-family=\"Times,serif\" font-size=\"14.00\">(q_3, q_1)</text>\n",
       "</g>\n",
       "<!-- v28294&#45;&gt;v28295 -->\n",
       "<g id=\"edge17\" class=\"edge\">\n",
       "<title>v28294-&gt;v28295</title>\n",
       "<path fill=\"none\" stroke=\"black\" d=\"M494.7,-33.14C483.26,-43.47 467.06,-57.61 452,-69 444.12,-74.96 435.26,-81.03 427.08,-86.41\"/>\n",
       "<polygon fill=\"black\" stroke=\"black\" points=\"425.04,-83.57 418.54,-91.94 428.84,-89.45 425.04,-83.57\"/>\n",
       "<text text-anchor=\"middle\" x=\"499\" y=\"-57.8\" font-family=\"Times,serif\" font-size=\"14.00\">(q_3, q_4)</text>\n",
       "</g>\n",
       "<!-- v28294&#45;&gt;v28296 -->\n",
       "<g id=\"edge19\" class=\"edge\">\n",
       "<title>v28294-&gt;v28296</title>\n",
       "<path fill=\"none\" stroke=\"black\" d=\"M532.03,-28.85C554.44,-39.95 588.69,-60.01 609,-87 628.06,-112.32 632.61,-124.81 627,-156 626.47,-158.93 625.72,-161.94 624.83,-164.9\"/>\n",
       "<polygon fill=\"black\" stroke=\"black\" points=\"621.43,-164.01 621.46,-174.61 628.05,-166.31 621.43,-164.01\"/>\n",
       "<text text-anchor=\"middle\" x=\"657\" y=\"-101.3\" font-family=\"Times,serif\" font-size=\"14.00\">(q_3, q_5)</text>\n",
       "</g>\n",
       "<!-- v28294&#45;&gt;v28297 -->\n",
       "<g id=\"edge21\" class=\"edge\">\n",
       "<title>v28294-&gt;v28297</title>\n",
       "<path fill=\"none\" stroke=\"black\" d=\"M537.21,-20.07C591.05,-22.67 708.77,-30.9 741,-54 776.38,-79.36 775.71,-98.7 786,-141 797.71,-189.14 780.12,-212.6 741,-243 708.31,-268.4 660.37,-275.91 627.32,-277.86\"/>\n",
       "<polygon fill=\"black\" stroke=\"black\" points=\"626.99,-274.37 617.16,-278.32 627.3,-281.37 626.99,-274.37\"/>\n",
       "<text text-anchor=\"middle\" x=\"817\" y=\"-144.8\" font-family=\"Times,serif\" font-size=\"14.00\">(q_3, q_6)</text>\n",
       "</g>\n",
       "<!-- v28295&#45;&gt;v28292 -->\n",
       "<g id=\"edge6\" class=\"edge\">\n",
       "<title>v28295-&gt;v28292</title>\n",
       "<path fill=\"none\" stroke=\"black\" d=\"M371.97,-106.9C322.17,-110.16 221,-124.91 221,-191 221,-367 221,-367 221,-367 221,-421.73 295.43,-441.37 342.12,-448.31\"/>\n",
       "<polygon fill=\"black\" stroke=\"black\" points=\"341.82,-451.8 352.2,-449.68 342.76,-444.87 341.82,-451.8\"/>\n",
       "<text text-anchor=\"middle\" x=\"250\" y=\"-275.3\" font-family=\"Times,serif\" font-size=\"14.00\">(q_4, q_1)</text>\n",
       "</g>\n",
       "<!-- v28295&#45;&gt;v28293 -->\n",
       "<g id=\"edge12\" class=\"edge\">\n",
       "<title>v28295-&gt;v28293</title>\n",
       "<path fill=\"none\" stroke=\"black\" d=\"M393.15,-122.7C385.36,-145.95 371.96,-189.56 367,-228 362.02,-266.65 372.85,-311.01 381.55,-338.53\"/>\n",
       "<polygon fill=\"black\" stroke=\"black\" points=\"378.28,-339.8 384.73,-348.2 384.93,-337.61 378.28,-339.8\"/>\n",
       "<text text-anchor=\"middle\" x=\"396\" y=\"-231.8\" font-family=\"Times,serif\" font-size=\"14.00\">(q_4, q_2)</text>\n",
       "</g>\n",
       "<!-- v28295&#45;&gt;v28294 -->\n",
       "<g id=\"edge18\" class=\"edge\">\n",
       "<title>v28295-&gt;v28294</title>\n",
       "<path fill=\"none\" stroke=\"black\" d=\"M390.18,-87.67C385.79,-77.11 382.8,-63.6 390,-54 408.94,-28.75 445.08,-20.9 472.77,-18.82\"/>\n",
       "<polygon fill=\"black\" stroke=\"black\" points=\"473.12,-22.3 482.92,-18.28 472.75,-15.31 473.12,-22.3\"/>\n",
       "<text text-anchor=\"middle\" x=\"419\" y=\"-57.8\" font-family=\"Times,serif\" font-size=\"14.00\">(q_4, q_3)</text>\n",
       "</g>\n",
       "<!-- v28295&#45;&gt;v28296 -->\n",
       "<g id=\"edge23\" class=\"edge\">\n",
       "<title>v28295-&gt;v28296</title>\n",
       "<path fill=\"none\" stroke=\"black\" d=\"M414.89,-119.91C430.26,-133.06 452.67,-151.46 463,-156 507.55,-175.58 524.11,-160.98 571,-174 574.81,-175.06 578.74,-176.34 582.61,-177.71\"/>\n",
       "<polygon fill=\"black\" stroke=\"black\" points=\"581.4,-181 591.99,-181.26 583.88,-174.45 581.4,-181\"/>\n",
       "<text text-anchor=\"middle\" x=\"492\" y=\"-144.8\" font-family=\"Times,serif\" font-size=\"14.00\">(q_4, q_5)</text>\n",
       "</g>\n",
       "<!-- v28295&#45;&gt;v28297 -->\n",
       "<g id=\"edge25\" class=\"edge\">\n",
       "<title>v28295-&gt;v28297</title>\n",
       "<path fill=\"none\" stroke=\"black\" d=\"M410.61,-121.56C418.91,-132.05 430.74,-145.78 443,-156 454.94,-165.95 460.78,-164.39 473,-174 506.84,-200.62 508.25,-215.05 541,-243 547.86,-248.85 555.66,-254.74 562.99,-259.96\"/>\n",
       "<polygon fill=\"black\" stroke=\"black\" points=\"561.08,-262.9 571.29,-265.76 565.09,-257.16 561.08,-262.9\"/>\n",
       "<text text-anchor=\"middle\" x=\"537\" y=\"-188.3\" font-family=\"Times,serif\" font-size=\"14.00\">(q_4, q_6)</text>\n",
       "</g>\n",
       "<!-- v28296&#45;&gt;v28292 -->\n",
       "<g id=\"edge8\" class=\"edge\">\n",
       "<title>v28296-&gt;v28292</title>\n",
       "<path fill=\"none\" stroke=\"black\" d=\"M637.64,-201.03C649.94,-206.55 663.86,-215.23 671,-228 704.86,-288.53 707.31,-327.56 667,-384 600.59,-476.99 524.97,-403.94 415,-435 413.05,-435.55 411.08,-436.2 409.12,-436.91\"/>\n",
       "<polygon fill=\"black\" stroke=\"black\" points=\"407.39,-433.84 399.49,-440.9 410.06,-440.31 407.39,-433.84\"/>\n",
       "<text text-anchor=\"middle\" x=\"725\" y=\"-318.8\" font-family=\"Times,serif\" font-size=\"14.00\">(q_5, q_1)</text>\n",
       "</g>\n",
       "<!-- v28296&#45;&gt;v28293 -->\n",
       "<g id=\"edge14\" class=\"edge\">\n",
       "<title>v28296-&gt;v28293</title>\n",
       "<path fill=\"none\" stroke=\"black\" d=\"M591.73,-202.38C576.97,-208.91 557.4,-218.17 541,-228 519.73,-240.75 514.47,-244.45 496,-261 479.84,-275.49 480.86,-284.66 463,-297 445.28,-309.25 434.08,-300.67 418,-315 410.72,-321.49 405.04,-330.42 400.81,-338.93\"/>\n",
       "<polygon fill=\"black\" stroke=\"black\" points=\"397.54,-337.67 396.63,-348.23 403.92,-340.54 397.54,-337.67\"/>\n",
       "<text text-anchor=\"middle\" x=\"525\" y=\"-275.3\" font-family=\"Times,serif\" font-size=\"14.00\">(q_5, q_2)</text>\n",
       "</g>\n",
       "<!-- v28296&#45;&gt;v28294 -->\n",
       "<g id=\"edge20\" class=\"edge\">\n",
       "<title>v28296-&gt;v28294</title>\n",
       "<path fill=\"none\" stroke=\"black\" d=\"M613.95,-173.75C613.02,-163.08 610.11,-149.79 602,-141 584.56,-122.09 564.23,-142.09 547,-123 525.97,-99.7 543.86,-83.05 532,-54 530.49,-50.29 528.59,-46.54 526.54,-42.94\"/>\n",
       "<polygon fill=\"black\" stroke=\"black\" points=\"529.52,-41.09 521.3,-34.4 523.55,-44.75 529.52,-41.09\"/>\n",
       "<text text-anchor=\"middle\" x=\"576\" y=\"-101.3\" font-family=\"Times,serif\" font-size=\"14.00\">(q_5, q_3)</text>\n",
       "</g>\n",
       "<!-- v28296&#45;&gt;v28295 -->\n",
       "<g id=\"edge24\" class=\"edge\">\n",
       "<title>v28296-&gt;v28295</title>\n",
       "<path fill=\"none\" stroke=\"black\" d=\"M592.53,-181.05C578.51,-174.36 559.91,-165.13 544,-156 533.41,-149.93 532.1,-146.07 521,-141 493.12,-128.26 459.51,-119.03 434.63,-113.26\"/>\n",
       "<polygon fill=\"black\" stroke=\"black\" points=\"435.07,-109.77 424.55,-110.99 433.54,-116.6 435.07,-109.77\"/>\n",
       "<text text-anchor=\"middle\" x=\"573\" y=\"-144.8\" font-family=\"Times,serif\" font-size=\"14.00\">(q_5, q_4)</text>\n",
       "</g>\n",
       "<!-- v28296&#45;&gt;v28297 -->\n",
       "<g id=\"edge27\" class=\"edge\">\n",
       "<title>v28296-&gt;v28297</title>\n",
       "<path fill=\"none\" stroke=\"black\" d=\"M591.31,-202.04C574.23,-209.36 552.95,-219.78 548,-228 540.88,-239.84 550.06,-251.74 561.63,-260.96\"/>\n",
       "<polygon fill=\"black\" stroke=\"black\" points=\"559.69,-263.87 569.85,-266.88 563.78,-258.19 559.69,-263.87\"/>\n",
       "<text text-anchor=\"middle\" x=\"577\" y=\"-231.8\" font-family=\"Times,serif\" font-size=\"14.00\">(q_5, q_6)</text>\n",
       "</g>\n",
       "<!-- v28297&#45;&gt;v28292 -->\n",
       "<g id=\"edge10\" class=\"edge\">\n",
       "<title>v28297-&gt;v28292</title>\n",
       "<path fill=\"none\" stroke=\"black\" d=\"M596.56,-296.7C604.12,-319.01 613.22,-358.66 594,-384 544.01,-449.91 492.76,-406.78 415,-435 413.15,-435.67 411.26,-436.41 409.37,-437.18\"/>\n",
       "<polygon fill=\"black\" stroke=\"black\" points=\"407.8,-434.05 400.04,-441.26 410.61,-440.46 407.8,-434.05\"/>\n",
       "<text text-anchor=\"middle\" x=\"634\" y=\"-362.3\" font-family=\"Times,serif\" font-size=\"14.00\">(q_6, q_1)</text>\n",
       "</g>\n",
       "<!-- v28297&#45;&gt;v28293 -->\n",
       "<g id=\"edge16\" class=\"edge\">\n",
       "<title>v28297-&gt;v28293</title>\n",
       "<path fill=\"none\" stroke=\"black\" d=\"M568.21,-289.91C553.98,-296.58 535.12,-305.81 519,-315 508.4,-321.04 506.99,-324.69 496,-330 473.4,-340.91 446.52,-349.8 425.62,-355.89\"/>\n",
       "<polygon fill=\"black\" stroke=\"black\" points=\"424.55,-352.56 415.88,-358.65 426.46,-359.29 424.55,-352.56\"/>\n",
       "<text text-anchor=\"middle\" x=\"548\" y=\"-318.8\" font-family=\"Times,serif\" font-size=\"14.00\">(q_6, q_2)</text>\n",
       "</g>\n",
       "<!-- v28297&#45;&gt;v28294 -->\n",
       "<g id=\"edge22\" class=\"edge\">\n",
       "<title>v28297-&gt;v28294</title>\n",
       "<path fill=\"none\" stroke=\"black\" d=\"M615.95,-273.58C634.2,-269.07 657.66,-260.19 671,-243 713.82,-187.82 729.71,-144.46 690,-87 657.89,-40.54 589.69,-25.79 547.07,-21.13\"/>\n",
       "<polygon fill=\"black\" stroke=\"black\" points=\"547.37,-17.64 537.08,-20.17 546.7,-24.61 547.37,-17.64\"/>\n",
       "<text text-anchor=\"middle\" x=\"741\" y=\"-144.8\" font-family=\"Times,serif\" font-size=\"14.00\">(q_6, q_3)</text>\n",
       "</g>\n",
       "<!-- v28297&#45;&gt;v28295 -->\n",
       "<g id=\"edge26\" class=\"edge\">\n",
       "<title>v28297-&gt;v28295</title>\n",
       "<path fill=\"none\" stroke=\"black\" d=\"M567.27,-268.93C560.73,-266.34 553.59,-263.54 547,-261 486.76,-237.8 450.76,-260.86 411,-210 394.09,-188.37 392.96,-156.05 394.87,-133.19\"/>\n",
       "<polygon fill=\"black\" stroke=\"black\" points=\"398.37,-133.44 395.96,-123.12 391.41,-132.69 398.37,-133.44\"/>\n",
       "<text text-anchor=\"middle\" x=\"440\" y=\"-188.3\" font-family=\"Times,serif\" font-size=\"14.00\">(q_6, q_4)</text>\n",
       "</g>\n",
       "<!-- v28297&#45;&gt;v28296 -->\n",
       "<g id=\"edge28\" class=\"edge\">\n",
       "<title>v28297-&gt;v28296</title>\n",
       "<path fill=\"none\" stroke=\"black\" d=\"M598.59,-261.62C601.32,-255.87 604.1,-249.27 606,-243 608.18,-235.79 609.8,-227.81 610.98,-220.38\"/>\n",
       "<polygon fill=\"black\" stroke=\"black\" points=\"614.46,-220.77 612.39,-210.38 607.53,-219.8 614.46,-220.77\"/>\n",
       "<text text-anchor=\"middle\" x=\"638\" y=\"-231.8\" font-family=\"Times,serif\" font-size=\"14.00\">(q_6, q_5)</text>\n",
       "</g>\n",
       "<!-- \\n -->\n",
       "<g id=\"node7\" class=\"node\">\n",
       "<title>\\n</title>\n",
       "<ellipse fill=\"none\" stroke=\"black\" cx=\"451\" cy=\"-453\" rx=\"27\" ry=\"18\"/>\n",
       "</g>\n",
       "</g>\n",
       "</svg>"
      ],
      "text/plain": [
       "<IPython.core.display.SVG object>"
      ]
     },
     "execution_count": 161,
     "metadata": {},
     "output_type": "execute_result"
    }
   ],
   "source": [
    "gcs = LinearGCS({f\"q_{i + 1}\":r for i, r in enumerate(regions.values())})\n",
    "# print('regions', regions)\n",
    "SVG(gcs.VisualizeGraph()) "
   ]
  },
  {
   "cell_type": "code",
   "execution_count": 162,
   "metadata": {
    "pycharm": {
     "name": "#%%\n"
    }
   },
   "outputs": [
    {
     "name": "stdout",
     "output_type": "stream",
     "text": [
      "28\n"
     ]
    }
   ],
   "source": [
    "print(len(gcs.gcs.Edges()))\n",
    "# print({f\"q_{i + 1}\":r for i, r in enumerate(regions.values())})"
   ]
  },
  {
   "cell_type": "markdown",
   "metadata": {
    "pycharm": {
     "name": "#%% md\n"
    }
   },
   "source": [
    "# Build PRM"
   ]
  },
  {
   "cell_type": "markdown",
   "metadata": {
    "pycharm": {
     "name": "#%% md\n"
    }
   },
   "source": [
    "### Load Roadmap if you don't want to wait 15 minutes"
   ]
  },
  {
   "cell_type": "markdown",
   "metadata": {
    "pycharm": {
     "name": "#%% md\n"
    }
   },
   "source": [
    "### Or Grow it "
   ]
  },
  {
   "cell_type": "markdown",
   "metadata": {
    "pycharm": {
     "name": "#%% md\n"
    }
   },
   "source": [
    "### Connect via BiRRT first\n",
    "Given the knowledge of the Graph of Convex Sets, we will use BiRRT to connect the edges. All of the nodes of the RRT trees will be added to the PRM map"
   ]
  },
  {
   "cell_type": "markdown",
   "metadata": {
    "pycharm": {
     "name": "#%% md\n"
    }
   },
   "source": [
    "### Continue growing the Roadmap"
   ]
  },
  {
   "cell_type": "markdown",
   "metadata": {
    "pycharm": {
     "name": "#%% md\n"
    }
   },
   "source": [
    "# Run Comparison"
   ]
  },
  {
   "cell_type": "code",
   "execution_count": 163,
   "metadata": {
    "pycharm": {
     "name": "#%%\n"
    }
   },
   "outputs": [],
   "source": [
    "def getGCSPath(sequence, verbose = False):\n",
    "    path = [sequence[0]]\n",
    "    run_time = 0.0\n",
    "    for start_pt, goal_pt in zip(sequence[:-1], sequence[1:]):\n",
    "        gcs = LinearGCS(regions.copy())\n",
    "        gcs.addSourceTarget(start_pt, goal_pt)\n",
    "        gcs.setRoundingStrategy(randomForwardPathSearch, max_paths = 10, max_trials = 100, seed = SEED)\n",
    "        gcs.setSolver(MosekSolver())\n",
    "        start_time = time.time()\n",
    "        waypoints, results_dict = gcs.SolvePath(rounding=True, verbose=False, preprocessing=True)\n",
    "        if waypoints is None:\n",
    "            if verbose:\n",
    "                print(f\"Failed between {start_pt} and {goal_pt}\")\n",
    "            return None\n",
    "\n",
    "        run_time += results_dict[\"preprocessing_stats\"][\"linear_programs\"]\n",
    "        run_time += results_dict[\"relaxation_solver_time\"]\n",
    "        run_time += results_dict[\"total_rounded_solver_time\"]\n",
    "        if verbose:\n",
    "            print(\"Convex Relaxation\", round(results_dict[\"relaxation_cost\"], 3),\n",
    "                  \"min hard result cost\", round(results_dict[\"rounded_cost\"], 3),\n",
    "                  \"Gap\", round((results_dict[\"rounded_cost\"] - results_dict[\"relaxation_cost\"])/results_dict[\"relaxation_cost\"], 3))\n",
    "    \n",
    "        path += waypoints.T[1:].tolist()\n",
    "    return np.stack(path).T, run_time\n",
    "\n",
    "def shortcut(path):\n",
    "    \"\"\"Those values are used by TRI\"\"\"\n",
    "    return prm.shortcut(np.stack(path),\n",
    "                 max_iter = 200,\n",
    "                 max_failed_iter = 200,\n",
    "                 max_backtracking_steps = 0,\n",
    "                 max_shortcut_fraction = 1.0,\n",
    "                 resample_shortcuts_interval = 0.25,\n",
    "                 check_for_marginal_shortcuts = False)"
   ]
  },
  {
   "cell_type": "markdown",
   "metadata": {
    "pycharm": {
     "name": "#%% md\n"
    }
   },
   "source": [
    "# Demonstration"
   ]
  },
  {
   "cell_type": "code",
   "execution_count": 164,
   "metadata": {
    "pycharm": {
     "name": "#%%\n"
    }
   },
   "outputs": [],
   "source": [
    "demonstration =  {\"Above Shelve\": [[0.75, -0.12, 0.9], [0, -np.pi, -np.pi/2]],   \n",
    "                \"Top Rack\":       [[0.75, 0.12, 0.67], [0, -np.pi, -np.pi/2]],   \n",
    "                \"Middle Rack\":    [[0.75, 0.12, 0.41], [0, -np.pi, -np.pi/2]],       \n",
    "                \"Left Bin\":       [[0.05, 0.6, 0.22],  [np.pi/2, np.pi, 0]], \n",
    "                \"Right Bin\":      [[0.0, -0.6, 0.22], [np.pi/2, np.pi, np.pi]]}\n",
    "\n",
    "q0 =[0, 0.3, 0, -1.8, 0, 1, 1.57]\n",
    "demonstration_configurations =  {name: InverseKinematics(q0, trans, rot) for name, (trans, rot) in demonstration.items()}\n"
   ]
  },
  {
   "cell_type": "code",
   "execution_count": 165,
   "metadata": {
    "pycharm": {
     "name": "#%%\n"
    }
   },
   "outputs": [],
   "source": [
    "demo_a = [demonstration_configurations[\"Above Shelve\"],\n",
    "          demonstration_configurations[\"Top Rack\"]]\n",
    "\n",
    "demo_b = [demonstration_configurations[\"Top Rack\"],\n",
    "          demonstration_configurations[\"Middle Rack\"]]\n",
    "\n",
    "demo_c = [demonstration_configurations[\"Middle Rack\"],\n",
    "          demonstration_configurations[\"Left Bin\"]]\n",
    "\n",
    "demo_d = [demonstration_configurations[\"Left Bin\"],\n",
    "          demonstration_configurations[\"Right Bin\"]]\n",
    "\n",
    "demo_e = [demonstration_configurations[\"Right Bin\"],\n",
    "          demonstration_configurations[\"Above Shelve\"]]\n",
    "\n",
    "demo_f = [demonstration_configurations[\"Above Shelve\"],\n",
    "         seed_points[\"Left to Shelve\"]]\n",
    "\n",
    "\n",
    "demo_circle = [demonstration_configurations[\"Above Shelve\"],\n",
    "               demonstration_configurations[\"Top Rack\"],\n",
    "               demonstration_configurations[\"Middle Rack\"],\n",
    "               demonstration_configurations[\"Left Bin\"],\n",
    "               demonstration_configurations[\"Right Bin\"],\n",
    "               demonstration_configurations[\"Above Shelve\"]]\n",
    "# print(demo_circle)\n",
    "# # CHANGED FOR TESTING:\n",
    "# demo_d = [milestone_configurations[\"Left Bin\"],\n",
    "#           milestone_configurations[\"Right Bin\"]]\n",
    "# print(demo_circle)"
   ]
  },
  {
   "cell_type": "code",
   "execution_count": 166,
   "metadata": {
    "pycharm": {
     "name": "#%%\n"
    }
   },
   "outputs": [
    {
     "name": "stdout",
     "output_type": "stream",
     "text": [
      "[array([ 1.25194117,  0.7900597 ,  0.36009026, -1.48422768, -0.31763875,\n",
      "        0.9249147 ,  1.70611194]), array([-1.33246236,  0.78664776, -0.36265619, -1.49165281,  0.31953404,\n",
      "        0.92178332,  1.350209  ])]\n",
      "edges [[1], [2]]\n",
      "Convex Relaxation 3.053 min hard result cost 3.055 Gap 0.001\n",
      "Linear GCS length: 3.055, and time: 0.647 s\n"
     ]
    }
   ],
   "source": [
    "execute_demo = demo_d\n",
    "print(demo_d)\n",
    "GCS_path, GCS_time = getGCSPath(execute_demo, verbose = True)\n",
    "linear_gcs_traj = make_traj(GCS_path, speed = 2)\n",
    "print(f\"Linear GCS length: {round(get_traj_length(linear_gcs_traj), 3)}, and time: {round(GCS_time, 3)} s\")\n",
    "\n",
    "# PRM_path, PRM_time = prm.getPath(execute_demo, verbose = True)\n",
    "# prm_traj = make_traj(PRM_path, speed = 2)\n",
    "# print(f\"PRM length: {round(get_traj_length(prm_traj), 3)}, and time: {round(PRM_time, 3)} s\")\n",
    "\n",
    "# sPRM_path, sPRM_time = prm.getPath(execute_demo, path_processing = shortcut)\n",
    "# sprm_traj = make_traj(sPRM_path, speed = 2)\n",
    "# print(f\"Smoothed PRM length: {round(get_traj_length(sprm_traj), 3)}, and time: {round(sPRM_time, 3)} s\")\n"
   ]
  },
  {
   "cell_type": "code",
   "execution_count": 167,
   "metadata": {},
   "outputs": [],
   "source": [
    "# prm.save(os.path.join(GcsDir(), \"data/prm_comparison/15k_presplined.rmp\"))"
   ]
  },
  {
   "cell_type": "code",
   "execution_count": 168,
   "metadata": {},
   "outputs": [
    {
     "name": "stderr",
     "output_type": "stream",
     "text": [
      "/Users/varun/gcs/reproduction/prm_comparison/helpers.py:233: DrakeDeprecationWarning: MeshcatVisualizerCpp has been renamed to MeshcatVisualizer. The deprecated code will be removed from Drake on or after 2022-11-01.\n",
      "  meshcat_cpp = MeshcatVisualizerCpp.AddToBuilder(builder, scene_graph, meshcat, meshcat_params)\n"
     ]
    }
   ],
   "source": [
    "visualize_trajectory(meshcat,\n",
    "                     [linear_gcs_traj],\n",
    "                     show_line = True,\n",
    "                     iiwa_ghosts = execute_demo,\n",
    "                     alpha =  0.3,\n",
    "                     regions = [])\n"
   ]
  },
  {
   "cell_type": "code",
   "execution_count": 169,
   "metadata": {},
   "outputs": [],
   "source": [
    "# with open (\"GCS_PRM15k_comparison.html\", \"w\") as f:\n",
    "#     f.write(meshcat.StaticHtml())"
   ]
  },
  {
   "cell_type": "markdown",
   "metadata": {},
   "source": [
    "## Comparison Table for Paper\n"
   ]
  },
  {
   "cell_type": "code",
   "execution_count": 170,
   "metadata": {},
   "outputs": [],
   "source": [
    "# demos_for_paper = [demo_a, demo_b, demo_c, demo_d, demo_e]\n",
    "\n",
    "# proposed_planner_data = []\n",
    "# PRM_data = []\n",
    "# sPRM_data = []\n",
    "\n",
    "# N = 10 # We ran this 100 in the paper \n",
    "# for _ in range(N):\n",
    "#     #extract trajectory and time \n",
    "#     trajectories = map(lambda d:[getGCSPath(d),prm.getPath(d),prm.getPath(d, path_processing = shortcut)], demos_for_paper)\n",
    "#     #get length of trajectory\n",
    "#     length_time_list = map(lambda traj_time: [[get_traj_length(make_traj(trj)), t] for trj, t in traj_time], trajectories)\n",
    "#     #flatten for pandas\n",
    "#     length_time_list = np.array(list(length_time_list))\n",
    "    \n",
    "#     proposed_planner_data.append(length_time_list[:,0].flatten())\n",
    "#     PRM_data.append(length_time_list[:,1].flatten())\n",
    "#     sPRM_data.append(length_time_list[:,2].flatten())\n",
    "    \n",
    "# proposed_planner_data = np.mean(proposed_planner_data, axis = 0)\n",
    "# PRM_data = np.mean(PRM_data, axis = 0) \n",
    "# sPRM_data = np.mean(sPRM_data, axis = 0)"
   ]
  },
  {
   "cell_type": "code",
   "execution_count": 171,
   "metadata": {},
   "outputs": [],
   "source": [
    "# cols = {\"Proposed Planner\":proposed_planner_data,\n",
    "#         \"Regular PRM\":PRM_data,\n",
    "#         \"Shortcut PRM\":sPRM_data}\n",
    "\n",
    "# index = pd.MultiIndex.from_tuples([('q1-q2', 'length (rad)'), ('q1-q2', 'runtime (s)'),\n",
    "#                                     ('q2-q3', 'length (rad)'), ('q2-q3', 'runtime (s)'),\n",
    "#                                     ('q3-q4', 'length (rad)'), ('q3-q4', 'runtime (s)'),\n",
    "#                                     ('q4-q5', 'length (rad)'), ('q4-q5', 'runtime (s)'),\n",
    "#                                     ('q5-q1', 'length (rad)'), ('q5-q1', 'runtime (s)'),], names=[\"Task\", \"\"])\n",
    "# df = pd.DataFrame(data = cols, index=index)"
   ]
  },
  {
   "cell_type": "code",
   "execution_count": 172,
   "metadata": {},
   "outputs": [],
   "source": [
    "# df.round(2)"
   ]
  },
  {
   "cell_type": "markdown",
   "metadata": {},
   "source": [
    "## Debug\n",
    "When playing with the demonstration points, use this to understand where PRM fails and where the regions to include the configurations"
   ]
  },
  {
   "cell_type": "code",
   "execution_count": 173,
   "metadata": {},
   "outputs": [],
   "source": [
    "# for k,v in {name: InverseKinematics(q0, trans, rot) for name, (trans, rot) in demonstration.items()}.items():\n",
    "#     print(k, regions[k].PointInSet(v), not prm.getPath([q0, v]) is None)"
   ]
  },
  {
   "cell_type": "code",
   "execution_count": null,
   "metadata": {},
   "outputs": [],
   "source": []
  }
 ],
 "metadata": {
  "kernelspec": {
   "display_name": "gomp-gcs",
   "language": "python",
   "name": "gomp-gcs"
  },
  "language_info": {
   "codemirror_mode": {
    "name": "ipython",
    "version": 3
   },
   "file_extension": ".py",
   "mimetype": "text/x-python",
   "name": "python",
   "nbconvert_exporter": "python",
   "pygments_lexer": "ipython3",
   "version": "3.9.13"
  }
 },
 "nbformat": 4,
 "nbformat_minor": 2
}

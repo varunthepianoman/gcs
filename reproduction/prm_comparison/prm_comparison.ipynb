{
 "cells": [
  {
   "cell_type": "code",
   "execution_count": 92,
   "metadata": {
    "pycharm": {
     "name": "#%%\n"
    }
   },
   "outputs": [
    {
     "name": "stdout",
     "output_type": "stream",
     "text": [
      "The autoreload extension is already loaded. To reload it, use:\n",
      "  %reload_ext autoreload\n",
      "True\n"
     ]
    }
   ],
   "source": [
    "%load_ext autoreload\n",
    "%autoreload 2\n",
    "import os\n",
    "import time\n",
    "import pickle\n",
    "import numpy as np\n",
    "import pandas as pd\n",
    "import multiprocess as mp\n",
    "from IPython.display import HTML, SVG\n",
    "\n",
    "from pydrake.geometry import MeshcatVisualizerCpp, MeshcatVisualizerParams, Role, StartMeshcat\n",
    "from pydrake.geometry.optimization import IrisInConfigurationSpace, IrisOptions\n",
    "from pydrake.multibody.parsing import LoadModelDirectives, Parser, ProcessModelDirectives\n",
    "from pydrake.multibody.plant import AddMultibodyPlantSceneGraph\n",
    "# from pydrake.solvers.gurobi import GurobiSolver\n",
    "from pydrake.solvers.mosek import MosekSolver\n",
    "# from pydrake.solvers import MathematicalProgram\n",
    "from pydrake.solvers.snopt import SnoptSolver\n",
    "from pydrake.systems.framework import DiagramBuilder\n",
    "# from pydrake.planning.common_robotics_utilities import SimpleRRTPlannerState\n",
    "\n",
    "\n",
    "from gcs.linear import LinearGCS\n",
    "from gcs.rounding import randomForwardPathSearch\n",
    "from reproduction.prm_comparison.planning import PRM, BiRRT\n",
    "from reproduction.prm_comparison.helpers import (\n",
    "    ForwardKinematics,\n",
    "    get_traj_length,\n",
    "    InverseKinematics,\n",
    "    is_traj_confined,\n",
    "    make_traj,\n",
    "    visualize_trajectory,\n",
    ")\n",
    "from reproduction.util import *\n",
    "\n",
    "# GurobiSolver.AcquireLicense()\n",
    "os.environ['MOSEKLM_LICENSE_FILE'] = '/Users/varun/mosek/mosek.lic'\n",
    "MosekSolver.AcquireLicense()\n",
    "\n",
    "print(MosekSolver().available())"
   ]
  },
  {
   "cell_type": "code",
   "execution_count": 93,
   "metadata": {
    "pycharm": {
     "name": "#%%\n"
    }
   },
   "outputs": [
    {
     "name": "stderr",
     "output_type": "stream",
     "text": [
      "INFO:drake:Meshcat listening for connections at http://localhost:7004\n"
     ]
    }
   ],
   "source": [
    "# Start the visualizer (run this cell only once, each instance consumes a port)\n",
    "meshcat = StartMeshcat()"
   ]
  },
  {
   "cell_type": "code",
   "execution_count": 94,
   "metadata": {
    "pycharm": {
     "name": "#%%\n"
    }
   },
   "outputs": [],
   "source": [
    "SEED = 17\n",
    "np.random.seed(SEED)"
   ]
  },
  {
   "cell_type": "code",
   "execution_count": 95,
   "metadata": {
    "pycharm": {
     "name": "#%%\n"
    }
   },
   "outputs": [
    {
     "name": "stderr",
     "output_type": "stream",
     "text": [
      "/var/folders/p0/l4__0wtd3j184sv9zspd0qlm0000gn/T/ipykernel_8862/1353813250.py:18: DrakeDeprecationWarning: MeshcatVisualizerCpp has been renamed to MeshcatVisualizer. The deprecated code will be removed from Drake on or after 2022-11-01.\n",
      "  meshcat_cpp = MeshcatVisualizerCpp.AddToBuilder(builder, scene_graph, meshcat, meshcat_params)\n"
     ]
    }
   ],
   "source": [
    "builder = DiagramBuilder()\n",
    "plant, scene_graph = AddMultibodyPlantSceneGraph(builder, time_step=0.0)\n",
    "parser = Parser(plant)\n",
    "parser.package_map().Add(\"gcs\", GcsDir())\n",
    "\n",
    "directives_file = FindModelFile(\"models/iiwa14_spheres_collision_welded_gripper.yaml\")\n",
    "directives = LoadModelDirectives(directives_file)\n",
    "models = ProcessModelDirectives(directives, plant, parser)\n",
    "[iiwa, wsg, binR, binL, table] =  models\n",
    " \n",
    "\n",
    "plant.Finalize()\n",
    "\n",
    "meshcat_params = MeshcatVisualizerParams()\n",
    "meshcat_params.delete_on_initialization_event = False\n",
    "meshcat_params.role = Role.kIllustration\n",
    "# meshcat_params.role = Role.kProximity\n",
    "meshcat_cpp = MeshcatVisualizerCpp.AddToBuilder(builder, scene_graph, meshcat, meshcat_params)\n",
    "\n",
    "diagram = builder.Build()\n",
    "\n",
    "context = diagram.CreateDefaultContext()\n",
    "#plant_context = plant.GetMyContextFromRoot(context)\n",
    "plant_context = plant.GetMyMutableContextFromRoot(context)\n",
    "q0 =[0, 0.3, 0, -1.8, 0, 1, 1.57]\n",
    "plant.SetPositions(plant_context, q0)\n",
    "diagram.Publish(context)"
   ]
  },
  {
   "cell_type": "markdown",
   "metadata": {
    "pycharm": {
     "name": "#%% md\n"
    }
   },
   "source": [
    "# Generate Iris Regions\n",
    "### via manual seeds"
   ]
  },
  {
   "cell_type": "code",
   "execution_count": 96,
   "metadata": {
    "pycharm": {
     "name": "#%%\n"
    }
   },
   "outputs": [],
   "source": [
    "milestones =  {\"Above Shelve\": [[0.75, 0, 0.9],    [0, -np.pi, -np.pi/2]],   \n",
    "#                 \"Top Rack\":    [[0.75, 0, 0.67],   [0, -np.pi, -np.pi/2]],   \n",
    "#                 \"Middle Rack\": [[0.75, 0, 0.41],   [0, -np.pi, -np.pi/2]],       \n",
    "                \"Left Bin\":    [[0.0,  0.6, 0.22], [np.pi/2, np.pi, 0]], \n",
    "                \"Right Bin\":   [[0.0, -0.6, 0.22], [np.pi/2, np.pi, np.pi]],\n",
    "                \"Test Seed\":   [[0.75, 0, 0.85],   [0, -np.pi, -np.pi/2]]}\n",
    "\n",
    "\n",
    "additional_seed_points = {\"Front to Shelve\":np.array([0, 0.2, 0, -2.09, 0, -0.3, np.pi/2]), \n",
    "                          \"Left to Shelve\": np.array([0.8, 0.7, 0, -1.6, 0, 0, np.pi/2]),\n",
    "                          \"Right to Shelve\":np.array([-0.8, 0.7, 0, -1.6, 0, 0, np.pi/2])} \n",
    "\n",
    "q0 =[0, 0.3, 0, -1.8, 0, 1, 1.57]\n",
    "milestone_configurations =  {name: InverseKinematics(q0, trans, rot) for name, (trans, rot) in milestones.items()}\n",
    "\n",
    "seed_points = {**milestone_configurations, **additional_seed_points}"
   ]
  },
  {
   "cell_type": "code",
   "execution_count": 97,
   "metadata": {
    "pycharm": {
     "name": "#%%\n"
    },
    "scrolled": true
   },
   "outputs": [
    {
     "name": "stdout",
     "output_type": "stream",
     "text": [
      "{'Above Shelve': array([ 6.41950821e-05,  4.71953264e-01, -1.49318242e-04, -6.71673454e-01,\n",
      "        1.85368193e-04,  4.26169599e-01,  1.57069215e+00]), 'Left Bin': array([ 1.33266562,  0.78659315,  0.36233843, -1.49165291, -0.31925088,\n",
      "        0.92173247,  1.79119041]), 'Right Bin': array([-1.33246236,  0.78664776, -0.36265619, -1.49165281,  0.31953404,\n",
      "        0.92178332,  1.350209  ]), 'Test Seed': array([ 9.83600730e-05,  4.14759451e-01, -1.78732762e-04, -8.88337408e-01,\n",
      "        2.63138161e-04,  2.68699468e-01,  1.57061296e+00]), 'Front to Shelve': array([ 0.        ,  0.2       ,  0.        , -2.09      ,  0.        ,\n",
      "       -0.3       ,  1.57079633]), 'Left to Shelve': array([ 0.8       ,  0.7       ,  0.        , -1.6       ,  0.        ,\n",
      "        0.        ,  1.57079633]), 'Right to Shelve': array([-0.8       ,  0.7       ,  0.        , -1.6       ,  0.        ,\n",
      "        0.        ,  1.57079633])}\n"
     ]
    }
   ],
   "source": [
    "print(seed_points)"
   ]
  },
  {
   "cell_type": "code",
   "execution_count": 98,
   "metadata": {
    "pycharm": {
     "name": "#%%\n"
    }
   },
   "outputs": [],
   "source": [
    "iris_options = IrisOptions()\n",
    "iris_options.require_sample_point_is_contained = True\n",
    "iris_options.iteration_limit = 10\n",
    "iris_options.termination_threshold = -1\n",
    "iris_options.relative_termination_threshold = 0.01\n",
    "iris_options.enable_ibex = False\n",
    "CORE_CNT = mp.cpu_count() # you may edit this"
   ]
  },
  {
   "cell_type": "code",
   "execution_count": 99,
   "metadata": {
    "pycharm": {
     "name": "#%%\n"
    }
   },
   "outputs": [],
   "source": [
    "def calcRegion(seed, verbose):\n",
    "    print(\"Seed:\", seed)\n",
    "    start_time = time.time()\n",
    "    context = diagram.CreateDefaultContext()\n",
    "    plant_context = plant.GetMyContextFromRoot(context)\n",
    "    plant.SetPositions(plant_context, seed)\n",
    "    hpoly = IrisInConfigurationSpace(plant, plant_context, iris_options)\n",
    "    print(\"Seed:\", seed, \"\\tTime:\", time.time() - start_time, flush=True)\n",
    "    return hpoly"
   ]
  },
  {
   "cell_type": "code",
   "execution_count": 100,
   "metadata": {
    "pycharm": {
     "name": "#%%\n"
    }
   },
   "outputs": [],
   "source": [
    "def generateRegions(seed_points, verbose = True):\n",
    "    seeds = list(seed_points.values()) if type(seed_points) is dict else seed_points\n",
    "    regions = []\n",
    "    loop_time = time.time()\n",
    "#     with mp.Pool(processes = CORE_CNT) as pool:\n",
    "#         regions = pool.starmap(calcRegion, [[seed, verbose] for seed in seeds])\n",
    "    regions = [calcRegion(seed, verbose) for seed in seeds]\n",
    "\n",
    "    \n",
    "    if verbose:\n",
    "        print(\"Loop time:\", time.time() - loop_time)\n",
    "    \n",
    "    if type(seed_points) is dict:\n",
    "        return dict(list(zip(seed_points.keys(), regions)))\n",
    "    \n",
    "    return regions"
   ]
  },
  {
   "cell_type": "code",
   "execution_count": 101,
   "metadata": {
    "pycharm": {
     "name": "#%%\n"
    },
    "scrolled": false
   },
   "outputs": [
    {
     "name": "stdout",
     "output_type": "stream",
     "text": [
      "Seed: [ 6.41950821e-05  4.71953264e-01 -1.49318242e-04 -6.71673454e-01\n",
      "  1.85368193e-04  4.26169599e-01  1.57069215e+00]\n",
      "Seed: [ 6.41950821e-05  4.71953264e-01 -1.49318242e-04 -6.71673454e-01\n",
      "  1.85368193e-04  4.26169599e-01  1.57069215e+00] \tTime: 71.27115797996521\n",
      "Seed: [ 1.33266562  0.78659315  0.36233843 -1.49165291 -0.31925088  0.92173247\n",
      "  1.79119041]\n",
      "Seed: [ 1.33266562  0.78659315  0.36233843 -1.49165291 -0.31925088  0.92173247\n",
      "  1.79119041] \tTime: 13.497537612915039\n",
      "Seed: [-1.33246236  0.78664776 -0.36265619 -1.49165281  0.31953404  0.92178332\n",
      "  1.350209  ]\n",
      "Seed: [-1.33246236  0.78664776 -0.36265619 -1.49165281  0.31953404  0.92178332\n",
      "  1.350209  ] \tTime: 22.78764796257019\n",
      "Seed: [ 9.83600730e-05  4.14759451e-01 -1.78732762e-04 -8.88337408e-01\n",
      "  2.63138161e-04  2.68699468e-01  1.57061296e+00]\n",
      "Seed: [ 9.83600730e-05  4.14759451e-01 -1.78732762e-04 -8.88337408e-01\n",
      "  2.63138161e-04  2.68699468e-01  1.57061296e+00] \tTime: 56.22369384765625\n",
      "Seed: [ 0.          0.2         0.         -2.09        0.         -0.3\n",
      "  1.57079633]\n",
      "Seed: [ 0.          0.2         0.         -2.09        0.         -0.3\n",
      "  1.57079633] \tTime: 81.74727034568787\n",
      "Seed: [ 0.8         0.7         0.         -1.6         0.          0.\n",
      "  1.57079633]\n",
      "Seed: [ 0.8         0.7         0.         -1.6         0.          0.\n",
      "  1.57079633] \tTime: 9.747278928756714\n",
      "Seed: [-0.8         0.7         0.         -1.6         0.          0.\n",
      "  1.57079633]\n",
      "Seed: [-0.8         0.7         0.         -1.6         0.          0.\n",
      "  1.57079633] \tTime: 60.76485300064087\n",
      "Loop time: 316.05957412719727\n"
     ]
    }
   ],
   "source": [
    "regions = generateRegions(seed_points)"
   ]
  },
  {
   "cell_type": "code",
   "execution_count": 102,
   "metadata": {
    "pycharm": {
     "name": "#%%\n"
    }
   },
   "outputs": [
    {
     "name": "stdout",
     "output_type": "stream",
     "text": [
      "{'Above Shelve': <pydrake.geometry.optimization.HPolyhedron object at 0x14cf6e870>, 'Left Bin': <pydrake.geometry.optimization.HPolyhedron object at 0x14c3a4530>, 'Right Bin': <pydrake.geometry.optimization.HPolyhedron object at 0x14c3a45b0>, 'Test Seed': <pydrake.geometry.optimization.HPolyhedron object at 0x14c472130>, 'Front to Shelve': <pydrake.geometry.optimization.HPolyhedron object at 0x10d3d2870>, 'Left to Shelve': <pydrake.geometry.optimization.HPolyhedron object at 0x14c9d10b0>, 'Right to Shelve': <pydrake.geometry.optimization.HPolyhedron object at 0x14d003670>}\n"
     ]
    }
   ],
   "source": [
    "print(regions)"
   ]
  },
  {
   "cell_type": "markdown",
   "metadata": {
    "pycharm": {
     "name": "#%% md\n"
    }
   },
   "source": [
    "## via pre-generated regions"
   ]
  },
  {
   "cell_type": "code",
   "execution_count": 103,
   "metadata": {
    "pycharm": {
     "name": "#%%\n"
    }
   },
   "outputs": [],
   "source": [
    "#load regions\n",
    "# with open(os.path.join(GcsDir(), \"data/prm_comparison/IRIS.reg\"), \"rb\") as f:\n",
    "#     regions = pickle.load(f)"
   ]
  },
  {
   "cell_type": "code",
   "execution_count": 104,
   "metadata": {
    "pycharm": {
     "name": "#%%\n"
    }
   },
   "outputs": [
    {
     "data": {
      "image/svg+xml": [
       "<svg xmlns=\"http://www.w3.org/2000/svg\" xmlns:xlink=\"http://www.w3.org/1999/xlink\" width=\"1253pt\" height=\"566pt\" viewBox=\"0.00 0.00 1253.00 566.00\">\n",
       "<g id=\"graph0\" class=\"graph\" transform=\"scale(1 1) rotate(0) translate(4 562)\">\n",
       "<title>GraphOfConvexSets</title>\n",
       "<polygon fill=\"white\" stroke=\"transparent\" points=\"-4,4 -4,-562 1249,-562 1249,4 -4,4\"/>\n",
       "<!-- v17112 -->\n",
       "<g id=\"node1\" class=\"node\">\n",
       "<title>v17112</title>\n",
       "<ellipse fill=\"none\" stroke=\"black\" cx=\"409\" cy=\"-540\" rx=\"27\" ry=\"18\"/>\n",
       "<text text-anchor=\"middle\" x=\"409\" y=\"-536.3\" font-family=\"Times,serif\" font-size=\"14.00\">q_1</text>\n",
       "</g>\n",
       "<!-- v17113 -->\n",
       "<g id=\"node2\" class=\"node\">\n",
       "<title>v17113</title>\n",
       "<ellipse fill=\"none\" stroke=\"black\" cx=\"709\" cy=\"-453\" rx=\"27\" ry=\"18\"/>\n",
       "<text text-anchor=\"middle\" x=\"709\" y=\"-449.3\" font-family=\"Times,serif\" font-size=\"14.00\">q_2</text>\n",
       "</g>\n",
       "<!-- v17112&#45;&gt;v17113 -->\n",
       "<g id=\"edge1\" class=\"edge\">\n",
       "<title>v17112-&gt;v17113</title>\n",
       "<path fill=\"none\" stroke=\"black\" d=\"M429.47,-527.83C434.43,-525.55 439.8,-523.42 445,-522 529.39,-498.97 559.22,-535.05 641,-504 657.97,-497.56 674.44,-485.64 686.92,-475.06\"/>\n",
       "<polygon fill=\"black\" stroke=\"black\" points=\"689.32,-477.61 694.51,-468.37 684.69,-472.36 689.32,-477.61\"/>\n",
       "<text text-anchor=\"middle\" x=\"696\" y=\"-492.8\" font-family=\"Times,serif\" font-size=\"14.00\">(q_1, q_2)</text>\n",
       "</g>\n",
       "<!-- v17114 -->\n",
       "<g id=\"node3\" class=\"node\">\n",
       "<title>v17114</title>\n",
       "<ellipse fill=\"none\" stroke=\"black\" cx=\"424\" cy=\"-18\" rx=\"27\" ry=\"18\"/>\n",
       "<text text-anchor=\"middle\" x=\"424\" y=\"-14.3\" font-family=\"Times,serif\" font-size=\"14.00\">q_3</text>\n",
       "</g>\n",
       "<!-- v17112&#45;&gt;v17114 -->\n",
       "<g id=\"edge3\" class=\"edge\">\n",
       "<title>v17112-&gt;v17114</title>\n",
       "<path fill=\"none\" stroke=\"black\" d=\"M381.85,-539.16C290.5,-538.97 0,-532.24 0,-454 0,-454 0,-454 0,-104 0,-25.51 282.87,-18.53 386.52,-18.61\"/>\n",
       "<polygon fill=\"black\" stroke=\"black\" points=\"386.82,-22.11 396.83,-18.64 386.84,-15.11 386.82,-22.11\"/>\n",
       "<text text-anchor=\"middle\" x=\"29\" y=\"-275.3\" font-family=\"Times,serif\" font-size=\"14.00\">(q_1, q_3)</text>\n",
       "</g>\n",
       "<!-- v17115 -->\n",
       "<g id=\"node4\" class=\"node\">\n",
       "<title>v17115</title>\n",
       "<ellipse fill=\"none\" stroke=\"black\" cx=\"645\" cy=\"-105\" rx=\"27\" ry=\"18\"/>\n",
       "<text text-anchor=\"middle\" x=\"645\" y=\"-101.3\" font-family=\"Times,serif\" font-size=\"14.00\">q_4</text>\n",
       "</g>\n",
       "<!-- v17112&#45;&gt;v17115 -->\n",
       "<g id=\"edge5\" class=\"edge\">\n",
       "<title>v17112-&gt;v17115</title>\n",
       "<path fill=\"none\" stroke=\"black\" d=\"M429.04,-527.84C434.11,-525.5 439.63,-523.34 445,-522 525.34,-502.01 1187,-536.79 1187,-454 1187,-454 1187,-454 1187,-321.5 1187,-224.92 1149.25,-189.96 1066,-141 1033.32,-121.78 778.83,-110.78 682.12,-107.25\"/>\n",
       "<polygon fill=\"black\" stroke=\"black\" points=\"682.05,-103.75 671.93,-106.89 681.8,-110.74 682.05,-103.75\"/>\n",
       "<text text-anchor=\"middle\" x=\"1216\" y=\"-318.8\" font-family=\"Times,serif\" font-size=\"14.00\">(q_1, q_4)</text>\n",
       "</g>\n",
       "<!-- v17116 -->\n",
       "<g id=\"node5\" class=\"node\">\n",
       "<title>v17116</title>\n",
       "<ellipse fill=\"none\" stroke=\"black\" cx=\"472\" cy=\"-192\" rx=\"27\" ry=\"18\"/>\n",
       "<text text-anchor=\"middle\" x=\"472\" y=\"-188.3\" font-family=\"Times,serif\" font-size=\"14.00\">q_5</text>\n",
       "</g>\n",
       "<!-- v17112&#45;&gt;v17116 -->\n",
       "<g id=\"edge7\" class=\"edge\">\n",
       "<title>v17112-&gt;v17116</title>\n",
       "<path fill=\"none\" stroke=\"black\" d=\"M390.08,-526.97C381.96,-520.95 372.98,-513.02 367,-504 358.54,-491.22 359.25,-486.16 357,-471 343.3,-378.52 341.26,-350.28 369,-261 373.96,-245.05 374.55,-239.14 387,-228 402.75,-213.91 411.46,-218.05 431,-210 433.9,-208.81 436.91,-207.56 439.93,-206.31\"/>\n",
       "<polygon fill=\"black\" stroke=\"black\" points=\"441.55,-209.43 449.45,-202.37 438.87,-202.96 441.55,-209.43\"/>\n",
       "<text text-anchor=\"middle\" x=\"378\" y=\"-362.3\" font-family=\"Times,serif\" font-size=\"14.00\">(q_1, q_5)</text>\n",
       "</g>\n",
       "<!-- v17117 -->\n",
       "<g id=\"node6\" class=\"node\">\n",
       "<title>v17117</title>\n",
       "<ellipse fill=\"none\" stroke=\"black\" cx=\"927\" cy=\"-279\" rx=\"27\" ry=\"18\"/>\n",
       "<text text-anchor=\"middle\" x=\"927\" y=\"-275.3\" font-family=\"Times,serif\" font-size=\"14.00\">q_6</text>\n",
       "</g>\n",
       "<!-- v17112&#45;&gt;v17117 -->\n",
       "<g id=\"edge9\" class=\"edge\">\n",
       "<title>v17112-&gt;v17117</title>\n",
       "<path fill=\"none\" stroke=\"black\" d=\"M429.06,-527.9C434.12,-525.56 439.65,-523.38 445,-522 567.47,-490.44 606.76,-536.44 729,-504 846.19,-472.9 909.83,-486.88 974,-384 990.81,-357.05 968.14,-323.07 948.84,-301.43\"/>\n",
       "<polygon fill=\"black\" stroke=\"black\" points=\"951.34,-298.98 941.96,-294.05 946.22,-303.76 951.34,-298.98\"/>\n",
       "<text text-anchor=\"middle\" x=\"989\" y=\"-405.8\" font-family=\"Times,serif\" font-size=\"14.00\">(q_1, q_6)</text>\n",
       "</g>\n",
       "<!-- v17118 -->\n",
       "<g id=\"node7\" class=\"node\">\n",
       "<title>v17118</title>\n",
       "<ellipse fill=\"none\" stroke=\"black\" cx=\"454\" cy=\"-366\" rx=\"27\" ry=\"18\"/>\n",
       "<text text-anchor=\"middle\" x=\"454\" y=\"-362.3\" font-family=\"Times,serif\" font-size=\"14.00\">q_7</text>\n",
       "</g>\n",
       "<!-- v17112&#45;&gt;v17118 -->\n",
       "<g id=\"edge11\" class=\"edge\">\n",
       "<title>v17112-&gt;v17118</title>\n",
       "<path fill=\"none\" stroke=\"black\" d=\"M413.4,-522.19C421.23,-492.27 437.64,-429.52 447.03,-393.65\"/>\n",
       "<polygon fill=\"black\" stroke=\"black\" points=\"450.44,-394.43 449.59,-383.87 443.67,-392.66 450.44,-394.43\"/>\n",
       "<text text-anchor=\"middle\" x=\"464\" y=\"-449.3\" font-family=\"Times,serif\" font-size=\"14.00\">(q_1, q_7)</text>\n",
       "</g>\n",
       "<!-- v17113&#45;&gt;v17112 -->\n",
       "<g id=\"edge2\" class=\"edge\">\n",
       "<title>v17113-&gt;v17112</title>\n",
       "<path fill=\"none\" stroke=\"black\" d=\"M683.4,-458.91C635.68,-468.43 530.24,-491.21 445,-522 443.15,-522.67 441.26,-523.4 439.37,-524.17\"/>\n",
       "<polygon fill=\"black\" stroke=\"black\" points=\"437.8,-521.04 430.04,-528.25 440.6,-527.45 437.8,-521.04\"/>\n",
       "<text text-anchor=\"middle\" x=\"581\" y=\"-492.8\" font-family=\"Times,serif\" font-size=\"14.00\">(q_2, q_1)</text>\n",
       "</g>\n",
       "<!-- v17113&#45;&gt;v17115 -->\n",
       "<g id=\"edge13\" class=\"edge\">\n",
       "<title>v17113-&gt;v17115</title>\n",
       "<path fill=\"none\" stroke=\"black\" d=\"M735.39,-448.74C795.64,-440.76 940.69,-418.36 974,-384 1052.49,-303.03 1123.2,-224.13 1047,-141 1022.62,-114.4 777.11,-107.95 682.19,-106.44\"/>\n",
       "<polygon fill=\"black\" stroke=\"black\" points=\"682.22,-102.94 672.17,-106.29 682.11,-109.94 682.22,-102.94\"/>\n",
       "<text text-anchor=\"middle\" x=\"1098\" y=\"-275.3\" font-family=\"Times,serif\" font-size=\"14.00\">(q_2, q_4)</text>\n",
       "</g>\n",
       "<!-- v17113&#45;&gt;v17116 -->\n",
       "<g id=\"edge15\" class=\"edge\">\n",
       "<title>v17113-&gt;v17116</title>\n",
       "<path fill=\"none\" stroke=\"black\" d=\"M716.85,-435.45C728.33,-408.7 746.34,-354.95 727,-315 713.42,-286.95 645.02,-241.64 617,-228 582.32,-211.12 538.91,-202.03 508.67,-197.39\"/>\n",
       "<polygon fill=\"black\" stroke=\"black\" points=\"508.96,-193.89 498.56,-195.92 507.96,-200.82 508.96,-193.89\"/>\n",
       "<text text-anchor=\"middle\" x=\"761\" y=\"-318.8\" font-family=\"Times,serif\" font-size=\"14.00\">(q_2, q_5)</text>\n",
       "</g>\n",
       "<!-- v17113&#45;&gt;v17117 -->\n",
       "<g id=\"edge17\" class=\"edge\">\n",
       "<title>v17113-&gt;v17117</title>\n",
       "<path fill=\"none\" stroke=\"black\" d=\"M735.98,-450.99C777.85,-447.81 857.55,-434.99 895,-384 911.72,-361.23 919.83,-329.58 923.68,-307.19\"/>\n",
       "<polygon fill=\"black\" stroke=\"black\" points=\"927.18,-307.44 925.24,-297.02 920.26,-306.37 927.18,-307.44\"/>\n",
       "<text text-anchor=\"middle\" x=\"941\" y=\"-362.3\" font-family=\"Times,serif\" font-size=\"14.00\">(q_2, q_6)</text>\n",
       "</g>\n",
       "<!-- v17113&#45;&gt;v17118 -->\n",
       "<g id=\"edge19\" class=\"edge\">\n",
       "<title>v17113-&gt;v17118</title>\n",
       "<path fill=\"none\" stroke=\"black\" d=\"M684.64,-444.84C661.68,-438 626.36,-427.25 596,-417 577.62,-410.79 573.28,-408.51 555,-402 532.42,-393.96 506.91,-385.12 487.18,-378.34\"/>\n",
       "<polygon fill=\"black\" stroke=\"black\" points=\"488.31,-375.02 477.71,-375.09 486.04,-381.65 488.31,-375.02\"/>\n",
       "<text text-anchor=\"middle\" x=\"625\" y=\"-405.8\" font-family=\"Times,serif\" font-size=\"14.00\">(q_2, q_7)</text>\n",
       "</g>\n",
       "<!-- v17114&#45;&gt;v17112 -->\n",
       "<g id=\"edge4\" class=\"edge\">\n",
       "<title>v17114-&gt;v17112</title>\n",
       "<path fill=\"none\" stroke=\"black\" d=\"M396.99,-20.17C318.18,-24.31 94,-41.58 94,-104 94,-454 94,-454 94,-454 94,-511.04 288.94,-530.94 372.11,-536.83\"/>\n",
       "<polygon fill=\"black\" stroke=\"black\" points=\"371.93,-540.33 382.14,-537.51 372.4,-533.34 371.93,-540.33\"/>\n",
       "<text text-anchor=\"middle\" x=\"123\" y=\"-275.3\" font-family=\"Times,serif\" font-size=\"14.00\">(q_3, q_1)</text>\n",
       "</g>\n",
       "<!-- v17114&#45;&gt;v17115 -->\n",
       "<g id=\"edge21\" class=\"edge\">\n",
       "<title>v17114-&gt;v17115</title>\n",
       "<path fill=\"none\" stroke=\"black\" d=\"M450.99,-19.66C486.34,-21.56 549.29,-28.59 596,-54 608.01,-60.53 618.93,-70.98 627.39,-80.64\"/>\n",
       "<polygon fill=\"black\" stroke=\"black\" points=\"624.81,-83.01 633.9,-88.46 630.2,-78.54 624.81,-83.01\"/>\n",
       "<text text-anchor=\"middle\" x=\"644\" y=\"-57.8\" font-family=\"Times,serif\" font-size=\"14.00\">(q_3, q_4)</text>\n",
       "</g>\n",
       "<!-- v17114&#45;&gt;v17116 -->\n",
       "<g id=\"edge23\" class=\"edge\">\n",
       "<title>v17114-&gt;v17116</title>\n",
       "<path fill=\"none\" stroke=\"black\" d=\"M413.82,-34.72C405.84,-48.04 395.38,-67.94 391,-87 384.07,-117.14 380.26,-132.19 400,-156 409.64,-167.62 424.06,-175.68 437.47,-181.11\"/>\n",
       "<polygon fill=\"black\" stroke=\"black\" points=\"436.38,-184.44 446.98,-184.61 438.8,-177.87 436.38,-184.44\"/>\n",
       "<text text-anchor=\"middle\" x=\"420\" y=\"-101.3\" font-family=\"Times,serif\" font-size=\"14.00\">(q_3, q_5)</text>\n",
       "</g>\n",
       "<!-- v17114&#45;&gt;v17117 -->\n",
       "<g id=\"edge25\" class=\"edge\">\n",
       "<title>v17114-&gt;v17117</title>\n",
       "<path fill=\"none\" stroke=\"black\" d=\"M451.06,-18.99C564.45,-19.15 997.88,-21.86 1049,-54 1120.11,-98.71 1114.68,-190.64 1049,-243 1024.66,-262.4 990.04,-271.05 963.89,-274.9\"/>\n",
       "<polygon fill=\"black\" stroke=\"black\" points=\"963.43,-271.43 953.97,-276.2 964.34,-278.37 963.43,-271.43\"/>\n",
       "<text text-anchor=\"middle\" x=\"1129\" y=\"-144.8\" font-family=\"Times,serif\" font-size=\"14.00\">(q_3, q_6)</text>\n",
       "</g>\n",
       "<!-- v17114&#45;&gt;v17118 -->\n",
       "<g id=\"edge27\" class=\"edge\">\n",
       "<title>v17114-&gt;v17118</title>\n",
       "<path fill=\"none\" stroke=\"black\" d=\"M408.36,-33.16C402.55,-39.11 396.32,-46.42 392,-54 384.42,-67.32 384.81,-71.93 382,-87 352.05,-247.59 359,-255.74 369,-297 372.89,-313.03 374.33,-318.34 386,-330 395.78,-339.78 408.86,-347.39 420.93,-352.99\"/>\n",
       "<polygon fill=\"black\" stroke=\"black\" points=\"419.75,-356.29 430.32,-357.04 422.53,-349.86 419.75,-356.29\"/>\n",
       "<text text-anchor=\"middle\" x=\"396\" y=\"-188.3\" font-family=\"Times,serif\" font-size=\"14.00\">(q_3, q_7)</text>\n",
       "</g>\n",
       "<!-- v17115&#45;&gt;v17112 -->\n",
       "<g id=\"edge6\" class=\"edge\">\n",
       "<title>v17115-&gt;v17112</title>\n",
       "<path fill=\"none\" stroke=\"black\" d=\"M618.34,-108.91C574.2,-114.07 488.22,-125.77 462,-141 427.11,-161.26 438.76,-191.31 403,-210 331.74,-247.23 294.57,-191.37 223,-228 211.51,-233.88 150.57,-302.93 146,-315 113.55,-400.62 155.7,-447.81 228,-504 249.98,-521.08 325.66,-531.11 371.91,-535.78\"/>\n",
       "<polygon fill=\"black\" stroke=\"black\" points=\"371.85,-539.29 382.15,-536.78 372.53,-532.33 371.85,-539.29\"/>\n",
       "<text text-anchor=\"middle\" x=\"175\" y=\"-318.8\" font-family=\"Times,serif\" font-size=\"14.00\">(q_4, q_1)</text>\n",
       "</g>\n",
       "<!-- v17115&#45;&gt;v17113 -->\n",
       "<g id=\"edge14\" class=\"edge\">\n",
       "<title>v17115-&gt;v17113</title>\n",
       "<path fill=\"none\" stroke=\"black\" d=\"M664.84,-117.23C700.02,-136.98 775.9,-178.79 842,-210 860.74,-218.84 873.52,-210.75 885,-228 888.69,-233.55 888.87,-237.57 885,-243 870.81,-262.92 851.79,-245.34 833,-261 805.94,-283.55 811.96,-299.7 794,-330 770.8,-369.15 767.18,-380.5 740,-417 736.81,-421.28 733.21,-425.68 729.62,-429.84\"/>\n",
       "<polygon fill=\"black\" stroke=\"black\" points=\"726.87,-427.68 722.85,-437.48 732.11,-432.32 726.87,-427.68\"/>\n",
       "<text text-anchor=\"middle\" x=\"862\" y=\"-275.3\" font-family=\"Times,serif\" font-size=\"14.00\">(q_4, q_2)</text>\n",
       "</g>\n",
       "<!-- v17115&#45;&gt;v17114 -->\n",
       "<g id=\"edge22\" class=\"edge\">\n",
       "<title>v17115-&gt;v17114</title>\n",
       "<path fill=\"none\" stroke=\"black\" d=\"M620.46,-97.19C597.77,-90.68 563.24,-80.21 534,-69 506.53,-58.47 476.14,-44.47 454.28,-33.96\"/>\n",
       "<polygon fill=\"black\" stroke=\"black\" points=\"455.7,-30.76 445.17,-29.55 452.65,-37.06 455.7,-30.76\"/>\n",
       "<text text-anchor=\"middle\" x=\"563\" y=\"-57.8\" font-family=\"Times,serif\" font-size=\"14.00\">(q_4, q_3)</text>\n",
       "</g>\n",
       "<!-- v17115&#45;&gt;v17116 -->\n",
       "<g id=\"edge29\" class=\"edge\">\n",
       "<title>v17115-&gt;v17116</title>\n",
       "<path fill=\"none\" stroke=\"black\" d=\"M618.81,-109.51C573,-115.92 482.29,-129.85 473,-141 467.76,-147.28 466.24,-155.71 466.42,-163.86\"/>\n",
       "<polygon fill=\"black\" stroke=\"black\" points=\"462.94,-164.23 467.39,-173.84 469.9,-163.55 462.94,-164.23\"/>\n",
       "<text text-anchor=\"middle\" x=\"502\" y=\"-144.8\" font-family=\"Times,serif\" font-size=\"14.00\">(q_4, q_5)</text>\n",
       "</g>\n",
       "<!-- v17115&#45;&gt;v17117 -->\n",
       "<g id=\"edge31\" class=\"edge\">\n",
       "<title>v17115-&gt;v17117</title>\n",
       "<path fill=\"none\" stroke=\"black\" d=\"M672.14,-105.1C709.29,-105.17 776.63,-110.06 823,-141 853.66,-161.46 840.77,-186.31 869,-210 884.24,-222.79 896.55,-213.34 910,-228 915.91,-234.44 919.77,-243.01 922.29,-251.23\"/>\n",
       "<polygon fill=\"black\" stroke=\"black\" points=\"918.9,-252.09 924.76,-260.92 925.69,-250.37 918.9,-252.09\"/>\n",
       "<text text-anchor=\"middle\" x=\"898\" y=\"-188.3\" font-family=\"Times,serif\" font-size=\"14.00\">(q_4, q_6)</text>\n",
       "</g>\n",
       "<!-- v17115&#45;&gt;v17118 -->\n",
       "<g id=\"edge33\" class=\"edge\">\n",
       "<title>v17115-&gt;v17118</title>\n",
       "<path fill=\"none\" stroke=\"black\" d=\"M645.02,-123.03C644.39,-149.99 640.4,-203.46 620,-243 605.28,-271.54 599.76,-280.87 572,-297 538.61,-316.4 518.91,-293.26 487,-315 478.07,-321.08 470.95,-330.47 465.65,-339.47\"/>\n",
       "<polygon fill=\"black\" stroke=\"black\" points=\"462.41,-338.09 460.77,-348.56 468.58,-341.4 462.41,-338.09\"/>\n",
       "<text text-anchor=\"middle\" x=\"655\" y=\"-231.8\" font-family=\"Times,serif\" font-size=\"14.00\">(q_4, q_7)</text>\n",
       "</g>\n",
       "<!-- v17116&#45;&gt;v17112 -->\n",
       "<g id=\"edge8\" class=\"edge\">\n",
       "<title>v17116-&gt;v17112</title>\n",
       "<path fill=\"none\" stroke=\"black\" d=\"M450.02,-202.57C443.91,-205.11 437.24,-207.76 431,-210 337.47,-243.57 218,-178.63 218,-278 218,-454 218,-454 218,-454 218,-520.66 316.31,-535.42 371.87,-538.44\"/>\n",
       "<polygon fill=\"black\" stroke=\"black\" points=\"371.9,-541.95 382.04,-538.89 372.2,-534.95 371.9,-541.95\"/>\n",
       "<text text-anchor=\"middle\" x=\"247\" y=\"-362.3\" font-family=\"Times,serif\" font-size=\"14.00\">(q_5, q_1)</text>\n",
       "</g>\n",
       "<!-- v17116&#45;&gt;v17113 -->\n",
       "<g id=\"edge16\" class=\"edge\">\n",
       "<title>v17116-&gt;v17113</title>\n",
       "<path fill=\"none\" stroke=\"black\" d=\"M490.11,-205.61C534.36,-236.42 644.49,-313.19 646,-315 673.75,-348.27 691.95,-395.78 701.35,-425.21\"/>\n",
       "<polygon fill=\"black\" stroke=\"black\" points=\"698.02,-426.29 704.31,-434.81 704.71,-424.23 698.02,-426.29\"/>\n",
       "<text text-anchor=\"middle\" x=\"685\" y=\"-318.8\" font-family=\"Times,serif\" font-size=\"14.00\">(q_5, q_2)</text>\n",
       "</g>\n",
       "<!-- v17116&#45;&gt;v17114 -->\n",
       "<g id=\"edge24\" class=\"edge\">\n",
       "<title>v17116-&gt;v17114</title>\n",
       "<path fill=\"none\" stroke=\"black\" d=\"M466.8,-173.99C465.15,-168.3 463.4,-161.9 462,-156 454.82,-125.63 457.3,-117.08 449,-87 445.09,-72.84 439.55,-57.45 434.67,-44.9\"/>\n",
       "<polygon fill=\"black\" stroke=\"black\" points=\"437.89,-43.52 430.95,-35.51 431.38,-46.1 437.89,-43.52\"/>\n",
       "<text text-anchor=\"middle\" x=\"485\" y=\"-101.3\" font-family=\"Times,serif\" font-size=\"14.00\">(q_5, q_3)</text>\n",
       "</g>\n",
       "<!-- v17116&#45;&gt;v17115 -->\n",
       "<g id=\"edge30\" class=\"edge\">\n",
       "<title>v17116-&gt;v17115</title>\n",
       "<path fill=\"none\" stroke=\"black\" d=\"M491.79,-179.54C503.31,-172.8 518.06,-164.05 531,-156 541.36,-149.55 543.13,-146.55 554,-141 572.39,-131.6 593.93,-123.2 611.44,-117\"/>\n",
       "<polygon fill=\"black\" stroke=\"black\" points=\"612.92,-120.19 621.22,-113.6 610.63,-113.57 612.92,-120.19\"/>\n",
       "<text text-anchor=\"middle\" x=\"583\" y=\"-144.8\" font-family=\"Times,serif\" font-size=\"14.00\">(q_5, q_4)</text>\n",
       "</g>\n",
       "<!-- v17116&#45;&gt;v17117 -->\n",
       "<g id=\"edge35\" class=\"edge\">\n",
       "<title>v17116-&gt;v17117</title>\n",
       "<path fill=\"none\" stroke=\"black\" d=\"M499.13,-193.3C556.35,-194.48 693.25,-200.24 804,-228 836.77,-236.21 872.33,-251.41 896.74,-262.9\"/>\n",
       "<polygon fill=\"black\" stroke=\"black\" points=\"895.31,-266.1 905.84,-267.25 898.34,-259.78 895.31,-266.1\"/>\n",
       "<text text-anchor=\"middle\" x=\"878\" y=\"-231.8\" font-family=\"Times,serif\" font-size=\"14.00\">(q_5, q_6)</text>\n",
       "</g>\n",
       "<!-- v17116&#45;&gt;v17118 -->\n",
       "<g id=\"edge37\" class=\"edge\">\n",
       "<title>v17116-&gt;v17118</title>\n",
       "<path fill=\"none\" stroke=\"black\" d=\"M465.61,-209.65C457.08,-232.84 442.43,-276.38 437,-315 436.07,-321.6 435.51,-323.5 437,-330 437.74,-333.23 438.82,-336.5 440.09,-339.68\"/>\n",
       "<polygon fill=\"black\" stroke=\"black\" points=\"436.93,-341.19 444.26,-348.83 443.29,-338.28 436.93,-341.19\"/>\n",
       "<text text-anchor=\"middle\" x=\"477\" y=\"-275.3\" font-family=\"Times,serif\" font-size=\"14.00\">(q_5, q_7)</text>\n",
       "</g>\n",
       "<!-- v17117&#45;&gt;v17112 -->\n",
       "<g id=\"edge10\" class=\"edge\">\n",
       "<title>v17117-&gt;v17112</title>\n",
       "<path fill=\"none\" stroke=\"black\" d=\"M947.9,-290.67C958.24,-296.73 970.33,-305.09 979,-315 1047.11,-392.86 1041.85,-384.76 1022,-417 994.08,-462.37 965.03,-452.72 915,-471 855.36,-492.79 838.84,-494.91 776,-504 630.19,-525.1 587.83,-485.87 445,-522 442.82,-522.55 440.62,-523.24 438.43,-524.01\"/>\n",
       "<polygon fill=\"black\" stroke=\"black\" points=\"436.97,-520.83 429.05,-527.87 439.63,-527.3 436.97,-520.83\"/>\n",
       "<text text-anchor=\"middle\" x=\"1060\" y=\"-405.8\" font-family=\"Times,serif\" font-size=\"14.00\">(q_6, q_1)</text>\n",
       "</g>\n",
       "<!-- v17117&#45;&gt;v17113 -->\n",
       "<g id=\"edge18\" class=\"edge\">\n",
       "<title>v17117-&gt;v17113</title>\n",
       "<path fill=\"none\" stroke=\"black\" d=\"M906.29,-290.81C885.49,-302.53 853.63,-322.98 833,-348 811.5,-374.08 825.73,-393.96 801,-417 785.49,-431.45 763.42,-440.11 744.78,-445.21\"/>\n",
       "<polygon fill=\"black\" stroke=\"black\" points=\"743.69,-441.87 734.84,-447.68 745.39,-448.66 743.69,-441.87\"/>\n",
       "<text text-anchor=\"middle\" x=\"862\" y=\"-362.3\" font-family=\"Times,serif\" font-size=\"14.00\">(q_6, q_2)</text>\n",
       "</g>\n",
       "<!-- v17117&#45;&gt;v17114 -->\n",
       "<g id=\"edge26\" class=\"edge\">\n",
       "<title>v17117-&gt;v17114</title>\n",
       "<path fill=\"none\" stroke=\"black\" d=\"M946.11,-266.17C974.8,-246.9 1023.3,-207.51 1000,-174 912.58,-48.26 825.51,-91.38 677,-54 601.69,-35.04 511,-25.64 461.23,-21.6\"/>\n",
       "<polygon fill=\"black\" stroke=\"black\" points=\"461.2,-18.08 450.96,-20.79 460.65,-25.06 461.2,-18.08\"/>\n",
       "<text text-anchor=\"middle\" x=\"1014\" y=\"-144.8\" font-family=\"Times,serif\" font-size=\"14.00\">(q_6, q_3)</text>\n",
       "</g>\n",
       "<!-- v17117&#45;&gt;v17115 -->\n",
       "<g id=\"edge32\" class=\"edge\">\n",
       "<title>v17117-&gt;v17115</title>\n",
       "<path fill=\"none\" stroke=\"black\" d=\"M932.4,-261.16C938.38,-239.04 944.98,-199.98 927,-174 899.26,-133.92 752.25,-115.58 682.19,-109.01\"/>\n",
       "<polygon fill=\"black\" stroke=\"black\" points=\"682.31,-105.51 672.04,-108.09 681.68,-112.48 682.31,-105.51\"/>\n",
       "<text text-anchor=\"middle\" x=\"967\" y=\"-188.3\" font-family=\"Times,serif\" font-size=\"14.00\">(q_6, q_4)</text>\n",
       "</g>\n",
       "<!-- v17117&#45;&gt;v17116 -->\n",
       "<g id=\"edge36\" class=\"edge\">\n",
       "<title>v17117-&gt;v17116</title>\n",
       "<path fill=\"none\" stroke=\"black\" d=\"M905.13,-267.9C898.75,-265.3 891.7,-262.75 885,-261 823.01,-244.85 801.08,-267.75 742,-243 732.08,-238.84 732.9,-232.22 723,-228 651.79,-197.6 559.87,-192.46 509.37,-192.21\"/>\n",
       "<polygon fill=\"black\" stroke=\"black\" points=\"509.23,-188.71 499.24,-192.23 509.24,-195.71 509.23,-188.71\"/>\n",
       "<text text-anchor=\"middle\" x=\"771\" y=\"-231.8\" font-family=\"Times,serif\" font-size=\"14.00\">(q_6, q_5)</text>\n",
       "</g>\n",
       "<!-- v17117&#45;&gt;v17118 -->\n",
       "<g id=\"edge39\" class=\"edge\">\n",
       "<title>v17117-&gt;v17118</title>\n",
       "<path fill=\"none\" stroke=\"black\" d=\"M905.65,-290.26C899.16,-292.93 891.92,-295.48 885,-297 802.86,-315.03 584.39,-282.1 507,-315 493.59,-320.7 481.51,-331.4 472.29,-341.44\"/>\n",
       "<polygon fill=\"black\" stroke=\"black\" points=\"469.43,-339.39 465.53,-349.24 474.72,-343.97 469.43,-339.39\"/>\n",
       "<text text-anchor=\"middle\" x=\"536\" y=\"-318.8\" font-family=\"Times,serif\" font-size=\"14.00\">(q_6, q_7)</text>\n",
       "</g>\n",
       "<!-- v17118&#45;&gt;v17112 -->\n",
       "<g id=\"edge12\" class=\"edge\">\n",
       "<title>v17118-&gt;v17112</title>\n",
       "<path fill=\"none\" stroke=\"black\" d=\"M432.06,-376.55C410.5,-387.28 378.88,-406.94 365,-435 351.35,-462.62 371.03,-495.52 388.27,-516.81\"/>\n",
       "<polygon fill=\"black\" stroke=\"black\" points=\"385.78,-519.28 394.93,-524.63 391.12,-514.75 385.78,-519.28\"/>\n",
       "<text text-anchor=\"middle\" x=\"394\" y=\"-449.3\" font-family=\"Times,serif\" font-size=\"14.00\">(q_7, q_1)</text>\n",
       "</g>\n",
       "<!-- v17118&#45;&gt;v17113 -->\n",
       "<g id=\"edge20\" class=\"edge\">\n",
       "<title>v17118-&gt;v17113</title>\n",
       "<path fill=\"none\" stroke=\"black\" d=\"M462.31,-383.18C469.02,-394.52 479.55,-409.04 493,-417 522.65,-434.55 618.74,-444.8 672.22,-449.29\"/>\n",
       "<polygon fill=\"black\" stroke=\"black\" points=\"672.07,-452.79 682.32,-450.11 672.63,-445.81 672.07,-452.79\"/>\n",
       "<text text-anchor=\"middle\" x=\"522\" y=\"-405.8\" font-family=\"Times,serif\" font-size=\"14.00\">(q_7, q_2)</text>\n",
       "</g>\n",
       "<!-- v17118&#45;&gt;v17114 -->\n",
       "<g id=\"edge28\" class=\"edge\">\n",
       "<title>v17118-&gt;v17114</title>\n",
       "<path fill=\"none\" stroke=\"black\" d=\"M428.83,-358.97C411.06,-353.69 387.56,-344.55 371,-330 324.62,-289.25 317.11,-269.6 301,-210 281.74,-138.76 356.34,-69.62 397.89,-37.57\"/>\n",
       "<polygon fill=\"black\" stroke=\"black\" points=\"400.08,-40.3 405.96,-31.49 395.87,-34.71 400.08,-40.3\"/>\n",
       "<text text-anchor=\"middle\" x=\"330\" y=\"-188.3\" font-family=\"Times,serif\" font-size=\"14.00\">(q_7, q_3)</text>\n",
       "</g>\n",
       "<!-- v17118&#45;&gt;v17115 -->\n",
       "<g id=\"edge34\" class=\"edge\">\n",
       "<title>v17118-&gt;v17115</title>\n",
       "<path fill=\"none\" stroke=\"black\" d=\"M454.68,-347.94C455.93,-337.35 459.13,-324.08 467,-315 480.57,-299.35 493.89,-310.02 510,-297 539.05,-273.52 536.12,-258.28 558,-228 581.43,-195.58 588.97,-188.71 612,-156 617.8,-147.76 623.94,-138.59 629.33,-130.37\"/>\n",
       "<polygon fill=\"black\" stroke=\"black\" points=\"632.31,-132.22 634.84,-121.93 626.45,-128.4 632.31,-132.22\"/>\n",
       "<text text-anchor=\"middle\" x=\"587\" y=\"-231.8\" font-family=\"Times,serif\" font-size=\"14.00\">(q_7, q_4)</text>\n",
       "</g>\n",
       "<!-- v17118&#45;&gt;v17116 -->\n",
       "<g id=\"edge38\" class=\"edge\">\n",
       "<title>v17118-&gt;v17116</title>\n",
       "<path fill=\"none\" stroke=\"black\" d=\"M433.78,-353.74C415.36,-342.2 389.35,-322.38 378,-297 371.47,-282.39 370.72,-275.25 378,-261 390.93,-235.69 418.17,-217.62 440.01,-206.5\"/>\n",
       "<polygon fill=\"black\" stroke=\"black\" points=\"441.81,-209.52 449.29,-202.02 438.76,-203.22 441.81,-209.52\"/>\n",
       "<text text-anchor=\"middle\" x=\"407\" y=\"-275.3\" font-family=\"Times,serif\" font-size=\"14.00\">(q_7, q_5)</text>\n",
       "</g>\n",
       "<!-- v17118&#45;&gt;v17117 -->\n",
       "<g id=\"edge40\" class=\"edge\">\n",
       "<title>v17118-&gt;v17117</title>\n",
       "<path fill=\"none\" stroke=\"black\" d=\"M479.42,-359.09C502.41,-353.27 536.87,-343.3 565,-330 576.03,-324.78 576.41,-318.83 588,-315 713.56,-273.5 756.02,-326.19 885,-297 888.67,-296.17 892.43,-295.06 896.13,-293.8\"/>\n",
       "<polygon fill=\"black\" stroke=\"black\" points=\"897.52,-297.01 905.63,-290.2 895.04,-290.46 897.52,-297.01\"/>\n",
       "<text text-anchor=\"middle\" x=\"617\" y=\"-318.8\" font-family=\"Times,serif\" font-size=\"14.00\">(q_7, q_6)</text>\n",
       "</g>\n",
       "<!-- \\n -->\n",
       "<g id=\"node8\" class=\"node\">\n",
       "<title>\\n</title>\n",
       "<ellipse fill=\"none\" stroke=\"black\" cx=\"481\" cy=\"-540\" rx=\"27\" ry=\"18\"/>\n",
       "</g>\n",
       "</g>\n",
       "</svg>"
      ],
      "text/plain": [
       "<IPython.core.display.SVG object>"
      ]
     },
     "execution_count": 104,
     "metadata": {},
     "output_type": "execute_result"
    }
   ],
   "source": [
    "gcs = LinearGCS({f\"q_{i + 1}\":r for i, r in enumerate(regions.values())})\n",
    "# print('regions', regions)\n",
    "SVG(gcs.VisualizeGraph()) "
   ]
  },
  {
   "cell_type": "code",
   "execution_count": 105,
   "metadata": {
    "pycharm": {
     "name": "#%%\n"
    }
   },
   "outputs": [
    {
     "name": "stdout",
     "output_type": "stream",
     "text": [
      "40\n"
     ]
    }
   ],
   "source": [
    "print(len(gcs.gcs.Edges()))\n",
    "# print({f\"q_{i + 1}\":r for i, r in enumerate(regions.values())})"
   ]
  },
  {
   "cell_type": "markdown",
   "metadata": {
    "pycharm": {
     "name": "#%% md\n"
    }
   },
   "source": [
    "# Build PRM"
   ]
  },
  {
   "cell_type": "markdown",
   "metadata": {
    "pycharm": {
     "name": "#%% md\n"
    }
   },
   "source": [
    "### Load Roadmap if you don't want to wait 15 minutes"
   ]
  },
  {
   "cell_type": "markdown",
   "metadata": {
    "pycharm": {
     "name": "#%% md\n"
    }
   },
   "source": [
    "### Or Grow it "
   ]
  },
  {
   "cell_type": "markdown",
   "metadata": {
    "pycharm": {
     "name": "#%% md\n"
    }
   },
   "source": [
    "### Connect via BiRRT first\n",
    "Given the knowledge of the Graph of Convex Sets, we will use BiRRT to connect the edges. All of the nodes of the RRT trees will be added to the PRM map"
   ]
  },
  {
   "cell_type": "markdown",
   "metadata": {
    "pycharm": {
     "name": "#%% md\n"
    }
   },
   "source": [
    "### Continue growing the Roadmap"
   ]
  },
  {
   "cell_type": "markdown",
   "metadata": {
    "pycharm": {
     "name": "#%% md\n"
    }
   },
   "source": [
    "# Run Comparison"
   ]
  },
  {
   "cell_type": "code",
   "execution_count": 106,
   "metadata": {
    "pycharm": {
     "name": "#%%\n"
    }
   },
   "outputs": [],
   "source": [
    "def getGCSPath(sequence, verbose = False):\n",
    "    path = [sequence[0]]\n",
    "    run_time = 0.0\n",
    "    for start_pt, goal_pt in zip(sequence[:-1], sequence[1:]):\n",
    "        gcs = LinearGCS(regions.copy())\n",
    "        gcs.addSourceTarget(start_pt, goal_pt)\n",
    "        gcs.setRoundingStrategy(randomForwardPathSearch, max_paths = 10, max_trials = 100, seed = SEED)\n",
    "        gcs.setSolver(MosekSolver())\n",
    "        start_time = time.time()\n",
    "        waypoints, results_dict = gcs.SolvePath(rounding=True, verbose=False, preprocessing=True)\n",
    "        if waypoints is None:\n",
    "            if verbose:\n",
    "                print(f\"Failed between {start_pt} and {goal_pt}\")\n",
    "            return None\n",
    "\n",
    "        run_time += results_dict[\"preprocessing_stats\"][\"linear_programs\"]\n",
    "        run_time += results_dict[\"relaxation_solver_time\"]\n",
    "        run_time += results_dict[\"total_rounded_solver_time\"]\n",
    "        if verbose:\n",
    "            print(\"Convex Relaxation\", round(results_dict[\"relaxation_cost\"], 3),\n",
    "                  \"min hard result cost\", round(results_dict[\"rounded_cost\"], 3),\n",
    "                  \"Gap\", round((results_dict[\"rounded_cost\"] - results_dict[\"relaxation_cost\"])/results_dict[\"relaxation_cost\"], 3))\n",
    "    \n",
    "        path += waypoints.T[1:].tolist()\n",
    "    return np.stack(path).T, run_time\n",
    "\n",
    "def shortcut(path):\n",
    "    \"\"\"Those values are used by TRI\"\"\"\n",
    "    return prm.shortcut(np.stack(path),\n",
    "                 max_iter = 200,\n",
    "                 max_failed_iter = 200,\n",
    "                 max_backtracking_steps = 0,\n",
    "                 max_shortcut_fraction = 1.0,\n",
    "                 resample_shortcuts_interval = 0.25,\n",
    "                 check_for_marginal_shortcuts = False)"
   ]
  },
  {
   "cell_type": "markdown",
   "metadata": {
    "pycharm": {
     "name": "#%% md\n"
    }
   },
   "source": [
    "# Demonstration"
   ]
  },
  {
   "cell_type": "code",
   "execution_count": 107,
   "metadata": {
    "pycharm": {
     "name": "#%%\n"
    }
   },
   "outputs": [],
   "source": [
    "demonstration =  {\"Above Shelve\": [[0.75, -0.12, 0.9], [0, -np.pi, -np.pi/2]],   \n",
    "                \"Top Rack\":       [[0.75, 0.12, 0.67], [0, -np.pi, -np.pi/2]],   \n",
    "                \"Middle Rack\":    [[0.75, 0.12, 0.41], [0, -np.pi, -np.pi/2]],       \n",
    "                \"Left Bin\":       [[0.08, 0.6, 0.22],  [np.pi/2, np.pi, 0]], \n",
    "                \"Right Bin\":      [[-0.08, -0.6, 0.22], [np.pi/2, np.pi, np.pi]]}\n",
    "\n",
    "q0 =[0, 0.3, 0, -1.8, 0, 1, 1.57]\n",
    "demonstration_configurations =  {name: InverseKinematics(q0, trans, rot) for name, (trans, rot) in demonstration.items()}\n"
   ]
  },
  {
   "cell_type": "code",
   "execution_count": 108,
   "metadata": {
    "pycharm": {
     "name": "#%%\n"
    }
   },
   "outputs": [],
   "source": [
    "demo_a = [demonstration_configurations[\"Above Shelve\"],\n",
    "          demonstration_configurations[\"Top Rack\"]]\n",
    "\n",
    "demo_b = [demonstration_configurations[\"Top Rack\"],\n",
    "          demonstration_configurations[\"Middle Rack\"]]\n",
    "\n",
    "demo_c = [demonstration_configurations[\"Middle Rack\"],\n",
    "          demonstration_configurations[\"Left Bin\"]]\n",
    "\n",
    "demo_d = [demonstration_configurations[\"Left Bin\"],\n",
    "          demonstration_configurations[\"Right Bin\"]]\n",
    "\n",
    "demo_e = [demonstration_configurations[\"Right Bin\"],\n",
    "          demonstration_configurations[\"Above Shelve\"]]\n",
    "\n",
    "demo_f = [demonstration_configurations[\"Above Shelve\"],\n",
    "         seed_points[\"Left to Shelve\"]]\n",
    "\n",
    "\n",
    "demo_circle = [demonstration_configurations[\"Above Shelve\"],\n",
    "               demonstration_configurations[\"Top Rack\"],\n",
    "               demonstration_configurations[\"Middle Rack\"],\n",
    "               demonstration_configurations[\"Left Bin\"],\n",
    "               demonstration_configurations[\"Right Bin\"],\n",
    "               demonstration_configurations[\"Above Shelve\"]]\n",
    "# print(demo_circle)\n",
    "# # CHANGED FOR TESTING:\n",
    "# demo_d = [milestone_configurations[\"Left Bin\"],\n",
    "#           milestone_configurations[\"Right Bin\"]]\n",
    "# print(demo_circle)"
   ]
  },
  {
   "cell_type": "code",
   "execution_count": 110,
   "metadata": {
    "pycharm": {
     "name": "#%%\n"
    }
   },
   "outputs": [
    {
     "name": "stdout",
     "output_type": "stream",
     "text": [
      "edges [[1], [2]]\n",
      "Convex Relaxation 3.097 min hard result cost 3.151 Gap 0.017\n",
      "Linear GCS length: 3.151, and time: 0.455 s\n"
     ]
    }
   ],
   "source": [
    "execute_demo = demo_d\n",
    "GCS_path, GCS_time = getGCSPath(execute_demo, verbose = True)\n",
    "linear_gcs_traj = make_traj(GCS_path, speed = 2)\n",
    "print(f\"Linear GCS length: {round(get_traj_length(linear_gcs_traj), 3)}, and time: {round(GCS_time, 3)} s\")\n",
    "\n",
    "# PRM_path, PRM_time = prm.getPath(execute_demo, verbose = True)\n",
    "# prm_traj = make_traj(PRM_path, speed = 2)\n",
    "# print(f\"PRM length: {round(get_traj_length(prm_traj), 3)}, and time: {round(PRM_time, 3)} s\")\n",
    "\n",
    "# sPRM_path, sPRM_time = prm.getPath(execute_demo, path_processing = shortcut)\n",
    "# sprm_traj = make_traj(sPRM_path, speed = 2)\n",
    "# print(f\"Smoothed PRM length: {round(get_traj_length(sprm_traj), 3)}, and time: {round(sPRM_time, 3)} s\")\n"
   ]
  },
  {
   "cell_type": "code",
   "execution_count": null,
   "metadata": {},
   "outputs": [],
   "source": [
    "# prm.save(os.path.join(GcsDir(), \"data/prm_comparison/15k_presplined.rmp\"))"
   ]
  },
  {
   "cell_type": "code",
   "execution_count": null,
   "metadata": {
    "scrolled": false
   },
   "outputs": [],
   "source": [
    "# is_traj_confined(sprm_traj, regions)"
   ]
  },
  {
   "cell_type": "code",
   "execution_count": 112,
   "metadata": {},
   "outputs": [
    {
     "name": "stderr",
     "output_type": "stream",
     "text": [
      "/Users/varun/gcs/reproduction/prm_comparison/helpers.py:233: DrakeDeprecationWarning: MeshcatVisualizerCpp has been renamed to MeshcatVisualizer. The deprecated code will be removed from Drake on or after 2022-11-01.\n",
      "  meshcat_cpp = MeshcatVisualizerCpp.AddToBuilder(builder, scene_graph, meshcat, meshcat_params)\n"
     ]
    }
   ],
   "source": [
    "visualize_trajectory(meshcat,\n",
    "                     [linear_gcs_traj],\n",
    "                     show_line = True,\n",
    "                     iiwa_ghosts = execute_demo,\n",
    "                     alpha =  0.3,\n",
    "                     regions = [])\n"
   ]
  },
  {
   "cell_type": "code",
   "execution_count": null,
   "metadata": {},
   "outputs": [],
   "source": [
    "# with open (\"GCS_PRM15k_comparison.html\", \"w\") as f:\n",
    "#     f.write(meshcat.StaticHtml())"
   ]
  },
  {
   "cell_type": "markdown",
   "metadata": {},
   "source": [
    "## Comparison Table for Paper\n"
   ]
  },
  {
   "cell_type": "code",
   "execution_count": null,
   "metadata": {},
   "outputs": [],
   "source": [
    "# demos_for_paper = [demo_a, demo_b, demo_c, demo_d, demo_e]\n",
    "\n",
    "# proposed_planner_data = []\n",
    "# PRM_data = []\n",
    "# sPRM_data = []\n",
    "\n",
    "# N = 10 # We ran this 100 in the paper \n",
    "# for _ in range(N):\n",
    "#     #extract trajectory and time \n",
    "#     trajectories = map(lambda d:[getGCSPath(d),prm.getPath(d),prm.getPath(d, path_processing = shortcut)], demos_for_paper)\n",
    "#     #get length of trajectory\n",
    "#     length_time_list = map(lambda traj_time: [[get_traj_length(make_traj(trj)), t] for trj, t in traj_time], trajectories)\n",
    "#     #flatten for pandas\n",
    "#     length_time_list = np.array(list(length_time_list))\n",
    "    \n",
    "#     proposed_planner_data.append(length_time_list[:,0].flatten())\n",
    "#     PRM_data.append(length_time_list[:,1].flatten())\n",
    "#     sPRM_data.append(length_time_list[:,2].flatten())\n",
    "    \n",
    "# proposed_planner_data = np.mean(proposed_planner_data, axis = 0)\n",
    "# PRM_data = np.mean(PRM_data, axis = 0)\n",
    "# sPRM_data = np.mean(sPRM_data, axis = 0)"
   ]
  },
  {
   "cell_type": "code",
   "execution_count": null,
   "metadata": {},
   "outputs": [],
   "source": [
    "# cols = {\"Proposed Planner\":proposed_planner_data,\n",
    "#         \"Regular PRM\":PRM_data,\n",
    "#         \"Shortcut PRM\":sPRM_data}\n",
    "\n",
    "# index = pd.MultiIndex.from_tuples([('q1-q2', 'length (rad)'), ('q1-q2', 'runtime (s)'),\n",
    "#                                     ('q2-q3', 'length (rad)'), ('q2-q3', 'runtime (s)'),\n",
    "#                                     ('q3-q4', 'length (rad)'), ('q3-q4', 'runtime (s)'),\n",
    "#                                     ('q4-q5', 'length (rad)'), ('q4-q5', 'runtime (s)'),\n",
    "#                                     ('q5-q1', 'length (rad)'), ('q5-q1', 'runtime (s)'),], names=[\"Task\", \"\"])\n",
    "# df = pd.DataFrame(data = cols, index=index)"
   ]
  },
  {
   "cell_type": "code",
   "execution_count": null,
   "metadata": {},
   "outputs": [],
   "source": [
    "# df.round(2)"
   ]
  },
  {
   "cell_type": "markdown",
   "metadata": {},
   "source": [
    "## Debug\n",
    "When playing with the demonstration points, use this to understand where PRM fails and where the regions to include the configurations"
   ]
  },
  {
   "cell_type": "code",
   "execution_count": null,
   "metadata": {},
   "outputs": [],
   "source": [
    "# for k,v in {name: InverseKinematics(q0, trans, rot) for name, (trans, rot) in demonstration.items()}.items():\n",
    "#     print(k, regions[k].PointInSet(v), not prm.getPath([q0, v]) is None)"
   ]
  },
  {
   "cell_type": "code",
   "execution_count": null,
   "metadata": {},
   "outputs": [],
   "source": []
  }
 ],
 "metadata": {
  "kernelspec": {
   "display_name": "gomp-gcs",
   "language": "python",
   "name": "gomp-gcs"
  },
  "language_info": {
   "codemirror_mode": {
    "name": "ipython",
    "version": 3
   },
   "file_extension": ".py",
   "mimetype": "text/x-python",
   "name": "python",
   "nbconvert_exporter": "python",
   "pygments_lexer": "ipython3",
   "version": "3.9.13"
  }
 },
 "nbformat": 4,
 "nbformat_minor": 2
}

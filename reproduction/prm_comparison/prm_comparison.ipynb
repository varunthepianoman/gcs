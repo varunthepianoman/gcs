{
 "cells": [
  {
   "cell_type": "code",
   "execution_count": 1,
   "metadata": {
    "pycharm": {
     "name": "#%%\n"
    }
   },
   "outputs": [
    {
     "data": {
      "text/plain": [
       "['/Users/varun/gcs/reproduction/prm_comparison',\n",
       " '/usr/local/Cellar/python@3.9/3.9.13_1/Frameworks/Python.framework/Versions/3.9/lib/python39.zip',\n",
       " '/usr/local/Cellar/python@3.9/3.9.13_1/Frameworks/Python.framework/Versions/3.9/lib/python3.9',\n",
       " '/usr/local/Cellar/python@3.9/3.9.13_1/Frameworks/Python.framework/Versions/3.9/lib/python3.9/lib-dynload',\n",
       " '',\n",
       " '/Users/varun/Documents/virtualenvs/gomp-gcs/lib/python3.9/site-packages',\n",
       " '/Users/varun/gcs',\n",
       " '/usr/local/opt/python-tk@3.9/libexec']"
      ]
     },
     "execution_count": 1,
     "metadata": {},
     "output_type": "execute_result"
    }
   ],
   "source": [
    "import sys\n",
    "sys.path"
   ]
  },
  {
   "cell_type": "code",
   "execution_count": 36,
   "metadata": {
    "pycharm": {
     "name": "#%%\n"
    }
   },
   "outputs": [
    {
     "name": "stdout",
     "output_type": "stream",
     "text": [
      "The autoreload extension is already loaded. To reload it, use:\n",
      "  %reload_ext autoreload\n",
      "True\n"
     ]
    }
   ],
   "source": [
    "%load_ext autoreload\n",
    "%autoreload 2\n",
    "import os\n",
    "import time\n",
    "import pickle\n",
    "import numpy as np\n",
    "import pandas as pd\n",
    "import multiprocess as mp\n",
    "from IPython.display import HTML, SVG\n",
    "\n",
    "from pydrake.geometry import MeshcatVisualizerCpp, MeshcatVisualizerParams, Role, StartMeshcat\n",
    "from pydrake.geometry.optimization import IrisInConfigurationSpace, IrisOptions\n",
    "from pydrake.multibody.parsing import LoadModelDirectives, Parser, ProcessModelDirectives\n",
    "from pydrake.multibody.plant import AddMultibodyPlantSceneGraph\n",
    "# from pydrake.solvers.gurobi import GurobiSolver\n",
    "from pydrake.solvers.mosek import MosekSolver\n",
    "# from pydrake.solvers import MathematicalProgram\n",
    "from pydrake.solvers.snopt import SnoptSolver\n",
    "from pydrake.systems.framework import DiagramBuilder\n",
    "# from pydrake.planning.common_robotics_utilities import SimpleRRTPlannerState\n",
    "\n",
    "\n",
    "from gcs.linear import LinearGCS\n",
    "from gcs.rounding import randomForwardPathSearch\n",
    "from reproduction.prm_comparison.planning import PRM, BiRRT\n",
    "from reproduction.prm_comparison.helpers import (\n",
    "    ForwardKinematics,\n",
    "    get_traj_length,\n",
    "    InverseKinematics,\n",
    "    is_traj_confined,\n",
    "    make_traj,\n",
    "    visualize_trajectory,\n",
    ")\n",
    "from reproduction.util import *\n",
    "\n",
    "# GurobiSolver.AcquireLicense()\n",
    "os.environ['MOSEKLM_LICENSE_FILE'] = '/Users/varun/mosek/mosek.lic'\n",
    "MosekSolver.AcquireLicense()\n",
    "\n",
    "print(MosekSolver().available())"
   ]
  },
  {
   "cell_type": "code",
   "execution_count": 37,
   "metadata": {
    "pycharm": {
     "name": "#%%\n"
    }
   },
   "outputs": [
    {
     "name": "stderr",
     "output_type": "stream",
     "text": [
      "INFO:drake:Meshcat listening for connections at http://localhost:7001\n"
     ]
    }
   ],
   "source": [
    "# Start the visualizer (run this cell only once, each instance consumes a port)\n",
    "meshcat = StartMeshcat()"
   ]
  },
  {
   "cell_type": "code",
   "execution_count": 38,
   "metadata": {
    "pycharm": {
     "name": "#%%\n"
    }
   },
   "outputs": [],
   "source": [
    "SEED = 17\n",
    "np.random.seed(SEED)"
   ]
  },
  {
   "cell_type": "code",
   "execution_count": 39,
   "metadata": {
    "pycharm": {
     "name": "#%%\n"
    }
   },
   "outputs": [
    {
     "name": "stderr",
     "output_type": "stream",
     "text": [
      "/var/folders/p0/l4__0wtd3j184sv9zspd0qlm0000gn/T/ipykernel_5263/1353813250.py:18: DrakeDeprecationWarning: MeshcatVisualizerCpp has been renamed to MeshcatVisualizer. The deprecated code will be removed from Drake on or after 2022-11-01.\n",
      "  meshcat_cpp = MeshcatVisualizerCpp.AddToBuilder(builder, scene_graph, meshcat, meshcat_params)\n"
     ]
    }
   ],
   "source": [
    "builder = DiagramBuilder()\n",
    "plant, scene_graph = AddMultibodyPlantSceneGraph(builder, time_step=0.0)\n",
    "parser = Parser(plant)\n",
    "parser.package_map().Add(\"gcs\", GcsDir())\n",
    "\n",
    "directives_file = FindModelFile(\"models/iiwa14_spheres_collision_welded_gripper.yaml\")\n",
    "directives = LoadModelDirectives(directives_file)\n",
    "models = ProcessModelDirectives(directives, plant, parser)\n",
    "[iiwa, wsg, binR, binL, table] =  models\n",
    " \n",
    "\n",
    "plant.Finalize()\n",
    "\n",
    "meshcat_params = MeshcatVisualizerParams()\n",
    "meshcat_params.delete_on_initialization_event = False\n",
    "meshcat_params.role = Role.kIllustration\n",
    "# meshcat_params.role = Role.kProximity\n",
    "meshcat_cpp = MeshcatVisualizerCpp.AddToBuilder(builder, scene_graph, meshcat, meshcat_params)\n",
    "\n",
    "diagram = builder.Build()\n",
    "\n",
    "context = diagram.CreateDefaultContext()\n",
    "#plant_context = plant.GetMyContextFromRoot(context)\n",
    "plant_context = plant.GetMyMutableContextFromRoot(context)\n",
    "q0 =[0, 0.3, 0, -1.8, 0, 1, 1.57]\n",
    "plant.SetPositions(plant_context, q0)\n",
    "diagram.Publish(context)"
   ]
  },
  {
   "cell_type": "markdown",
   "metadata": {
    "pycharm": {
     "name": "#%% md\n"
    }
   },
   "source": [
    "# Generate Iris Regions\n",
    "### via manual seeds"
   ]
  },
  {
   "cell_type": "code",
   "execution_count": 40,
   "metadata": {
    "pycharm": {
     "name": "#%%\n"
    }
   },
   "outputs": [],
   "source": [
    "milestones =  {\"Above Shelve\": [[0.75, 0, 0.9],    [0, -np.pi, -np.pi/2]],   \n",
    "#                 \"Top Rack\":    [[0.75, 0, 0.67],   [0, -np.pi, -np.pi/2]],   \n",
    "#                 \"Middle Rack\": [[0.75, 0, 0.41],   [0, -np.pi, -np.pi/2]],       \n",
    "                \"Left Bin\":    [[0.4,  0.3, 0.22], [np.pi/2, np.pi, 0]], \n",
    "                \"Right Bin\":   [[0.4, -0.3, 0.22], [np.pi/2, np.pi, np.pi]],\n",
    "                \"Test Seed\":   [[0.75, 0, 0.85],   [0, -np.pi, -np.pi/2]]}\n",
    "\n",
    "\n",
    "additional_seed_points = {#\"Front to Shelve\":np.array([0, 0.2, 0, -2.09, 0, -0.3, np.pi/2]), \n",
    "                          \"Left to Shelve\": np.array([0.8, 0.7, 0, -1.6, 0, 0, np.pi/2]),\n",
    "                          \"Right to Shelve\":np.array([-0.8, 0.7, 0, -1.6, 0, 0, np.pi/2])} \n",
    "\n",
    "q0 =[0, 0.3, 0, -1.8, 0, 1, 1.57]\n",
    "milestone_configurations =  {name: InverseKinematics(q0, trans, rot) for name, (trans, rot) in milestones.items()}\n",
    "\n",
    "seed_points = {**milestone_configurations, **additional_seed_points}"
   ]
  },
  {
   "cell_type": "code",
   "execution_count": 41,
   "metadata": {
    "pycharm": {
     "name": "#%%\n"
    },
    "scrolled": true
   },
   "outputs": [
    {
     "name": "stdout",
     "output_type": "stream",
     "text": [
      "{'Above Shelve': array([ 6.41950821e-05,  4.71953264e-01, -1.49318242e-04, -6.71673454e-01,\n",
      "        1.85368193e-04,  4.26169599e-01,  1.57069215e+00]), 'Left Bin': array([ 0.33844467,  0.61693683,  0.39825049, -1.82148854, -0.32932757,\n",
      "        0.76876491,  0.91079681]), 'Right Bin': array([-0.33816941,  0.61700363, -0.39861835, -1.82148907,  0.32963854,\n",
      "        0.76882275,  2.23054774]), 'Test Seed': array([ 9.83600730e-05,  4.14759451e-01, -1.78732762e-04, -8.88337408e-01,\n",
      "        2.63138161e-04,  2.68699468e-01,  1.57061296e+00]), 'Left to Shelve': array([ 0.8       ,  0.7       ,  0.        , -1.6       ,  0.        ,\n",
      "        0.        ,  1.57079633]), 'Right to Shelve': array([-0.8       ,  0.7       ,  0.        , -1.6       ,  0.        ,\n",
      "        0.        ,  1.57079633])}\n"
     ]
    }
   ],
   "source": [
    "print(seed_points)"
   ]
  },
  {
   "cell_type": "code",
   "execution_count": 42,
   "metadata": {
    "pycharm": {
     "name": "#%%\n"
    }
   },
   "outputs": [],
   "source": [
    "iris_options = IrisOptions()\n",
    "iris_options.require_sample_point_is_contained = True\n",
    "iris_options.iteration_limit = 10\n",
    "iris_options.termination_threshold = -1\n",
    "iris_options.relative_termination_threshold = 0.01\n",
    "iris_options.enable_ibex = False\n",
    "CORE_CNT = mp.cpu_count() # you may edit this"
   ]
  },
  {
   "cell_type": "code",
   "execution_count": 43,
   "metadata": {
    "pycharm": {
     "name": "#%%\n"
    }
   },
   "outputs": [],
   "source": [
    "def calcRegion(seed, verbose):\n",
    "    start_time = time.time()\n",
    "    context = diagram.CreateDefaultContext()\n",
    "    plant_context = plant.GetMyContextFromRoot(context)\n",
    "    plant.SetPositions(plant_context, seed)\n",
    "    hpoly = IrisInConfigurationSpace(plant, plant_context, iris_options)\n",
    "    print(\"Seed:\", seed, \"\\tTime:\", time.time() - start_time, flush=True)\n",
    "    return hpoly"
   ]
  },
  {
   "cell_type": "code",
   "execution_count": 44,
   "metadata": {
    "pycharm": {
     "name": "#%%\n"
    }
   },
   "outputs": [],
   "source": [
    "def generateRegions(seed_points, verbose = True):\n",
    "    seeds = list(seed_points.values()) if type(seed_points) is dict else seed_points\n",
    "    regions = []\n",
    "    loop_time = time.time()\n",
    "#     with mp.Pool(processes = CORE_CNT) as pool:\n",
    "#         regions = pool.starmap(calcRegion, [[seed, verbose] for seed in seeds])\n",
    "    regions = [calcRegion(seed, verbose) for seed in seeds]\n",
    "\n",
    "    \n",
    "    if verbose:\n",
    "        print(\"Loop time:\", time.time() - loop_time)\n",
    "    \n",
    "    if type(seed_points) is dict:\n",
    "        return dict(list(zip(seed_points.keys(), regions)))\n",
    "    \n",
    "    return regions"
   ]
  },
  {
   "cell_type": "code",
   "execution_count": 45,
   "metadata": {
    "pycharm": {
     "name": "#%%\n"
    },
    "scrolled": false
   },
   "outputs": [
    {
     "name": "stdout",
     "output_type": "stream",
     "text": [
      "Seed: [ 6.41950821e-05  4.71953264e-01 -1.49318242e-04 -6.71673454e-01\n",
      "  1.85368193e-04  4.26169599e-01  1.57069215e+00]\n",
      "Seed: [ 6.41950821e-05  4.71953264e-01 -1.49318242e-04 -6.71673454e-01\n",
      "  1.85368193e-04  4.26169599e-01  1.57069215e+00] \tTime: 72.34133982658386\n",
      "Seed: [ 0.33844467  0.61693683  0.39825049 -1.82148854 -0.32932757  0.76876491\n",
      "  0.91079681]\n",
      "Seed: [ 0.33844467  0.61693683  0.39825049 -1.82148854 -0.32932757  0.76876491\n",
      "  0.91079681] \tTime: 24.754874229431152\n",
      "Seed: [-0.33816941  0.61700363 -0.39861835 -1.82148907  0.32963854  0.76882275\n",
      "  2.23054774]\n",
      "Seed: [-0.33816941  0.61700363 -0.39861835 -1.82148907  0.32963854  0.76882275\n",
      "  2.23054774] \tTime: 26.210362195968628\n",
      "Seed: [ 9.83600730e-05  4.14759451e-01 -1.78732762e-04 -8.88337408e-01\n",
      "  2.63138161e-04  2.68699468e-01  1.57061296e+00]\n",
      "Seed: [ 9.83600730e-05  4.14759451e-01 -1.78732762e-04 -8.88337408e-01\n",
      "  2.63138161e-04  2.68699468e-01  1.57061296e+00] \tTime: 73.15053176879883\n",
      "Seed: [ 0.8         0.7         0.         -1.6         0.          0.\n",
      "  1.57079633]\n",
      "Seed: [ 0.8         0.7         0.         -1.6         0.          0.\n",
      "  1.57079633] \tTime: 0.01425480842590332\n",
      "Seed: [-0.8         0.7         0.         -1.6         0.          0.\n",
      "  1.57079633]\n",
      "Seed: [-0.8         0.7         0.         -1.6         0.          0.\n",
      "  1.57079633] \tTime: 0.004918098449707031\n",
      "Loop time: 196.50838017463684\n"
     ]
    }
   ],
   "source": [
    "regions = generateRegions(seed_points)"
   ]
  },
  {
   "cell_type": "code",
   "execution_count": 46,
   "metadata": {
    "pycharm": {
     "name": "#%%\n"
    }
   },
   "outputs": [
    {
     "name": "stdout",
     "output_type": "stream",
     "text": [
      "{'Above Shelve': <pydrake.geometry.optimization.HPolyhedron object at 0x14da10b30>, 'Left Bin': <pydrake.geometry.optimization.HPolyhedron object at 0x14da1f0b0>, 'Right Bin': <pydrake.geometry.optimization.HPolyhedron object at 0x10db89ab0>, 'Test Seed': <pydrake.geometry.optimization.HPolyhedron object at 0x14d472f30>, 'Left to Shelve': <pydrake.geometry.optimization.HPolyhedron object at 0x13a8bcd30>, 'Right to Shelve': <pydrake.geometry.optimization.HPolyhedron object at 0x14d4d8b70>}\n"
     ]
    }
   ],
   "source": [
    "print(regions)"
   ]
  },
  {
   "cell_type": "markdown",
   "metadata": {
    "pycharm": {
     "name": "#%% md\n"
    }
   },
   "source": [
    "## via pre-generated regions"
   ]
  },
  {
   "cell_type": "code",
   "execution_count": 47,
   "metadata": {
    "pycharm": {
     "name": "#%%\n"
    }
   },
   "outputs": [],
   "source": [
    "#load regions\n",
    "# with open(os.path.join(GcsDir(), \"data/prm_comparison/IRIS.reg\"), \"rb\") as f:\n",
    "#     regions = pickle.load(f)"
   ]
  },
  {
   "cell_type": "code",
   "execution_count": 48,
   "metadata": {
    "pycharm": {
     "name": "#%%\n"
    }
   },
   "outputs": [
    {
     "data": {
      "image/svg+xml": [
       "<svg xmlns=\"http://www.w3.org/2000/svg\" xmlns:xlink=\"http://www.w3.org/1999/xlink\" width=\"1036pt\" height=\"479pt\" viewBox=\"0.00 0.00 1036.00 479.00\">\n",
       "<g id=\"graph0\" class=\"graph\" transform=\"scale(1 1) rotate(0) translate(4 475)\">\n",
       "<title>GraphOfConvexSets</title>\n",
       "<polygon fill=\"white\" stroke=\"transparent\" points=\"-4,4 -4,-475 1032,-475 1032,4 -4,4\"/>\n",
       "<!-- v4317 -->\n",
       "<g id=\"node1\" class=\"node\">\n",
       "<title>v4317</title>\n",
       "<ellipse fill=\"none\" stroke=\"black\" cx=\"314\" cy=\"-453\" rx=\"27\" ry=\"18\"/>\n",
       "<text text-anchor=\"middle\" x=\"314\" y=\"-449.3\" font-family=\"Times,serif\" font-size=\"14.00\">q_1</text>\n",
       "</g>\n",
       "<!-- v4318 -->\n",
       "<g id=\"node2\" class=\"node\">\n",
       "<title>v4318</title>\n",
       "<ellipse fill=\"none\" stroke=\"black\" cx=\"714\" cy=\"-366\" rx=\"27\" ry=\"18\"/>\n",
       "<text text-anchor=\"middle\" x=\"714\" y=\"-362.3\" font-family=\"Times,serif\" font-size=\"14.00\">q_2</text>\n",
       "</g>\n",
       "<!-- v4317&#45;&gt;v4318 -->\n",
       "<g id=\"edge1\" class=\"edge\">\n",
       "<title>v4317-&gt;v4318</title>\n",
       "<path fill=\"none\" stroke=\"black\" d=\"M334.05,-440.88C339.12,-438.54 344.64,-436.36 350,-435 417.52,-417.81 599.28,-445.18 663,-417 676.06,-411.22 687.7,-400.52 696.54,-390.49\"/>\n",
       "<polygon fill=\"black\" stroke=\"black\" points=\"699.32,-392.63 703.01,-382.7 693.93,-388.16 699.32,-392.63\"/>\n",
       "<text text-anchor=\"middle\" x=\"712\" y=\"-405.8\" font-family=\"Times,serif\" font-size=\"14.00\">(q_1, q_2)</text>\n",
       "</g>\n",
       "<!-- v4319 -->\n",
       "<g id=\"node3\" class=\"node\">\n",
       "<title>v4319</title>\n",
       "<ellipse fill=\"none\" stroke=\"black\" cx=\"437\" cy=\"-18\" rx=\"27\" ry=\"18\"/>\n",
       "<text text-anchor=\"middle\" x=\"437\" y=\"-14.3\" font-family=\"Times,serif\" font-size=\"14.00\">q_3</text>\n",
       "</g>\n",
       "<!-- v4317&#45;&gt;v4319 -->\n",
       "<g id=\"edge3\" class=\"edge\">\n",
       "<title>v4317-&gt;v4319</title>\n",
       "<path fill=\"none\" stroke=\"black\" d=\"M286.91,-452.47C240.2,-452.36 142.28,-448.03 67,-417 32.65,-402.84 0,-404.16 0,-367 0,-367 0,-367 0,-104 0,-22.83 294.17,-17.64 399.8,-18.39\"/>\n",
       "<polygon fill=\"black\" stroke=\"black\" points=\"399.96,-21.89 409.99,-18.48 400.03,-14.89 399.96,-21.89\"/>\n",
       "<text text-anchor=\"middle\" x=\"29\" y=\"-231.8\" font-family=\"Times,serif\" font-size=\"14.00\">(q_1, q_3)</text>\n",
       "</g>\n",
       "<!-- v4320 -->\n",
       "<g id=\"node4\" class=\"node\">\n",
       "<title>v4320</title>\n",
       "<ellipse fill=\"none\" stroke=\"black\" cx=\"438\" cy=\"-105\" rx=\"27\" ry=\"18\"/>\n",
       "<text text-anchor=\"middle\" x=\"438\" y=\"-101.3\" font-family=\"Times,serif\" font-size=\"14.00\">q_4</text>\n",
       "</g>\n",
       "<!-- v4317&#45;&gt;v4320 -->\n",
       "<g id=\"edge5\" class=\"edge\">\n",
       "<title>v4317-&gt;v4320</title>\n",
       "<path fill=\"none\" stroke=\"black\" d=\"M287.61,-448.91C264.19,-444.97 230.17,-436.21 207,-417 149.04,-368.96 127.84,-335.12 141,-261 150.93,-205.07 140.77,-176.65 185,-141 217.47,-114.83 338.84,-108.22 400.92,-106.56\"/>\n",
       "<polygon fill=\"black\" stroke=\"black\" points=\"401.15,-110.05 411.07,-106.31 400.99,-103.05 401.15,-110.05\"/>\n",
       "<text text-anchor=\"middle\" x=\"170\" y=\"-275.3\" font-family=\"Times,serif\" font-size=\"14.00\">(q_1, q_4)</text>\n",
       "</g>\n",
       "<!-- v4321 -->\n",
       "<g id=\"node5\" class=\"node\">\n",
       "<title>v4321</title>\n",
       "<ellipse fill=\"none\" stroke=\"black\" cx=\"546\" cy=\"-192\" rx=\"27\" ry=\"18\"/>\n",
       "<text text-anchor=\"middle\" x=\"546\" y=\"-188.3\" font-family=\"Times,serif\" font-size=\"14.00\">q_5</text>\n",
       "</g>\n",
       "<!-- v4317&#45;&gt;v4321 -->\n",
       "<g id=\"edge7\" class=\"edge\">\n",
       "<title>v4317-&gt;v4321</title>\n",
       "<path fill=\"none\" stroke=\"black\" d=\"M333.56,-440.14C353.46,-427.56 384.61,-406.46 408,-384 436.76,-356.38 497.11,-276.33 519,-243 524.06,-235.29 529.02,-226.55 533.29,-218.56\"/>\n",
       "<polygon fill=\"black\" stroke=\"black\" points=\"536.42,-220.11 537.93,-209.62 530.21,-216.88 536.42,-220.11\"/>\n",
       "<text text-anchor=\"middle\" x=\"495\" y=\"-318.8\" font-family=\"Times,serif\" font-size=\"14.00\">(q_1, q_5)</text>\n",
       "</g>\n",
       "<!-- v4322 -->\n",
       "<g id=\"node6\" class=\"node\">\n",
       "<title>v4322</title>\n",
       "<ellipse fill=\"none\" stroke=\"black\" cx=\"351\" cy=\"-279\" rx=\"27\" ry=\"18\"/>\n",
       "<text text-anchor=\"middle\" x=\"351\" y=\"-275.3\" font-family=\"Times,serif\" font-size=\"14.00\">q_6</text>\n",
       "</g>\n",
       "<!-- v4317&#45;&gt;v4322 -->\n",
       "<g id=\"edge9\" class=\"edge\">\n",
       "<title>v4317-&gt;v4322</title>\n",
       "<path fill=\"none\" stroke=\"black\" d=\"M302.3,-436.52C288.25,-415.92 268.09,-378.53 281,-348 289.68,-327.46 307.94,-310.06 323.64,-298.01\"/>\n",
       "<polygon fill=\"black\" stroke=\"black\" points=\"326.01,-300.61 332.01,-291.88 321.88,-294.96 326.01,-300.61\"/>\n",
       "<text text-anchor=\"middle\" x=\"310\" y=\"-362.3\" font-family=\"Times,serif\" font-size=\"14.00\">(q_1, q_6)</text>\n",
       "</g>\n",
       "<!-- v4318&#45;&gt;v4317 -->\n",
       "<g id=\"edge2\" class=\"edge\">\n",
       "<title>v4318-&gt;v4317</title>\n",
       "<path fill=\"none\" stroke=\"black\" d=\"M689.6,-374.04C666.61,-380.8 631.27,-391.5 601,-402 583.45,-408.08 580.1,-412.84 562,-417 469.84,-438.18 441.31,-410.42 350,-435 348.05,-435.53 346.07,-436.15 344.1,-436.85\"/>\n",
       "<polygon fill=\"black\" stroke=\"black\" points=\"342.38,-433.77 334.46,-440.81 345.04,-440.25 342.38,-433.77\"/>\n",
       "<text text-anchor=\"middle\" x=\"630\" y=\"-405.8\" font-family=\"Times,serif\" font-size=\"14.00\">(q_2, q_1)</text>\n",
       "</g>\n",
       "<!-- v4318&#45;&gt;v4319 -->\n",
       "<g id=\"edge11\" class=\"edge\">\n",
       "<title>v4318-&gt;v4319</title>\n",
       "<path fill=\"none\" stroke=\"black\" d=\"M740.43,-361.94C805.84,-353.63 970,-328 970,-280 970,-280 970,-280 970,-104 970,-62.07 929.83,-67.1 890,-54 813.07,-28.69 568.11,-21.46 474.17,-19.6\"/>\n",
       "<polygon fill=\"black\" stroke=\"black\" points=\"474.06,-16.09 463.99,-19.4 473.93,-23.09 474.06,-16.09\"/>\n",
       "<text text-anchor=\"middle\" x=\"999\" y=\"-188.3\" font-family=\"Times,serif\" font-size=\"14.00\">(q_2, q_3)</text>\n",
       "</g>\n",
       "<!-- v4318&#45;&gt;v4320 -->\n",
       "<g id=\"edge13\" class=\"edge\">\n",
       "<title>v4318-&gt;v4320</title>\n",
       "<path fill=\"none\" stroke=\"black\" d=\"M709,-347.9C704.98,-337.02 698.29,-323.44 688,-315 665.81,-296.8 646.21,-317.37 626,-297 575.26,-245.87 633.86,-191 582,-141 566.81,-126.35 511.94,-116.1 474.49,-110.63\"/>\n",
       "<polygon fill=\"black\" stroke=\"black\" points=\"474.83,-107.14 464.44,-109.21 473.85,-114.08 474.83,-107.14\"/>\n",
       "<text text-anchor=\"middle\" x=\"632\" y=\"-231.8\" font-family=\"Times,serif\" font-size=\"14.00\">(q_2, q_4)</text>\n",
       "</g>\n",
       "<!-- v4318&#45;&gt;v4321 -->\n",
       "<g id=\"edge15\" class=\"edge\">\n",
       "<title>v4318-&gt;v4321</title>\n",
       "<path fill=\"none\" stroke=\"black\" d=\"M708.81,-348.21C705.14,-337.99 699.52,-325.01 692,-315 687.32,-308.78 610.37,-245.56 570.11,-212.67\"/>\n",
       "<polygon fill=\"black\" stroke=\"black\" points=\"572.31,-209.94 562.35,-206.33 567.88,-215.37 572.31,-209.94\"/>\n",
       "<text text-anchor=\"middle\" x=\"700\" y=\"-275.3\" font-family=\"Times,serif\" font-size=\"14.00\">(q_2, q_5)</text>\n",
       "</g>\n",
       "<!-- v4318&#45;&gt;v4322 -->\n",
       "<g id=\"edge17\" class=\"edge\">\n",
       "<title>v4318-&gt;v4322</title>\n",
       "<path fill=\"none\" stroke=\"black\" d=\"M687.02,-364.9C618.16,-364.2 437.78,-359.53 387,-330 377.05,-324.21 369.1,-314.46 363.23,-305.09\"/>\n",
       "<polygon fill=\"black\" stroke=\"black\" points=\"366.25,-303.31 358.25,-296.37 360.17,-306.79 366.25,-303.31\"/>\n",
       "<text text-anchor=\"middle\" x=\"416\" y=\"-318.8\" font-family=\"Times,serif\" font-size=\"14.00\">(q_2, q_6)</text>\n",
       "</g>\n",
       "<!-- v4319&#45;&gt;v4317 -->\n",
       "<g id=\"edge4\" class=\"edge\">\n",
       "<title>v4319-&gt;v4317</title>\n",
       "<path fill=\"none\" stroke=\"black\" d=\"M409.95,-19.67C326.87,-22.46 81,-36.41 81,-104 81,-367 81,-367 81,-367 81,-408.38 212.36,-435.54 277.82,-446.51\"/>\n",
       "<polygon fill=\"black\" stroke=\"black\" points=\"277.29,-449.97 287.72,-448.13 278.42,-443.06 277.29,-449.97\"/>\n",
       "<text text-anchor=\"middle\" x=\"110\" y=\"-231.8\" font-family=\"Times,serif\" font-size=\"14.00\">(q_3, q_1)</text>\n",
       "</g>\n",
       "<!-- v4319&#45;&gt;v4318 -->\n",
       "<g id=\"edge12\" class=\"edge\">\n",
       "<title>v4319-&gt;v4318</title>\n",
       "<path fill=\"none\" stroke=\"black\" d=\"M464.13,-18.46C559.84,-17.26 876,-19.67 876,-104 876,-280 876,-280 876,-280 876,-336.22 798.55,-355.33 750.75,-361.77\"/>\n",
       "<polygon fill=\"black\" stroke=\"black\" points=\"750.25,-358.31 740.75,-363 751.1,-365.26 750.25,-358.31\"/>\n",
       "<text text-anchor=\"middle\" x=\"905\" y=\"-188.3\" font-family=\"Times,serif\" font-size=\"14.00\">(q_3, q_2)</text>\n",
       "</g>\n",
       "<!-- v4319&#45;&gt;v4320 -->\n",
       "<g id=\"edge19\" class=\"edge\">\n",
       "<title>v4319-&gt;v4320</title>\n",
       "<path fill=\"none\" stroke=\"black\" d=\"M417.64,-30.85C404.79,-40.35 391.4,-54.46 398,-69 400.87,-75.32 405.51,-80.95 410.63,-85.75\"/>\n",
       "<polygon fill=\"black\" stroke=\"black\" points=\"408.4,-88.45 418.32,-92.17 412.89,-83.08 408.4,-88.45\"/>\n",
       "<text text-anchor=\"middle\" x=\"427\" y=\"-57.8\" font-family=\"Times,serif\" font-size=\"14.00\">(q_3, q_4)</text>\n",
       "</g>\n",
       "<!-- v4319&#45;&gt;v4321 -->\n",
       "<g id=\"edge21\" class=\"edge\">\n",
       "<title>v4319-&gt;v4321</title>\n",
       "<path fill=\"none\" stroke=\"black\" d=\"M461.48,-25.82C478.57,-31.43 501.22,-40.64 518,-54 555.56,-83.89 567.03,-95.39 582,-141 584.08,-147.33 584.59,-149.86 582,-156 579.61,-161.66 575.81,-166.85 571.55,-171.41\"/>\n",
       "<polygon fill=\"black\" stroke=\"black\" points=\"568.98,-169.03 564.13,-178.45 573.79,-174.11 568.98,-169.03\"/>\n",
       "<text text-anchor=\"middle\" x=\"604\" y=\"-101.3\" font-family=\"Times,serif\" font-size=\"14.00\">(q_3, q_5)</text>\n",
       "</g>\n",
       "<!-- v4319&#45;&gt;v4322 -->\n",
       "<g id=\"edge23\" class=\"edge\">\n",
       "<title>v4319-&gt;v4322</title>\n",
       "<path fill=\"none\" stroke=\"black\" d=\"M416.94,-30.42C386.67,-49 330.64,-89 310,-141 293.23,-183.23 295.62,-202.91 317,-243 319.69,-248.05 323.33,-252.86 327.22,-257.22\"/>\n",
       "<polygon fill=\"black\" stroke=\"black\" points=\"324.87,-259.82 334.37,-264.53 329.87,-254.93 324.87,-259.82\"/>\n",
       "<text text-anchor=\"middle\" x=\"339\" y=\"-144.8\" font-family=\"Times,serif\" font-size=\"14.00\">(q_3, q_6)</text>\n",
       "</g>\n",
       "<!-- v4320&#45;&gt;v4317 -->\n",
       "<g id=\"edge6\" class=\"edge\">\n",
       "<title>v4320-&gt;v4317</title>\n",
       "<path fill=\"none\" stroke=\"black\" d=\"M410.82,-106.53C360.78,-108.15 257.18,-114.67 235,-141 164.58,-224.6 251.77,-276.77 273,-384 275.91,-398.71 272.94,-403.77 280,-417 282.69,-422.05 286.33,-426.86 290.22,-431.22\"/>\n",
       "<polygon fill=\"black\" stroke=\"black\" points=\"287.87,-433.82 297.37,-438.53 292.87,-428.93 287.87,-433.82\"/>\n",
       "<text text-anchor=\"middle\" x=\"269\" y=\"-275.3\" font-family=\"Times,serif\" font-size=\"14.00\">(q_4, q_1)</text>\n",
       "</g>\n",
       "<!-- v4320&#45;&gt;v4318 -->\n",
       "<g id=\"edge14\" class=\"edge\">\n",
       "<title>v4320-&gt;v4318</title>\n",
       "<path fill=\"none\" stroke=\"black\" d=\"M464.47,-108.95C497.38,-113.23 554.85,-122.72 601,-141 697.02,-179.03 749.21,-171.07 800,-261 819.45,-295.44 775.84,-329.69 743.89,-349.02\"/>\n",
       "<polygon fill=\"black\" stroke=\"black\" points=\"741.71,-346.23 734.84,-354.29 745.24,-352.28 741.71,-346.23\"/>\n",
       "<text text-anchor=\"middle\" x=\"817\" y=\"-231.8\" font-family=\"Times,serif\" font-size=\"14.00\">(q_4, q_2)</text>\n",
       "</g>\n",
       "<!-- v4320&#45;&gt;v4319 -->\n",
       "<g id=\"edge20\" class=\"edge\">\n",
       "<title>v4320-&gt;v4319</title>\n",
       "<path fill=\"none\" stroke=\"black\" d=\"M448.93,-88.03C454.26,-78.34 458.95,-65.62 456,-54 455.12,-50.54 453.83,-47.06 452.32,-43.7\"/>\n",
       "<polygon fill=\"black\" stroke=\"black\" points=\"455.36,-41.97 447.67,-34.69 449.14,-45.18 455.36,-41.97\"/>\n",
       "<text text-anchor=\"middle\" x=\"485\" y=\"-57.8\" font-family=\"Times,serif\" font-size=\"14.00\">(q_4, q_3)</text>\n",
       "</g>\n",
       "<!-- v4320&#45;&gt;v4321 -->\n",
       "<g id=\"edge25\" class=\"edge\">\n",
       "<title>v4320-&gt;v4321</title>\n",
       "<path fill=\"none\" stroke=\"black\" d=\"M460.47,-114.99C474.17,-121.11 491.56,-130.07 505,-141 514.11,-148.41 522.62,-158.11 529.5,-166.99\"/>\n",
       "<polygon fill=\"black\" stroke=\"black\" points=\"526.79,-169.21 535.56,-175.15 532.41,-165.04 526.79,-169.21\"/>\n",
       "<text text-anchor=\"middle\" x=\"549\" y=\"-144.8\" font-family=\"Times,serif\" font-size=\"14.00\">(q_4, q_5)</text>\n",
       "</g>\n",
       "<!-- v4320&#45;&gt;v4322 -->\n",
       "<g id=\"edge27\" class=\"edge\">\n",
       "<title>v4320-&gt;v4322</title>\n",
       "<path fill=\"none\" stroke=\"black\" d=\"M431.7,-122.78C423.02,-144.49 405.8,-182.74 383,-210 374.67,-219.96 366.7,-216.88 360,-228 355.93,-234.75 353.61,-242.88 352.3,-250.61\"/>\n",
       "<polygon fill=\"black\" stroke=\"black\" points=\"348.81,-250.38 351.09,-260.72 355.76,-251.21 348.81,-250.38\"/>\n",
       "<text text-anchor=\"middle\" x=\"436\" y=\"-188.3\" font-family=\"Times,serif\" font-size=\"14.00\">(q_4, q_6)</text>\n",
       "</g>\n",
       "<!-- v4321&#45;&gt;v4317 -->\n",
       "<g id=\"edge8\" class=\"edge\">\n",
       "<title>v4321-&gt;v4317</title>\n",
       "<path fill=\"none\" stroke=\"black\" d=\"M547.78,-210.13C549.75,-237.69 549.99,-292.56 526,-330 476.85,-406.69 433.06,-397.61 350,-435 348.2,-435.81 346.36,-436.65 344.51,-437.5\"/>\n",
       "<polygon fill=\"black\" stroke=\"black\" points=\"342.85,-434.41 335.26,-441.8 345.8,-440.76 342.85,-434.41\"/>\n",
       "<text text-anchor=\"middle\" x=\"562\" y=\"-318.8\" font-family=\"Times,serif\" font-size=\"14.00\">(q_5, q_1)</text>\n",
       "</g>\n",
       "<!-- v4321&#45;&gt;v4318 -->\n",
       "<g id=\"edge16\" class=\"edge\">\n",
       "<title>v4321-&gt;v4318</title>\n",
       "<path fill=\"none\" stroke=\"black\" d=\"M570.38,-200.31C618.2,-214.89 720.49,-247.34 730,-261 746.1,-284.11 737,-317.11 727.22,-339.7\"/>\n",
       "<polygon fill=\"black\" stroke=\"black\" points=\"723.95,-338.44 722.91,-348.98 730.3,-341.38 723.95,-338.44\"/>\n",
       "<text text-anchor=\"middle\" x=\"767\" y=\"-275.3\" font-family=\"Times,serif\" font-size=\"14.00\">(q_5, q_2)</text>\n",
       "</g>\n",
       "<!-- v4321&#45;&gt;v4319 -->\n",
       "<g id=\"edge22\" class=\"edge\">\n",
       "<title>v4321-&gt;v4319</title>\n",
       "<path fill=\"none\" stroke=\"black\" d=\"M567.14,-180.79C601.55,-162.78 663.33,-123.77 637,-87 599.88,-35.16 520.94,-22.37 474.1,-19.5\"/>\n",
       "<polygon fill=\"black\" stroke=\"black\" points=\"474.21,-16 464.05,-19 473.87,-22.99 474.21,-16\"/>\n",
       "<text text-anchor=\"middle\" x=\"672\" y=\"-101.3\" font-family=\"Times,serif\" font-size=\"14.00\">(q_5, q_3)</text>\n",
       "</g>\n",
       "<!-- v4321&#45;&gt;v4320 -->\n",
       "<g id=\"edge26\" class=\"edge\">\n",
       "<title>v4321-&gt;v4320</title>\n",
       "<path fill=\"none\" stroke=\"black\" d=\"M520.38,-185.61C493.17,-179.35 452.75,-168.27 443,-156 437.94,-149.64 435.91,-141.28 435.36,-133.23\"/>\n",
       "<polygon fill=\"black\" stroke=\"black\" points=\"438.86,-133.01 435.37,-123.01 431.86,-133 438.86,-133.01\"/>\n",
       "<text text-anchor=\"middle\" x=\"472\" y=\"-144.8\" font-family=\"Times,serif\" font-size=\"14.00\">(q_5, q_4)</text>\n",
       "</g>\n",
       "<!-- v4321&#45;&gt;v4322 -->\n",
       "<g id=\"edge29\" class=\"edge\">\n",
       "<title>v4321-&gt;v4322</title>\n",
       "<path fill=\"none\" stroke=\"black\" d=\"M522.74,-201.23C505.35,-207.7 481.2,-217.38 461,-228 450.2,-233.68 448.82,-237.36 438,-243 420.78,-251.97 400.73,-260.18 384.21,-266.39\"/>\n",
       "<polygon fill=\"black\" stroke=\"black\" points=\"382.62,-263.24 374.45,-269.98 385.04,-269.81 382.62,-263.24\"/>\n",
       "<text text-anchor=\"middle\" x=\"490\" y=\"-231.8\" font-family=\"Times,serif\" font-size=\"14.00\">(q_5, q_6)</text>\n",
       "</g>\n",
       "<!-- v4322&#45;&gt;v4317 -->\n",
       "<g id=\"edge10\" class=\"edge\">\n",
       "<title>v4322-&gt;v4317</title>\n",
       "<path fill=\"none\" stroke=\"black\" d=\"M350.27,-297.15C349.1,-317.94 346.15,-353.94 339,-384 335.6,-398.29 330.1,-413.69 325.12,-426.22\"/>\n",
       "<polygon fill=\"black\" stroke=\"black\" points=\"321.84,-424.99 321.29,-435.57 328.32,-427.64 321.84,-424.99\"/>\n",
       "<text text-anchor=\"middle\" x=\"375\" y=\"-362.3\" font-family=\"Times,serif\" font-size=\"14.00\">(q_6, q_1)</text>\n",
       "</g>\n",
       "<!-- v4322&#45;&gt;v4318 -->\n",
       "<g id=\"edge18\" class=\"edge\">\n",
       "<title>v4322-&gt;v4318</title>\n",
       "<path fill=\"none\" stroke=\"black\" d=\"M378.1,-279.85C425.88,-280.42 527.56,-285.38 607,-315 618.44,-319.26 619.21,-324.3 630,-330 646.42,-338.68 665.48,-346.77 681.29,-352.99\"/>\n",
       "<polygon fill=\"black\" stroke=\"black\" points=\"680.07,-356.27 690.66,-356.6 682.59,-349.73 680.07,-356.27\"/>\n",
       "<text text-anchor=\"middle\" x=\"659\" y=\"-318.8\" font-family=\"Times,serif\" font-size=\"14.00\">(q_6, q_2)</text>\n",
       "</g>\n",
       "<!-- v4322&#45;&gt;v4319 -->\n",
       "<g id=\"edge24\" class=\"edge\">\n",
       "<title>v4322-&gt;v4319</title>\n",
       "<path fill=\"none\" stroke=\"black\" d=\"M330.41,-267.02C292.21,-245.09 216.55,-193.47 243,-141 274.79,-77.95 355.74,-43.68 402.41,-28.6\"/>\n",
       "<polygon fill=\"black\" stroke=\"black\" points=\"403.59,-31.9 412.1,-25.58 401.51,-25.21 403.59,-31.9\"/>\n",
       "<text text-anchor=\"middle\" x=\"272\" y=\"-144.8\" font-family=\"Times,serif\" font-size=\"14.00\">(q_6, q_3)</text>\n",
       "</g>\n",
       "<!-- v4322&#45;&gt;v4320 -->\n",
       "<g id=\"edge28\" class=\"edge\">\n",
       "<title>v4322-&gt;v4320</title>\n",
       "<path fill=\"none\" stroke=\"black\" d=\"M338.96,-262.52C323.73,-240.92 301.68,-201.31 321,-174 334.88,-154.38 350.83,-167.39 372,-156 387.12,-147.86 402.5,-136.43 414.6,-126.56\"/>\n",
       "<polygon fill=\"black\" stroke=\"black\" points=\"416.98,-129.13 422.41,-120.03 412.5,-123.75 416.98,-129.13\"/>\n",
       "<text text-anchor=\"middle\" x=\"350\" y=\"-188.3\" font-family=\"Times,serif\" font-size=\"14.00\">(q_6, q_4)</text>\n",
       "</g>\n",
       "<!-- v4322&#45;&gt;v4321 -->\n",
       "<g id=\"edge30\" class=\"edge\">\n",
       "<title>v4322-&gt;v4321</title>\n",
       "<path fill=\"none\" stroke=\"black\" d=\"M355.2,-261.03C358.84,-249.92 365.27,-236.02 376,-228 412.52,-200.71 432.4,-219.46 477,-210 488.16,-207.63 500.26,-204.76 511.16,-202.05\"/>\n",
       "<polygon fill=\"black\" stroke=\"black\" points=\"512.34,-205.37 521.18,-199.53 510.63,-198.58 512.34,-205.37\"/>\n",
       "<text text-anchor=\"middle\" x=\"405\" y=\"-231.8\" font-family=\"Times,serif\" font-size=\"14.00\">(q_6, q_5)</text>\n",
       "</g>\n",
       "<!-- \\n -->\n",
       "<g id=\"node7\" class=\"node\">\n",
       "<title>\\n</title>\n",
       "<ellipse fill=\"none\" stroke=\"black\" cx=\"386\" cy=\"-453\" rx=\"27\" ry=\"18\"/>\n",
       "</g>\n",
       "</g>\n",
       "</svg>"
      ],
      "text/plain": [
       "<IPython.core.display.SVG object>"
      ]
     },
     "execution_count": 48,
     "metadata": {},
     "output_type": "execute_result"
    }
   ],
   "source": [
    "gcs = LinearGCS({f\"q_{i + 1}\":r for i, r in enumerate(regions.values())})\n",
    "# print('regions', regions)\n",
    "SVG(gcs.VisualizeGraph()) "
   ]
  },
  {
   "cell_type": "code",
   "execution_count": null,
   "metadata": {
    "pycharm": {
     "name": "#%%\n"
    }
   },
   "outputs": [],
   "source": [
    "print(len(gcs.gcs.Edges()))\n",
    "# print({f\"q_{i + 1}\":r for i, r in enumerate(regions.values())})"
   ]
  },
  {
   "cell_type": "markdown",
   "metadata": {
    "pycharm": {
     "name": "#%% md\n"
    }
   },
   "source": [
    "# Build PRM"
   ]
  },
  {
   "cell_type": "code",
   "execution_count": null,
   "metadata": {
    "pycharm": {
     "name": "#%%\n"
    }
   },
   "outputs": [],
   "source": [
    "collision_step_size = 0.02\n",
    "K = 5\n",
    "roadmap_size = 15000\n",
    "\n",
    "#initlize with seeds for fairness\n",
    "prm = PRM(plant, diagram, collision_step_size, SEED, K, list(seed_points.values()))"
   ]
  },
  {
   "cell_type": "markdown",
   "metadata": {
    "pycharm": {
     "name": "#%% md\n"
    }
   },
   "source": [
    "### Load Roadmap if you don't want to wait 15 minutes"
   ]
  },
  {
   "cell_type": "code",
   "execution_count": null,
   "metadata": {
    "pycharm": {
     "name": "#%%\n"
    }
   },
   "outputs": [],
   "source": [
    "#TODO use wget here to download th prm map from server\n",
    "prm.load(os.path.join(GcsDir(), \"data/prm_comparison/15k_presplined.rmp\"))"
   ]
  },
  {
   "cell_type": "markdown",
   "metadata": {
    "pycharm": {
     "name": "#%% md\n"
    }
   },
   "source": [
    "### Or Grow it "
   ]
  },
  {
   "cell_type": "code",
   "execution_count": null,
   "metadata": {
    "pycharm": {
     "name": "#%%\n"
    }
   },
   "outputs": [],
   "source": [
    "solve_timeout = 200\n",
    "goal_bias = 0.05\n",
    "step_size = 0.1\n",
    "birrt = BiRRT(plant, diagram, collision_step_size, SEED, step_size, goal_bias, solve_timeout)"
   ]
  },
  {
   "cell_type": "markdown",
   "metadata": {
    "pycharm": {
     "name": "#%% md\n"
    }
   },
   "source": [
    "### Connect via BiRRT first\n",
    "Given the knowledge of the Graph of Convex Sets, we will use BiRRT to connect the edges. All of the nodes of the RRT trees will be added to the PRM map"
   ]
  },
  {
   "cell_type": "code",
   "execution_count": null,
   "metadata": {
    "pycharm": {
     "name": "#%%\n"
    }
   },
   "outputs": [],
   "source": [
    "pairs_2_connect = [\n",
    "  [SimpleRRTPlannerState(seed_points[\"Front to Shelve\"]), SimpleRRTPlannerState(seed_points[\"Top Rack\"])],\n",
    "  [SimpleRRTPlannerState(seed_points[\"Front to Shelve\"]), SimpleRRTPlannerState(seed_points[\"Middle Rack\"])],\n",
    "  [SimpleRRTPlannerState(seed_points[\"Front to Shelve\"]), SimpleRRTPlannerState(seed_points[\"Left Bin\"])],\n",
    "  [SimpleRRTPlannerState(seed_points[\"Front to Shelve\"]), SimpleRRTPlannerState(seed_points[\"Right Bin\"])],\n",
    "    \n",
    "  [SimpleRRTPlannerState(seed_points[\"Left Bin\"]), SimpleRRTPlannerState(seed_points[\"Above Shelve\"])],\n",
    "  [SimpleRRTPlannerState(seed_points[\"Left Bin\"]), SimpleRRTPlannerState(seed_points[\"Left to Shelve\"])],\n",
    "\n",
    "    \n",
    "  [SimpleRRTPlannerState(seed_points[\"Right Bin\"]), SimpleRRTPlannerState(seed_points[\"Above Shelve\"])],\n",
    "  [SimpleRRTPlannerState(seed_points[\"Right Bin\"]), SimpleRRTPlannerState(seed_points[\"Right to Shelve\"])],\n",
    "    \n",
    "  [SimpleRRTPlannerState(seed_points[\"Above Shelve\"]), SimpleRRTPlannerState(seed_points[\"Left to Shelve\"])],\n",
    "  [SimpleRRTPlannerState(seed_points[\"Above Shelve\"]), SimpleRRTPlannerState(seed_points[\"Right to Shelve\"])],\n",
    "]\n",
    "\n",
    "prm = PRM(plant, diagram, collision_step_size, SEED, K)\n",
    "\n",
    "start_time = time.time()\n",
    "\n",
    "for start_tree, goal_tree in  pairs_2_connect:\n",
    "    result, start_tree_extended, end_tree_extended = birrt.connect([start_tree], [goal_tree], use_parallel = True)\n",
    "    if len(result.Path()) == 0:\n",
    "        raise Exception(\"Failed to connect nodes\")\n",
    "    prm.addNodes(list(map(lambda x: x.GetValueImmutable(), start_tree_extended)) + list(map(lambda x: x.GetValueImmutable(), end_tree_extended)))\n",
    "\n",
    "print(f\"Roadmap extended to {prm.roadmap_size} in {round(time.time()-start_time,2)} s\")"
   ]
  },
  {
   "cell_type": "markdown",
   "metadata": {
    "pycharm": {
     "name": "#%% md\n"
    }
   },
   "source": [
    "### Continue growing the Roadmap"
   ]
  },
  {
   "cell_type": "code",
   "execution_count": null,
   "metadata": {
    "pycharm": {
     "name": "#%%\n"
    }
   },
   "outputs": [],
   "source": [
    "stats = prm.GrowRoadMap(roadmap_size, True)\n",
    "print(f'Grow time: {stats[\"growing_time\"]} s') "
   ]
  },
  {
   "cell_type": "code",
   "execution_count": null,
   "metadata": {
    "pycharm": {
     "name": "#%%\n"
    }
   },
   "outputs": [],
   "source": [
    "prm.save(os.path.join(GcsDir(), \"data/prm_comparison/15k_presplined.rmp\"))"
   ]
  },
  {
   "cell_type": "markdown",
   "metadata": {
    "pycharm": {
     "name": "#%% md\n"
    }
   },
   "source": [
    "# Run Comparison"
   ]
  },
  {
   "cell_type": "code",
   "execution_count": 49,
   "metadata": {
    "pycharm": {
     "name": "#%%\n"
    }
   },
   "outputs": [],
   "source": [
    "def getGCSPath(sequence, verbose = False):\n",
    "    path = [sequence[0]]\n",
    "    run_time = 0.0\n",
    "    for start_pt, goal_pt in zip(sequence[:-1], sequence[1:]):\n",
    "        gcs = LinearGCS(regions.copy())\n",
    "        gcs.addSourceTarget(start_pt, goal_pt)\n",
    "        gcs.setRoundingStrategy(randomForwardPathSearch, max_paths = 10, max_trials = 100, seed = SEED)\n",
    "        gcs.setSolver(SnoptSolver)\n",
    "        start_time = time.time()\n",
    "        waypoints, results_dict = gcs.SolvePath(rounding=True, verbose=False, preprocessing=True)\n",
    "        if waypoints is None:\n",
    "            if verbose:\n",
    "                print(f\"Failed between {start_pt} and {goal_pt}\")\n",
    "            return None\n",
    "\n",
    "        run_time += results_dict[\"preprocessing_stats\"][\"linear_programs\"]\n",
    "        run_time += results_dict[\"relaxation_solver_time\"]\n",
    "        run_time += results_dict[\"total_rounded_solver_time\"]\n",
    "        if verbose:\n",
    "            print(\"Convex Relaxation\", round(results_dict[\"relaxation_cost\"], 3),\n",
    "                  \"min hard result cost\", round(results_dict[\"rounded_cost\"], 3),\n",
    "                  \"Gap\", round((results_dict[\"rounded_cost\"] - results_dict[\"relaxation_cost\"])/results_dict[\"relaxation_cost\"], 3))\n",
    "    \n",
    "        path += waypoints.T[1:].tolist()\n",
    "    return np.stack(path).T, run_time\n",
    "\n",
    "def shortcut(path):\n",
    "    \"\"\"Those values are used by TRI\"\"\"\n",
    "    return prm.shortcut(np.stack(path),\n",
    "                 max_iter = 200,\n",
    "                 max_failed_iter = 200,\n",
    "                 max_backtracking_steps = 0,\n",
    "                 max_shortcut_fraction = 1.0,\n",
    "                 resample_shortcuts_interval = 0.25,\n",
    "                 check_for_marginal_shortcuts = False)"
   ]
  },
  {
   "cell_type": "markdown",
   "metadata": {
    "pycharm": {
     "name": "#%% md\n"
    }
   },
   "source": [
    "# Demonstration"
   ]
  },
  {
   "cell_type": "code",
   "execution_count": 51,
   "metadata": {
    "pycharm": {
     "name": "#%%\n"
    }
   },
   "outputs": [],
   "source": [
    "demonstration =  {\"Above Shelve\": [[0.75, -0.12, 0.9], [0, -np.pi, -np.pi/2]],   \n",
    "                \"Left Bin\":       [[0.4, 0.3, 0.05],  [np.pi/2, np.pi, 0]], \n",
    "                \"Right Bin\":      [[0.4, -0.3, 0.05], [np.pi/2, np.pi, np.pi]]}\n",
    "\n",
    "q0 =[0, 0.3, 0, -1.8, 0, 1, 1.57]\n",
    "demonstration_configurations =  {name: InverseKinematics(q0, trans, rot) for name, (trans, rot) in demonstration.items()}\n"
   ]
  },
  {
   "cell_type": "code",
   "execution_count": 52,
   "metadata": {
    "pycharm": {
     "name": "#%%\n"
    }
   },
   "outputs": [],
   "source": [
    "demo_a = [demonstration_configurations[\"Left Bin\"],\n",
    "          demonstration_configurations[\"Right Bin\"]]\n",
    "\n",
    "demo_b = [demonstration_configurations[\"Left Bin\"],\n",
    "          demonstration_configurations[\"Above Shelve\"]]\n",
    "\n",
    "demo_c = [demonstration_configurations[\"Right Bin\"],\n",
    "          demonstration_configurations[\"Above Shelve\"]]\n",
    "\n",
    "demo_circle = [demonstration_configurations[\"Above Shelve\"],\n",
    "               demonstration_configurations[\"Left Bin\"],\n",
    "               demonstration_configurations[\"Right Bin\"],\n",
    "               demonstration_configurations[\"Above Shelve\"]]\n"
   ]
  },
  {
   "cell_type": "code",
   "execution_count": 54,
   "metadata": {
    "pycharm": {
     "name": "#%%\n"
    }
   },
   "outputs": [
    {
     "ename": "TypeError",
     "evalue": "SolveShortestPath(): incompatible function arguments. The following argument types are supported:\n    1. (self: pydrake.geometry.optimization.GraphOfConvexSets, source_id: drake::Identifier<drake::geometry::optimization::VertexTag>, target_id: drake::Identifier<drake::geometry::optimization::VertexTag>, convex_relaxation: bool = False, solver: drake::solvers::SolverInterface = None, solver_options: Optional[drake::solvers::SolverOptions] = None) -> drake::solvers::MathematicalProgramResult\n    2. (self: pydrake.geometry.optimization.GraphOfConvexSets, source: drake::geometry::optimization::GraphOfConvexSets::Vertex, target: drake::geometry::optimization::GraphOfConvexSets::Vertex, convex_relaxation: bool = False, solver: drake::solvers::SolverInterface = None, solver_options: Optional[drake::solvers::SolverOptions] = None) -> drake::solvers::MathematicalProgramResult\n\nInvoked with: <pydrake.geometry.optimization.GraphOfConvexSets object at 0x13a9b26f0>, <pydrake.geometry.optimization.GraphOfConvexSets.Vertex object at 0x14dd0d730>, <pydrake.geometry.optimization.GraphOfConvexSets.Vertex object at 0x13addbaf0>, True, <class 'pydrake.solvers.SnoptSolver'>, None",
     "output_type": "error",
     "traceback": [
      "\u001b[0;31m---------------------------------------------------------------------------\u001b[0m",
      "\u001b[0;31mTypeError\u001b[0m                                 Traceback (most recent call last)",
      "Input \u001b[0;32mIn [54]\u001b[0m, in \u001b[0;36m<cell line: 2>\u001b[0;34m()\u001b[0m\n\u001b[1;32m      1\u001b[0m execute_demo \u001b[38;5;241m=\u001b[39m demo_a\n\u001b[0;32m----> 2\u001b[0m GCS_path, GCS_time \u001b[38;5;241m=\u001b[39m \u001b[43mgetGCSPath\u001b[49m\u001b[43m(\u001b[49m\u001b[43mexecute_demo\u001b[49m\u001b[43m,\u001b[49m\u001b[43m \u001b[49m\u001b[43mverbose\u001b[49m\u001b[43m \u001b[49m\u001b[38;5;241;43m=\u001b[39;49m\u001b[43m \u001b[49m\u001b[38;5;28;43;01mTrue\u001b[39;49;00m\u001b[43m)\u001b[49m\n\u001b[1;32m      3\u001b[0m linear_gcs_traj \u001b[38;5;241m=\u001b[39m make_traj(GCS_path, speed \u001b[38;5;241m=\u001b[39m \u001b[38;5;241m2\u001b[39m)\n\u001b[1;32m      4\u001b[0m \u001b[38;5;28mprint\u001b[39m(\u001b[38;5;124mf\u001b[39m\u001b[38;5;124m\"\u001b[39m\u001b[38;5;124mLinear GCS length: \u001b[39m\u001b[38;5;132;01m{\u001b[39;00m\u001b[38;5;28mround\u001b[39m(get_traj_length(linear_gcs_traj), \u001b[38;5;241m3\u001b[39m)\u001b[38;5;132;01m}\u001b[39;00m\u001b[38;5;124m, and time: \u001b[39m\u001b[38;5;132;01m{\u001b[39;00m\u001b[38;5;28mround\u001b[39m(GCS_time, \u001b[38;5;241m3\u001b[39m)\u001b[38;5;132;01m}\u001b[39;00m\u001b[38;5;124m s\u001b[39m\u001b[38;5;124m\"\u001b[39m)\n",
      "Input \u001b[0;32mIn [49]\u001b[0m, in \u001b[0;36mgetGCSPath\u001b[0;34m(sequence, verbose)\u001b[0m\n\u001b[1;32m      8\u001b[0m gcs\u001b[38;5;241m.\u001b[39msetSolver(SnoptSolver)\n\u001b[1;32m      9\u001b[0m start_time \u001b[38;5;241m=\u001b[39m time\u001b[38;5;241m.\u001b[39mtime()\n\u001b[0;32m---> 10\u001b[0m waypoints, results_dict \u001b[38;5;241m=\u001b[39m \u001b[43mgcs\u001b[49m\u001b[38;5;241;43m.\u001b[39;49m\u001b[43mSolvePath\u001b[49m\u001b[43m(\u001b[49m\u001b[43mrounding\u001b[49m\u001b[38;5;241;43m=\u001b[39;49m\u001b[38;5;28;43;01mTrue\u001b[39;49;00m\u001b[43m,\u001b[49m\u001b[43m \u001b[49m\u001b[43mverbose\u001b[49m\u001b[38;5;241;43m=\u001b[39;49m\u001b[38;5;28;43;01mFalse\u001b[39;49;00m\u001b[43m,\u001b[49m\u001b[43m \u001b[49m\u001b[43mpreprocessing\u001b[49m\u001b[38;5;241;43m=\u001b[39;49m\u001b[38;5;28;43;01mTrue\u001b[39;49;00m\u001b[43m)\u001b[49m\n\u001b[1;32m     11\u001b[0m \u001b[38;5;28;01mif\u001b[39;00m waypoints \u001b[38;5;129;01mis\u001b[39;00m \u001b[38;5;28;01mNone\u001b[39;00m:\n\u001b[1;32m     12\u001b[0m     \u001b[38;5;28;01mif\u001b[39;00m verbose:\n",
      "File \u001b[0;32m~/gcs/gcs/linear.py:68\u001b[0m, in \u001b[0;36mLinearGCS.SolvePath\u001b[0;34m(self, rounding, verbose, preprocessing)\u001b[0m\n\u001b[1;32m     67\u001b[0m \u001b[38;5;28;01mdef\u001b[39;00m \u001b[38;5;21mSolvePath\u001b[39m(\u001b[38;5;28mself\u001b[39m, rounding\u001b[38;5;241m=\u001b[39m\u001b[38;5;28;01mFalse\u001b[39;00m, verbose\u001b[38;5;241m=\u001b[39m\u001b[38;5;28;01mFalse\u001b[39;00m, preprocessing\u001b[38;5;241m=\u001b[39m\u001b[38;5;28;01mFalse\u001b[39;00m):\n\u001b[0;32m---> 68\u001b[0m     best_path, best_result, results_dict \u001b[38;5;241m=\u001b[39m \u001b[38;5;28;43mself\u001b[39;49m\u001b[38;5;241;43m.\u001b[39;49m\u001b[43msolveGCS\u001b[49m\u001b[43m(\u001b[49m\n\u001b[1;32m     69\u001b[0m \u001b[43m        \u001b[49m\u001b[43mrounding\u001b[49m\u001b[43m,\u001b[49m\u001b[43m \u001b[49m\u001b[43mpreprocessing\u001b[49m\u001b[43m,\u001b[49m\u001b[43m \u001b[49m\u001b[43mverbose\u001b[49m\u001b[43m)\u001b[49m\n\u001b[1;32m     71\u001b[0m     \u001b[38;5;28;01mif\u001b[39;00m best_path \u001b[38;5;129;01mis\u001b[39;00m \u001b[38;5;28;01mNone\u001b[39;00m:\n\u001b[1;32m     72\u001b[0m         \u001b[38;5;28;01mreturn\u001b[39;00m \u001b[38;5;28;01mNone\u001b[39;00m, results_dict\n",
      "File \u001b[0;32m~/gcs/gcs/base.py:205\u001b[0m, in \u001b[0;36mBaseGCS.solveGCS\u001b[0;34m(self, rounding, preprocessing, verbose)\u001b[0m\n\u001b[1;32m    201\u001b[0m \u001b[38;5;28;01mif\u001b[39;00m preprocessing:\n\u001b[1;32m    202\u001b[0m     results_dict[\u001b[38;5;124m\"\u001b[39m\u001b[38;5;124mpreprocessing_stats\u001b[39m\u001b[38;5;124m\"\u001b[39m] \u001b[38;5;241m=\u001b[39m removeRedundancies(\n\u001b[1;32m    203\u001b[0m         \u001b[38;5;28mself\u001b[39m\u001b[38;5;241m.\u001b[39mgcs, \u001b[38;5;28mself\u001b[39m\u001b[38;5;241m.\u001b[39msource, \u001b[38;5;28mself\u001b[39m\u001b[38;5;241m.\u001b[39mtarget, verbose\u001b[38;5;241m=\u001b[39mverbose)\n\u001b[0;32m--> 205\u001b[0m result \u001b[38;5;241m=\u001b[39m \u001b[38;5;28;43mself\u001b[39;49m\u001b[38;5;241;43m.\u001b[39;49m\u001b[43mgcs\u001b[49m\u001b[38;5;241;43m.\u001b[39;49m\u001b[43mSolveShortestPath\u001b[49m\u001b[43m(\u001b[49m\n\u001b[1;32m    206\u001b[0m \u001b[43m    \u001b[49m\u001b[38;5;28;43mself\u001b[39;49m\u001b[38;5;241;43m.\u001b[39;49m\u001b[43msource\u001b[49m\u001b[43m,\u001b[49m\u001b[43m \u001b[49m\u001b[38;5;28;43mself\u001b[39;49m\u001b[38;5;241;43m.\u001b[39;49m\u001b[43mtarget\u001b[49m\u001b[43m,\u001b[49m\u001b[43m \u001b[49m\u001b[43mrounding\u001b[49m\u001b[43m,\u001b[49m\u001b[43m \u001b[49m\u001b[38;5;28;43mself\u001b[39;49m\u001b[38;5;241;43m.\u001b[39;49m\u001b[43msolver\u001b[49m\u001b[43m,\u001b[49m\u001b[43m \u001b[49m\u001b[38;5;28;43mself\u001b[39;49m\u001b[38;5;241;43m.\u001b[39;49m\u001b[43moptions\u001b[49m\u001b[43m)\u001b[49m\n\u001b[1;32m    208\u001b[0m \u001b[38;5;28;01mif\u001b[39;00m rounding:\n\u001b[1;32m    209\u001b[0m     results_dict[\u001b[38;5;124m\"\u001b[39m\u001b[38;5;124mrelaxation_result\u001b[39m\u001b[38;5;124m\"\u001b[39m] \u001b[38;5;241m=\u001b[39m result\n",
      "\u001b[0;31mTypeError\u001b[0m: SolveShortestPath(): incompatible function arguments. The following argument types are supported:\n    1. (self: pydrake.geometry.optimization.GraphOfConvexSets, source_id: drake::Identifier<drake::geometry::optimization::VertexTag>, target_id: drake::Identifier<drake::geometry::optimization::VertexTag>, convex_relaxation: bool = False, solver: drake::solvers::SolverInterface = None, solver_options: Optional[drake::solvers::SolverOptions] = None) -> drake::solvers::MathematicalProgramResult\n    2. (self: pydrake.geometry.optimization.GraphOfConvexSets, source: drake::geometry::optimization::GraphOfConvexSets::Vertex, target: drake::geometry::optimization::GraphOfConvexSets::Vertex, convex_relaxation: bool = False, solver: drake::solvers::SolverInterface = None, solver_options: Optional[drake::solvers::SolverOptions] = None) -> drake::solvers::MathematicalProgramResult\n\nInvoked with: <pydrake.geometry.optimization.GraphOfConvexSets object at 0x13a9b26f0>, <pydrake.geometry.optimization.GraphOfConvexSets.Vertex object at 0x14dd0d730>, <pydrake.geometry.optimization.GraphOfConvexSets.Vertex object at 0x13addbaf0>, True, <class 'pydrake.solvers.SnoptSolver'>, None"
     ]
    }
   ],
   "source": [
    "execute_demo = demo_a\n",
    "GCS_path, GCS_time = getGCSPath(execute_demo, verbose = True)\n",
    "linear_gcs_traj = make_traj(GCS_path, speed = 2)\n",
    "print(f\"Linear GCS length: {round(get_traj_length(linear_gcs_traj), 3)}, and time: {round(GCS_time, 3)} s\")\n",
    "\n",
    "# PRM_path, PRM_time = prm.getPath(execute_demo, verbose = True)\n",
    "# prm_traj = make_traj(PRM_path, speed = 2)\n",
    "# print(f\"PRM length: {round(get_traj_length(prm_traj), 3)}, and time: {round(PRM_time, 3)} s\")\n",
    "\n",
    "# sPRM_path, sPRM_time = prm.getPath(execute_demo, path_processing = shortcut)\n",
    "# sprm_traj = make_traj(sPRM_path, speed = 2)\n",
    "# print(f\"Smoothed PRM length: {round(get_traj_length(sprm_traj), 3)}, and time: {round(sPRM_time, 3)} s\")\n"
   ]
  },
  {
   "cell_type": "code",
   "execution_count": null,
   "metadata": {
    "pycharm": {
     "name": "#%%\n"
    }
   },
   "outputs": [],
   "source": [
    "%debug"
   ]
  },
  {
   "cell_type": "code",
   "execution_count": null,
   "metadata": {},
   "outputs": [],
   "source": [
    "prm.save(os.path.join(GcsDir(), \"data/prm_comparison/15k_presplined.rmp\"))"
   ]
  },
  {
   "cell_type": "markdown",
   "metadata": {},
   "source": [
    "# Run Comparison"
   ]
  },
  {
   "cell_type": "code",
   "execution_count": 107,
   "metadata": {},
   "outputs": [],
   "source": [
    "def getGCSPath(sequence, verbose = False):\n",
    "    path = [sequence[0]]\n",
    "    run_time = 0.0\n",
    "    for start_pt, goal_pt in zip(sequence[:-1], sequence[1:]):\n",
    "        gcs = LinearGCS(regions.copy())\n",
    "        gcs.addSourceTarget(start_pt, goal_pt)\n",
    "        gcs.setRoundingStrategy(randomForwardPathSearch, max_paths = 10, max_trials = 100, seed = SEED)\n",
    "        gcs.setSolver(SnoptSolver)\n",
    "        start_time = time.time()\n",
    "        waypoints, results_dict = gcs.SolvePath(rounding=True, verbose=False, preprocessing=True)\n",
    "        if waypoints is None:\n",
    "            if verbose:\n",
    "                print(f\"Failed between {start_pt} and {goal_pt}\")\n",
    "            return None\n",
    "\n",
    "        run_time += results_dict[\"preprocessing_stats\"][\"linear_programs\"]\n",
    "        run_time += results_dict[\"relaxation_solver_time\"]\n",
    "        run_time += results_dict[\"total_rounded_solver_time\"]\n",
    "        if verbose:\n",
    "            print(\"Convex Relaxation\", round(results_dict[\"relaxation_cost\"], 3),\n",
    "                  \"min hard result cost\", round(results_dict[\"rounded_cost\"], 3),\n",
    "                  \"Gap\", round((results_dict[\"rounded_cost\"] - results_dict[\"relaxation_cost\"])/results_dict[\"relaxation_cost\"], 3))\n",
    "    \n",
    "        path += waypoints.T[1:].tolist()\n",
    "    return np.stack(path).T, run_time\n",
    "\n",
    "def shortcut(path):\n",
    "    \"\"\"Those values are used by TRI\"\"\"\n",
    "    return prm.shortcut(np.stack(path),\n",
    "                 max_iter = 200,\n",
    "                 max_failed_iter = 200,\n",
    "                 max_backtracking_steps = 0,\n",
    "                 max_shortcut_fraction = 1.0,\n",
    "                 resample_shortcuts_interval = 0.25,\n",
    "                 check_for_marginal_shortcuts = False)"
   ]
  },
  {
   "cell_type": "markdown",
   "metadata": {},
   "source": [
    "# Demonstration"
   ]
  },
  {
   "cell_type": "code",
   "execution_count": 99,
   "metadata": {},
   "outputs": [],
   "source": [
    "demonstration =  {\"Above Shelve\": [[0.75, -0.12, 0.9], [0, -np.pi, -np.pi/2]],   \n",
    "                \"Top Rack\":       [[0.75, 0.12, 0.67], [0, -np.pi, -np.pi/2]],   \n",
    "                \"Middle Rack\":    [[0.75, 0.12, 0.41], [0, -np.pi, -np.pi/2]],       \n",
    "                \"Left Bin\":       [[0.08, 0.6, 0.22],  [np.pi/2, np.pi, 0]], \n",
    "                \"Right Bin\":      [[-0.08, -0.6, 0.22], [np.pi/2, np.pi, np.pi]]}\n",
    "\n",
    "q0 =[0, 0.3, 0, -1.8, 0, 1, 1.57]\n",
    "demonstration_configurations =  {name: InverseKinematics(q0, trans, rot) for name, (trans, rot) in demonstration.items()}\n"
   ]
  },
  {
   "cell_type": "code",
   "execution_count": 11,
   "metadata": {},
   "outputs": [
    {
     "ename": "NameError",
     "evalue": "name 'demonstration_configurations' is not defined",
     "output_type": "error",
     "traceback": [
      "\u001b[0;31m---------------------------------------------------------------------------\u001b[0m",
      "\u001b[0;31mNameError\u001b[0m                                 Traceback (most recent call last)",
      "Input \u001b[0;32mIn [11]\u001b[0m, in \u001b[0;36m<cell line: 1>\u001b[0;34m()\u001b[0m\n\u001b[0;32m----> 1\u001b[0m demo_a \u001b[38;5;241m=\u001b[39m [\u001b[43mdemonstration_configurations\u001b[49m[\u001b[38;5;124m\"\u001b[39m\u001b[38;5;124mAbove Shelve\u001b[39m\u001b[38;5;124m\"\u001b[39m],\n\u001b[1;32m      2\u001b[0m           demonstration_configurations[\u001b[38;5;124m\"\u001b[39m\u001b[38;5;124mTop Rack\u001b[39m\u001b[38;5;124m\"\u001b[39m]]\n\u001b[1;32m      4\u001b[0m demo_b \u001b[38;5;241m=\u001b[39m [demonstration_configurations[\u001b[38;5;124m\"\u001b[39m\u001b[38;5;124mTop Rack\u001b[39m\u001b[38;5;124m\"\u001b[39m],\n\u001b[1;32m      5\u001b[0m           demonstration_configurations[\u001b[38;5;124m\"\u001b[39m\u001b[38;5;124mMiddle Rack\u001b[39m\u001b[38;5;124m\"\u001b[39m]]\n\u001b[1;32m      7\u001b[0m demo_c \u001b[38;5;241m=\u001b[39m [demonstration_configurations[\u001b[38;5;124m\"\u001b[39m\u001b[38;5;124mMiddle Rack\u001b[39m\u001b[38;5;124m\"\u001b[39m],\n\u001b[1;32m      8\u001b[0m           demonstration_configurations[\u001b[38;5;124m\"\u001b[39m\u001b[38;5;124mLeft Bin\u001b[39m\u001b[38;5;124m\"\u001b[39m]]\n",
      "\u001b[0;31mNameError\u001b[0m: name 'demonstration_configurations' is not defined"
     ]
    }
   ],
   "source": [
    "demo_a = [demonstration_configurations[\"Above Shelve\"],\n",
    "          demonstration_configurations[\"Top Rack\"]]\n",
    "\n",
    "demo_b = [demonstration_configurations[\"Top Rack\"],\n",
    "          demonstration_configurations[\"Middle Rack\"]]\n",
    "\n",
    "demo_c = [demonstration_configurations[\"Middle Rack\"],\n",
    "          demonstration_configurations[\"Left Bin\"]]\n",
    "\n",
    "demo_d = [demonstration_configurations[\"Left Bin\"],\n",
    "          demonstration_configurations[\"Right Bin\"]]\n",
    "\n",
    "demo_e = [demonstration_configurations[\"Right Bin\"],\n",
    "          demonstration_configurations[\"Above Shelve\"]]\n",
    "\n",
    "demo_f = [demonstration_configurations[\"Above Shelve\"],\n",
    "         seed_points[\"Left to Shelve\"]]\n",
    "\n",
    "\n",
    "demo_circle = [demonstration_configurations[\"Above Shelve\"],\n",
    "               demonstration_configurations[\"Top Rack\"],\n",
    "               demonstration_configurations[\"Middle Rack\"],\n",
    "               demonstration_configurations[\"Left Bin\"],\n",
    "               demonstration_configurations[\"Right Bin\"],\n",
    "               demonstration_configurations[\"Above Shelve\"]]\n",
    "# print(demo_circle)\n",
    "# # CHANGED FOR TESTING:\n",
    "# demo_d = [milestone_configurations[\"Left Bin\"],\n",
    "#           milestone_configurations[\"Right Bin\"]]\n",
    "# print(demo_circle)"
   ]
  },
  {
   "cell_type": "code",
   "execution_count": 101,
   "metadata": {
    "scrolled": true
   },
   "outputs": [
    {
     "ename": "NameError",
     "evalue": "name 'demo_circ' is not defined",
     "output_type": "error",
     "traceback": [
      "\u001b[0;31m---------------------------------------------------------------------------\u001b[0m",
      "\u001b[0;31mNameError\u001b[0m                                 Traceback (most recent call last)",
      "Input \u001b[0;32mIn [101]\u001b[0m, in \u001b[0;36m<cell line: 1>\u001b[0;34m()\u001b[0m\n\u001b[0;32m----> 1\u001b[0m sequence\u001b[38;5;241m=\u001b[39m\u001b[43mdemo_circ\u001b[49m\n\u001b[1;32m      3\u001b[0m \u001b[38;5;28mlist\u001b[39m(\u001b[38;5;28mzip\u001b[39m(sequence[:\u001b[38;5;241m-\u001b[39m\u001b[38;5;241m1\u001b[39m], sequence[\u001b[38;5;241m1\u001b[39m:]))\n",
      "\u001b[0;31mNameError\u001b[0m: name 'demo_circ' is not defined"
     ]
    }
   ],
   "source": [
    "sequence=demo_circ\n",
    "\n",
    "list(zip(sequence[:-1], sequence[1:]))"
   ]
  },
  {
   "cell_type": "code",
   "execution_count": 10,
   "metadata": {
    "scrolled": false
   },
   "outputs": [
    {
     "ename": "NameError",
     "evalue": "name 'demo_d' is not defined",
     "output_type": "error",
     "traceback": [
      "\u001b[0;31m---------------------------------------------------------------------------\u001b[0m",
      "\u001b[0;31mNameError\u001b[0m                                 Traceback (most recent call last)",
      "Input \u001b[0;32mIn [10]\u001b[0m, in \u001b[0;36m<cell line: 1>\u001b[0;34m()\u001b[0m\n\u001b[0;32m----> 1\u001b[0m execute_demo \u001b[38;5;241m=\u001b[39m \u001b[43mdemo_d\u001b[49m\n\u001b[1;32m      2\u001b[0m GCS_path, GCS_time \u001b[38;5;241m=\u001b[39m getGCSPath(execute_demo, verbose \u001b[38;5;241m=\u001b[39m \u001b[38;5;28;01mTrue\u001b[39;00m)\n\u001b[1;32m      3\u001b[0m linear_gcs_traj \u001b[38;5;241m=\u001b[39m make_traj(GCS_path, speed \u001b[38;5;241m=\u001b[39m \u001b[38;5;241m2\u001b[39m)\n",
      "\u001b[0;31mNameError\u001b[0m: name 'demo_d' is not defined"
     ]
    }
   ],
   "source": [
    "execute_demo = demo_d\n",
    "GCS_path, GCS_time = getGCSPath(execute_demo, verbose = True)\n",
    "linear_gcs_traj = make_traj(GCS_path, speed = 2)\n",
    "print(f\"Linear GCS length: {round(get_traj_length(linear_gcs_traj), 3)}, and time: {round(GCS_time, 3)} s\")\n",
    "\n",
    "# PRM_path, PRM_time = prm.getPath(execute_demo, verbose = True)\n",
    "# prm_traj = make_traj(PRM_path, speed = 2)\n",
    "# print(f\"PRM length: {round(get_traj_length(prm_traj), 3)}, and time: {round(PRM_time, 3)} s\")\n",
    "\n",
    "# sPRM_path, sPRM_time = prm.getPath(execute_demo, path_processing = shortcut)\n",
    "# sprm_traj = make_traj(sPRM_path, speed = 2)\n",
    "# print(f\"Smoothed PRM length: {round(get_traj_length(sprm_traj), 3)}, and time: {round(sPRM_time, 3)} s\")\n"
   ]
  },
  {
   "cell_type": "code",
   "execution_count": 69,
   "metadata": {},
   "outputs": [
    {
     "name": "stdout",
     "output_type": "stream",
     "text": [
      "> \u001b[0;32m/var/folders/p0/l4__0wtd3j184sv9zspd0qlm0000gn/T/ipykernel_29450/2423713009.py\u001b[0m(1)\u001b[0;36m<cell line: 1>\u001b[0;34m()\u001b[0m\n",
      "\u001b[0;32m----> 1 \u001b[0;31m\u001b[0mprint\u001b[0m\u001b[0;34m(\u001b[0m\u001b[0mgcs\u001b[0m\u001b[0;34m.\u001b[0m\u001b[0mgcs\u001b[0m\u001b[0;34m.\u001b[0m\u001b[0mvertices\u001b[0m\u001b[0;34m)\u001b[0m\u001b[0;34m\u001b[0m\u001b[0;34m\u001b[0m\u001b[0m\n",
      "\u001b[0m\n",
      "ipdb> \n"
     ]
    }
   ],
   "source": [
    "%debug"
   ]
  },
  {
   "cell_type": "code",
   "execution_count": 44,
   "metadata": {
    "scrolled": false
   },
   "outputs": [
    {
     "ename": "NameError",
     "evalue": "name 'sprm_traj' is not defined",
     "output_type": "error",
     "traceback": [
      "\u001b[0;31m---------------------------------------------------------------------------\u001b[0m",
      "\u001b[0;31mNameError\u001b[0m                                 Traceback (most recent call last)",
      "Input \u001b[0;32mIn [44]\u001b[0m, in \u001b[0;36m<cell line: 1>\u001b[0;34m()\u001b[0m\n\u001b[0;32m----> 1\u001b[0m is_traj_confined(\u001b[43msprm_traj\u001b[49m, regions)\n",
      "\u001b[0;31mNameError\u001b[0m: name 'sprm_traj' is not defined"
     ]
    }
   ],
   "source": [
    "is_traj_confined(sprm_traj, regions)"
   ]
  },
  {
   "cell_type": "code",
   "execution_count": 45,
   "metadata": {},
   "outputs": [
    {
     "ename": "NameError",
     "evalue": "name 'linear_gcs_traj' is not defined",
     "output_type": "error",
     "traceback": [
      "\u001b[0;31m---------------------------------------------------------------------------\u001b[0m",
      "\u001b[0;31mNameError\u001b[0m                                 Traceback (most recent call last)",
      "Input \u001b[0;32mIn [45]\u001b[0m, in \u001b[0;36m<cell line: 1>\u001b[0;34m()\u001b[0m\n\u001b[1;32m      1\u001b[0m visualize_trajectory(meshcat,\n\u001b[0;32m----> 2\u001b[0m                      [\u001b[43mlinear_gcs_traj\u001b[49m,prm_traj,sprm_traj],\n\u001b[1;32m      3\u001b[0m                      show_line \u001b[38;5;241m=\u001b[39m \u001b[38;5;28;01mTrue\u001b[39;00m,\n\u001b[1;32m      4\u001b[0m                      iiwa_ghosts \u001b[38;5;241m=\u001b[39m execute_demo,\n\u001b[1;32m      5\u001b[0m                      alpha \u001b[38;5;241m=\u001b[39m  \u001b[38;5;241m0.3\u001b[39m,\n\u001b[1;32m      6\u001b[0m                      regions \u001b[38;5;241m=\u001b[39m [])\n",
      "\u001b[0;31mNameError\u001b[0m: name 'linear_gcs_traj' is not defined"
     ]
    }
   ],
   "source": [
    "visualize_trajectory(meshcat,\n",
    "                     [linear_gcs_traj,prm_traj,sprm_traj],\n",
    "                     show_line = True,\n",
    "                     iiwa_ghosts = execute_demo,\n",
    "                     alpha =  0.3,\n",
    "                     regions = [])\n"
   ]
  },
  {
   "cell_type": "code",
   "execution_count": 46,
   "metadata": {},
   "outputs": [],
   "source": [
    "with open (\"GCS_PRM15k_comparison.html\", \"w\") as f:\n",
    "    f.write(meshcat.StaticHtml())"
   ]
  },
  {
   "cell_type": "markdown",
   "metadata": {},
   "source": [
    "## Comparison Table for Paper\n"
   ]
  },
  {
   "cell_type": "code",
   "execution_count": null,
   "metadata": {},
   "outputs": [],
   "source": [
    "demos_for_paper = [demo_a, demo_b, demo_c, demo_d, demo_e]\n",
    "\n",
    "proposed_planner_data = []\n",
    "PRM_data = []\n",
    "sPRM_data = []\n",
    "\n",
    "N = 10 # We ran this 100 in the paper \n",
    "for _ in range(N):\n",
    "    #extract trajectory and time \n",
    "    trajectories = map(lambda d:[getGCSPath(d),prm.getPath(d),prm.getPath(d, path_processing = shortcut)], demos_for_paper)\n",
    "    #get length of trajectory\n",
    "    length_time_list = map(lambda traj_time: [[get_traj_length(make_traj(trj)), t] for trj, t in traj_time], trajectories)\n",
    "    #flatten for pandas\n",
    "    length_time_list = np.array(list(length_time_list))\n",
    "    \n",
    "    proposed_planner_data.append(length_time_list[:,0].flatten())\n",
    "    PRM_data.append(length_time_list[:,1].flatten())\n",
    "    sPRM_data.append(length_time_list[:,2].flatten())\n",
    "    \n",
    "proposed_planner_data = np.mean(proposed_planner_data, axis = 0)\n",
    "PRM_data = np.mean(PRM_data, axis = 0)\n",
    "sPRM_data = np.mean(sPRM_data, axis = 0)"
   ]
  },
  {
   "cell_type": "code",
   "execution_count": null,
   "metadata": {},
   "outputs": [],
   "source": [
    "cols = {\"Proposed Planner\":proposed_planner_data,\n",
    "        \"Regular PRM\":PRM_data,\n",
    "        \"Shortcut PRM\":sPRM_data}\n",
    "\n",
    "index = pd.MultiIndex.from_tuples([('q1-q2', 'length (rad)'), ('q1-q2', 'runtime (s)'),\n",
    "                                    ('q2-q3', 'length (rad)'), ('q2-q3', 'runtime (s)'),\n",
    "                                    ('q3-q4', 'length (rad)'), ('q3-q4', 'runtime (s)'),\n",
    "                                    ('q4-q5', 'length (rad)'), ('q4-q5', 'runtime (s)'),\n",
    "                                    ('q5-q1', 'length (rad)'), ('q5-q1', 'runtime (s)'),], names=[\"Task\", \"\"])\n",
    "df = pd.DataFrame(data = cols, index=index)"
   ]
  },
  {
   "cell_type": "code",
   "execution_count": null,
   "metadata": {},
   "outputs": [],
   "source": [
    "df.round(2)"
   ]
  },
  {
   "cell_type": "markdown",
   "metadata": {},
   "source": [
    "## Debug\n",
    "When playing with the demonstration points, use this to understand where PRM fails and where the regions to include the configurations"
   ]
  },
  {
   "cell_type": "code",
   "execution_count": null,
   "metadata": {},
   "outputs": [],
   "source": [
    "for k,v in {name: InverseKinematics(q0, trans, rot) for name, (trans, rot) in demonstration.items()}.items():\n",
    "    print(k, regions[k].PointInSet(v), not prm.getPath([q0, v]) is None)"
   ]
  },
  {
   "cell_type": "code",
   "execution_count": null,
   "metadata": {},
   "outputs": [],
   "source": []
  }
 ],
 "metadata": {
  "kernelspec": {
   "display_name": "gomp-gcs",
   "language": "python",
   "name": "gomp-gcs"
  },
  "language_info": {
   "codemirror_mode": {
    "name": "ipython",
    "version": 3
   },
   "file_extension": ".py",
   "mimetype": "text/x-python",
   "name": "python",
   "nbconvert_exporter": "python",
   "pygments_lexer": "ipython3",
   "version": "3.9.13"
  }
 },
 "nbformat": 4,
 "nbformat_minor": 2
}

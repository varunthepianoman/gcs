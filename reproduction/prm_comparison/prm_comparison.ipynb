{
 "cells": [
  {
   "cell_type": "code",
   "execution_count": 23,
   "metadata": {
    "pycharm": {
     "name": "#%%\n"
    }
   },
   "outputs": [
    {
     "name": "stdout",
     "output_type": "stream",
     "text": [
      "The autoreload extension is already loaded. To reload it, use:\n",
      "  %reload_ext autoreload\n"
     ]
    },
    {
     "data": {
      "text/plain": [
       "<pydrake.solvers.MosekSolver.License at 0x14a5e9cf0>"
      ]
     },
     "execution_count": 23,
     "metadata": {},
     "output_type": "execute_result"
    }
   ],
   "source": [
    "%load_ext autoreload\n",
    "%autoreload 2\n",
    "import os\n",
    "import time\n",
    "import pickle\n",
    "import numpy as np\n",
    "import pandas as pd\n",
    "import multiprocess as mp\n",
    "from IPython.display import HTML, SVG\n",
    "\n",
    "from pydrake.geometry import MeshcatVisualizerCpp, MeshcatVisualizerParams, Role, StartMeshcat\n",
    "from pydrake.geometry.optimization import IrisInConfigurationSpace, IrisOptions\n",
    "from pydrake.multibody.parsing import LoadModelDirectives, Parser, ProcessModelDirectives\n",
    "from pydrake.multibody.plant import AddMultibodyPlantSceneGraph\n",
    "# from pydrake.planning.common_robotics_utilities import SimpleRRTPlannerState\n",
    "from pydrake.solvers.gurobi import GurobiSolver\n",
    "from pydrake.solvers.mosek import MosekSolver\n",
    "from pydrake.systems.framework import DiagramBuilder\n",
    "\n",
    "from gcs.linear import LinearGCS\n",
    "from gcs.rounding import randomForwardPathSearch\n",
    "from reproduction.prm_comparison.planning import PRM, BiRRT\n",
    "from reproduction.prm_comparison.helpers import (\n",
    "    ForwardKinematics,\n",
    "    get_traj_length,\n",
    "    InverseKinematics,\n",
    "    is_traj_confined,\n",
    "    make_traj,\n",
    "    visualize_trajectory,\n",
    ")\n",
    "from reproduction.util import *\n",
    "\n",
    "os.environ[\"MOSEKLM_LICENSE_FILE\"] = \"/Users/varun/mosek/mosek.lic\"\n",
    "GurobiSolver.AcquireLicense()\n",
    "MosekSolver.AcquireLicense()\n"
   ]
  },
  {
   "cell_type": "code",
   "execution_count": 24,
   "metadata": {
    "pycharm": {
     "name": "#%%\n"
    },
    "scrolled": true
   },
   "outputs": [],
   "source": [
    "# Start the visualizer (run this cell only once, each instance consumes a port)\n",
    "# meshcat = StartMeshcat()"
   ]
  },
  {
   "cell_type": "code",
   "execution_count": 25,
   "metadata": {
    "pycharm": {
     "name": "#%%\n"
    }
   },
   "outputs": [],
   "source": [
    "SEED = 17\n",
    "np.random.seed(SEED)"
   ]
  },
  {
   "cell_type": "code",
   "execution_count": 26,
   "metadata": {
    "pycharm": {
     "name": "#%%\n"
    },
    "scrolled": true
   },
   "outputs": [
    {
     "name": "stderr",
     "output_type": "stream",
     "text": [
      "/var/folders/p0/l4__0wtd3j184sv9zspd0qlm0000gn/T/ipykernel_94921/1064274746.py:18: DrakeDeprecationWarning: MeshcatVisualizerCpp has been renamed to MeshcatVisualizer. The deprecated code will be removed from Drake on or after 2022-11-01.\n",
      "  meshcat_cpp = MeshcatVisualizerCpp.AddToBuilder(builder, scene_graph, meshcat, meshcat_params)\n"
     ]
    }
   ],
   "source": [
    "builder = DiagramBuilder()\n",
    "plant, scene_graph = AddMultibodyPlantSceneGraph(builder, time_step=0.0)\n",
    "parser = Parser(plant)\n",
    "parser.package_map().Add(\"gcs\", GcsDir())\n",
    "\n",
    "directives_file = FindModelFile(\"models/varun_new_yaml.yaml\")\n",
    "directives = LoadModelDirectives(directives_file)\n",
    "models = ProcessModelDirectives(directives, plant, parser)\n",
    "[iiwa, wsg, binR, binL, table] =  models\n",
    " \n",
    "\n",
    "plant.Finalize()\n",
    "\n",
    "meshcat_params = MeshcatVisualizerParams()\n",
    "meshcat_params.delete_on_initialization_event = False\n",
    "meshcat_params.role = Role.kIllustration\n",
    "# meshcat_params.role = Role.kProximity\n",
    "meshcat_cpp = MeshcatVisualizerCpp.AddToBuilder(builder, scene_graph, meshcat, meshcat_params)\n",
    "\n",
    "diagram = builder.Build()\n",
    "\n",
    "context = diagram.CreateDefaultContext()\n",
    "#plant_context = plant.GetMyContextFromRoot(context)\n",
    "plant_context = plant.GetMyMutableContextFromRoot(context)\n",
    "q0 =[0, 0.3, 0, -1.8, 0, 1, 1.57]\n",
    "plant.SetPositions(plant_context, q0)\n",
    "diagram.Publish(context)"
   ]
  },
  {
   "cell_type": "markdown",
   "metadata": {
    "pycharm": {
     "name": "#%% md\n"
    }
   },
   "source": [
    "# Generate Iris Regions\n",
    "### via manual seeds"
   ]
  },
  {
   "cell_type": "code",
   "execution_count": 27,
   "metadata": {
    "pycharm": {
     "name": "#%%\n"
    }
   },
   "outputs": [],
   "source": [
    "milestones =  {\"Above Bins\": [[0.75, 0, 0.9],    [0, -np.pi, -np.pi/2]],   \n",
    "                \"Left Bin\":    [[0.0,  0.6, 0.22], [np.pi/2, np.pi, 0]], \n",
    "                \"Right Bin\":   [[0.0, -0.6, 0.22], [np.pi/2, np.pi, np.pi]]}\n",
    "\n",
    "additional_seed_points = {\"Left to Bins\": np.array([0.8, 0.7, 0, -1.6, 0, 0, np.pi/2]),\n",
    "                          \"Right to Bins\":np.array([-0.8, 0.7, 0, -1.6, 0, 0, np.pi/2])} \n",
    "\n",
    "q0 =[0, 0.3, 0, -1.8, 0, 1, 1.57]\n",
    "milestone_configurations =  {name: InverseKinematics(q0, trans, rot) for name, (trans, rot) in milestones.items()}\n",
    "\n",
    "seed_points = {**milestone_configurations, **additional_seed_points}"
   ]
  },
  {
   "cell_type": "code",
   "execution_count": 28,
   "metadata": {
    "pycharm": {
     "name": "#%%\n"
    }
   },
   "outputs": [],
   "source": [
    "iris_options = IrisOptions()\n",
    "iris_options.require_sample_point_is_contained = True\n",
    "iris_options.iteration_limit = 10\n",
    "iris_options.termination_threshold = -1\n",
    "iris_options.relative_termination_threshold = 0.01\n",
    "iris_options.enable_ibex = False\n",
    "CORE_CNT = mp.cpu_count() # you may edit this"
   ]
  },
  {
   "cell_type": "code",
   "execution_count": 29,
   "metadata": {
    "pycharm": {
     "name": "#%%\n"
    },
    "scrolled": true
   },
   "outputs": [],
   "source": [
    "def calcRegion(seed, verbose):\n",
    "    start_time = time.time()\n",
    "    context = diagram.CreateDefaultContext()\n",
    "    plant_context = plant.GetMyContextFromRoot(context)\n",
    "    plant.SetPositions(plant_context, seed)\n",
    "    hpoly = IrisInConfigurationSpace(plant, plant_context, iris_options)\n",
    "    print(\"Seed:\", seed, \"\\tTime:\", time.time() - start_time, flush=True)\n",
    "    return hpoly\n",
    "\n",
    "def generateRegions(seed_points, verbose = True):\n",
    "    seeds = list(seed_points.values()) if type(seed_points) is dict else seed_points\n",
    "    regions = []\n",
    "    loop_time = time.time()\n",
    "    # with mp.Pool(processes = CORE_CNT) as pool:\n",
    "    #     regions = pool.starmap(calcRegion, [[seed, verbose] for seed in seeds])\n",
    "    regions = [calcRegion(seed, verbose) for seed in seeds] # Non-parallel version\n",
    "    \n",
    "    if verbose:\n",
    "        print(\"Loop time:\", time.time() - loop_time)\n",
    "    \n",
    "    if type(seed_points) is dict:\n",
    "        return dict(list(zip(seed_points.keys(), regions)))\n",
    "    \n",
    "    return regions\n",
    "pass\n",
    "\n"
   ]
  },
  {
   "cell_type": "code",
   "execution_count": 30,
   "metadata": {
    "pycharm": {
     "name": "#%%\n"
    },
    "scrolled": true
   },
   "outputs": [
    {
     "name": "stdout",
     "output_type": "stream",
     "text": [
      "Seed: [ 6.41950821e-05  4.71953264e-01 -1.49318242e-04 -6.71673454e-01\n",
      "  1.85368193e-04  4.26169599e-01  1.57069215e+00] \tTime: 118.54563307762146\n",
      "Seed: [ 1.33266562  0.78659315  0.36233843 -1.49165291 -0.31925088  0.92173247\n",
      "  1.79119041] \tTime: 14.745589971542358\n",
      "Seed: [-1.33246236  0.78664776 -0.36265619 -1.49165281  0.31953404  0.92178332\n",
      "  1.350209  ] \tTime: 21.70185899734497\n",
      "Seed: [ 0.8         0.7         0.         -1.6         0.          0.\n",
      "  1.57079633] \tTime: 8.108375787734985\n",
      "Seed: [-0.8         0.7         0.         -1.6         0.          0.\n",
      "  1.57079633] \tTime: 55.39952611923218\n",
      "Loop time: 218.5238618850708\n"
     ]
    }
   ],
   "source": [
    "regions = generateRegions(seed_points)"
   ]
  },
  {
   "cell_type": "markdown",
   "metadata": {
    "pycharm": {
     "name": "#%% md\n"
    }
   },
   "source": [
    "## via pre-generated regions"
   ]
  },
  {
   "cell_type": "code",
   "execution_count": 31,
   "metadata": {
    "pycharm": {
     "name": "#%%\n"
    }
   },
   "outputs": [],
   "source": [
    "# #load regions\n",
    "# with open(os.path.join(GcsDir(), \"data/prm_comparison/IRIS.reg\"), \"rb\") as f:\n",
    "#     regions = pickle.load(f)"
   ]
  },
  {
   "cell_type": "code",
   "execution_count": 32,
   "metadata": {
    "pycharm": {
     "name": "#%%\n"
    }
   },
   "outputs": [
    {
     "data": {
      "image/svg+xml": [
       "<svg xmlns=\"http://www.w3.org/2000/svg\" xmlns:xlink=\"http://www.w3.org/1999/xlink\" width=\"641pt\" height=\"392pt\" viewBox=\"0.00 0.00 641.00 392.00\">\n",
       "<g id=\"graph0\" class=\"graph\" transform=\"scale(1 1) rotate(0) translate(4 388)\">\n",
       "<title>GraphOfConvexSets</title>\n",
       "<polygon fill=\"white\" stroke=\"transparent\" points=\"-4,4 -4,-388 637,-388 637,4 -4,4\"/>\n",
       "<!-- v3717 -->\n",
       "<g id=\"node1\" class=\"node\">\n",
       "<title>v3717</title>\n",
       "<ellipse fill=\"none\" stroke=\"black\" cx=\"253\" cy=\"-366\" rx=\"27\" ry=\"18\"/>\n",
       "<text text-anchor=\"middle\" x=\"253\" y=\"-362.3\" font-family=\"Times,serif\" font-size=\"14.00\">q_1</text>\n",
       "</g>\n",
       "<!-- v3718 -->\n",
       "<g id=\"node2\" class=\"node\">\n",
       "<title>v3718</title>\n",
       "<ellipse fill=\"none\" stroke=\"black\" cx=\"291\" cy=\"-279\" rx=\"27\" ry=\"18\"/>\n",
       "<text text-anchor=\"middle\" x=\"291\" y=\"-275.3\" font-family=\"Times,serif\" font-size=\"14.00\">q_2</text>\n",
       "</g>\n",
       "<!-- v3717&#45;&gt;v3718 -->\n",
       "<g id=\"edge1\" class=\"edge\">\n",
       "<title>v3717-&gt;v3718</title>\n",
       "<path fill=\"none\" stroke=\"black\" d=\"M233.6,-353.33C219.79,-343.47 205.12,-328.79 214,-315 223.2,-300.72 239.8,-292.2 255.24,-287.15\"/>\n",
       "<polygon fill=\"black\" stroke=\"black\" points=\"256.49,-290.43 265.13,-284.3 254.55,-283.7 256.49,-290.43\"/>\n",
       "<text text-anchor=\"middle\" x=\"243\" y=\"-318.8\" font-family=\"Times,serif\" font-size=\"14.00\">(q_1, q_2)</text>\n",
       "</g>\n",
       "<!-- v3719 -->\n",
       "<g id=\"node3\" class=\"node\">\n",
       "<title>v3719</title>\n",
       "<ellipse fill=\"none\" stroke=\"black\" cx=\"358\" cy=\"-18\" rx=\"27\" ry=\"18\"/>\n",
       "<text text-anchor=\"middle\" x=\"358\" y=\"-14.3\" font-family=\"Times,serif\" font-size=\"14.00\">q_3</text>\n",
       "</g>\n",
       "<!-- v3717&#45;&gt;v3719 -->\n",
       "<g id=\"edge3\" class=\"edge\">\n",
       "<title>v3717-&gt;v3719</title>\n",
       "<path fill=\"none\" stroke=\"black\" d=\"M226.4,-361.82C161.45,-353.3 0,-327.38 0,-280 0,-280 0,-280 0,-104 0,-38.56 229.32,-23.42 320.89,-19.99\"/>\n",
       "<polygon fill=\"black\" stroke=\"black\" points=\"321.22,-23.48 331.09,-19.63 320.98,-16.48 321.22,-23.48\"/>\n",
       "<text text-anchor=\"middle\" x=\"29\" y=\"-188.3\" font-family=\"Times,serif\" font-size=\"14.00\">(q_1, q_3)</text>\n",
       "</g>\n",
       "<!-- v3720 -->\n",
       "<g id=\"node4\" class=\"node\">\n",
       "<title>v3720</title>\n",
       "<ellipse fill=\"none\" stroke=\"black\" cx=\"238\" cy=\"-105\" rx=\"27\" ry=\"18\"/>\n",
       "<text text-anchor=\"middle\" x=\"238\" y=\"-101.3\" font-family=\"Times,serif\" font-size=\"14.00\">q_4</text>\n",
       "</g>\n",
       "<!-- v3717&#45;&gt;v3720 -->\n",
       "<g id=\"edge5\" class=\"edge\">\n",
       "<title>v3717-&gt;v3720</title>\n",
       "<path fill=\"none\" stroke=\"black\" d=\"M227.24,-360.32C205.8,-355.46 175.31,-346.24 153,-330 113.76,-301.44 102.47,-289 87,-243 70.54,-194.07 125.2,-162.41 153,-141 167.87,-129.55 187.01,-121.23 203.37,-115.59\"/>\n",
       "<polygon fill=\"black\" stroke=\"black\" points=\"204.7,-118.84 213.13,-112.41 202.53,-112.18 204.7,-118.84\"/>\n",
       "<text text-anchor=\"middle\" x=\"116\" y=\"-231.8\" font-family=\"Times,serif\" font-size=\"14.00\">(q_1, q_4)</text>\n",
       "</g>\n",
       "<!-- v3721 -->\n",
       "<g id=\"node5\" class=\"node\">\n",
       "<title>v3721</title>\n",
       "<ellipse fill=\"none\" stroke=\"black\" cx=\"417\" cy=\"-192\" rx=\"27\" ry=\"18\"/>\n",
       "<text text-anchor=\"middle\" x=\"417\" y=\"-188.3\" font-family=\"Times,serif\" font-size=\"14.00\">q_5</text>\n",
       "</g>\n",
       "<!-- v3717&#45;&gt;v3721 -->\n",
       "<g id=\"edge7\" class=\"edge\">\n",
       "<title>v3717-&gt;v3721</title>\n",
       "<path fill=\"none\" stroke=\"black\" d=\"M274.16,-354.57C279,-352.31 284.14,-350 289,-348 311.23,-338.86 319.66,-342.82 340,-330 376.69,-306.88 373.96,-286.56 409,-261 423.13,-250.69 434.89,-257.93 444,-243 449.59,-233.84 445.56,-223.45 439.07,-214.51\"/>\n",
       "<polygon fill=\"black\" stroke=\"black\" points=\"441.73,-212.23 432.64,-206.8 436.36,-216.72 441.73,-212.23\"/>\n",
       "<text text-anchor=\"middle\" x=\"438\" y=\"-275.3\" font-family=\"Times,serif\" font-size=\"14.00\">(q_1, q_5)</text>\n",
       "</g>\n",
       "<!-- v3718&#45;&gt;v3717 -->\n",
       "<g id=\"edge2\" class=\"edge\">\n",
       "<title>v3718-&gt;v3717</title>\n",
       "<path fill=\"none\" stroke=\"black\" d=\"M285.22,-296.9C281.71,-306.7 276.96,-319.2 272,-330 270.51,-333.24 268.85,-336.59 267.15,-339.89\"/>\n",
       "<polygon fill=\"black\" stroke=\"black\" points=\"263.99,-338.38 262.35,-348.85 270.16,-341.69 263.99,-338.38\"/>\n",
       "<text text-anchor=\"middle\" x=\"307\" y=\"-318.8\" font-family=\"Times,serif\" font-size=\"14.00\">(q_2, q_1)</text>\n",
       "</g>\n",
       "<!-- v3718&#45;&gt;v3720 -->\n",
       "<g id=\"edge9\" class=\"edge\">\n",
       "<title>v3718-&gt;v3720</title>\n",
       "<path fill=\"none\" stroke=\"black\" d=\"M289.9,-260.97C287.99,-235.37 283.45,-188.42 275,-174 268.44,-162.8 259.22,-166.79 252,-156 247.47,-149.23 244.39,-141.01 242.31,-133.2\"/>\n",
       "<polygon fill=\"black\" stroke=\"black\" points=\"245.7,-132.33 240.1,-123.34 238.87,-133.86 245.7,-132.33\"/>\n",
       "<text text-anchor=\"middle\" x=\"313\" y=\"-188.3\" font-family=\"Times,serif\" font-size=\"14.00\">(q_2, q_4)</text>\n",
       "</g>\n",
       "<!-- v3718&#45;&gt;v3721 -->\n",
       "<g id=\"edge11\" class=\"edge\">\n",
       "<title>v3718-&gt;v3721</title>\n",
       "<path fill=\"none\" stroke=\"black\" d=\"M313.67,-269.03C328.34,-262.74 347.51,-253.59 363,-243 374.82,-234.92 386.64,-224.33 396.19,-214.98\"/>\n",
       "<polygon fill=\"black\" stroke=\"black\" points=\"398.74,-217.38 403.32,-207.82 393.79,-212.44 398.74,-217.38\"/>\n",
       "<text text-anchor=\"middle\" x=\"411\" y=\"-231.8\" font-family=\"Times,serif\" font-size=\"14.00\">(q_2, q_5)</text>\n",
       "</g>\n",
       "<!-- v3719&#45;&gt;v3717 -->\n",
       "<g id=\"edge4\" class=\"edge\">\n",
       "<title>v3719-&gt;v3717</title>\n",
       "<path fill=\"none\" stroke=\"black\" d=\"M383.74,-23.45C441.23,-34.13 575,-63.34 575,-104 575,-280 575,-280 575,-280 575,-345.33 351.87,-330.24 289,-348 287.05,-348.55 285.08,-349.2 283.12,-349.91\"/>\n",
       "<polygon fill=\"black\" stroke=\"black\" points=\"281.39,-346.84 273.49,-353.9 284.06,-353.31 281.39,-346.84\"/>\n",
       "<text text-anchor=\"middle\" x=\"604\" y=\"-188.3\" font-family=\"Times,serif\" font-size=\"14.00\">(q_3, q_1)</text>\n",
       "</g>\n",
       "<!-- v3719&#45;&gt;v3720 -->\n",
       "<g id=\"edge13\" class=\"edge\">\n",
       "<title>v3719-&gt;v3720</title>\n",
       "<path fill=\"none\" stroke=\"black\" d=\"M330.97,-18.98C303.91,-20.55 263.33,-27.56 242,-54 236.91,-60.32 234.99,-68.66 234.61,-76.71\"/>\n",
       "<polygon fill=\"black\" stroke=\"black\" points=\"231.12,-77.03 234.87,-86.94 238.12,-76.86 231.12,-77.03\"/>\n",
       "<text text-anchor=\"middle\" x=\"271\" y=\"-57.8\" font-family=\"Times,serif\" font-size=\"14.00\">(q_3, q_4)</text>\n",
       "</g>\n",
       "<!-- v3719&#45;&gt;v3721 -->\n",
       "<g id=\"edge15\" class=\"edge\">\n",
       "<title>v3719-&gt;v3721</title>\n",
       "<path fill=\"none\" stroke=\"black\" d=\"M368.84,-34.61C372.66,-40.52 376.8,-47.41 380,-54 397.92,-90.93 401.61,-101.04 411,-141 412.71,-148.29 413.95,-156.3 414.84,-163.73\"/>\n",
       "<polygon fill=\"black\" stroke=\"black\" points=\"411.36,-164.13 415.88,-173.71 418.33,-163.4 411.36,-164.13\"/>\n",
       "<text text-anchor=\"middle\" x=\"435\" y=\"-101.3\" font-family=\"Times,serif\" font-size=\"14.00\">(q_3, q_5)</text>\n",
       "</g>\n",
       "<!-- v3720&#45;&gt;v3717 -->\n",
       "<g id=\"edge6\" class=\"edge\">\n",
       "<title>v3720-&gt;v3717</title>\n",
       "<path fill=\"none\" stroke=\"black\" d=\"M222.35,-120.19C198.04,-144.01 155.08,-194.23 166,-243 175.34,-284.71 180.11,-296.77 207,-330 212.15,-336.36 218.69,-342.22 225.2,-347.26\"/>\n",
       "<polygon fill=\"black\" stroke=\"black\" points=\"223.2,-350.12 233.35,-353.16 227.31,-344.46 223.2,-350.12\"/>\n",
       "<text text-anchor=\"middle\" x=\"195\" y=\"-231.8\" font-family=\"Times,serif\" font-size=\"14.00\">(q_4, q_1)</text>\n",
       "</g>\n",
       "<!-- v3720&#45;&gt;v3718 -->\n",
       "<g id=\"edge10\" class=\"edge\">\n",
       "<title>v3720-&gt;v3718</title>\n",
       "<path fill=\"none\" stroke=\"black\" d=\"M228.03,-121.76C216.17,-142.68 199.54,-180.42 213,-210 218.59,-222.29 244.5,-243.59 264.94,-259.08\"/>\n",
       "<polygon fill=\"black\" stroke=\"black\" points=\"262.91,-261.93 273.02,-265.11 267.1,-256.32 262.91,-261.93\"/>\n",
       "<text text-anchor=\"middle\" x=\"242\" y=\"-188.3\" font-family=\"Times,serif\" font-size=\"14.00\">(q_4, q_2)</text>\n",
       "</g>\n",
       "<!-- v3720&#45;&gt;v3719 -->\n",
       "<g id=\"edge14\" class=\"edge\">\n",
       "<title>v3720-&gt;v3719</title>\n",
       "<path fill=\"none\" stroke=\"black\" d=\"M259.01,-93.48C271.31,-86.99 286.96,-78.17 300,-69 312.31,-60.35 325.07,-49.58 335.47,-40.25\"/>\n",
       "<polygon fill=\"black\" stroke=\"black\" points=\"337.89,-42.78 342.93,-33.46 333.18,-37.61 337.89,-42.78\"/>\n",
       "<text text-anchor=\"middle\" x=\"347\" y=\"-57.8\" font-family=\"Times,serif\" font-size=\"14.00\">(q_4, q_3)</text>\n",
       "</g>\n",
       "<!-- v3720&#45;&gt;v3721 -->\n",
       "<g id=\"edge17\" class=\"edge\">\n",
       "<title>v3720-&gt;v3721</title>\n",
       "<path fill=\"none\" stroke=\"black\" d=\"M245.04,-122.54C250.68,-133.76 259.7,-147.96 272,-156 308.71,-179.98 326.65,-162.65 369,-174 374.1,-175.37 379.43,-177.02 384.61,-178.75\"/>\n",
       "<polygon fill=\"black\" stroke=\"black\" points=\"383.69,-182.14 394.28,-182.13 385.99,-175.53 383.69,-182.14\"/>\n",
       "<text text-anchor=\"middle\" x=\"301\" y=\"-144.8\" font-family=\"Times,serif\" font-size=\"14.00\">(q_4, q_5)</text>\n",
       "</g>\n",
       "<!-- v3721&#45;&gt;v3717 -->\n",
       "<g id=\"edge8\" class=\"edge\">\n",
       "<title>v3721-&gt;v3717</title>\n",
       "<path fill=\"none\" stroke=\"black\" d=\"M436.15,-204.88C444.33,-210.87 453.28,-218.81 459,-228 475.32,-254.21 485.23,-272.09 467,-297 418.4,-363.41 366.59,-320.56 289,-348 287.09,-348.67 285.15,-349.42 283.21,-350.2\"/>\n",
       "<polygon fill=\"black\" stroke=\"black\" points=\"281.4,-347.17 273.64,-354.38 284.2,-353.59 281.4,-347.17\"/>\n",
       "<text text-anchor=\"middle\" x=\"505\" y=\"-275.3\" font-family=\"Times,serif\" font-size=\"14.00\">(q_5, q_1)</text>\n",
       "</g>\n",
       "<!-- v3721&#45;&gt;v3718 -->\n",
       "<g id=\"edge12\" class=\"edge\">\n",
       "<title>v3721-&gt;v3718</title>\n",
       "<path fill=\"none\" stroke=\"black\" d=\"M393.69,-201.69C385.89,-204.48 377.11,-207.5 369,-210 339.13,-219.23 322.42,-205.23 301,-228 295.29,-234.08 292.42,-242.45 291.09,-250.61\"/>\n",
       "<polygon fill=\"black\" stroke=\"black\" points=\"287.6,-250.35 290.11,-260.64 294.56,-251.03 287.6,-250.35\"/>\n",
       "<text text-anchor=\"middle\" x=\"330\" y=\"-231.8\" font-family=\"Times,serif\" font-size=\"14.00\">(q_5, q_2)</text>\n",
       "</g>\n",
       "<!-- v3721&#45;&gt;v3719 -->\n",
       "<g id=\"edge16\" class=\"edge\">\n",
       "<title>v3721-&gt;v3719</title>\n",
       "<path fill=\"none\" stroke=\"black\" d=\"M432.57,-176.94C453.02,-156.71 484.4,-118.36 467,-87 451.07,-58.29 417.43,-40.12 391.7,-29.85\"/>\n",
       "<polygon fill=\"black\" stroke=\"black\" points=\"392.88,-26.55 382.28,-26.3 390.4,-33.1 392.88,-26.55\"/>\n",
       "<text text-anchor=\"middle\" x=\"501\" y=\"-101.3\" font-family=\"Times,serif\" font-size=\"14.00\">(q_5, q_3)</text>\n",
       "</g>\n",
       "<!-- v3721&#45;&gt;v3720 -->\n",
       "<g id=\"edge18\" class=\"edge\">\n",
       "<title>v3721-&gt;v3720</title>\n",
       "<path fill=\"none\" stroke=\"black\" d=\"M396.31,-180.21C383.66,-173.48 367.24,-164.52 353,-156 342.53,-149.73 340.88,-146.53 330,-141 311.41,-131.54 289.64,-123.15 271.94,-116.95\"/>\n",
       "<polygon fill=\"black\" stroke=\"black\" points=\"272.64,-113.49 262.04,-113.57 270.37,-120.11 272.64,-113.49\"/>\n",
       "<text text-anchor=\"middle\" x=\"382\" y=\"-144.8\" font-family=\"Times,serif\" font-size=\"14.00\">(q_5, q_4)</text>\n",
       "</g>\n",
       "<!-- \\n -->\n",
       "<g id=\"node6\" class=\"node\">\n",
       "<title>\\n</title>\n",
       "<ellipse fill=\"none\" stroke=\"black\" cx=\"325\" cy=\"-366\" rx=\"27\" ry=\"18\"/>\n",
       "</g>\n",
       "</g>\n",
       "</svg>"
      ],
      "text/plain": [
       "<IPython.core.display.SVG object>"
      ]
     },
     "execution_count": 32,
     "metadata": {},
     "output_type": "execute_result"
    }
   ],
   "source": [
    "gcs = LinearGCS({f\"q_{i + 1}\":r for i, r in enumerate(regions.values())})\n",
    "SVG(gcs.VisualizeGraph()) "
   ]
  },
  {
   "cell_type": "markdown",
   "metadata": {
    "pycharm": {
     "name": "#%% md\n"
    }
   },
   "source": [
    "# Build PRM"
   ]
  },
  {
   "cell_type": "code",
   "execution_count": null,
   "metadata": {
    "pycharm": {
     "name": "#%%\n"
    }
   },
   "outputs": [],
   "source": [
    "collision_step_size = 0.02\n",
    "K = 5\n",
    "roadmap_size = 15000\n",
    "\n",
    "#initlize with seeds for fairness\n",
    "prm = PRM(plant, diagram, collision_step_size, SEED, K, list(seed_points.values()))"
   ]
  },
  {
   "cell_type": "markdown",
   "metadata": {
    "pycharm": {
     "name": "#%% md\n"
    }
   },
   "source": [
    "### Load Roadmap if you don't want to wait 15 minutes"
   ]
  },
  {
   "cell_type": "code",
   "execution_count": null,
   "metadata": {
    "pycharm": {
     "name": "#%%\n"
    }
   },
   "outputs": [],
   "source": [
    "#TODO use wget here to download th prm map from server\n",
    "prm.load(os.path.join(GcsDir(), \"data/prm_comparison/15k_presplined.rmp\"))"
   ]
  },
  {
   "cell_type": "markdown",
   "metadata": {
    "pycharm": {
     "name": "#%% md\n"
    }
   },
   "source": [
    "### Or Grow it "
   ]
  },
  {
   "cell_type": "code",
   "execution_count": null,
   "metadata": {
    "pycharm": {
     "name": "#%%\n"
    }
   },
   "outputs": [],
   "source": [
    "solve_timeout = 200\n",
    "goal_bias = 0.05\n",
    "step_size = 0.1\n",
    "birrt = BiRRT(plant, diagram, collision_step_size, SEED, step_size, goal_bias, solve_timeout)"
   ]
  },
  {
   "cell_type": "markdown",
   "metadata": {
    "pycharm": {
     "name": "#%% md\n"
    }
   },
   "source": [
    "### Connect via BiRRT first\n",
    "Given the knowledge of the Graph of Convex Sets, we will use BiRRT to connect the edges. All of the nodes of the RRT trees will be added to the PRM map"
   ]
  },
  {
   "cell_type": "code",
   "execution_count": null,
   "metadata": {
    "pycharm": {
     "name": "#%%\n"
    }
   },
   "outputs": [],
   "source": [
    "pairs_2_connect = [\n",
    "  [SimpleRRTPlannerState(seed_points[\"Front to Shelve\"]), SimpleRRTPlannerState(seed_points[\"Top Rack\"])],\n",
    "  [SimpleRRTPlannerState(seed_points[\"Front to Shelve\"]), SimpleRRTPlannerState(seed_points[\"Middle Rack\"])],\n",
    "  [SimpleRRTPlannerState(seed_points[\"Front to Shelve\"]), SimpleRRTPlannerState(seed_points[\"Left Bin\"])],\n",
    "  [SimpleRRTPlannerState(seed_points[\"Front to Shelve\"]), SimpleRRTPlannerState(seed_points[\"Right Bin\"])],\n",
    "    \n",
    "  [SimpleRRTPlannerState(seed_points[\"Left Bin\"]), SimpleRRTPlannerState(seed_points[\"Above Shelve\"])],\n",
    "  [SimpleRRTPlannerState(seed_points[\"Left Bin\"]), SimpleRRTPlannerState(seed_points[\"Left to Shelve\"])],\n",
    "\n",
    "    \n",
    "  [SimpleRRTPlannerState(seed_points[\"Right Bin\"]), SimpleRRTPlannerState(seed_points[\"Above Shelve\"])],\n",
    "  [SimpleRRTPlannerState(seed_points[\"Right Bin\"]), SimpleRRTPlannerState(seed_points[\"Right to Shelve\"])],\n",
    "    \n",
    "  [SimpleRRTPlannerState(seed_points[\"Above Shelve\"]), SimpleRRTPlannerState(seed_points[\"Left to Shelve\"])],\n",
    "  [SimpleRRTPlannerState(seed_points[\"Above Shelve\"]), SimpleRRTPlannerState(seed_points[\"Right to Shelve\"])],\n",
    "]\n",
    "\n",
    "prm = PRM(plant, diagram, collision_step_size, SEED, K)\n",
    "\n",
    "start_time = time.time()\n",
    "\n",
    "for start_tree, goal_tree in  pairs_2_connect:\n",
    "    result, start_tree_extended, end_tree_extended = birrt.connect([start_tree], [goal_tree], use_parallel = True)\n",
    "    if len(result.Path()) == 0:\n",
    "        raise Exception(\"Failed to connect nodes\")\n",
    "    prm.addNodes(list(map(lambda x: x.GetValueImmutable(), start_tree_extended)) + list(map(lambda x: x.GetValueImmutable(), end_tree_extended)))\n",
    "\n",
    "print(f\"Roadmap extended to {prm.roadmap_size} in {round(time.time()-start_time,2)} s\")"
   ]
  },
  {
   "cell_type": "markdown",
   "metadata": {
    "pycharm": {
     "name": "#%% md\n"
    }
   },
   "source": [
    "### Continue growing the Roadmap"
   ]
  },
  {
   "cell_type": "code",
   "execution_count": null,
   "metadata": {
    "pycharm": {
     "name": "#%%\n"
    }
   },
   "outputs": [],
   "source": [
    "stats = prm.GrowRoadMap(roadmap_size, True)\n",
    "print(f'Grow time: {stats[\"growing_time\"]} s') "
   ]
  },
  {
   "cell_type": "code",
   "execution_count": null,
   "metadata": {
    "pycharm": {
     "name": "#%%\n"
    }
   },
   "outputs": [],
   "source": [
    "prm.save(os.path.join(GcsDir(), \"data/prm_comparison/15k_presplined.rmp\"))"
   ]
  },
  {
   "cell_type": "markdown",
   "metadata": {
    "pycharm": {
     "name": "#%% md\n"
    }
   },
   "source": [
    "# Run Comparison"
   ]
  },
  {
   "cell_type": "code",
   "execution_count": 11,
   "metadata": {
    "pycharm": {
     "name": "#%%\n"
    }
   },
   "outputs": [],
   "source": [
    "def getGCSPath(sequence, verbose = False):\n",
    "    path = [sequence[0]]\n",
    "    run_time = 0.0\n",
    "    for start_pt, goal_pt in zip(sequence[:-1], sequence[1:]):\n",
    "        gcs = LinearGCS(regions.copy())\n",
    "        gcs.addSourceTarget(start_pt, goal_pt)\n",
    "        gcs.setRoundingStrategy(randomForwardPathSearch, max_paths = 10, max_trials = 100, seed = SEED)\n",
    "        gcs.setSolver(MosekSolver())\n",
    "        start_time = time.time()\n",
    "        waypoints, results_dict = gcs.SolvePath(rounding=True, verbose=False, preprocessing=True)\n",
    "        if waypoints is None:\n",
    "            if verbose:\n",
    "                print(f\"Failed between {start_pt} and {goal_pt}\")\n",
    "            return None\n",
    "\n",
    "        run_time += results_dict[\"preprocessing_stats\"][\"linear_programs\"]\n",
    "        run_time += results_dict[\"relaxation_solver_time\"]\n",
    "        run_time += results_dict[\"total_rounded_solver_time\"]\n",
    "        if verbose:\n",
    "            print(\"Convex Relaxation\", round(results_dict[\"relaxation_cost\"], 3),\n",
    "                  \"min hard result cost\", round(results_dict[\"rounded_cost\"], 3),\n",
    "                  \"Gap\", round((results_dict[\"rounded_cost\"] - results_dict[\"relaxation_cost\"])/results_dict[\"relaxation_cost\"], 3))\n",
    "    \n",
    "        path += waypoints.T[1:].tolist()\n",
    "    return np.stack(path).T, run_time\n",
    "\n",
    "def shortcut(path):\n",
    "    \"\"\"Those values are used by TRI\"\"\"\n",
    "    return prm.shortcut(np.stack(path),\n",
    "                 max_iter = 200,\n",
    "                 max_failed_iter = 200,\n",
    "                 max_backtracking_steps = 0,\n",
    "                 max_shortcut_fraction = 1.0,\n",
    "                 resample_shortcuts_interval = 0.25,\n",
    "                 check_for_marginal_shortcuts = False)"
   ]
  },
  {
   "cell_type": "markdown",
   "metadata": {
    "pycharm": {
     "name": "#%% md\n"
    }
   },
   "source": [
    "# Demonstration"
   ]
  },
  {
   "cell_type": "code",
   "execution_count": 12,
   "metadata": {
    "pycharm": {
     "name": "#%%\n"
    }
   },
   "outputs": [],
   "source": [
    "demonstration =  {\"Above Bins\": [[0.75, -0.12, 0.9], [0, -np.pi, -np.pi/2]],   \n",
    "                \"Left Bin\":       [[0.08, 0.6, 0.22],  [np.pi/2, np.pi, 0]], \n",
    "                \"Right Bin\":      [[-0.08, -0.6, 0.22], [np.pi/2, np.pi, np.pi]]}\n",
    "\n",
    "q0 =[0, 0.3, 0, -1.8, 0, 1, 1.57]\n",
    "demonstration_configurations =  {name: InverseKinematics(q0, trans, rot) for name, (trans, rot) in demonstration.items()}\n"
   ]
  },
  {
   "cell_type": "code",
   "execution_count": 13,
   "metadata": {
    "pycharm": {
     "name": "#%%\n"
    }
   },
   "outputs": [],
   "source": [
    "demo_a = [demonstration_configurations[\"Left Bin\"],\n",
    "          demonstration_configurations[\"Right Bin\"]]\n",
    "\n",
    "demo_b = [demonstration_configurations[\"Left Bin\"],\n",
    "          demonstration_configurations[\"Above Bins\"]]\n",
    "\n",
    "demo_c = [demonstration_configurations[\"Right Bin\"],\n",
    "          demonstration_configurations[\"Above Bins\"]]\n",
    "\n",
    "demo_circle = [demonstration_configurations[\"Above Bins\"],\n",
    "               demonstration_configurations[\"Left Bin\"],\n",
    "               demonstration_configurations[\"Right Bin\"],\n",
    "               demonstration_configurations[\"Above Bins\"]]\n",
    "\n"
   ]
  },
  {
   "cell_type": "code",
   "execution_count": 14,
   "metadata": {
    "pycharm": {
     "name": "#%%\n"
    },
    "scrolled": false
   },
   "outputs": [
    {
     "name": "stdout",
     "output_type": "stream",
     "text": [
      "edges [[1, 3, 4], [3, 4]]\n",
      "Convex Relaxation 1.868 min hard result cost 1.868 Gap -0.0\n",
      "Linear GCS length: 1.868, and time: 0.228 s\n"
     ]
    }
   ],
   "source": [
    "execute_demo = demo_a\n",
    "GCS_path, GCS_time = getGCSPath(execute_demo, verbose = True)\n",
    "linear_gcs_traj = make_traj(GCS_path, speed = 2)\n",
    "print(f\"Linear GCS length: {round(get_traj_length(linear_gcs_traj), 3)}, and time: {round(GCS_time, 3)} s\")\n",
    "\n",
    "# PRM_path, PRM_time = prm.getPath(execute_demo, verbose = True)\n",
    "# prm_traj = make_traj(PRM_path, speed = 2)\n",
    "# print(f\"PRM length: {round(get_traj_length(prm_traj), 3)}, and time: {round(PRM_time, 3)} s\")\n",
    "\n",
    "# sPRM_path, sPRM_time = prm.getPath(execute_demo, path_processing = shortcut)\n",
    "# sprm_traj = make_traj(sPRM_path, speed = 2)\n",
    "# print(f\"Smoothed PRM length: {round(get_traj_length(sprm_traj), 3)}, and time: {round(sPRM_time, 3)} s\")\n"
   ]
  },
  {
   "cell_type": "code",
   "execution_count": 15,
   "metadata": {
    "pycharm": {
     "name": "#%%\n"
    },
    "scrolled": false
   },
   "outputs": [],
   "source": [
    "# is_traj_confined(regions)"
   ]
  },
  {
   "cell_type": "code",
   "execution_count": 16,
   "metadata": {
    "pycharm": {
     "name": "#%%\n"
    }
   },
   "outputs": [
    {
     "name": "stderr",
     "output_type": "stream",
     "text": [
      "WARNING:drake:Updating illustration role properties must be done before visualizer initialization to have an effect. When in doubt, after making property changes, force the visualizer to re-initialize via its API.\n",
      "/Users/varun/gcs/reproduction/prm_comparison/helpers.py:233: DrakeDeprecationWarning: MeshcatVisualizerCpp has been renamed to MeshcatVisualizer. The deprecated code will be removed from Drake on or after 2022-11-01.\n",
      "  meshcat_cpp = MeshcatVisualizerCpp.AddToBuilder(builder, scene_graph, meshcat, meshcat_params)\n"
     ]
    }
   ],
   "source": [
    "visualize_trajectory(meshcat,\n",
    "                     [linear_gcs_traj],\n",
    "                     show_line = True,\n",
    "                     iiwa_ghosts = execute_demo,\n",
    "                     alpha =  0.3,\n",
    "                     regions = [])\n"
   ]
  },
  {
   "cell_type": "code",
   "execution_count": 19,
   "metadata": {
    "pycharm": {
     "name": "#%%\n"
    }
   },
   "outputs": [],
   "source": [
    "with open (\"GCS_PRM15k_comparison.html\", \"w\") as f:\n",
    "    f.write(meshcat.StaticHtml())"
   ]
  },
  {
   "cell_type": "markdown",
   "metadata": {
    "pycharm": {
     "name": "#%% md\n"
    }
   },
   "source": [
    "## Comparison Table for Paper\n"
   ]
  },
  {
   "cell_type": "code",
   "execution_count": null,
   "metadata": {
    "pycharm": {
     "name": "#%%\n"
    }
   },
   "outputs": [],
   "source": [
    "demos_for_paper = [demo_a, demo_b, demo_c, demo_d, demo_e]\n",
    "\n",
    "proposed_planner_data = []\n",
    "PRM_data = []\n",
    "sPRM_data = []\n",
    "\n",
    "N = 10 # We ran this 100 in the paper \n",
    "for _ in range(N):\n",
    "    #extract trajectory and time \n",
    "    trajectories = map(lambda d:[getGCSPath(d),prm.getPath(d),prm.getPath(d, path_processing = shortcut)], demos_for_paper)\n",
    "    #get length of trajectory\n",
    "    length_time_list = map(lambda traj_time: [[get_traj_length(make_traj(trj)), t] for trj, t in traj_time], trajectories)\n",
    "    #flatten for pandas\n",
    "    length_time_list = np.array(list(length_time_list))\n",
    "    \n",
    "    proposed_planner_data.append(length_time_list[:,0].flatten())\n",
    "    PRM_data.append(length_time_list[:,1].flatten())\n",
    "    sPRM_data.append(length_time_list[:,2].flatten())\n",
    "    \n",
    "proposed_planner_data = np.mean(proposed_planner_data, axis = 0)\n",
    "PRM_data = np.mean(PRM_data, axis = 0)\n",
    "sPRM_data = np.mean(sPRM_data, axis = 0)"
   ]
  },
  {
   "cell_type": "code",
   "execution_count": null,
   "metadata": {
    "pycharm": {
     "name": "#%%\n"
    }
   },
   "outputs": [],
   "source": [
    "cols = {\"Proposed Planner\":proposed_planner_data,\n",
    "        \"Regular PRM\":PRM_data,\n",
    "        \"Shortcut PRM\":sPRM_data}\n",
    "\n",
    "index = pd.MultiIndex.from_tuples([('q1-q2', 'length (rad)'), ('q1-q2', 'runtime (s)'),\n",
    "                                    ('q2-q3', 'length (rad)'), ('q2-q3', 'runtime (s)'),\n",
    "                                    ('q3-q4', 'length (rad)'), ('q3-q4', 'runtime (s)'),\n",
    "                                    ('q4-q5', 'length (rad)'), ('q4-q5', 'runtime (s)'),\n",
    "                                    ('q5-q1', 'length (rad)'), ('q5-q1', 'runtime (s)'),], names=[\"Task\", \"\"])\n",
    "df = pd.DataFrame(data = cols, index=index)"
   ]
  },
  {
   "cell_type": "code",
   "execution_count": null,
   "metadata": {
    "pycharm": {
     "name": "#%%\n"
    }
   },
   "outputs": [],
   "source": [
    "df.round(2)"
   ]
  },
  {
   "cell_type": "markdown",
   "metadata": {
    "pycharm": {
     "name": "#%% md\n"
    }
   },
   "source": [
    "## Debug\n",
    "When playing with the demonstration points, use this to understand where PRM fails and where the regions to include the configurations"
   ]
  },
  {
   "cell_type": "code",
   "execution_count": null,
   "metadata": {
    "pycharm": {
     "name": "#%%\n"
    }
   },
   "outputs": [],
   "source": [
    "for k,v in {name: InverseKinematics(q0, trans, rot) for name, (trans, rot) in demonstration.items()}.items():\n",
    "    print(k, regions[k].PointInSet(v), not prm.getPath([q0, v]) is None)"
   ]
  },
  {
   "cell_type": "code",
   "execution_count": null,
   "metadata": {
    "pycharm": {
     "name": "#%%\n"
    }
   },
   "outputs": [],
   "source": []
  }
 ],
 "metadata": {
  "kernelspec": {
   "display_name": "gg2",
   "language": "python",
   "name": "gg2"
  },
  "language_info": {
   "codemirror_mode": {
    "name": "ipython",
    "version": 3
   },
   "file_extension": ".py",
   "mimetype": "text/x-python",
   "name": "python",
   "nbconvert_exporter": "python",
   "pygments_lexer": "ipython3",
   "version": "3.9.13"
  }
 },
 "nbformat": 4,
 "nbformat_minor": 2
}

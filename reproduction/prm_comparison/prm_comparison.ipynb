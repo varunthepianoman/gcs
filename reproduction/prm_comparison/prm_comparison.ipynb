{
 "cells": [
  {
   "cell_type": "code",
   "execution_count": 35,
   "metadata": {
    "pycharm": {
     "name": "#%%\n"
    }
   },
   "outputs": [
    {
     "name": "stdout",
     "output_type": "stream",
     "text": [
      "The autoreload extension is already loaded. To reload it, use:\n",
      "  %reload_ext autoreload\n",
      "True\n"
     ]
    }
   ],
   "source": [
    "%load_ext autoreload\n",
    "%autoreload 2\n",
    "import os\n",
    "import time\n",
    "import pickle\n",
    "import numpy as np\n",
    "import pandas as pd\n",
    "import multiprocess as mp\n",
    "from IPython.display import HTML, SVG\n",
    "\n",
    "from pydrake.geometry import MeshcatVisualizerCpp, MeshcatVisualizerParams, Role, StartMeshcat\n",
    "from pydrake.geometry.optimization import IrisInConfigurationSpace, IrisOptions\n",
    "from pydrake.multibody.parsing import LoadModelDirectives, Parser, ProcessModelDirectives\n",
    "from pydrake.multibody.plant import AddMultibodyPlantSceneGraph\n",
    "# from pydrake.solvers.gurobi import GurobiSolver\n",
    "from pydrake.solvers.mosek import MosekSolver\n",
    "# from pydrake.solvers import MathematicalProgram\n",
    "from pydrake.solvers.snopt import SnoptSolver\n",
    "from pydrake.systems.framework import DiagramBuilder\n",
    "# from pydrake.planning.common_robotics_utilities import SimpleRRTPlannerState\n",
    "\n",
    "\n",
    "from gcs.linear import LinearGCS\n",
    "from gcs.rounding import randomForwardPathSearch\n",
    "from reproduction.prm_comparison.planning import PRM, BiRRT\n",
    "from reproduction.prm_comparison.helpers import (\n",
    "    ForwardKinematics,\n",
    "    get_traj_length,\n",
    "    InverseKinematics,\n",
    "    is_traj_confined,\n",
    "    make_traj,\n",
    "    visualize_trajectory,\n",
    ")\n",
    "from reproduction.util import *\n",
    "\n",
    "# GurobiSolver.AcquireLicense()\n",
    "os.environ['MOSEKLM_LICENSE_FILE'] = '/Users/varun/mosek/mosek.lic'\n",
    "MosekSolver.AcquireLicense()\n",
    "\n",
    "print(MosekSolver().available())"
   ]
  },
  {
   "cell_type": "code",
   "execution_count": 36,
   "metadata": {
    "pycharm": {
     "name": "#%%\n"
    }
   },
   "outputs": [
    {
     "name": "stderr",
     "output_type": "stream",
     "text": [
      "INFO:drake:Meshcat listening for connections at http://localhost:7001\n"
     ]
    }
   ],
   "source": [
    "# Start the visualizer (run this cell only once, each instance consumes a port)\n",
    "meshcat = StartMeshcat()"
   ]
  },
  {
   "cell_type": "code",
   "execution_count": 37,
   "metadata": {
    "pycharm": {
     "name": "#%%\n"
    }
   },
   "outputs": [],
   "source": [
    "SEED = 17\n",
    "np.random.seed(SEED)"
   ]
  },
  {
   "cell_type": "code",
   "execution_count": 38,
   "metadata": {
    "pycharm": {
     "name": "#%%\n"
    }
   },
   "outputs": [
    {
     "name": "stderr",
     "output_type": "stream",
     "text": [
      "/var/folders/p0/l4__0wtd3j184sv9zspd0qlm0000gn/T/ipykernel_8862/1353813250.py:18: DrakeDeprecationWarning: MeshcatVisualizerCpp has been renamed to MeshcatVisualizer. The deprecated code will be removed from Drake on or after 2022-11-01.\n",
      "  meshcat_cpp = MeshcatVisualizerCpp.AddToBuilder(builder, scene_graph, meshcat, meshcat_params)\n"
     ]
    }
   ],
   "source": [
    "builder = DiagramBuilder()\n",
    "plant, scene_graph = AddMultibodyPlantSceneGraph(builder, time_step=0.0)\n",
    "parser = Parser(plant)\n",
    "parser.package_map().Add(\"gcs\", GcsDir())\n",
    "\n",
    "directives_file = FindModelFile(\"models/iiwa14_spheres_collision_welded_gripper.yaml\")\n",
    "directives = LoadModelDirectives(directives_file)\n",
    "models = ProcessModelDirectives(directives, plant, parser)\n",
    "[iiwa, wsg, binR, binL, table] =  models\n",
    " \n",
    "\n",
    "plant.Finalize()\n",
    "\n",
    "meshcat_params = MeshcatVisualizerParams()\n",
    "meshcat_params.delete_on_initialization_event = False\n",
    "meshcat_params.role = Role.kIllustration\n",
    "# meshcat_params.role = Role.kProximity\n",
    "meshcat_cpp = MeshcatVisualizerCpp.AddToBuilder(builder, scene_graph, meshcat, meshcat_params)\n",
    "\n",
    "diagram = builder.Build()\n",
    "\n",
    "context = diagram.CreateDefaultContext()\n",
    "#plant_context = plant.GetMyContextFromRoot(context)\n",
    "plant_context = plant.GetMyMutableContextFromRoot(context)\n",
    "q0 =[0, 0.3, 0, -1.8, 0, 1, 1.57]\n",
    "plant.SetPositions(plant_context, q0)\n",
    "diagram.Publish(context)"
   ]
  },
  {
   "cell_type": "markdown",
   "metadata": {
    "pycharm": {
     "name": "#%% md\n"
    }
   },
   "source": [
    "# Generate Iris Regions\n",
    "### via manual seeds"
   ]
  },
  {
   "cell_type": "code",
   "execution_count": 45,
   "metadata": {
    "pycharm": {
     "name": "#%%\n"
    }
   },
   "outputs": [],
   "source": [
    "milestones =  {\"Above Shelve\": [[0.75, 0, 0.9],    [0, -np.pi, -np.pi/2]],   \n",
    "#                 \"Top Rack\":    [[0.75, 0, 0.67],   [0, -np.pi, -np.pi/2]],   \n",
    "#                 \"Middle Rack\": [[0.75, 0, 0.41],   [0, -np.pi, -np.pi/2]],       \n",
    "                \"Left Bin\":    [[0.4,  0.3, 0.22], [np.pi/2, np.pi, 0]], \n",
    "                \"Right Bin\":   [[0.4, -0.3, 0.22], [np.pi/2, np.pi, np.pi]],\n",
    "                \"Test Seed\":   [[0.75, 0, 0.85],   [0, -np.pi, -np.pi/2]],\n",
    "                \"between bins\": [[0.4, 0, 0.05],   [np.pi/2, np.pi, 0]]}\n",
    "\n",
    "\n",
    "additional_seed_points = {\"Front to Shelve\":np.array([0, 0.2, 0, -2.09, 0, -0.3, np.pi/2]), \n",
    "                          \"Left to Shelve\": np.array([0.8, 0.7, 0, -1.6, 0, 0, np.pi/2]),\n",
    "                          \"Right to Shelve\":np.array([-0.8, 0.7, 0, -1.6, 0, 0, np.pi/2]),}\n",
    "\n",
    "q0 =[0, 0.3, 0, -1.8, 0, 1, 1.57]\n",
    "milestone_configurations =  {name: InverseKinematics(q0, trans, rot) for name, (trans, rot) in milestones.items()}\n",
    "\n",
    "seed_points = {**milestone_configurations, **additional_seed_points}"
   ]
  },
  {
   "cell_type": "code",
   "execution_count": 46,
   "metadata": {
    "pycharm": {
     "name": "#%%\n"
    },
    "scrolled": true
   },
   "outputs": [
    {
     "name": "stdout",
     "output_type": "stream",
     "text": [
      "{'Above Shelve': array([ 6.41950821e-05,  4.71953264e-01, -1.49318242e-04, -6.71673454e-01,\n",
      "        1.85368193e-04,  4.26169599e-01,  1.57069215e+00]), 'Left Bin': array([ 0.33844467,  0.61693683,  0.39825049, -1.82148854, -0.32932757,\n",
      "        0.76876491,  0.91079681]), 'Right Bin': array([-0.33816941,  0.61700363, -0.39861835, -1.82148907,  0.32963854,\n",
      "        0.76882275,  2.23054774]), 'Test Seed': array([ 9.83600730e-05,  4.14759451e-01, -1.78732762e-04, -8.88337408e-01,\n",
      "        2.63138161e-04,  2.68699468e-01,  1.57061296e+00]), 'between bins': array([-0.20368924,  0.87153089,  0.23399445, -2.07778408, -0.72469363,\n",
      "        0.27227953,  0.6552084 ]), 'Front to Shelve': array([ 0.        ,  0.2       ,  0.        , -2.09      ,  0.        ,\n",
      "       -0.3       ,  1.57079633]), 'Left to Shelve': array([ 0.8       ,  0.7       ,  0.        , -1.6       ,  0.        ,\n",
      "        0.        ,  1.57079633]), 'Right to Shelve': array([-0.8       ,  0.7       ,  0.        , -1.6       ,  0.        ,\n",
      "        0.        ,  1.57079633])}\n"
     ]
    }
   ],
   "source": [
    "print(seed_points)"
   ]
  },
  {
   "cell_type": "code",
   "execution_count": 47,
   "metadata": {
    "pycharm": {
     "name": "#%%\n"
    }
   },
   "outputs": [],
   "source": [
    "iris_options = IrisOptions()\n",
    "iris_options.require_sample_point_is_contained = True\n",
    "iris_options.iteration_limit = 10\n",
    "iris_options.termination_threshold = -1\n",
    "iris_options.relative_termination_threshold = 0.01\n",
    "iris_options.enable_ibex = False\n",
    "CORE_CNT = mp.cpu_count() # you may edit this"
   ]
  },
  {
   "cell_type": "code",
   "execution_count": 48,
   "metadata": {
    "pycharm": {
     "name": "#%%\n"
    }
   },
   "outputs": [],
   "source": [
    "def calcRegion(seed, verbose):\n",
    "    start_time = time.time()\n",
    "    context = diagram.CreateDefaultContext()\n",
    "    plant_context = plant.GetMyContextFromRoot(context)\n",
    "    plant.SetPositions(plant_context, seed)\n",
    "    hpoly = IrisInConfigurationSpace(plant, plant_context, iris_options)\n",
    "    print(\"Seed:\", seed, \"\\tTime:\", time.time() - start_time, flush=True)\n",
    "    return hpoly"
   ]
  },
  {
   "cell_type": "code",
   "execution_count": 49,
   "metadata": {
    "pycharm": {
     "name": "#%%\n"
    }
   },
   "outputs": [],
   "source": [
    "def generateRegions(seed_points, verbose = True):\n",
    "    seeds = list(seed_points.values()) if type(seed_points) is dict else seed_points\n",
    "    regions = []\n",
    "    loop_time = time.time()\n",
    "#     with mp.Pool(processes = CORE_CNT) as pool:\n",
    "#         regions = pool.starmap(calcRegion, [[seed, verbose] for seed in seeds])\n",
    "    regions = [calcRegion(seed, verbose) for seed in seeds]\n",
    "\n",
    "    \n",
    "    if verbose:\n",
    "        print(\"Loop time:\", time.time() - loop_time)\n",
    "    \n",
    "    if type(seed_points) is dict:\n",
    "        return dict(list(zip(seed_points.keys(), regions)))\n",
    "    \n",
    "    return regions"
   ]
  },
  {
   "cell_type": "code",
   "execution_count": 50,
   "metadata": {
    "pycharm": {
     "name": "#%%\n"
    },
    "scrolled": false
   },
   "outputs": [
    {
     "name": "stdout",
     "output_type": "stream",
     "text": [
      "Seed: [ 6.41950821e-05  4.71953264e-01 -1.49318242e-04 -6.71673454e-01\n",
      "  1.85368193e-04  4.26169599e-01  1.57069215e+00] \tTime: 111.60070586204529\n",
      "Seed: [ 0.33844467  0.61693683  0.39825049 -1.82148854 -0.32932757  0.76876491\n",
      "  0.91079681] \tTime: 74.34598898887634\n",
      "Seed: [-0.33816941  0.61700363 -0.39861835 -1.82148907  0.32963854  0.76882275\n",
      "  2.23054774] \tTime: 59.03419232368469\n",
      "Seed: [ 9.83600730e-05  4.14759451e-01 -1.78732762e-04 -8.88337408e-01\n",
      "  2.63138161e-04  2.68699468e-01  1.57061296e+00] \tTime: 145.25945329666138\n",
      "Seed: [-0.20368924  0.87153089  0.23399445 -2.07778408 -0.72469363  0.27227953\n",
      "  0.6552084 ] \tTime: 0.030632972717285156\n",
      "Seed: [ 0.          0.2         0.         -2.09        0.         -0.3\n",
      "  1.57079633] \tTime: 100.53297090530396\n",
      "Seed: [ 0.8         0.7         0.         -1.6         0.          0.\n",
      "  1.57079633] \tTime: 0.005981922149658203\n",
      "Seed: [-0.8         0.7         0.         -1.6         0.          0.\n",
      "  1.57079633] \tTime: 0.007792949676513672\n",
      "Loop time: 490.95079588890076\n"
     ]
    }
   ],
   "source": [
    "regions = generateRegions(seed_points)"
   ]
  },
  {
   "cell_type": "code",
   "execution_count": 51,
   "metadata": {
    "pycharm": {
     "name": "#%%\n"
    }
   },
   "outputs": [
    {
     "name": "stdout",
     "output_type": "stream",
     "text": [
      "{'Above Shelve': <pydrake.geometry.optimization.HPolyhedron object at 0x14cf325f0>, 'Left Bin': <pydrake.geometry.optimization.HPolyhedron object at 0x14cf0c070>, 'Right Bin': <pydrake.geometry.optimization.HPolyhedron object at 0x14cc096b0>, 'Test Seed': <pydrake.geometry.optimization.HPolyhedron object at 0x14cf4ddb0>, 'between bins': <pydrake.geometry.optimization.HPolyhedron object at 0x14cf0c130>, 'Front to Shelve': <pydrake.geometry.optimization.HPolyhedron object at 0x13ab8b730>, 'Left to Shelve': <pydrake.geometry.optimization.HPolyhedron object at 0x13ac2dd70>, 'Right to Shelve': <pydrake.geometry.optimization.HPolyhedron object at 0x10d351c70>}\n"
     ]
    }
   ],
   "source": [
    "print(regions)"
   ]
  },
  {
   "cell_type": "markdown",
   "metadata": {
    "pycharm": {
     "name": "#%% md\n"
    }
   },
   "source": [
    "## via pre-generated regions"
   ]
  },
  {
   "cell_type": "code",
   "execution_count": 52,
   "metadata": {
    "pycharm": {
     "name": "#%%\n"
    }
   },
   "outputs": [
    {
     "data": {
      "image/svg+xml": [
       "<svg xmlns=\"http://www.w3.org/2000/svg\" xmlns:xlink=\"http://www.w3.org/1999/xlink\" width=\"1649pt\" height=\"653pt\" viewBox=\"0.00 0.00 1649.38 653.00\">\n",
       "<g id=\"graph0\" class=\"graph\" transform=\"scale(1 1) rotate(0) translate(4 649)\">\n",
       "<title>GraphOfConvexSets</title>\n",
       "<polygon fill=\"white\" stroke=\"transparent\" points=\"-4,4 -4,-649 1645.38,-649 1645.38,4 -4,4\"/>\n",
       "<!-- v9199 -->\n",
       "<g id=\"node1\" class=\"node\">\n",
       "<title>v9199</title>\n",
       "<ellipse fill=\"none\" stroke=\"black\" cx=\"958.38\" cy=\"-627\" rx=\"27\" ry=\"18\"/>\n",
       "<text text-anchor=\"middle\" x=\"958.38\" y=\"-623.3\" font-family=\"Times,serif\" font-size=\"14.00\">q_1</text>\n",
       "</g>\n",
       "<!-- v9200 -->\n",
       "<g id=\"node2\" class=\"node\">\n",
       "<title>v9200</title>\n",
       "<ellipse fill=\"none\" stroke=\"black\" cx=\"861.38\" cy=\"-540\" rx=\"27\" ry=\"18\"/>\n",
       "<text text-anchor=\"middle\" x=\"861.38\" y=\"-536.3\" font-family=\"Times,serif\" font-size=\"14.00\">q_2</text>\n",
       "</g>\n",
       "<!-- v9199&#45;&gt;v9200 -->\n",
       "<g id=\"edge1\" class=\"edge\">\n",
       "<title>v9199-&gt;v9200</title>\n",
       "<path fill=\"none\" stroke=\"black\" d=\"M942.36,-611.96C926.69,-598.22 902.63,-577.14 884.8,-561.52\"/>\n",
       "<polygon fill=\"black\" stroke=\"black\" points=\"886.93,-558.73 877.1,-554.77 882.32,-564 886.93,-558.73\"/>\n",
       "<text text-anchor=\"middle\" x=\"944.38\" y=\"-579.8\" font-family=\"Times,serif\" font-size=\"14.00\">(q_1, q_2)</text>\n",
       "</g>\n",
       "<!-- v9201 -->\n",
       "<g id=\"node3\" class=\"node\">\n",
       "<title>v9201</title>\n",
       "<ellipse fill=\"none\" stroke=\"black\" cx=\"849.38\" cy=\"-18\" rx=\"27\" ry=\"18\"/>\n",
       "<text text-anchor=\"middle\" x=\"849.38\" y=\"-14.3\" font-family=\"Times,serif\" font-size=\"14.00\">q_3</text>\n",
       "</g>\n",
       "<!-- v9199&#45;&gt;v9201 -->\n",
       "<g id=\"edge3\" class=\"edge\">\n",
       "<title>v9199-&gt;v9201</title>\n",
       "<path fill=\"none\" stroke=\"black\" d=\"M978.42,-614.83C983.49,-612.49 989.02,-610.33 994.38,-609 1163.21,-567.04 1215.8,-629.8 1385.38,-591 1440.51,-578.39 1502.38,-597.55 1502.38,-541 1502.38,-541 1502.38,-541 1502.38,-104 1502.38,-41.46 1025.37,-23.73 886.74,-19.9\"/>\n",
       "<polygon fill=\"black\" stroke=\"black\" points=\"886.7,-16.4 876.61,-19.63 886.51,-23.4 886.7,-16.4\"/>\n",
       "<text text-anchor=\"middle\" x=\"1531.38\" y=\"-318.8\" font-family=\"Times,serif\" font-size=\"14.00\">(q_1, q_3)</text>\n",
       "</g>\n",
       "<!-- v9202 -->\n",
       "<g id=\"node4\" class=\"node\">\n",
       "<title>v9202</title>\n",
       "<ellipse fill=\"none\" stroke=\"black\" cx=\"691.38\" cy=\"-105\" rx=\"27\" ry=\"18\"/>\n",
       "<text text-anchor=\"middle\" x=\"691.38\" y=\"-101.3\" font-family=\"Times,serif\" font-size=\"14.00\">q_4</text>\n",
       "</g>\n",
       "<!-- v9199&#45;&gt;v9202 -->\n",
       "<g id=\"edge5\" class=\"edge\">\n",
       "<title>v9199-&gt;v9202</title>\n",
       "<path fill=\"none\" stroke=\"black\" d=\"M978.92,-615.09C983.88,-612.8 989.23,-610.6 994.38,-609 1085.11,-580.89 1416.38,-635.99 1416.38,-541 1416.38,-541 1416.38,-541 1416.38,-321.5 1416.38,-293.9 1421.09,-281.29 1402.38,-261 1278.96,-127.13 1184.71,-192.8 1006.38,-156 981.15,-150.79 975.65,-146.07 950.38,-141 871.88,-125.25 778.55,-114.58 728.13,-109.48\"/>\n",
       "<polygon fill=\"black\" stroke=\"black\" points=\"728.34,-105.98 718.04,-108.47 727.64,-112.95 728.34,-105.98\"/>\n",
       "<text text-anchor=\"middle\" x=\"1445.38\" y=\"-362.3\" font-family=\"Times,serif\" font-size=\"14.00\">(q_1, q_4)</text>\n",
       "</g>\n",
       "<!-- v9203 -->\n",
       "<g id=\"node5\" class=\"node\">\n",
       "<title>v9203</title>\n",
       "<ellipse fill=\"none\" stroke=\"black\" cx=\"846.38\" cy=\"-192\" rx=\"27\" ry=\"18\"/>\n",
       "<text text-anchor=\"middle\" x=\"846.38\" y=\"-188.3\" font-family=\"Times,serif\" font-size=\"14.00\">q_5</text>\n",
       "</g>\n",
       "<!-- v9199&#45;&gt;v9203 -->\n",
       "<g id=\"edge7\" class=\"edge\">\n",
       "<title>v9199-&gt;v9203</title>\n",
       "<path fill=\"none\" stroke=\"black\" d=\"M977.24,-613.97C987.06,-607.48 999.13,-599.15 1009.38,-591 1071.2,-541.87 1096.14,-536.4 1140.38,-471 1158.75,-443.86 1147.57,-428.84 1166.38,-402 1173.44,-391.93 1182.25,-395.17 1187.38,-384 1194.07,-369.46 1193.32,-362.86 1187.38,-348 1160.1,-279.68 1139.31,-260.63 1073.38,-228 1006.87,-195.09 980.26,-224.01 907.38,-210 898.36,-208.27 888.73,-205.85 879.85,-203.39\"/>\n",
       "<polygon fill=\"black\" stroke=\"black\" points=\"880.79,-200.02 870.21,-200.62 878.86,-206.75 880.79,-200.02\"/>\n",
       "<text text-anchor=\"middle\" x=\"1195.38\" y=\"-405.8\" font-family=\"Times,serif\" font-size=\"14.00\">(q_1, q_5)</text>\n",
       "</g>\n",
       "<!-- v9204 -->\n",
       "<g id=\"node6\" class=\"node\">\n",
       "<title>v9204</title>\n",
       "<ellipse fill=\"none\" stroke=\"black\" cx=\"904.38\" cy=\"-279\" rx=\"27\" ry=\"18\"/>\n",
       "<text text-anchor=\"middle\" x=\"904.38\" y=\"-275.3\" font-family=\"Times,serif\" font-size=\"14.00\">q_6</text>\n",
       "</g>\n",
       "<!-- v9199&#45;&gt;v9204 -->\n",
       "<g id=\"edge9\" class=\"edge\">\n",
       "<title>v9199-&gt;v9204</title>\n",
       "<path fill=\"none\" stroke=\"black\" d=\"M969.05,-610.31C972.41,-604.51 975.68,-597.7 977.38,-591 979.02,-584.54 977.69,-582.66 977.38,-576 973.82,-498.42 979.25,-477.58 961.38,-402 951.83,-361.6 946.44,-351.88 927.38,-315 925.52,-311.4 923.38,-307.7 921.17,-304.13\"/>\n",
       "<polygon fill=\"black\" stroke=\"black\" points=\"924.02,-302.09 915.64,-295.61 918.14,-305.9 924.02,-302.09\"/>\n",
       "<text text-anchor=\"middle\" x=\"1002.38\" y=\"-449.3\" font-family=\"Times,serif\" font-size=\"14.00\">(q_1, q_6)</text>\n",
       "</g>\n",
       "<!-- v9205 -->\n",
       "<g id=\"node7\" class=\"node\">\n",
       "<title>v9205</title>\n",
       "<ellipse fill=\"none\" stroke=\"black\" cx=\"471.38\" cy=\"-366\" rx=\"27\" ry=\"18\"/>\n",
       "<text text-anchor=\"middle\" x=\"471.38\" y=\"-362.3\" font-family=\"Times,serif\" font-size=\"14.00\">q_7</text>\n",
       "</g>\n",
       "<!-- v9199&#45;&gt;v9205 -->\n",
       "<g id=\"edge11\" class=\"edge\">\n",
       "<title>v9199-&gt;v9205</title>\n",
       "<path fill=\"none\" stroke=\"black\" d=\"M931.17,-625.99C809.6,-625.74 319.55,-622.78 259.38,-591 216.47,-568.33 208.86,-550 193.38,-504 178.74,-460.47 215.42,-421.16 243.38,-402 273.64,-381.27 377.35,-372.28 433.89,-368.85\"/>\n",
       "<polygon fill=\"black\" stroke=\"black\" points=\"434.42,-372.33 444.2,-368.26 434.02,-365.34 434.42,-372.33\"/>\n",
       "<text text-anchor=\"middle\" x=\"222.38\" y=\"-492.8\" font-family=\"Times,serif\" font-size=\"14.00\">(q_1, q_7)</text>\n",
       "</g>\n",
       "<!-- v9206 -->\n",
       "<g id=\"node8\" class=\"node\">\n",
       "<title>v9206</title>\n",
       "<ellipse fill=\"none\" stroke=\"black\" cx=\"453.38\" cy=\"-453\" rx=\"27\" ry=\"18\"/>\n",
       "<text text-anchor=\"middle\" x=\"453.38\" y=\"-449.3\" font-family=\"Times,serif\" font-size=\"14.00\">q_8</text>\n",
       "</g>\n",
       "<!-- v9199&#45;&gt;v9206 -->\n",
       "<g id=\"edge13\" class=\"edge\">\n",
       "<title>v9199-&gt;v9206</title>\n",
       "<path fill=\"none\" stroke=\"black\" d=\"M931.2,-625.63C836.72,-624.12 523.09,-617.21 426.38,-591 394.73,-582.42 377.62,-585.9 360.38,-558 338.46,-522.54 388.06,-487.75 422.91,-468.76\"/>\n",
       "<polygon fill=\"black\" stroke=\"black\" points=\"424.62,-471.81 431.84,-464.06 421.36,-465.62 424.62,-471.81\"/>\n",
       "<text text-anchor=\"middle\" x=\"389.38\" y=\"-536.3\" font-family=\"Times,serif\" font-size=\"14.00\">(q_1, q_8)</text>\n",
       "</g>\n",
       "<!-- v9200&#45;&gt;v9199 -->\n",
       "<g id=\"edge2\" class=\"edge\">\n",
       "<title>v9200-&gt;v9199</title>\n",
       "<path fill=\"none\" stroke=\"black\" d=\"M847.97,-556.03C840.28,-566.53 833.57,-580.5 841.38,-591 859.55,-615.4 894.1,-623.44 920.96,-625.8\"/>\n",
       "<polygon fill=\"black\" stroke=\"black\" points=\"920.99,-629.31 931.2,-626.46 921.44,-622.32 920.99,-629.31\"/>\n",
       "<text text-anchor=\"middle\" x=\"870.38\" y=\"-579.8\" font-family=\"Times,serif\" font-size=\"14.00\">(q_2, q_1)</text>\n",
       "</g>\n",
       "<!-- v9200&#45;&gt;v9201 -->\n",
       "<g id=\"edge15\" class=\"edge\">\n",
       "<title>v9200-&gt;v9201</title>\n",
       "<path fill=\"none\" stroke=\"black\" d=\"M888.66,-538.66C946.19,-537.38 1083.86,-531.46 1195.38,-504 1233.93,-494.51 1244.17,-491.14 1278.38,-471 1344.37,-432.15 1363.58,-405.32 1377.38,-330 1385.77,-284.25 1330.38,-283.01 1330.38,-236.5 1330.38,-236.5 1330.38,-236.5 1330.38,-104 1330.38,-58.97 999.28,-30.15 886.49,-21.64\"/>\n",
       "<polygon fill=\"black\" stroke=\"black\" points=\"886.51,-18.13 876.27,-20.88 885.99,-25.11 886.51,-18.13\"/>\n",
       "<text text-anchor=\"middle\" x=\"1398.38\" y=\"-275.3\" font-family=\"Times,serif\" font-size=\"14.00\">(q_2, q_3)</text>\n",
       "</g>\n",
       "<!-- v9200&#45;&gt;v9202 -->\n",
       "<g id=\"edge17\" class=\"edge\">\n",
       "<title>v9200-&gt;v9202</title>\n",
       "<path fill=\"none\" stroke=\"black\" d=\"M888.55,-539.38C943.25,-539.39 1069.98,-535.66 1170.38,-504 1171.59,-503.62 1329.74,-418.09 1330.38,-417 1333.79,-411.27 1331.62,-408.55 1330.38,-402 1314.62,-318.36 1317.56,-280.26 1250.38,-228 1223.58,-207.15 985.1,-168.11 953.38,-156 940.19,-150.96 938.78,-145.44 925.38,-141 858.14,-118.71 775.3,-110.57 728.4,-107.63\"/>\n",
       "<polygon fill=\"black\" stroke=\"black\" points=\"728.58,-104.13 718.39,-107.05 728.17,-111.12 728.58,-104.13\"/>\n",
       "<text text-anchor=\"middle\" x=\"1345.38\" y=\"-318.8\" font-family=\"Times,serif\" font-size=\"14.00\">(q_2, q_4)</text>\n",
       "</g>\n",
       "<!-- v9200&#45;&gt;v9203 -->\n",
       "<g id=\"edge19\" class=\"edge\">\n",
       "<title>v9200-&gt;v9203</title>\n",
       "<path fill=\"none\" stroke=\"black\" d=\"M887.81,-536.13C948.07,-528.97 1092.65,-508.21 1121.38,-471 1155.69,-426.57 1096.84,-262.28 1052.38,-228 1026.67,-208.17 939.22,-216.38 907.38,-210 898.38,-208.2 888.75,-205.76 879.87,-203.29\"/>\n",
       "<polygon fill=\"black\" stroke=\"black\" points=\"880.81,-199.92 870.23,-200.53 878.88,-206.65 880.81,-199.92\"/>\n",
       "<text text-anchor=\"middle\" x=\"1154.38\" y=\"-362.3\" font-family=\"Times,serif\" font-size=\"14.00\">(q_2, q_5)</text>\n",
       "</g>\n",
       "<!-- v9200&#45;&gt;v9204 -->\n",
       "<g id=\"edge21\" class=\"edge\">\n",
       "<title>v9200-&gt;v9204</title>\n",
       "<path fill=\"none\" stroke=\"black\" d=\"M850.06,-523.39C832.15,-496.6 801.7,-441 826.38,-402 836.38,-386.21 850.4,-396.4 864.38,-384 885.6,-365.18 888.91,-356.73 898.38,-330 900.92,-322.83 902.43,-314.76 903.31,-307.23\"/>\n",
       "<polygon fill=\"black\" stroke=\"black\" points=\"906.82,-307.35 904.19,-297.09 899.84,-306.75 906.82,-307.35\"/>\n",
       "<text text-anchor=\"middle\" x=\"855.38\" y=\"-405.8\" font-family=\"Times,serif\" font-size=\"14.00\">(q_2, q_6)</text>\n",
       "</g>\n",
       "<!-- v9200&#45;&gt;v9205 -->\n",
       "<g id=\"edge23\" class=\"edge\">\n",
       "<title>v9200-&gt;v9205</title>\n",
       "<path fill=\"none\" stroke=\"black\" d=\"M841.88,-527.54C819.95,-514.47 783.47,-492.16 753.38,-471 732.15,-456.06 728.31,-450.36 707.38,-435 686.51,-419.68 683.3,-411.92 659.38,-402 609.63,-381.36 547.43,-372.83 508.54,-369.34\"/>\n",
       "<polygon fill=\"black\" stroke=\"black\" points=\"508.47,-365.82 498.22,-368.49 507.9,-372.8 508.47,-365.82\"/>\n",
       "<text text-anchor=\"middle\" x=\"782.38\" y=\"-449.3\" font-family=\"Times,serif\" font-size=\"14.00\">(q_2, q_7)</text>\n",
       "</g>\n",
       "<!-- v9200&#45;&gt;v9206 -->\n",
       "<g id=\"edge25\" class=\"edge\">\n",
       "<title>v9200-&gt;v9206</title>\n",
       "<path fill=\"none\" stroke=\"black\" d=\"M834.24,-539.73C782.03,-540.27 664.72,-537.28 573.38,-504 561.92,-499.82 561.31,-494.44 550.38,-489 530.28,-478.99 506.58,-470.38 487.65,-464.21\"/>\n",
       "<polygon fill=\"black\" stroke=\"black\" points=\"488.53,-460.82 477.94,-461.12 486.41,-467.49 488.53,-460.82\"/>\n",
       "<text text-anchor=\"middle\" x=\"602.38\" y=\"-492.8\" font-family=\"Times,serif\" font-size=\"14.00\">(q_2, q_8)</text>\n",
       "</g>\n",
       "<!-- v9201&#45;&gt;v9199 -->\n",
       "<g id=\"edge4\" class=\"edge\">\n",
       "<title>v9201-&gt;v9199</title>\n",
       "<path fill=\"none\" stroke=\"black\" d=\"M876.38,-19.23C1008.8,-20.72 1583.38,-31.36 1583.38,-104 1583.38,-541 1583.38,-541 1583.38,-541 1583.38,-604.98 1511.13,-578.47 1448.38,-591 1250.36,-630.56 1190.51,-560.92 994.38,-609 992.2,-609.53 989.99,-610.21 987.8,-610.98\"/>\n",
       "<polygon fill=\"black\" stroke=\"black\" points=\"986.35,-607.79 978.42,-614.81 989,-614.27 986.35,-607.79\"/>\n",
       "<text text-anchor=\"middle\" x=\"1612.38\" y=\"-318.8\" font-family=\"Times,serif\" font-size=\"14.00\">(q_3, q_1)</text>\n",
       "</g>\n",
       "<!-- v9201&#45;&gt;v9200 -->\n",
       "<g id=\"edge16\" class=\"edge\">\n",
       "<title>v9201-&gt;v9200</title>\n",
       "<path fill=\"none\" stroke=\"black\" d=\"M822.26,-18.82C677.79,-18.21 5.38,-19.87 5.38,-104 5.38,-236.5 5.38,-236.5 5.38,-236.5 5.38,-263.39 -6.1,-272.69 5.38,-297 20.62,-329.26 41.14,-323.83 67.38,-348 98.83,-376.96 97.42,-395.54 134.38,-417 201.46,-455.94 395.95,-490.81 472.38,-504 506.53,-509.89 734.15,-528.69 824.51,-536.03\"/>\n",
       "<polygon fill=\"black\" stroke=\"black\" points=\"824.33,-539.52 834.58,-536.84 824.89,-532.55 824.33,-539.52\"/>\n",
       "<text text-anchor=\"middle\" x=\"34.38\" y=\"-275.3\" font-family=\"Times,serif\" font-size=\"14.00\">(q_3, q_2)</text>\n",
       "</g>\n",
       "<!-- v9201&#45;&gt;v9202 -->\n",
       "<g id=\"edge27\" class=\"edge\">\n",
       "<title>v9201-&gt;v9202</title>\n",
       "<path fill=\"none\" stroke=\"black\" d=\"M831.06,-31.46C815.11,-42.05 791.2,-57.36 769.38,-69 754.59,-76.89 737.67,-84.63 723.38,-90.82\"/>\n",
       "<polygon fill=\"black\" stroke=\"black\" points=\"721.79,-87.69 713.96,-94.84 724.53,-94.13 721.79,-87.69\"/>\n",
       "<text text-anchor=\"middle\" x=\"822.38\" y=\"-57.8\" font-family=\"Times,serif\" font-size=\"14.00\">(q_3, q_4)</text>\n",
       "</g>\n",
       "<!-- v9201&#45;&gt;v9203 -->\n",
       "<g id=\"edge29\" class=\"edge\">\n",
       "<title>v9201-&gt;v9203</title>\n",
       "<path fill=\"none\" stroke=\"black\" d=\"M853.67,-36.03C859.57,-62.1 868.59,-113.36 860.38,-156 859.8,-159.05 858.94,-162.17 857.95,-165.24\"/>\n",
       "<polygon fill=\"black\" stroke=\"black\" points=\"854.65,-164.07 854.41,-174.66 861.2,-166.52 854.65,-164.07\"/>\n",
       "<text text-anchor=\"middle\" x=\"892.38\" y=\"-101.3\" font-family=\"Times,serif\" font-size=\"14.00\">(q_3, q_5)</text>\n",
       "</g>\n",
       "<!-- v9201&#45;&gt;v9204 -->\n",
       "<g id=\"edge31\" class=\"edge\">\n",
       "<title>v9201-&gt;v9204</title>\n",
       "<path fill=\"none\" stroke=\"black\" d=\"M875.38,-22.96C908.89,-29.61 965.89,-46.53 991.38,-87 1028.73,-146.3 1009.66,-186.37 968.38,-243 960.81,-253.39 949.17,-261.05 937.88,-266.5\"/>\n",
       "<polygon fill=\"black\" stroke=\"black\" points=\"936.34,-263.36 928.58,-270.58 939.15,-269.77 936.34,-263.36\"/>\n",
       "<text text-anchor=\"middle\" x=\"1040.38\" y=\"-144.8\" font-family=\"Times,serif\" font-size=\"14.00\">(q_3, q_6)</text>\n",
       "</g>\n",
       "<!-- v9201&#45;&gt;v9205 -->\n",
       "<g id=\"edge33\" class=\"edge\">\n",
       "<title>v9201-&gt;v9205</title>\n",
       "<path fill=\"none\" stroke=\"black\" d=\"M822.36,-18.79C743.53,-19.84 513.75,-35.15 423.38,-174 388.94,-226.93 429.18,-302.9 454.27,-341.12\"/>\n",
       "<polygon fill=\"black\" stroke=\"black\" points=\"451.47,-343.22 459.96,-349.55 457.27,-339.3 451.47,-343.22\"/>\n",
       "<text text-anchor=\"middle\" x=\"452.38\" y=\"-188.3\" font-family=\"Times,serif\" font-size=\"14.00\">(q_3, q_7)</text>\n",
       "</g>\n",
       "<!-- v9201&#45;&gt;v9206 -->\n",
       "<g id=\"edge35\" class=\"edge\">\n",
       "<title>v9201-&gt;v9206</title>\n",
       "<path fill=\"none\" stroke=\"black\" d=\"M822.17,-18.82C700.62,-18.23 210.84,-18.1 153.38,-54 78.48,-100.8 79.41,-142.47 57.38,-228 53.56,-242.84 59.96,-247.59 67.38,-261 86.55,-295.64 120.21,-395.4 153.38,-417 191.89,-442.07 313.84,-428.9 359.38,-435 378.89,-437.61 400.52,-441.46 418.11,-444.83\"/>\n",
       "<polygon fill=\"black\" stroke=\"black\" points=\"417.46,-448.27 427.95,-446.75 418.8,-441.4 417.46,-448.27\"/>\n",
       "<text text-anchor=\"middle\" x=\"86.38\" y=\"-231.8\" font-family=\"Times,serif\" font-size=\"14.00\">(q_3, q_8)</text>\n",
       "</g>\n",
       "<!-- v9202&#45;&gt;v9199 -->\n",
       "<g id=\"edge6\" class=\"edge\">\n",
       "<title>v9202-&gt;v9199</title>\n",
       "<path fill=\"none\" stroke=\"black\" d=\"M664.3,-107.12C587.72,-110.51 370.71,-121.6 302.38,-141 270.83,-149.96 265.17,-158.29 236.38,-174 195.1,-196.53 180.64,-196.87 145.38,-228 107.33,-261.6 5.38,-357.74 5.38,-408.5 5.38,-541 5.38,-541 5.38,-541 5.38,-644.31 129.98,-577.35 232.38,-591 494.46,-625.93 813.86,-627.13 921.2,-626.41\"/>\n",
       "<polygon fill=\"black\" stroke=\"black\" points=\"921.23,-629.91 931.2,-626.33 921.18,-622.91 921.23,-629.91\"/>\n",
       "<text text-anchor=\"middle\" x=\"60.38\" y=\"-362.3\" font-family=\"Times,serif\" font-size=\"14.00\">(q_4, q_1)</text>\n",
       "</g>\n",
       "<!-- v9202&#45;&gt;v9200 -->\n",
       "<g id=\"edge18\" class=\"edge\">\n",
       "<title>v9202-&gt;v9200</title>\n",
       "<path fill=\"none\" stroke=\"black\" d=\"M717.55,-109.75C751.44,-114.98 812.12,-125.57 862.38,-141 938.76,-164.45 951.66,-187.72 1028.38,-210 1073.43,-223.08 1088.11,-212.48 1132.38,-228 1161.1,-238.07 1169.87,-240.53 1192.38,-261 1220.43,-286.5 1277.22,-365.77 1288.38,-402 1290.35,-408.37 1292.36,-411.65 1288.38,-417 1271.76,-439.34 1254.26,-424.74 1228.38,-435 1164.64,-460.28 1155.74,-483.23 1090.38,-504 1024.77,-524.85 944.52,-533.46 898.54,-536.88\"/>\n",
       "<polygon fill=\"black\" stroke=\"black\" points=\"898.18,-533.4 888.44,-537.59 898.67,-540.38 898.18,-533.4\"/>\n",
       "<text text-anchor=\"middle\" x=\"1276.38\" y=\"-318.8\" font-family=\"Times,serif\" font-size=\"14.00\">(q_4, q_2)</text>\n",
       "</g>\n",
       "<!-- v9202&#45;&gt;v9201 -->\n",
       "<g id=\"edge28\" class=\"edge\">\n",
       "<title>v9202-&gt;v9201</title>\n",
       "<path fill=\"none\" stroke=\"black\" d=\"M692.66,-86.92C694.38,-76.04 698.32,-62.46 707.38,-54 735.55,-27.68 780.26,-20.27 811.98,-18.6\"/>\n",
       "<polygon fill=\"black\" stroke=\"black\" points=\"812.33,-22.09 822.19,-18.23 812.07,-15.09 812.33,-22.09\"/>\n",
       "<text text-anchor=\"middle\" x=\"736.38\" y=\"-57.8\" font-family=\"Times,serif\" font-size=\"14.00\">(q_4, q_3)</text>\n",
       "</g>\n",
       "<!-- v9202&#45;&gt;v9203 -->\n",
       "<g id=\"edge37\" class=\"edge\">\n",
       "<title>v9202-&gt;v9203</title>\n",
       "<path fill=\"none\" stroke=\"black\" d=\"M697.55,-122.68C702.43,-133.66 710.28,-147.53 721.38,-156 746.93,-175.49 782.79,-184.13 809.56,-187.95\"/>\n",
       "<polygon fill=\"black\" stroke=\"black\" points=\"809.33,-191.45 819.69,-189.24 810.21,-184.51 809.33,-191.45\"/>\n",
       "<text text-anchor=\"middle\" x=\"750.38\" y=\"-144.8\" font-family=\"Times,serif\" font-size=\"14.00\">(q_4, q_5)</text>\n",
       "</g>\n",
       "<!-- v9202&#45;&gt;v9204 -->\n",
       "<g id=\"edge39\" class=\"edge\">\n",
       "<title>v9202-&gt;v9204</title>\n",
       "<path fill=\"none\" stroke=\"black\" d=\"M669.87,-116.29C649.52,-127.36 620.23,-147.07 607.38,-174 593.2,-203.72 605.59,-227.01 634.38,-243 654.38,-254.11 798.49,-268.43 867.6,-274.75\"/>\n",
       "<polygon fill=\"black\" stroke=\"black\" points=\"867.35,-278.24 877.63,-275.66 867.98,-271.27 867.35,-278.24\"/>\n",
       "<text text-anchor=\"middle\" x=\"636.38\" y=\"-188.3\" font-family=\"Times,serif\" font-size=\"14.00\">(q_4, q_6)</text>\n",
       "</g>\n",
       "<!-- v9202&#45;&gt;v9205 -->\n",
       "<g id=\"edge41\" class=\"edge\">\n",
       "<title>v9202-&gt;v9205</title>\n",
       "<path fill=\"none\" stroke=\"black\" d=\"M664.19,-106.15C630.71,-107.58 573.41,-114.17 533.38,-141 502.35,-161.8 509.35,-181.35 485.38,-210 478.12,-218.68 472.3,-217.81 467.38,-228 446.98,-270.24 451.47,-299.32 457.38,-330 457.97,-333.05 458.82,-336.17 459.82,-339.24\"/>\n",
       "<polygon fill=\"black\" stroke=\"black\" points=\"456.56,-340.52 463.35,-348.66 463.12,-338.07 456.56,-340.52\"/>\n",
       "<text text-anchor=\"middle\" x=\"496.38\" y=\"-231.8\" font-family=\"Times,serif\" font-size=\"14.00\">(q_4, q_7)</text>\n",
       "</g>\n",
       "<!-- v9202&#45;&gt;v9206 -->\n",
       "<g id=\"edge43\" class=\"edge\">\n",
       "<title>v9202-&gt;v9206</title>\n",
       "<path fill=\"none\" stroke=\"black\" d=\"M664.42,-107.1C581.53,-110.99 332.28,-126.45 269.38,-174 235.13,-199.9 236.96,-219.14 227.38,-261 223.81,-276.6 223.26,-281.54 227.38,-297 243.25,-356.44 246.82,-380.55 296.38,-417 306.12,-424.16 374.49,-437.64 417.73,-445.62\"/>\n",
       "<polygon fill=\"black\" stroke=\"black\" points=\"417.14,-449.07 427.61,-447.43 418.4,-442.19 417.14,-449.07\"/>\n",
       "<text text-anchor=\"middle\" x=\"256.38\" y=\"-275.3\" font-family=\"Times,serif\" font-size=\"14.00\">(q_4, q_8)</text>\n",
       "</g>\n",
       "<!-- v9203&#45;&gt;v9199 -->\n",
       "<g id=\"edge8\" class=\"edge\">\n",
       "<title>v9203-&gt;v9199</title>\n",
       "<path fill=\"none\" stroke=\"black\" d=\"M870.2,-200.7C881.38,-204.04 894.95,-207.71 907.38,-210 992.1,-225.63 1018.12,-202.42 1100.38,-228 1191.06,-256.2 1206.87,-308.67 1224.38,-402 1246.46,-519.69 1138.41,-535.36 1032.38,-591 1031.28,-591.58 1009.03,-602.1 989.21,-611.45\"/>\n",
       "<polygon fill=\"black\" stroke=\"black\" points=\"987.63,-608.33 980.08,-615.77 990.61,-614.66 987.63,-608.33\"/>\n",
       "<text text-anchor=\"middle\" x=\"1255.38\" y=\"-405.8\" font-family=\"Times,serif\" font-size=\"14.00\">(q_5, q_1)</text>\n",
       "</g>\n",
       "<!-- v9203&#45;&gt;v9200 -->\n",
       "<g id=\"edge20\" class=\"edge\">\n",
       "<title>v9203-&gt;v9200</title>\n",
       "<path fill=\"none\" stroke=\"black\" d=\"M870.83,-199.88C906.17,-209.83 967.44,-227.17 968.38,-228 1000.13,-255.8 997.76,-273.7 1006.38,-315 1016.51,-363.5 990.63,-377 961.38,-417 954.7,-426.13 950.9,-426.54 943.38,-435 936.81,-442.4 901.98,-486.89 879.88,-515.24\"/>\n",
       "<polygon fill=\"black\" stroke=\"black\" points=\"876.86,-513.42 873.48,-523.45 882.38,-517.72 876.86,-513.42\"/>\n",
       "<text text-anchor=\"middle\" x=\"1035.38\" y=\"-362.3\" font-family=\"Times,serif\" font-size=\"14.00\">(q_5, q_2)</text>\n",
       "</g>\n",
       "<!-- v9203&#45;&gt;v9201 -->\n",
       "<g id=\"edge30\" class=\"edge\">\n",
       "<title>v9203-&gt;v9201</title>\n",
       "<path fill=\"none\" stroke=\"black\" d=\"M867.01,-180.16C886.16,-168.8 913.46,-148.99 925.38,-123 932.05,-108.46 931.91,-101.61 925.38,-87 915.72,-65.39 895.42,-47.81 878.23,-35.94\"/>\n",
       "<polygon fill=\"black\" stroke=\"black\" points=\"879.88,-32.83 869.6,-30.26 876.03,-38.68 879.88,-32.83\"/>\n",
       "<text text-anchor=\"middle\" x=\"958.38\" y=\"-101.3\" font-family=\"Times,serif\" font-size=\"14.00\">(q_5, q_3)</text>\n",
       "</g>\n",
       "<!-- v9203&#45;&gt;v9202 -->\n",
       "<g id=\"edge38\" class=\"edge\">\n",
       "<title>v9203-&gt;v9202</title>\n",
       "<path fill=\"none\" stroke=\"black\" d=\"M829.76,-177.81C813.45,-165.01 789.58,-146.7 779.38,-141 762.11,-131.34 741.62,-123.03 724.76,-116.93\"/>\n",
       "<polygon fill=\"black\" stroke=\"black\" points=\"725.9,-113.62 715.31,-113.6 723.58,-120.22 725.9,-113.62\"/>\n",
       "<text text-anchor=\"middle\" x=\"829.38\" y=\"-144.8\" font-family=\"Times,serif\" font-size=\"14.00\">(q_5, q_4)</text>\n",
       "</g>\n",
       "<!-- v9203&#45;&gt;v9204 -->\n",
       "<g id=\"edge45\" class=\"edge\">\n",
       "<title>v9203-&gt;v9204</title>\n",
       "<path fill=\"none\" stroke=\"black\" d=\"M869.71,-201.38C881.67,-206.97 895.19,-215.61 902.38,-228 906.28,-234.71 907.7,-242.83 907.9,-250.56\"/>\n",
       "<polygon fill=\"black\" stroke=\"black\" points=\"904.4,-250.56 907.53,-260.68 911.39,-250.82 904.4,-250.56\"/>\n",
       "<text text-anchor=\"middle\" x=\"935.38\" y=\"-231.8\" font-family=\"Times,serif\" font-size=\"14.00\">(q_5, q_6)</text>\n",
       "</g>\n",
       "<!-- v9203&#45;&gt;v9205 -->\n",
       "<g id=\"edge47\" class=\"edge\">\n",
       "<title>v9203-&gt;v9205</title>\n",
       "<path fill=\"none\" stroke=\"black\" d=\"M826.89,-204.73C822.86,-206.76 818.57,-208.64 814.38,-210 758.89,-227.96 741.48,-216.05 684.38,-228 657.94,-233.53 591.04,-247.96 567.38,-261 532.69,-280.12 503.63,-316.4 486.86,-340.65\"/>\n",
       "<polygon fill=\"black\" stroke=\"black\" points=\"483.93,-338.73 481.24,-348.98 489.73,-342.64 483.93,-338.73\"/>\n",
       "<text text-anchor=\"middle\" x=\"596.38\" y=\"-275.3\" font-family=\"Times,serif\" font-size=\"14.00\">(q_5, q_7)</text>\n",
       "</g>\n",
       "<!-- v9203&#45;&gt;v9206 -->\n",
       "<g id=\"edge49\" class=\"edge\">\n",
       "<title>v9203-&gt;v9206</title>\n",
       "<path fill=\"none\" stroke=\"black\" d=\"M839.65,-209.52C825.88,-242.5 793.97,-314.65 772.38,-330 731.65,-358.96 707.57,-328.91 661.38,-348 612.82,-368.07 612.39,-393.53 565.38,-417 540.88,-429.23 511.23,-438.27 488.6,-444.09\"/>\n",
       "<polygon fill=\"black\" stroke=\"black\" points=\"487.6,-440.73 478.73,-446.54 489.28,-447.53 487.6,-440.73\"/>\n",
       "<text text-anchor=\"middle\" x=\"814.38\" y=\"-318.8\" font-family=\"Times,serif\" font-size=\"14.00\">(q_5, q_8)</text>\n",
       "</g>\n",
       "<!-- v9204&#45;&gt;v9199 -->\n",
       "<g id=\"edge10\" class=\"edge\">\n",
       "<title>v9204-&gt;v9199</title>\n",
       "<path fill=\"none\" stroke=\"black\" d=\"M921.03,-293.26C928.49,-299.52 937.21,-307.31 944.38,-315 967.2,-339.48 1024.71,-403.28 1035.38,-435 1058.34,-503.28 1029.26,-529.73 991.38,-591 988.42,-595.79 984.72,-600.49 980.89,-604.82\"/>\n",
       "<polygon fill=\"black\" stroke=\"black\" points=\"978.3,-602.46 973.96,-612.12 983.38,-607.27 978.3,-602.46\"/>\n",
       "<text text-anchor=\"middle\" x=\"1071.38\" y=\"-449.3\" font-family=\"Times,serif\" font-size=\"14.00\">(q_6, q_1)</text>\n",
       "</g>\n",
       "<!-- v9204&#45;&gt;v9200 -->\n",
       "<g id=\"edge22\" class=\"edge\">\n",
       "<title>v9204-&gt;v9200</title>\n",
       "<path fill=\"none\" stroke=\"black\" d=\"M910.03,-297.05C912.58,-306.68 914.73,-318.97 913.38,-330 905.18,-396.95 882.72,-473.31 870.17,-512.59\"/>\n",
       "<polygon fill=\"black\" stroke=\"black\" points=\"866.81,-511.6 867.06,-522.2 873.47,-513.76 866.81,-511.6\"/>\n",
       "<text text-anchor=\"middle\" x=\"928.38\" y=\"-405.8\" font-family=\"Times,serif\" font-size=\"14.00\">(q_6, q_2)</text>\n",
       "</g>\n",
       "<!-- v9204&#45;&gt;v9201 -->\n",
       "<g id=\"edge32\" class=\"edge\">\n",
       "<title>v9204-&gt;v9201</title>\n",
       "<path fill=\"none\" stroke=\"black\" d=\"M929.02,-271.27C982.79,-255.16 1103.52,-210.47 1073.38,-141 1050.85,-89.08 1029.87,-81.46 980.38,-54 950.72,-37.54 912.95,-28.52 885.59,-23.78\"/>\n",
       "<polygon fill=\"black\" stroke=\"black\" points=\"886.09,-20.32 875.66,-22.17 884.97,-27.23 886.09,-20.32\"/>\n",
       "<text text-anchor=\"middle\" x=\"1106.38\" y=\"-144.8\" font-family=\"Times,serif\" font-size=\"14.00\">(q_6, q_3)</text>\n",
       "</g>\n",
       "<!-- v9204&#45;&gt;v9202 -->\n",
       "<g id=\"edge40\" class=\"edge\">\n",
       "<title>v9204-&gt;v9202</title>\n",
       "<path fill=\"none\" stroke=\"black\" d=\"M880.35,-270.78C848.92,-260.58 793.07,-239.82 752.38,-210 726.48,-191.02 719.51,-184.32 704.38,-156 700.56,-148.85 697.82,-140.51 695.87,-132.72\"/>\n",
       "<polygon fill=\"black\" stroke=\"black\" points=\"699.29,-131.97 693.74,-122.94 692.45,-133.46 699.29,-131.97\"/>\n",
       "<text text-anchor=\"middle\" x=\"781.38\" y=\"-188.3\" font-family=\"Times,serif\" font-size=\"14.00\">(q_6, q_4)</text>\n",
       "</g>\n",
       "<!-- v9204&#45;&gt;v9203 -->\n",
       "<g id=\"edge46\" class=\"edge\">\n",
       "<title>v9204-&gt;v9203</title>\n",
       "<path fill=\"none\" stroke=\"black\" d=\"M879.56,-271.32C865.4,-266.1 848.84,-257.27 840.38,-243 836.29,-236.1 835.9,-227.72 837.09,-219.81\"/>\n",
       "<polygon fill=\"black\" stroke=\"black\" points=\"840.55,-220.37 839.38,-209.84 833.73,-218.8 840.55,-220.37\"/>\n",
       "<text text-anchor=\"middle\" x=\"869.38\" y=\"-231.8\" font-family=\"Times,serif\" font-size=\"14.00\">(q_6, q_5)</text>\n",
       "</g>\n",
       "<!-- v9204&#45;&gt;v9205 -->\n",
       "<g id=\"edge51\" class=\"edge\">\n",
       "<title>v9204-&gt;v9205</title>\n",
       "<path fill=\"none\" stroke=\"black\" d=\"M877.66,-281.6C840.03,-284.58 769.83,-292.85 714.38,-315 703.05,-319.53 702.77,-325.61 691.38,-330 630.08,-353.63 553.26,-361.31 508.51,-363.8\"/>\n",
       "<polygon fill=\"black\" stroke=\"black\" points=\"508.2,-360.31 498.39,-364.31 508.55,-367.31 508.2,-360.31\"/>\n",
       "<text text-anchor=\"middle\" x=\"743.38\" y=\"-318.8\" font-family=\"Times,serif\" font-size=\"14.00\">(q_6, q_7)</text>\n",
       "</g>\n",
       "<!-- v9204&#45;&gt;v9206 -->\n",
       "<g id=\"edge53\" class=\"edge\">\n",
       "<title>v9204-&gt;v9206</title>\n",
       "<path fill=\"none\" stroke=\"black\" d=\"M899.66,-296.74C895.71,-307.76 888.98,-321.64 878.38,-330 852.49,-350.43 836.02,-333.52 806.38,-348 783.06,-359.4 781.31,-368.64 760.38,-384 739.51,-399.32 736.54,-407.69 712.38,-417 656.31,-438.61 637.93,-426.95 578.38,-435 548.57,-439.03 514.76,-443.63 489.82,-447.03\"/>\n",
       "<polygon fill=\"black\" stroke=\"black\" points=\"489.15,-443.59 479.72,-448.41 490.1,-450.52 489.15,-443.59\"/>\n",
       "<text text-anchor=\"middle\" x=\"835.38\" y=\"-362.3\" font-family=\"Times,serif\" font-size=\"14.00\">(q_6, q_8)</text>\n",
       "</g>\n",
       "<!-- v9205&#45;&gt;v9199 -->\n",
       "<g id=\"edge12\" class=\"edge\">\n",
       "<title>v9205-&gt;v9199</title>\n",
       "<path fill=\"none\" stroke=\"black\" d=\"M447.56,-374.85C431.4,-380.84 410.04,-390.07 393.38,-402 350.43,-432.76 331.73,-439.84 312.38,-489 293.04,-538.15 327.27,-565.24 373.38,-591 421.02,-617.62 799.62,-624.2 921.04,-625.64\"/>\n",
       "<polygon fill=\"black\" stroke=\"black\" points=\"921.28,-629.14 931.32,-625.75 921.36,-622.14 921.28,-629.14\"/>\n",
       "<text text-anchor=\"middle\" x=\"341.38\" y=\"-492.8\" font-family=\"Times,serif\" font-size=\"14.00\">(q_7, q_1)</text>\n",
       "</g>\n",
       "<!-- v9205&#45;&gt;v9200 -->\n",
       "<g id=\"edge24\" class=\"edge\">\n",
       "<title>v9205-&gt;v9200</title>\n",
       "<path fill=\"none\" stroke=\"black\" d=\"M490.39,-379.13C528.64,-403.42 613.92,-456.88 645.38,-471 706.98,-498.64 783.14,-519.8 826.6,-530.73\"/>\n",
       "<polygon fill=\"black\" stroke=\"black\" points=\"825.85,-534.15 836.4,-533.16 827.54,-527.36 825.85,-534.15\"/>\n",
       "<text text-anchor=\"middle\" x=\"674.38\" y=\"-449.3\" font-family=\"Times,serif\" font-size=\"14.00\">(q_7, q_2)</text>\n",
       "</g>\n",
       "<!-- v9205&#45;&gt;v9201 -->\n",
       "<g id=\"edge34\" class=\"edge\">\n",
       "<title>v9205-&gt;v9201</title>\n",
       "<path fill=\"none\" stroke=\"black\" d=\"M455.71,-350.92C449.16,-344.75 441.64,-337.27 435.38,-330 413.98,-305.13 359.42,-241.23 349.38,-210 344.49,-194.77 342.2,-188.3 349.38,-174 378.48,-116.1 409.54,-118.12 466.38,-87 502.66,-67.14 513.21,-63.83 553.38,-54 644.75,-31.63 755.61,-23.38 812.21,-20.48\"/>\n",
       "<polygon fill=\"black\" stroke=\"black\" points=\"812.64,-23.96 822.46,-19.98 812.3,-16.97 812.64,-23.96\"/>\n",
       "<text text-anchor=\"middle\" x=\"378.38\" y=\"-188.3\" font-family=\"Times,serif\" font-size=\"14.00\">(q_7, q_3)</text>\n",
       "</g>\n",
       "<!-- v9205&#45;&gt;v9202 -->\n",
       "<g id=\"edge42\" class=\"edge\">\n",
       "<title>v9205-&gt;v9202</title>\n",
       "<path fill=\"none\" stroke=\"black\" d=\"M477.72,-348.28C494.19,-307.05 542.24,-199.6 616.38,-141 628.72,-131.25 644.21,-123.44 657.91,-117.69\"/>\n",
       "<polygon fill=\"black\" stroke=\"black\" points=\"659.5,-120.83 667.5,-113.87 656.91,-114.32 659.5,-120.83\"/>\n",
       "<text text-anchor=\"middle\" x=\"569.38\" y=\"-231.8\" font-family=\"Times,serif\" font-size=\"14.00\">(q_7, q_4)</text>\n",
       "</g>\n",
       "<!-- v9205&#45;&gt;v9203 -->\n",
       "<g id=\"edge48\" class=\"edge\">\n",
       "<title>v9205-&gt;v9203</title>\n",
       "<path fill=\"none\" stroke=\"black\" d=\"M485,-350.41C496.52,-338.98 514.04,-323.61 532.38,-315 570.49,-297.11 588.2,-316.75 625.38,-297 645.37,-286.39 643.39,-274.72 661.38,-261 684.97,-243.02 691.55,-238.23 719.38,-228 759.72,-213.17 773.84,-224.24 814.38,-210 815.42,-209.64 816.47,-209.24 817.52,-208.82\"/>\n",
       "<polygon fill=\"black\" stroke=\"black\" points=\"819.19,-211.91 826.83,-204.57 816.28,-205.54 819.19,-211.91\"/>\n",
       "<text text-anchor=\"middle\" x=\"690.38\" y=\"-275.3\" font-family=\"Times,serif\" font-size=\"14.00\">(q_7, q_5)</text>\n",
       "</g>\n",
       "<!-- v9205&#45;&gt;v9204 -->\n",
       "<g id=\"edge52\" class=\"edge\">\n",
       "<title>v9205-&gt;v9204</title>\n",
       "<path fill=\"none\" stroke=\"black\" d=\"M497.62,-361.75C526.45,-357.43 573.54,-348.14 610.38,-330 620.04,-325.25 619.46,-319.16 629.38,-315 671.52,-297.31 802.5,-286.6 867.3,-282.26\"/>\n",
       "<polygon fill=\"black\" stroke=\"black\" points=\"867.73,-285.74 877.48,-281.59 867.28,-278.75 867.73,-285.74\"/>\n",
       "<text text-anchor=\"middle\" x=\"658.38\" y=\"-318.8\" font-family=\"Times,serif\" font-size=\"14.00\">(q_7, q_6)</text>\n",
       "</g>\n",
       "<!-- v9205&#45;&gt;v9206 -->\n",
       "<g id=\"edge55\" class=\"edge\">\n",
       "<title>v9205-&gt;v9206</title>\n",
       "<path fill=\"none\" stroke=\"black\" d=\"M467.81,-383.89C465.34,-395.53 462.01,-411.25 459.17,-424.66\"/>\n",
       "<polygon fill=\"black\" stroke=\"black\" points=\"455.67,-424.29 457.03,-434.8 462.52,-425.74 455.67,-424.29\"/>\n",
       "<text text-anchor=\"middle\" x=\"493.38\" y=\"-405.8\" font-family=\"Times,serif\" font-size=\"14.00\">(q_7, q_8)</text>\n",
       "</g>\n",
       "<!-- v9206&#45;&gt;v9199 -->\n",
       "<g id=\"edge14\" class=\"edge\">\n",
       "<title>v9206-&gt;v9199</title>\n",
       "<path fill=\"none\" stroke=\"black\" d=\"M454.67,-471.07C456.39,-481.94 460.34,-495.53 469.38,-504 536.14,-566.54 820.08,-608.31 921.88,-621.51\"/>\n",
       "<polygon fill=\"black\" stroke=\"black\" points=\"921.62,-625.01 931.99,-622.81 922.51,-618.07 921.62,-625.01\"/>\n",
       "<text text-anchor=\"middle\" x=\"613.38\" y=\"-536.3\" font-family=\"Times,serif\" font-size=\"14.00\">(q_8, q_1)</text>\n",
       "</g>\n",
       "<!-- v9206&#45;&gt;v9200 -->\n",
       "<g id=\"edge26\" class=\"edge\">\n",
       "<title>v9206-&gt;v9200</title>\n",
       "<path fill=\"none\" stroke=\"black\" d=\"M460.29,-470.41C466.03,-481.88 475.38,-496.43 488.38,-504 544.67,-536.74 741.08,-539.68 823.99,-539.4\"/>\n",
       "<polygon fill=\"black\" stroke=\"black\" points=\"824.24,-542.9 834.22,-539.35 824.2,-535.9 824.24,-542.9\"/>\n",
       "<text text-anchor=\"middle\" x=\"517.38\" y=\"-492.8\" font-family=\"Times,serif\" font-size=\"14.00\">(q_8, q_2)</text>\n",
       "</g>\n",
       "<!-- v9206&#45;&gt;v9201 -->\n",
       "<g id=\"edge36\" class=\"edge\">\n",
       "<title>v9206-&gt;v9201</title>\n",
       "<path fill=\"none\" stroke=\"black\" d=\"M427.4,-447.28C381.32,-438.86 288.76,-421.69 274.38,-417 224.48,-400.73 167.38,-419.49 167.38,-367 167.38,-367 167.38,-367 167.38,-104 167.38,-38.51 668.91,-22.84 811.8,-19.7\"/>\n",
       "<polygon fill=\"black\" stroke=\"black\" points=\"812.3,-23.19 822.23,-19.48 812.15,-16.19 812.3,-23.19\"/>\n",
       "<text text-anchor=\"middle\" x=\"196.38\" y=\"-231.8\" font-family=\"Times,serif\" font-size=\"14.00\">(q_8, q_3)</text>\n",
       "</g>\n",
       "<!-- v9206&#45;&gt;v9202 -->\n",
       "<g id=\"edge44\" class=\"edge\">\n",
       "<title>v9206-&gt;v9202</title>\n",
       "<path fill=\"none\" stroke=\"black\" d=\"M429.93,-444.05C417.11,-438.48 402.11,-429.73 393.38,-417 354.17,-359.82 356.61,-320.99 391.38,-261 408.27,-231.88 423.29,-233.51 447.38,-210 477.75,-180.36 476.16,-161.38 513.38,-141 557.83,-116.67 616.7,-109.1 654.33,-106.83\"/>\n",
       "<polygon fill=\"black\" stroke=\"black\" points=\"654.53,-110.32 664.34,-106.32 654.18,-103.33 654.53,-110.32\"/>\n",
       "<text text-anchor=\"middle\" x=\"420.38\" y=\"-275.3\" font-family=\"Times,serif\" font-size=\"14.00\">(q_8, q_4)</text>\n",
       "</g>\n",
       "<!-- v9206&#45;&gt;v9203 -->\n",
       "<g id=\"edge50\" class=\"edge\">\n",
       "<title>v9206-&gt;v9203</title>\n",
       "<path fill=\"none\" stroke=\"black\" d=\"M478.66,-446.03C494.68,-440.95 514.54,-432.01 526.38,-417 555.11,-380.59 513.87,-345.98 548.38,-315 576.81,-289.47 684.12,-311.72 719.38,-297 763.05,-278.77 803.49,-240.44 826.53,-215.75\"/>\n",
       "<polygon fill=\"black\" stroke=\"black\" points=\"829.22,-218 833.38,-208.26 824.05,-213.28 829.22,-218\"/>\n",
       "<text text-anchor=\"middle\" x=\"577.38\" y=\"-318.8\" font-family=\"Times,serif\" font-size=\"14.00\">(q_8, q_5)</text>\n",
       "</g>\n",
       "<!-- v9206&#45;&gt;v9204 -->\n",
       "<g id=\"edge54\" class=\"edge\">\n",
       "<title>v9206-&gt;v9204</title>\n",
       "<path fill=\"none\" stroke=\"black\" d=\"M480.04,-448.91C523.7,-443.51 608.22,-431.53 634.38,-417 670.95,-396.69 661.08,-366.92 698.38,-348 760.24,-316.64 790.8,-359.89 853.38,-330 866.27,-323.84 877.89,-313.1 886.77,-303.15\"/>\n",
       "<polygon fill=\"black\" stroke=\"black\" points=\"889.5,-305.34 893.27,-295.44 884.15,-300.83 889.5,-305.34\"/>\n",
       "<text text-anchor=\"middle\" x=\"727.38\" y=\"-362.3\" font-family=\"Times,serif\" font-size=\"14.00\">(q_8, q_6)</text>\n",
       "</g>\n",
       "<!-- v9206&#45;&gt;v9205 -->\n",
       "<g id=\"edge56\" class=\"edge\">\n",
       "<title>v9206-&gt;v9205</title>\n",
       "<path fill=\"none\" stroke=\"black\" d=\"M430.63,-442.98C411.46,-433.96 388.74,-419 399.38,-402 407.51,-389.01 421.99,-380.72 435.84,-375.49\"/>\n",
       "<polygon fill=\"black\" stroke=\"black\" points=\"437.34,-378.68 445.72,-372.19 435.13,-372.04 437.34,-378.68\"/>\n",
       "<text text-anchor=\"middle\" x=\"428.38\" y=\"-405.8\" font-family=\"Times,serif\" font-size=\"14.00\">(q_8, q_7)</text>\n",
       "</g>\n",
       "<!-- \\n -->\n",
       "<g id=\"node9\" class=\"node\">\n",
       "<title>\\n</title>\n",
       "<ellipse fill=\"none\" stroke=\"black\" cx=\"1030.38\" cy=\"-627\" rx=\"27\" ry=\"18\"/>\n",
       "</g>\n",
       "</g>\n",
       "</svg>"
      ],
      "text/plain": [
       "<IPython.core.display.SVG object>"
      ]
     },
     "execution_count": 52,
     "metadata": {},
     "output_type": "execute_result"
    }
   ],
   "source": [
    "gcs = LinearGCS({f\"q_{i + 1}\":r for i, r in enumerate(regions.values())})\n",
    "# print('regions', regions)\n",
    "SVG(gcs.VisualizeGraph()) "
   ]
  },
  {
   "cell_type": "markdown",
   "metadata": {
    "pycharm": {
     "name": "#%% md\n"
    }
   },
   "source": [
    "# Build PRM"
   ]
  },
  {
   "cell_type": "markdown",
   "metadata": {
    "pycharm": {
     "name": "#%% md\n"
    }
   },
   "source": [
    "### Load Roadmap if you don't want to wait 15 minutes"
   ]
  },
  {
   "cell_type": "markdown",
   "metadata": {
    "pycharm": {
     "name": "#%% md\n"
    }
   },
   "source": [
    "### Or Grow it "
   ]
  },
  {
   "cell_type": "markdown",
   "metadata": {
    "pycharm": {
     "name": "#%% md\n"
    }
   },
   "source": [
    "### Connect via BiRRT first\n",
    "Given the knowledge of the Graph of Convex Sets, we will use BiRRT to connect the edges. All of the nodes of the RRT trees will be added to the PRM map"
   ]
  },
  {
   "cell_type": "markdown",
   "metadata": {
    "pycharm": {
     "name": "#%% md\n"
    }
   },
   "source": [
    "### Continue growing the Roadmap"
   ]
  },
  {
   "cell_type": "markdown",
   "metadata": {
    "pycharm": {
     "name": "#%% md\n"
    }
   },
   "source": [
    "# Run Comparison"
   ]
  },
  {
   "cell_type": "code",
   "execution_count": 53,
   "metadata": {
    "pycharm": {
     "name": "#%%\n"
    }
   },
   "outputs": [],
   "source": [
    "def getGCSPath(sequence, verbose = False):\n",
    "    path = [sequence[0]]\n",
    "    run_time = 0.0\n",
    "    for start_pt, goal_pt in zip(sequence[:-1], sequence[1:]):\n",
    "        gcs = LinearGCS(regions.copy())\n",
    "        gcs.addSourceTarget(start_pt, goal_pt)\n",
    "        gcs.setRoundingStrategy(randomForwardPathSearch, max_paths = 10, max_trials = 100, seed = SEED)\n",
    "        gcs.setSolver(MosekSolver())\n",
    "        start_time = time.time()\n",
    "        waypoints, results_dict = gcs.SolvePath(rounding=True, verbose=False, preprocessing=True)\n",
    "        if waypoints is None:\n",
    "            if verbose:\n",
    "                print(f\"Failed between {start_pt} and {goal_pt}\")\n",
    "            return None\n",
    "\n",
    "        run_time += results_dict[\"preprocessing_stats\"][\"linear_programs\"]\n",
    "        run_time += results_dict[\"relaxation_solver_time\"]\n",
    "        run_time += results_dict[\"total_rounded_solver_time\"]\n",
    "        if verbose:\n",
    "            print(\"Convex Relaxation\", round(results_dict[\"relaxation_cost\"], 3),\n",
    "                  \"min hard result cost\", round(results_dict[\"rounded_cost\"], 3),\n",
    "                  \"Gap\", round((results_dict[\"rounded_cost\"] - results_dict[\"relaxation_cost\"])/results_dict[\"relaxation_cost\"], 3))\n",
    "    \n",
    "        path += waypoints.T[1:].tolist()\n",
    "    return np.stack(path).T, run_time\n",
    "\n",
    "def shortcut(path):\n",
    "    \"\"\"Those values are used by TRI\"\"\"\n",
    "    return prm.shortcut(np.stack(path),\n",
    "                 max_iter = 200,\n",
    "                 max_failed_iter = 200,\n",
    "                 max_backtracking_steps = 0,\n",
    "                 max_shortcut_fraction = 1.0,\n",
    "                 resample_shortcuts_interval = 0.25,\n",
    "                 check_for_marginal_shortcuts = False)"
   ]
  },
  {
   "cell_type": "markdown",
   "metadata": {
    "pycharm": {
     "name": "#%% md\n"
    }
   },
   "source": [
    "# Demonstration"
   ]
  },
  {
   "cell_type": "code",
   "execution_count": 54,
   "metadata": {
    "pycharm": {
     "name": "#%%\n"
    }
   },
   "outputs": [],
   "source": [
    "demonstration =  {\"Above Shelve\": [[0.75, -0.12, 0.9], [0, -np.pi, -np.pi/2]],   \n",
    "                \"Left Bin\":       [[0.4, 0.3, 0.22],  [np.pi/2, np.pi, 0]], \n",
    "                \"Right Bin\":      [[0.4, -0.3, 0.22], [np.pi/2, np.pi, np.pi]],\n",
    "                  \"Right Back\":    [[0.0, -0.6, 0.22], [np.pi/2, np.pi, np.pi]]}\n",
    "\n",
    "q0 =[0, 0.3, 0, -1.8, 0, 1, 1.57]\n",
    "demonstration_configurations =  {name: InverseKinematics(q0, trans, rot) for name, (trans, rot) in demonstration.items()}\n"
   ]
  },
  {
   "cell_type": "code",
   "execution_count": 55,
   "metadata": {
    "pycharm": {
     "name": "#%%\n"
    }
   },
   "outputs": [],
   "source": [
    "demo_a = [demonstration_configurations[\"Left Bin\"],\n",
    "          demonstration_configurations[\"Right Bin\"]]\n",
    "\n",
    "demo_b = [demonstration_configurations[\"Left Bin\"],\n",
    "          demonstration_configurations[\"Above Shelve\"]]\n",
    "\n",
    "demo_c = [demonstration_configurations[\"Right Bin\"],\n",
    "          demonstration_configurations[\"Above Shelve\"]]\n",
    "\n",
    "demo_d = [demonstration_configurations[\"Left Bin\"],\n",
    "          demonstration_configurations[\"Right Back\"]]\n",
    "\n",
    "demo_circle = [demonstration_configurations[\"Above Shelve\"],\n",
    "               demonstration_configurations[\"Left Bin\"],\n",
    "               demonstration_configurations[\"Right Bin\"],\n",
    "               demonstration_configurations[\"Above Shelve\"]]\n"
   ]
  },
  {
   "cell_type": "code",
   "execution_count": 56,
   "metadata": {
    "pycharm": {
     "name": "#%%\n"
    }
   },
   "outputs": [
    {
     "name": "stdout",
     "output_type": "stream",
     "text": [
      "Convex Relaxation 2.036 min hard result cost 2.036 Gap -0.0\n",
      "Linear GCS length: 2.036, and time: 0.779 s\n"
     ]
    }
   ],
   "source": [
    "execute_demo = demo_d\n",
    "GCS_path, GCS_time = getGCSPath(execute_demo, verbose = True)\n",
    "linear_gcs_traj = make_traj(GCS_path, speed = 2)\n",
    "print(f\"Linear GCS length: {round(get_traj_length(linear_gcs_traj), 3)}, and time: {round(GCS_time, 3)} s\")\n",
    "\n",
    "# PRM_path, PRM_time = prm.getPath(execute_demo, verbose = True)\n",
    "# prm_traj = make_traj(PRM_path, speed = 2)\n",
    "# print(f\"PRM length: {round(get_traj_length(prm_traj), 3)}, and time: {round(PRM_time, 3)} s\")\n",
    "\n",
    "# sPRM_path, sPRM_time = prm.getPath(execute_demo, path_processing = shortcut)\n",
    "# sprm_traj = make_traj(sPRM_path, speed = 2)\n",
    "# print(f\"Smoothed PRM length: {round(get_traj_length(sprm_traj), 3)}, and time: {round(sPRM_time, 3)} s\")\n"
   ]
  },
  {
   "cell_type": "code",
   "execution_count": 33,
   "metadata": {},
   "outputs": [],
   "source": [
    "# prm.save(os.path.join(GcsDir(), \"data/prm_comparison/15k_presplined.rmp\"))"
   ]
  },
  {
   "cell_type": "code",
   "execution_count": 58,
   "metadata": {},
   "outputs": [],
   "source": [
    "visualize_trajectory(meshcat,\n",
    "                     [linear_gcs_traj],\n",
    "                     show_line = True,\n",
    "                     iiwa_ghosts = execute_demo,\n",
    "                     alpha =  0.3,\n",
    "                     regions = [])\n"
   ]
  },
  {
   "cell_type": "code",
   "execution_count": 46,
   "metadata": {},
   "outputs": [],
   "source": [
    "with open (\"GCS_PRM15k_comparison.html\", \"w\") as f:\n",
    "    f.write(meshcat.StaticHtml())"
   ]
  },
  {
   "cell_type": "markdown",
   "metadata": {},
   "source": [
    "## Comparison Table for Paper\n"
   ]
  },
  {
   "cell_type": "code",
   "execution_count": null,
   "metadata": {},
   "outputs": [],
   "source": [
    "demos_for_paper = [demo_a, demo_b, demo_c, demo_d, demo_e]\n",
    "\n",
    "proposed_planner_data = []\n",
    "PRM_data = []\n",
    "sPRM_data = []\n",
    "\n",
    "N = 10 # We ran this 100 in the paper \n",
    "for _ in range(N):\n",
    "    #extract trajectory and time \n",
    "    trajectories = map(lambda d:[getGCSPath(d),prm.getPath(d),prm.getPath(d, path_processing = shortcut)], demos_for_paper)\n",
    "    #get length of trajectory\n",
    "    length_time_list = map(lambda traj_time: [[get_traj_length(make_traj(trj)), t] for trj, t in traj_time], trajectories)\n",
    "    #flatten for pandas\n",
    "    length_time_list = np.array(list(length_time_list))\n",
    "    \n",
    "    proposed_planner_data.append(length_time_list[:,0].flatten())\n",
    "    PRM_data.append(length_time_list[:,1].flatten())\n",
    "    sPRM_data.append(length_time_list[:,2].flatten())\n",
    "    \n",
    "proposed_planner_data = np.mean(proposed_planner_data, axis = 0)\n",
    "PRM_data = np.mean(PRM_data, axis = 0)\n",
    "sPRM_data = np.mean(sPRM_data, axis = 0)"
   ]
  },
  {
   "cell_type": "code",
   "execution_count": null,
   "metadata": {},
   "outputs": [],
   "source": [
    "cols = {\"Proposed Planner\":proposed_planner_data,\n",
    "        \"Regular PRM\":PRM_data,\n",
    "        \"Shortcut PRM\":sPRM_data}\n",
    "\n",
    "index = pd.MultiIndex.from_tuples([('q1-q2', 'length (rad)'), ('q1-q2', 'runtime (s)'),\n",
    "                                    ('q2-q3', 'length (rad)'), ('q2-q3', 'runtime (s)'),\n",
    "                                    ('q3-q4', 'length (rad)'), ('q3-q4', 'runtime (s)'),\n",
    "                                    ('q4-q5', 'length (rad)'), ('q4-q5', 'runtime (s)'),\n",
    "                                    ('q5-q1', 'length (rad)'), ('q5-q1', 'runtime (s)'),], names=[\"Task\", \"\"])\n",
    "df = pd.DataFrame(data = cols, index=index)"
   ]
  },
  {
   "cell_type": "code",
   "execution_count": null,
   "metadata": {},
   "outputs": [],
   "source": [
    "df.round(2)"
   ]
  },
  {
   "cell_type": "markdown",
   "metadata": {},
   "source": [
    "## Debug\n",
    "When playing with the demonstration points, use this to understand where PRM fails and where the regions to include the configurations"
   ]
  },
  {
   "cell_type": "code",
   "execution_count": null,
   "metadata": {},
   "outputs": [],
   "source": [
    "for k,v in {name: InverseKinematics(q0, trans, rot) for name, (trans, rot) in demonstration.items()}.items():\n",
    "    print(k, regions[k].PointInSet(v), not prm.getPath([q0, v]) is None)"
   ]
  },
  {
   "cell_type": "code",
   "execution_count": null,
   "metadata": {},
   "outputs": [],
   "source": []
  }
 ],
 "metadata": {
  "kernelspec": {
   "display_name": "gomp-gcs",
   "language": "python",
   "name": "gomp-gcs"
  },
  "language_info": {
   "codemirror_mode": {
    "name": "ipython",
    "version": 3
   },
   "file_extension": ".py",
   "mimetype": "text/x-python",
   "name": "python",
   "nbconvert_exporter": "python",
   "pygments_lexer": "ipython3",
   "version": "3.9.13"
  }
 },
 "nbformat": 4,
 "nbformat_minor": 2
}

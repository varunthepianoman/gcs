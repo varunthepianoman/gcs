{
 "cells": [
  {
   "cell_type": "code",
   "execution_count": 1,
   "metadata": {
    "pycharm": {
     "name": "#%%\n"
    }
   },
   "outputs": [
    {
     "data": {
      "text/plain": [
       "<pydrake.solvers.MosekSolver.License at 0x13d74abf0>"
      ]
     },
     "execution_count": 1,
     "metadata": {},
     "output_type": "execute_result"
    }
   ],
   "source": [
    "%load_ext autoreload\n",
    "%autoreload 2\n",
    "import os\n",
    "import time\n",
    "import pickle\n",
    "import numpy as np\n",
    "import pandas as pd\n",
    "import multiprocess as mp\n",
    "from IPython.display import HTML, SVG\n",
    "\n",
    "from pydrake.geometry import MeshcatVisualizerCpp, MeshcatVisualizerParams, Role, StartMeshcat\n",
    "from pydrake.geometry.optimization import IrisInConfigurationSpace, IrisOptions\n",
    "from pydrake.multibody.parsing import LoadModelDirectives, Parser, ProcessModelDirectives\n",
    "from pydrake.multibody.plant import AddMultibodyPlantSceneGraph\n",
    "# from pydrake.planning.common_robotics_utilities import SimpleRRTPlannerState\n",
    "from pydrake.solvers.gurobi import GurobiSolver\n",
    "from pydrake.solvers.mosek import MosekSolver\n",
    "from pydrake.systems.framework import DiagramBuilder\n",
    "\n",
    "from gcs.linear import LinearGCS\n",
    "from gcs.rounding import randomForwardPathSearch\n",
    "from reproduction.prm_comparison.planning import PRM, BiRRT\n",
    "from reproduction.prm_comparison.helpers import (\n",
    "    ForwardKinematics,\n",
    "    get_traj_length,\n",
    "    InverseKinematics,\n",
    "    is_traj_confined,\n",
    "    make_traj,\n",
    "    visualize_trajectory,\n",
    ")\n",
    "from reproduction.util import *\n",
    "\n",
    "os.environ[\"MOSEKLM_LICENSE_FILE\"] = \"/Users/varun/mosek/mosek.lic\"\n",
    "GurobiSolver.AcquireLicense()\n",
    "MosekSolver.AcquireLicense()\n"
   ]
  },
  {
   "cell_type": "code",
   "execution_count": 2,
   "metadata": {
    "pycharm": {
     "name": "#%%\n"
    },
    "scrolled": true
   },
   "outputs": [
    {
     "name": "stderr",
     "output_type": "stream",
     "text": [
      "INFO:drake:Meshcat listening for connections at http://localhost:7001\n"
     ]
    }
   ],
   "source": [
    "# Start the visualizer (run this cell only once, each instance consumes a port)\n",
    "meshcat = StartMeshcat()"
   ]
  },
  {
   "cell_type": "code",
   "execution_count": 3,
   "metadata": {
    "pycharm": {
     "name": "#%%\n"
    }
   },
   "outputs": [],
   "source": [
    "SEED = 17\n",
    "np.random.seed(SEED)"
   ]
  },
  {
   "cell_type": "code",
   "execution_count": 4,
   "metadata": {
    "pycharm": {
     "name": "#%%\n"
    }
   },
   "outputs": [
    {
     "name": "stderr",
     "output_type": "stream",
     "text": [
      "/var/folders/p0/l4__0wtd3j184sv9zspd0qlm0000gn/T/ipykernel_29917/540500919.py:18: DrakeDeprecationWarning: MeshcatVisualizerCpp has been renamed to MeshcatVisualizer. The deprecated code will be removed from Drake on or after 2022-11-01.\n",
      "  meshcat_cpp = MeshcatVisualizerCpp.AddToBuilder(builder, scene_graph, meshcat, meshcat_params)\n"
     ]
    }
   ],
   "source": [
    "builder = DiagramBuilder()\n",
    "plant, scene_graph = AddMultibodyPlantSceneGraph(builder, time_step=0.0)\n",
    "parser = Parser(plant)\n",
    "parser.package_map().Add(\"gcs\", GcsDir())\n",
    "\n",
    "directives_file = FindModelFile(\"models/prm_comparison_moved_bins_yaml.yaml\")\n",
    "directives = LoadModelDirectives(directives_file)\n",
    "models = ProcessModelDirectives(directives, plant, parser)\n",
    "[iiwa, wsg, binR, binL, table] =  models\n",
    " \n",
    "\n",
    "plant.Finalize()\n",
    "\n",
    "meshcat_params = MeshcatVisualizerParams()\n",
    "meshcat_params.delete_on_initialization_event = False\n",
    "meshcat_params.role = Role.kIllustration\n",
    "# meshcat_params.role = Role.kProximity\n",
    "meshcat_cpp = MeshcatVisualizerCpp.AddToBuilder(builder, scene_graph, meshcat, meshcat_params)\n",
    "\n",
    "diagram = builder.Build()\n",
    "\n",
    "context = diagram.CreateDefaultContext()\n",
    "#plant_context = plant.GetMyContextFromRoot(context)\n",
    "plant_context = plant.GetMyMutableContextFromRoot(context)\n",
    "q0 =[0, 0.3, 0, -1.8, 0, 1, 1.57]\n",
    "plant.SetPositions(plant_context, q0)\n",
    "diagram.Publish(context)"
   ]
  },
  {
   "cell_type": "markdown",
   "metadata": {
    "pycharm": {
     "name": "#%% md\n"
    }
   },
   "source": [
    "# Generate Iris Regions\n",
    "### via manual seeds"
   ]
  },
  {
   "cell_type": "code",
   "execution_count": 5,
   "metadata": {
    "pycharm": {
     "name": "#%%\n"
    }
   },
   "outputs": [],
   "source": [
    "milestones =  {\"Above Bins\": [[0.75, 0, 0.9],    [0, -np.pi, -np.pi/2]],   \n",
    "                \"Left Bin\":    [[0.4,  0.4, 0.22], [np.pi/2, np.pi, 0]], \n",
    "                \"Right Bin\":   [[0.4, -0.4, 0.22], [np.pi/2, np.pi, np.pi]]}\n",
    "\n",
    "additional_seed_points = {\"Left to Bins\": np.array([0.8, 0.7, 0, -1.6, 0, 0, np.pi/2]),\n",
    "                          \"Right to Bins\":np.array([-0.8, 0.7, 0, -1.6, 0, 0, np.pi/2])} \n",
    "\n",
    "q0 =[0, 0.3, 0, -1.8, 0, 1, 1.57]\n",
    "milestone_configurations =  {name: InverseKinematics(q0, trans, rot) for name, (trans, rot) in milestones.items()}\n",
    "\n",
    "seed_points = {**milestone_configurations, **additional_seed_points}"
   ]
  },
  {
   "cell_type": "code",
   "execution_count": 6,
   "metadata": {
    "pycharm": {
     "name": "#%%\n"
    }
   },
   "outputs": [],
   "source": [
    "iris_options = IrisOptions()\n",
    "iris_options.require_sample_point_is_contained = True\n",
    "iris_options.iteration_limit = 10\n",
    "iris_options.termination_threshold = -1\n",
    "iris_options.relative_termination_threshold = 0.01\n",
    "iris_options.enable_ibex = False\n",
    "CORE_CNT = mp.cpu_count() # you may edit this"
   ]
  },
  {
   "cell_type": "code",
   "execution_count": 7,
   "metadata": {
    "pycharm": {
     "name": "#%%\n"
    }
   },
   "outputs": [],
   "source": [
    "def calcRegion(seed, verbose):\n",
    "    start_time = time.time()\n",
    "    context = diagram.CreateDefaultContext()\n",
    "    plant_context = plant.GetMyContextFromRoot(context)\n",
    "    plant.SetPositions(plant_context, seed)\n",
    "    hpoly = IrisInConfigurationSpace(plant, plant_context, iris_options)\n",
    "    print(\"Seed:\", seed, \"\\tTime:\", time.time() - start_time, flush=True)\n",
    "    return hpoly\n",
    "\n",
    "def generateRegions(seed_points, verbose = True):\n",
    "    seeds = list(seed_points.values()) if type(seed_points) is dict else seed_points\n",
    "    regions = []\n",
    "    loop_time = time.time()\n",
    "    # with mp.Pool(processes = CORE_CNT) as pool:\n",
    "    #     regions = pool.starmap(calcRegion, [[seed, verbose] for seed in seeds])\n",
    "    regions = [calcRegion(seed, verbose) for seed in seeds] # Non-parallel version\n",
    "    \n",
    "    if verbose:\n",
    "        print(\"Loop time:\", time.time() - loop_time)\n",
    "    \n",
    "    if type(seed_points) is dict:\n",
    "        return dict(list(zip(seed_points.keys(), regions)))\n",
    "    \n",
    "    return regions\n",
    "pass\n",
    "\n"
   ]
  },
  {
   "cell_type": "code",
   "execution_count": 8,
   "metadata": {
    "pycharm": {
     "name": "#%%\n"
    }
   },
   "outputs": [
    {
     "name": "stdout",
     "output_type": "stream",
     "text": [
      "Seed: [ 6.41950821e-05  4.71953264e-01 -1.49318242e-04 -6.71673454e-01\n",
      "  1.85368193e-04  4.26169599e-01  1.57069215e+00] \tTime: 83.195148229599\n",
      "Seed: [ 0.52648771  0.72566084  0.37083279 -1.61082971 -0.32151931  0.86560013\n",
      "  1.02302474] \tTime: 24.8166561126709\n",
      "Seed: [-0.52625678  0.72572069 -0.3711727  -1.6108296   0.32181951  0.86565552\n",
      "  2.11835032] \tTime: 13.881561040878296\n",
      "Seed: [ 0.8         0.7         0.         -1.6         0.          0.\n",
      "  1.57079633] \tTime: 0.010614871978759766\n",
      "Seed: [-0.8         0.7         0.         -1.6         0.          0.\n",
      "  1.57079633] \tTime: 0.005000114440917969\n",
      "Loop time: 121.94297981262207\n"
     ]
    }
   ],
   "source": [
    "regions = generateRegions(seed_points)"
   ]
  },
  {
   "cell_type": "markdown",
   "metadata": {
    "pycharm": {
     "name": "#%% md\n"
    }
   },
   "source": [
    "## via pre-generated regions"
   ]
  },
  {
   "cell_type": "code",
   "execution_count": 9,
   "metadata": {
    "pycharm": {
     "name": "#%%\n"
    }
   },
   "outputs": [],
   "source": [
    "# #load regions\n",
    "# with open(os.path.join(GcsDir(), \"data/prm_comparison/IRIS.reg\"), \"rb\") as f:\n",
    "#     regions = pickle.load(f)"
   ]
  },
  {
   "cell_type": "code",
   "execution_count": 10,
   "metadata": {
    "pycharm": {
     "name": "#%%\n"
    }
   },
   "outputs": [
    {
     "data": {
      "image/svg+xml": [
       "<svg xmlns=\"http://www.w3.org/2000/svg\" xmlns:xlink=\"http://www.w3.org/1999/xlink\" width=\"660pt\" height=\"392pt\" viewBox=\"0.00 0.00 660.00 392.00\">\n",
       "<g id=\"graph0\" class=\"graph\" transform=\"scale(1 1) rotate(0) translate(4 388)\">\n",
       "<title>GraphOfConvexSets</title>\n",
       "<polygon fill=\"white\" stroke=\"transparent\" points=\"-4,4 -4,-388 656,-388 656,4 -4,4\"/>\n",
       "<!-- v840 -->\n",
       "<g id=\"node1\" class=\"node\">\n",
       "<title>v840</title>\n",
       "<ellipse fill=\"none\" stroke=\"black\" cx=\"251\" cy=\"-366\" rx=\"27\" ry=\"18\"/>\n",
       "<text text-anchor=\"middle\" x=\"251\" y=\"-362.3\" font-family=\"Times,serif\" font-size=\"14.00\">q_1</text>\n",
       "</g>\n",
       "<!-- v841 -->\n",
       "<g id=\"node2\" class=\"node\">\n",
       "<title>v841</title>\n",
       "<ellipse fill=\"none\" stroke=\"black\" cx=\"352\" cy=\"-279\" rx=\"27\" ry=\"18\"/>\n",
       "<text text-anchor=\"middle\" x=\"352\" y=\"-275.3\" font-family=\"Times,serif\" font-size=\"14.00\">q_2</text>\n",
       "</g>\n",
       "<!-- v840&#45;&gt;v841 -->\n",
       "<g id=\"edge1\" class=\"edge\">\n",
       "<title>v840-&gt;v841</title>\n",
       "<path fill=\"none\" stroke=\"black\" d=\"M254.34,-347.87C257.19,-337.26 262.26,-323.98 271,-315 283.36,-302.3 301.08,-293.93 316.8,-288.57\"/>\n",
       "<polygon fill=\"black\" stroke=\"black\" points=\"318.26,-291.79 326.77,-285.47 316.18,-285.1 318.26,-291.79\"/>\n",
       "<text text-anchor=\"middle\" x=\"300\" y=\"-318.8\" font-family=\"Times,serif\" font-size=\"14.00\">(q_1, q_2)</text>\n",
       "</g>\n",
       "<!-- v842 -->\n",
       "<g id=\"node3\" class=\"node\">\n",
       "<title>v842</title>\n",
       "<ellipse fill=\"none\" stroke=\"black\" cx=\"252\" cy=\"-18\" rx=\"27\" ry=\"18\"/>\n",
       "<text text-anchor=\"middle\" x=\"252\" y=\"-14.3\" font-family=\"Times,serif\" font-size=\"14.00\">q_3</text>\n",
       "</g>\n",
       "<!-- v840&#45;&gt;v842 -->\n",
       "<g id=\"edge3\" class=\"edge\">\n",
       "<title>v840-&gt;v842</title>\n",
       "<path fill=\"none\" stroke=\"black\" d=\"M224.61,-361.78C160.17,-353.17 0,-327.04 0,-280 0,-280 0,-280 0,-104 0,-59.09 145.49,-33.36 215.37,-23.58\"/>\n",
       "<polygon fill=\"black\" stroke=\"black\" points=\"216.07,-27.02 225.51,-22.2 215.13,-20.08 216.07,-27.02\"/>\n",
       "<text text-anchor=\"middle\" x=\"29\" y=\"-188.3\" font-family=\"Times,serif\" font-size=\"14.00\">(q_1, q_3)</text>\n",
       "</g>\n",
       "<!-- v843 -->\n",
       "<g id=\"node4\" class=\"node\">\n",
       "<title>v843</title>\n",
       "<ellipse fill=\"none\" stroke=\"black\" cx=\"352\" cy=\"-105\" rx=\"27\" ry=\"18\"/>\n",
       "<text text-anchor=\"middle\" x=\"352\" y=\"-101.3\" font-family=\"Times,serif\" font-size=\"14.00\">q_4</text>\n",
       "</g>\n",
       "<!-- v840&#45;&gt;v843 -->\n",
       "<g id=\"edge5\" class=\"edge\">\n",
       "<title>v840-&gt;v843</title>\n",
       "<path fill=\"none\" stroke=\"black\" d=\"M271.06,-353.92C276.13,-351.58 281.65,-349.39 287,-348 343.26,-333.33 499.41,-361.92 548,-330 584.39,-306.1 582.71,-285.3 593,-243 603.55,-199.64 557.96,-146.97 550,-141 525.16,-122.38 439.27,-112.74 389.15,-108.59\"/>\n",
       "<polygon fill=\"black\" stroke=\"black\" points=\"389.27,-105.09 379.03,-107.78 388.72,-112.06 389.27,-105.09\"/>\n",
       "<text text-anchor=\"middle\" x=\"623\" y=\"-231.8\" font-family=\"Times,serif\" font-size=\"14.00\">(q_1, q_4)</text>\n",
       "</g>\n",
       "<!-- v844 -->\n",
       "<g id=\"node5\" class=\"node\">\n",
       "<title>v844</title>\n",
       "<ellipse fill=\"none\" stroke=\"black\" cx=\"197\" cy=\"-192\" rx=\"27\" ry=\"18\"/>\n",
       "<text text-anchor=\"middle\" x=\"197\" y=\"-188.3\" font-family=\"Times,serif\" font-size=\"14.00\">q_5</text>\n",
       "</g>\n",
       "<!-- v840&#45;&gt;v844 -->\n",
       "<g id=\"edge7\" class=\"edge\">\n",
       "<title>v840-&gt;v844</title>\n",
       "<path fill=\"none\" stroke=\"black\" d=\"M228.02,-356.37C204.57,-346.18 169.47,-326.74 154,-297 139.85,-269.79 140.83,-255.7 154,-228 157.24,-221.19 162.53,-215.26 168.3,-210.33\"/>\n",
       "<polygon fill=\"black\" stroke=\"black\" points=\"170.5,-213.05 176.34,-204.21 166.26,-207.48 170.5,-213.05\"/>\n",
       "<text text-anchor=\"middle\" x=\"183\" y=\"-275.3\" font-family=\"Times,serif\" font-size=\"14.00\">(q_1, q_5)</text>\n",
       "</g>\n",
       "<!-- v841&#45;&gt;v840 -->\n",
       "<g id=\"edge2\" class=\"edge\">\n",
       "<title>v841-&gt;v840</title>\n",
       "<path fill=\"none\" stroke=\"black\" d=\"M347.56,-297.16C344.04,-307.79 338.17,-321.07 329,-330 314.45,-344.17 305.52,-339.66 287,-348 285.2,-348.81 283.36,-349.65 281.51,-350.5\"/>\n",
       "<polygon fill=\"black\" stroke=\"black\" points=\"279.85,-347.41 272.26,-354.8 282.8,-353.76 279.85,-347.41\"/>\n",
       "<text text-anchor=\"middle\" x=\"368\" y=\"-318.8\" font-family=\"Times,serif\" font-size=\"14.00\">(q_2, q_1)</text>\n",
       "</g>\n",
       "<!-- v841&#45;&gt;v842 -->\n",
       "<g id=\"edge9\" class=\"edge\">\n",
       "<title>v841-&gt;v842</title>\n",
       "<path fill=\"none\" stroke=\"black\" d=\"M378.86,-276.45C406.19,-273.61 448.47,-265.6 477,-243 516.28,-211.89 537.5,-189.52 525,-141 513.99,-98.23 513.18,-79.32 477,-54 447.33,-33.24 344.91,-24.27 289.05,-20.85\"/>\n",
       "<polygon fill=\"black\" stroke=\"black\" points=\"289.04,-17.34 278.86,-20.25 288.64,-24.33 289.04,-17.34\"/>\n",
       "<text text-anchor=\"middle\" x=\"556\" y=\"-144.8\" font-family=\"Times,serif\" font-size=\"14.00\">(q_2, q_3)</text>\n",
       "</g>\n",
       "<!-- v841&#45;&gt;v843 -->\n",
       "<g id=\"edge11\" class=\"edge\">\n",
       "<title>v841-&gt;v843</title>\n",
       "<path fill=\"none\" stroke=\"black\" d=\"M350.89,-260.97C349.38,-250.39 345.92,-237.12 338,-228 324.95,-212.97 307.88,-226.66 297,-210 288.25,-196.6 288.25,-187.4 297,-174 307.88,-157.34 324.95,-171.03 338,-156 343.57,-149.59 346.93,-141.12 348.97,-132.98\"/>\n",
       "<polygon fill=\"black\" stroke=\"black\" points=\"352.43,-133.51 350.89,-123.03 345.55,-132.18 352.43,-133.51\"/>\n",
       "<text text-anchor=\"middle\" x=\"326\" y=\"-188.3\" font-family=\"Times,serif\" font-size=\"14.00\">(q_2, q_4)</text>\n",
       "</g>\n",
       "<!-- v841&#45;&gt;v844 -->\n",
       "<g id=\"edge13\" class=\"edge\">\n",
       "<title>v841-&gt;v844</title>\n",
       "<path fill=\"none\" stroke=\"black\" d=\"M330.21,-268.28C315.74,-261.61 296.45,-252.31 280,-243 269.38,-236.99 267.39,-234.41 257,-228 246.86,-221.74 235.62,-215.11 225.63,-209.31\"/>\n",
       "<polygon fill=\"black\" stroke=\"black\" points=\"227.29,-206.23 216.87,-204.26 223.79,-212.29 227.29,-206.23\"/>\n",
       "<text text-anchor=\"middle\" x=\"309\" y=\"-231.8\" font-family=\"Times,serif\" font-size=\"14.00\">(q_2, q_5)</text>\n",
       "</g>\n",
       "<!-- v842&#45;&gt;v840 -->\n",
       "<g id=\"edge4\" class=\"edge\">\n",
       "<title>v842-&gt;v840</title>\n",
       "<path fill=\"none\" stroke=\"black\" d=\"M225.2,-21.32C180.12,-26.86 94,-45.13 94,-104 94,-280 94,-280 94,-280 94,-334.46 167.96,-354.21 214.36,-361.23\"/>\n",
       "<polygon fill=\"black\" stroke=\"black\" points=\"213.98,-364.71 224.37,-362.62 214.94,-357.78 213.98,-364.71\"/>\n",
       "<text text-anchor=\"middle\" x=\"123\" y=\"-188.3\" font-family=\"Times,serif\" font-size=\"14.00\">(q_3, q_1)</text>\n",
       "</g>\n",
       "<!-- v842&#45;&gt;v841 -->\n",
       "<g id=\"edge10\" class=\"edge\">\n",
       "<title>v842-&gt;v841</title>\n",
       "<path fill=\"none\" stroke=\"black\" d=\"M278.48,-21.74C316.49,-26.24 383.75,-36.48 400,-54 428.57,-84.81 435.71,-169.22 419,-210 410.78,-230.06 393.47,-247.37 378.51,-259.5\"/>\n",
       "<polygon fill=\"black\" stroke=\"black\" points=\"376.27,-256.81 370.51,-265.7 380.56,-262.34 376.27,-256.81\"/>\n",
       "<text text-anchor=\"middle\" x=\"456\" y=\"-144.8\" font-family=\"Times,serif\" font-size=\"14.00\">(q_3, q_2)</text>\n",
       "</g>\n",
       "<!-- v842&#45;&gt;v843 -->\n",
       "<g id=\"edge15\" class=\"edge\">\n",
       "<title>v842-&gt;v843</title>\n",
       "<path fill=\"none\" stroke=\"black\" d=\"M254.59,-36.12C256.98,-46.73 261.51,-60.01 270,-69 277.09,-76.51 299.07,-85.7 318.49,-92.78\"/>\n",
       "<polygon fill=\"black\" stroke=\"black\" points=\"317.44,-96.12 328.03,-96.17 319.78,-89.52 317.44,-96.12\"/>\n",
       "<text text-anchor=\"middle\" x=\"299\" y=\"-57.8\" font-family=\"Times,serif\" font-size=\"14.00\">(q_3, q_4)</text>\n",
       "</g>\n",
       "<!-- v842&#45;&gt;v844 -->\n",
       "<g id=\"edge17\" class=\"edge\">\n",
       "<title>v842-&gt;v844</title>\n",
       "<path fill=\"none\" stroke=\"black\" d=\"M245.83,-35.7C237.57,-56.99 221.64,-94.44 202,-123 195.76,-132.07 189.07,-130.77 185,-141 181.94,-148.7 182.67,-157.39 184.86,-165.34\"/>\n",
       "<polygon fill=\"black\" stroke=\"black\" points=\"181.59,-166.61 188.22,-174.88 188.2,-164.28 181.59,-166.61\"/>\n",
       "<text text-anchor=\"middle\" x=\"251\" y=\"-101.3\" font-family=\"Times,serif\" font-size=\"14.00\">(q_3, q_5)</text>\n",
       "</g>\n",
       "<!-- v843&#45;&gt;v840 -->\n",
       "<g id=\"edge6\" class=\"edge\">\n",
       "<title>v843-&gt;v840</title>\n",
       "<path fill=\"none\" stroke=\"black\" d=\"M378.37,-108.92C414.26,-113.51 475.56,-123.7 489,-141 493.09,-146.27 490.55,-149.52 489,-156 468.9,-240.3 471.05,-278.97 401,-330 359.54,-360.2 336.02,-332.9 287,-348 285.07,-348.6 283.11,-349.28 281.15,-350.02\"/>\n",
       "<polygon fill=\"black\" stroke=\"black\" points=\"279.39,-346.96 271.54,-354.08 282.11,-353.41 279.39,-346.96\"/>\n",
       "<text text-anchor=\"middle\" x=\"501\" y=\"-231.8\" font-family=\"Times,serif\" font-size=\"14.00\">(q_4, q_1)</text>\n",
       "</g>\n",
       "<!-- v843&#45;&gt;v841 -->\n",
       "<g id=\"edge12\" class=\"edge\">\n",
       "<title>v843-&gt;v841</title>\n",
       "<path fill=\"none\" stroke=\"black\" d=\"M354.34,-123.06C355.02,-128.75 355.67,-135.14 356,-141 358.58,-186.26 358.58,-197.74 356,-243 355.85,-245.56 355.65,-248.23 355.41,-250.89\"/>\n",
       "<polygon fill=\"black\" stroke=\"black\" points=\"351.91,-250.63 354.34,-260.94 358.88,-251.37 351.91,-250.63\"/>\n",
       "<text text-anchor=\"middle\" x=\"386\" y=\"-188.3\" font-family=\"Times,serif\" font-size=\"14.00\">(q_4, q_2)</text>\n",
       "</g>\n",
       "<!-- v843&#45;&gt;v842 -->\n",
       "<g id=\"edge16\" class=\"edge\">\n",
       "<title>v843-&gt;v842</title>\n",
       "<path fill=\"none\" stroke=\"black\" d=\"M347.11,-86.92C343.34,-76.33 337.2,-63.05 328,-54 316.48,-42.66 300.6,-34.56 286.35,-29.03\"/>\n",
       "<polygon fill=\"black\" stroke=\"black\" points=\"287.4,-25.69 276.8,-25.61 285.03,-32.28 287.4,-25.69\"/>\n",
       "<text text-anchor=\"middle\" x=\"367\" y=\"-57.8\" font-family=\"Times,serif\" font-size=\"14.00\">(q_4, q_3)</text>\n",
       "</g>\n",
       "<!-- v843&#45;&gt;v844 -->\n",
       "<g id=\"edge19\" class=\"edge\">\n",
       "<title>v843-&gt;v844</title>\n",
       "<path fill=\"none\" stroke=\"black\" d=\"M330.21,-115.72C315.74,-122.39 296.45,-131.69 280,-141 269.38,-147.01 267.39,-149.59 257,-156 246.86,-162.26 235.62,-168.89 225.63,-174.69\"/>\n",
       "<polygon fill=\"black\" stroke=\"black\" points=\"223.79,-171.71 216.87,-179.74 227.29,-177.77 223.79,-171.71\"/>\n",
       "<text text-anchor=\"middle\" x=\"309\" y=\"-144.8\" font-family=\"Times,serif\" font-size=\"14.00\">(q_4, q_5)</text>\n",
       "</g>\n",
       "<!-- v844&#45;&gt;v840 -->\n",
       "<g id=\"edge8\" class=\"edge\">\n",
       "<title>v844-&gt;v840</title>\n",
       "<path fill=\"none\" stroke=\"black\" d=\"M187.58,-209.06C182.91,-219.25 179.36,-232.45 185,-243 191.81,-255.72 203.04,-249.7 212,-261 230.01,-283.69 240.31,-315.56 245.75,-338.02\"/>\n",
       "<polygon fill=\"black\" stroke=\"black\" points=\"242.36,-338.93 247.98,-347.91 249.19,-337.39 242.36,-338.93\"/>\n",
       "<text text-anchor=\"middle\" x=\"261\" y=\"-275.3\" font-family=\"Times,serif\" font-size=\"14.00\">(q_5, q_1)</text>\n",
       "</g>\n",
       "<!-- v844&#45;&gt;v841 -->\n",
       "<g id=\"edge14\" class=\"edge\">\n",
       "<title>v844-&gt;v841</title>\n",
       "<path fill=\"none\" stroke=\"black\" d=\"M191.09,-209.69C188.45,-220.4 187.41,-233.94 195,-243 209.64,-260.48 273.83,-255.68 296,-261 303.4,-262.78 311.27,-264.97 318.7,-267.18\"/>\n",
       "<polygon fill=\"black\" stroke=\"black\" points=\"317.88,-270.59 328.46,-270.18 319.93,-263.9 317.88,-270.59\"/>\n",
       "<text text-anchor=\"middle\" x=\"224\" y=\"-231.8\" font-family=\"Times,serif\" font-size=\"14.00\">(q_5, q_2)</text>\n",
       "</g>\n",
       "<!-- v844&#45;&gt;v842 -->\n",
       "<g id=\"edge18\" class=\"edge\">\n",
       "<title>v844-&gt;v842</title>\n",
       "<path fill=\"none\" stroke=\"black\" d=\"M180.11,-177.48C157.39,-157.59 121.82,-119.3 140,-87 156.52,-57.64 191.4,-39.5 217.88,-29.41\"/>\n",
       "<polygon fill=\"black\" stroke=\"black\" points=\"219.33,-32.61 227.56,-25.94 216.96,-26.02 219.33,-32.61\"/>\n",
       "<text text-anchor=\"middle\" x=\"169\" y=\"-101.3\" font-family=\"Times,serif\" font-size=\"14.00\">(q_5, q_3)</text>\n",
       "</g>\n",
       "<!-- v844&#45;&gt;v843 -->\n",
       "<g id=\"edge20\" class=\"edge\">\n",
       "<title>v844-&gt;v843</title>\n",
       "<path fill=\"none\" stroke=\"black\" d=\"M191.09,-174.31C188.45,-163.6 187.41,-150.06 195,-141 209.64,-123.52 273.83,-128.32 296,-123 303.4,-121.22 311.27,-119.03 318.7,-116.82\"/>\n",
       "<polygon fill=\"black\" stroke=\"black\" points=\"319.93,-120.1 328.46,-113.82 317.88,-113.41 319.93,-120.1\"/>\n",
       "<text text-anchor=\"middle\" x=\"224\" y=\"-144.8\" font-family=\"Times,serif\" font-size=\"14.00\">(q_5, q_4)</text>\n",
       "</g>\n",
       "<!-- \\n -->\n",
       "<g id=\"node6\" class=\"node\">\n",
       "<title>\\n</title>\n",
       "<ellipse fill=\"none\" stroke=\"black\" cx=\"323\" cy=\"-366\" rx=\"27\" ry=\"18\"/>\n",
       "</g>\n",
       "</g>\n",
       "</svg>"
      ],
      "text/plain": [
       "<IPython.core.display.SVG object>"
      ]
     },
     "execution_count": 10,
     "metadata": {},
     "output_type": "execute_result"
    }
   ],
   "source": [
    "gcs = LinearGCS({f\"q_{i + 1}\":r for i, r in enumerate(regions.values())})\n",
    "SVG(gcs.VisualizeGraph()) "
   ]
  },
  {
   "cell_type": "markdown",
   "metadata": {
    "pycharm": {
     "name": "#%% md\n"
    }
   },
   "source": [
    "# Build PRM"
   ]
  },
  {
   "cell_type": "code",
   "execution_count": 11,
   "metadata": {
    "pycharm": {
     "name": "#%%\n"
    }
   },
   "outputs": [],
   "source": [
    "# collision_step_size = 0.02\n",
    "# K = 5\n",
    "# roadmap_size = 15000\n",
    "\n",
    "# #initlize with seeds for fairness\n",
    "# prm = PRM(plant, diagram, collision_step_size, SEED, K, list(seed_points.values()))"
   ]
  },
  {
   "cell_type": "markdown",
   "metadata": {
    "pycharm": {
     "name": "#%% md\n"
    }
   },
   "source": [
    "### Load Roadmap if you don't want to wait 15 minutes"
   ]
  },
  {
   "cell_type": "code",
   "execution_count": 12,
   "metadata": {
    "pycharm": {
     "name": "#%%\n"
    }
   },
   "outputs": [],
   "source": [
    "# #TODO use wget here to download th prm map from server\n",
    "# prm.load(os.path.join(GcsDir(), \"data/prm_comparison/15k_presplined.rmp\"))"
   ]
  },
  {
   "cell_type": "markdown",
   "metadata": {
    "pycharm": {
     "name": "#%% md\n"
    }
   },
   "source": [
    "### Or Grow it "
   ]
  },
  {
   "cell_type": "code",
   "execution_count": 13,
   "metadata": {
    "pycharm": {
     "name": "#%%\n"
    }
   },
   "outputs": [],
   "source": [
    "# solve_timeout = 200\n",
    "# goal_bias = 0.05\n",
    "# step_size = 0.1\n",
    "# birrt = BiRRT(plant, diagram, collision_step_size, SEED, step_size, goal_bias, solve_timeout)"
   ]
  },
  {
   "cell_type": "markdown",
   "metadata": {
    "pycharm": {
     "name": "#%% md\n"
    }
   },
   "source": [
    "### Connect via BiRRT first\n",
    "Given the knowledge of the Graph of Convex Sets, we will use BiRRT to connect the edges. All of the nodes of the RRT trees will be added to the PRM map"
   ]
  },
  {
   "cell_type": "code",
   "execution_count": 14,
   "metadata": {
    "pycharm": {
     "name": "#%%\n"
    }
   },
   "outputs": [],
   "source": [
    "# pairs_2_connect = [\n",
    "#   [SimpleRRTPlannerState(seed_points[\"Front to Shelve\"]), SimpleRRTPlannerState(seed_points[\"Top Rack\"])],\n",
    "#   [SimpleRRTPlannerState(seed_points[\"Front to Shelve\"]), SimpleRRTPlannerState(seed_points[\"Middle Rack\"])],\n",
    "#   [SimpleRRTPlannerState(seed_points[\"Front to Shelve\"]), SimpleRRTPlannerState(seed_points[\"Left Bin\"])],\n",
    "#   [SimpleRRTPlannerState(seed_points[\"Front to Shelve\"]), SimpleRRTPlannerState(seed_points[\"Right Bin\"])],\n",
    "    \n",
    "#   [SimpleRRTPlannerState(seed_points[\"Left Bin\"]), SimpleRRTPlannerState(seed_points[\"Above Shelve\"])],\n",
    "#   [SimpleRRTPlannerState(seed_points[\"Left Bin\"]), SimpleRRTPlannerState(seed_points[\"Left to Shelve\"])],\n",
    "\n",
    "    \n",
    "#   [SimpleRRTPlannerState(seed_points[\"Right Bin\"]), SimpleRRTPlannerState(seed_points[\"Above Shelve\"])],\n",
    "#   [SimpleRRTPlannerState(seed_points[\"Right Bin\"]), SimpleRRTPlannerState(seed_points[\"Right to Shelve\"])],\n",
    "    \n",
    "#   [SimpleRRTPlannerState(seed_points[\"Above Shelve\"]), SimpleRRTPlannerState(seed_points[\"Left to Shelve\"])],\n",
    "#   [SimpleRRTPlannerState(seed_points[\"Above Shelve\"]), SimpleRRTPlannerState(seed_points[\"Right to Shelve\"])],\n",
    "# ]\n",
    "\n",
    "# prm = PRM(plant, diagram, collision_step_size, SEED, K)\n",
    "\n",
    "# start_time = time.time()\n",
    "\n",
    "# for start_tree, goal_tree in  pairs_2_connect:\n",
    "#     result, start_tree_extended, end_tree_extended = birrt.connect([start_tree], [goal_tree], use_parallel = True)\n",
    "#     if len(result.Path()) == 0:\n",
    "#         raise Exception(\"Failed to connect nodes\")\n",
    "#     prm.addNodes(list(map(lambda x: x.GetValueImmutable(), start_tree_extended)) + list(map(lambda x: x.GetValueImmutable(), end_tree_extended)))\n",
    "\n",
    "# print(f\"Roadmap extended to {prm.roadmap_size} in {round(time.time()-start_time,2)} s\")"
   ]
  },
  {
   "cell_type": "markdown",
   "metadata": {
    "pycharm": {
     "name": "#%% md\n"
    }
   },
   "source": [
    "### Continue growing the Roadmap"
   ]
  },
  {
   "cell_type": "code",
   "execution_count": 15,
   "metadata": {
    "pycharm": {
     "name": "#%%\n"
    }
   },
   "outputs": [],
   "source": [
    "# stats = prm.GrowRoadMap(roadmap_size, True)\n",
    "# print(f'Grow time: {stats[\"growing_time\"]} s') "
   ]
  },
  {
   "cell_type": "code",
   "execution_count": 16,
   "metadata": {
    "pycharm": {
     "name": "#%%\n"
    }
   },
   "outputs": [],
   "source": [
    "# prm.save(os.path.join(GcsDir(), \"data/prm_comparison/15k_presplined.rmp\"))"
   ]
  },
  {
   "cell_type": "markdown",
   "metadata": {
    "pycharm": {
     "name": "#%% md\n"
    }
   },
   "source": [
    "# Run Comparison"
   ]
  },
  {
   "cell_type": "code",
   "execution_count": 17,
   "metadata": {
    "pycharm": {
     "name": "#%%\n"
    }
   },
   "outputs": [],
   "source": [
    "def getGCSPath(sequence, verbose = False):\n",
    "    path = [sequence[0]]\n",
    "    run_time = 0.0\n",
    "    for start_pt, goal_pt in zip(sequence[:-1], sequence[1:]):\n",
    "        gcs = LinearGCS(regions.copy())\n",
    "        gcs.addSourceTarget(start_pt, goal_pt)\n",
    "        gcs.setRoundingStrategy(randomForwardPathSearch, max_paths = 10, max_trials = 100, seed = SEED)\n",
    "        gcs.setSolver(MosekSolver())\n",
    "        start_time = time.time()\n",
    "        waypoints, results_dict = gcs.SolvePath(rounding=True, verbose=False, preprocessing=True)\n",
    "        if waypoints is None:\n",
    "            if verbose:\n",
    "                print(f\"Failed between {start_pt} and {goal_pt}\")\n",
    "            return None\n",
    "\n",
    "        run_time += results_dict[\"preprocessing_stats\"][\"linear_programs\"]\n",
    "        run_time += results_dict[\"relaxation_solver_time\"]\n",
    "        run_time += results_dict[\"total_rounded_solver_time\"]\n",
    "        if verbose:\n",
    "            print(\"Convex Relaxation\", round(results_dict[\"relaxation_cost\"], 3),\n",
    "                  \"min hard result cost\", round(results_dict[\"rounded_cost\"], 3),\n",
    "                  \"Gap\", round((results_dict[\"rounded_cost\"] - results_dict[\"relaxation_cost\"])/results_dict[\"relaxation_cost\"], 3))\n",
    "    \n",
    "        path += waypoints.T[1:].tolist()\n",
    "    return np.stack(path).T, run_time\n",
    "\n",
    "def shortcut(path):\n",
    "    \"\"\"Those values are used by TRI\"\"\"\n",
    "    return prm.shortcut(np.stack(path),\n",
    "                 max_iter = 200,\n",
    "                 max_failed_iter = 200,\n",
    "                 max_backtracking_steps = 0,\n",
    "                 max_shortcut_fraction = 1.0,\n",
    "                 resample_shortcuts_interval = 0.25,\n",
    "                 check_for_marginal_shortcuts = False)"
   ]
  },
  {
   "cell_type": "markdown",
   "metadata": {
    "pycharm": {
     "name": "#%% md\n"
    }
   },
   "source": [
    "# Demonstration"
   ]
  },
  {
   "cell_type": "code",
   "execution_count": 18,
   "metadata": {
    "pycharm": {
     "name": "#%%\n"
    }
   },
   "outputs": [],
   "source": [
    "demonstration =  {\"Above Bins\": [[0.75, -0.12, 0.9], [0, -np.pi, -np.pi/2]],   \n",
    "                \"Left Bin\":       [[0.48, 0.4, 0.22],  [np.pi/2, np.pi, 0]], \n",
    "                \"Right Bin\":      [[0.32, -0.4, 0.22], [np.pi/2, np.pi, np.pi]]}\n",
    "\n",
    "q0 =[0, 0.3, 0, -1.8, 0, 1, 1.57]\n",
    "demonstration_configurations =  {name: InverseKinematics(q0, trans, rot) for name, (trans, rot) in demonstration.items()}\n"
   ]
  },
  {
   "cell_type": "code",
   "execution_count": 19,
   "metadata": {
    "pycharm": {
     "name": "#%%\n"
    }
   },
   "outputs": [],
   "source": [
    "demo_a = [demonstration_configurations[\"Left Bin\"],\n",
    "          demonstration_configurations[\"Right Bin\"]]\n",
    "\n",
    "demo_b = [demonstration_configurations[\"Left Bin\"],\n",
    "          demonstration_configurations[\"Above Bins\"]]\n",
    "\n",
    "demo_c = [demonstration_configurations[\"Right Bin\"],\n",
    "          demonstration_configurations[\"Above Bins\"]]\n",
    "\n",
    "demo_circle = [demonstration_configurations[\"Above Bins\"],\n",
    "               demonstration_configurations[\"Left Bin\"],\n",
    "               demonstration_configurations[\"Right Bin\"],\n",
    "               demonstration_configurations[\"Above Bins\"]]\n",
    "\n"
   ]
  },
  {
   "cell_type": "code",
   "execution_count": 20,
   "metadata": {
    "pycharm": {
     "name": "#%%\n"
    }
   },
   "outputs": [
    {
     "name": "stdout",
     "output_type": "stream",
     "text": [
      "edges [[1, 3, 4], [2, 3, 4]]\n",
      "Convex Relaxation 1.871 min hard result cost 1.871 Gap -0.0\n",
      "Linear GCS length: 1.871, and time: 0.122 s\n"
     ]
    }
   ],
   "source": [
    "execute_demo = demo_a\n",
    "GCS_path, GCS_time = getGCSPath(execute_demo, verbose = True)\n",
    "linear_gcs_traj = make_traj(GCS_path, speed = 2)\n",
    "print(f\"Linear GCS length: {round(get_traj_length(linear_gcs_traj), 3)}, and time: {round(GCS_time, 3)} s\")\n",
    "\n",
    "# PRM_path, PRM_time = prm.getPath(execute_demo, verbose = True)\n",
    "# prm_traj = make_traj(PRM_path, speed = 2)\n",
    "# print(f\"PRM length: {round(get_traj_length(prm_traj), 3)}, and time: {round(PRM_time, 3)} s\")\n",
    "\n",
    "# sPRM_path, sPRM_time = prm.getPath(execute_demo, path_processing = shortcut)\n",
    "# sprm_traj = make_traj(sPRM_path, speed = 2)\n",
    "# print(f\"Smoothed PRM length: {round(get_traj_length(sprm_traj), 3)}, and time: {round(sPRM_time, 3)} s\")\n"
   ]
  },
  {
   "cell_type": "code",
   "execution_count": 21,
   "metadata": {
    "pycharm": {
     "name": "#%%\n"
    }
   },
   "outputs": [],
   "source": [
    "# is_traj_confined(regions)"
   ]
  },
  {
   "cell_type": "code",
   "execution_count": 22,
   "metadata": {
    "pycharm": {
     "name": "#%%\n"
    }
   },
   "outputs": [
    {
     "name": "stderr",
     "output_type": "stream",
     "text": [
      "WARNING:drake:Updating illustration role properties must be done before visualizer initialization to have an effect. When in doubt, after making property changes, force the visualizer to re-initialize via its API.\n",
      "/Users/varun/gcs/reproduction/prm_comparison/helpers.py:233: DrakeDeprecationWarning: MeshcatVisualizerCpp has been renamed to MeshcatVisualizer. The deprecated code will be removed from Drake on or after 2022-11-01.\n",
      "  meshcat_cpp = MeshcatVisualizerCpp.AddToBuilder(builder, scene_graph, meshcat, meshcat_params)\n"
     ]
    }
   ],
   "source": [
    "visualize_trajectory(meshcat,\n",
    "                     [linear_gcs_traj],\n",
    "                     show_line = True,\n",
    "                     iiwa_ghosts = execute_demo,\n",
    "                     alpha =  0.3,\n",
    "                     regions = [])\n"
   ]
  },
  {
   "cell_type": "code",
   "execution_count": 23,
   "metadata": {
    "pycharm": {
     "name": "#%%\n"
    }
   },
   "outputs": [],
   "source": [
    "# with open (\"GCS_PRM15k_comparison.html\", \"w\") as f:\n",
    "#     f.write(meshcat.StaticHtml())"
   ]
  },
  {
   "cell_type": "markdown",
   "metadata": {
    "pycharm": {
     "name": "#%% md\n"
    }
   },
   "source": [
    "## Comparison Table for Paper\n"
   ]
  },
  {
   "cell_type": "code",
   "execution_count": 24,
   "metadata": {
    "pycharm": {
     "name": "#%%\n"
    }
   },
   "outputs": [],
   "source": [
    "# demos_for_paper = [demo_a, demo_b, demo_c, demo_d, demo_e]\n",
    "\n",
    "# proposed_planner_data = []\n",
    "# PRM_data = []\n",
    "# sPRM_data = []\n",
    "\n",
    "# N = 10 # We ran this 100 in the paper \n",
    "# for _ in range(N):\n",
    "#     #extract trajectory and time \n",
    "#     trajectories = map(lambda d:[getGCSPath(d),prm.getPath(d),prm.getPath(d, path_processing = shortcut)], demos_for_paper)\n",
    "#     #get length of trajectory\n",
    "#     length_time_list = map(lambda traj_time: [[get_traj_length(make_traj(trj)), t] for trj, t in traj_time], trajectories)\n",
    "#     #flatten for pandas\n",
    "#     length_time_list = np.array(list(length_time_list))\n",
    "    \n",
    "#     proposed_planner_data.append(length_time_list[:,0].flatten())\n",
    "#     PRM_data.append(length_time_list[:,1].flatten())\n",
    "#     sPRM_data.append(length_time_list[:,2].flatten())\n",
    "    \n",
    "# proposed_planner_data = np.mean(proposed_planner_data, axis = 0)\n",
    "# PRM_data = np.mean(PRM_data, axis = 0)\n",
    "# sPRM_data = np.mean(sPRM_data, axis = 0)"
   ]
  },
  {
   "cell_type": "code",
   "execution_count": 25,
   "metadata": {
    "pycharm": {
     "name": "#%%\n"
    }
   },
   "outputs": [],
   "source": [
    "# cols = {\"Proposed Planner\":proposed_planner_data,\n",
    "#         \"Regular PRM\":PRM_data,\n",
    "#         \"Shortcut PRM\":sPRM_data}\n",
    "\n",
    "# index = pd.MultiIndex.from_tuples([('q1-q2', 'length (rad)'), ('q1-q2', 'runtime (s)'),\n",
    "#                                     ('q2-q3', 'length (rad)'), ('q2-q3', 'runtime (s)'),\n",
    "#                                     ('q3-q4', 'length (rad)'), ('q3-q4', 'runtime (s)'),\n",
    "#                                     ('q4-q5', 'length (rad)'), ('q4-q5', 'runtime (s)'),\n",
    "#                                     ('q5-q1', 'length (rad)'), ('q5-q1', 'runtime (s)'),], names=[\"Task\", \"\"])\n",
    "# df = pd.DataFrame(data = cols, index=index)"
   ]
  },
  {
   "cell_type": "code",
   "execution_count": 26,
   "metadata": {
    "pycharm": {
     "name": "#%%\n"
    }
   },
   "outputs": [],
   "source": [
    "# df.round(2)"
   ]
  },
  {
   "cell_type": "markdown",
   "metadata": {
    "pycharm": {
     "name": "#%% md\n"
    }
   },
   "source": [
    "## Debug\n",
    "When playing with the demonstration points, use this to understand where PRM fails and where the regions to include the configurations"
   ]
  },
  {
   "cell_type": "code",
   "execution_count": 27,
   "metadata": {
    "pycharm": {
     "name": "#%%\n"
    }
   },
   "outputs": [],
   "source": [
    "# for k,v in {name: InverseKinematics(q0, trans, rot) for name, (trans, rot) in demonstration.items()}.items():\n",
    "#     print(k, regions[k].PointInSet(v), not prm.getPath([q0, v]) is None)"
   ]
  }
 ],
 "metadata": {
  "kernelspec": {
   "display_name": "gg2",
   "language": "python",
   "name": "gg2"
  },
  "language_info": {
   "codemirror_mode": {
    "name": "ipython",
    "version": 3
   },
   "file_extension": ".py",
   "mimetype": "text/x-python",
   "name": "python",
   "nbconvert_exporter": "python",
   "pygments_lexer": "ipython3",
   "version": "3.9.13"
  }
 },
 "nbformat": 4,
 "nbformat_minor": 2
}

{
 "cells": [
  {
   "cell_type": "code",
   "execution_count": 1,
   "metadata": {
    "pycharm": {
     "name": "#%%\n"
    }
   },
   "outputs": [
    {
     "data": {
      "text/plain": [
       "<pydrake.solvers.MosekSolver.License at 0x134cd9df0>"
      ]
     },
     "execution_count": 1,
     "metadata": {},
     "output_type": "execute_result"
    }
   ],
   "source": [
    "%load_ext autoreload\n",
    "%autoreload 2\n",
    "import os\n",
    "import time\n",
    "import pickle\n",
    "import numpy as np\n",
    "import pandas as pd\n",
    "import multiprocess as mp\n",
    "from IPython.display import HTML, SVG\n",
    "\n",
    "from pydrake.geometry import MeshcatVisualizerCpp, MeshcatVisualizerParams, Role, StartMeshcat\n",
    "from pydrake.geometry.optimization import IrisInConfigurationSpace, IrisOptions\n",
    "from pydrake.multibody.parsing import LoadModelDirectives, Parser, ProcessModelDirectives\n",
    "from pydrake.multibody.plant import AddMultibodyPlantSceneGraph\n",
    "# from pydrake.planning.common_robotics_utilities import SimpleRRTPlannerState\n",
    "from pydrake.solvers.gurobi import GurobiSolver\n",
    "from pydrake.solvers.mosek import MosekSolver\n",
    "from pydrake.systems.framework import DiagramBuilder\n",
    "\n",
    "from gcs.linear import LinearGCS\n",
    "from gcs.rounding import randomForwardPathSearch\n",
    "from reproduction.prm_comparison.planning import PRM, BiRRT\n",
    "from reproduction.prm_comparison.helpers import (\n",
    "    ForwardKinematics,\n",
    "    get_traj_length,\n",
    "    InverseKinematics,\n",
    "    is_traj_confined,\n",
    "    make_traj,\n",
    "    visualize_trajectory,\n",
    ")\n",
    "from reproduction.util import *\n",
    "\n",
    "os.environ[\"MOSEKLM_LICENSE_FILE\"] = \"/Users/varun/mosek/mosek.lic\"\n",
    "GurobiSolver.AcquireLicense()\n",
    "MosekSolver.AcquireLicense()\n"
   ]
  },
  {
   "cell_type": "code",
   "execution_count": 2,
   "metadata": {
    "pycharm": {
     "name": "#%%\n"
    }
   },
   "outputs": [
    {
     "name": "stderr",
     "output_type": "stream",
     "text": [
      "INFO:drake:Meshcat listening for connections at http://localhost:7003\n"
     ]
    }
   ],
   "source": [
    "# Start the visualizer (run this cell only once, each instance consumes a port)\n",
    "meshcat = StartMeshcat()"
   ]
  },
  {
   "cell_type": "code",
   "execution_count": 3,
   "metadata": {
    "pycharm": {
     "name": "#%%\n"
    }
   },
   "outputs": [],
   "source": [
    "SEED = 17\n",
    "np.random.seed(SEED)"
   ]
  },
  {
   "cell_type": "code",
   "execution_count": 4,
   "metadata": {
    "pycharm": {
     "name": "#%%\n"
    },
    "scrolled": false
   },
   "outputs": [
    {
     "name": "stderr",
     "output_type": "stream",
     "text": [
      "/var/folders/p0/l4__0wtd3j184sv9zspd0qlm0000gn/T/ipykernel_4403/1353813250.py:18: DrakeDeprecationWarning: MeshcatVisualizerCpp has been renamed to MeshcatVisualizer. The deprecated code will be removed from Drake on or after 2022-11-01.\n",
      "  meshcat_cpp = MeshcatVisualizerCpp.AddToBuilder(builder, scene_graph, meshcat, meshcat_params)\n"
     ]
    }
   ],
   "source": [
    "builder = DiagramBuilder()\n",
    "plant, scene_graph = AddMultibodyPlantSceneGraph(builder, time_step=0.0)\n",
    "parser = Parser(plant)\n",
    "parser.package_map().Add(\"gcs\", GcsDir())\n",
    "\n",
    "directives_file = FindModelFile(\"models/iiwa14_spheres_collision_welded_gripper.yaml\")\n",
    "directives = LoadModelDirectives(directives_file)\n",
    "models = ProcessModelDirectives(directives, plant, parser)\n",
    "[iiwa, wsg, binR, binL, table] =  models\n",
    " \n",
    "\n",
    "plant.Finalize()\n",
    "\n",
    "meshcat_params = MeshcatVisualizerParams()\n",
    "meshcat_params.delete_on_initialization_event = False\n",
    "meshcat_params.role = Role.kIllustration\n",
    "# meshcat_params.role = Role.kProximity\n",
    "meshcat_cpp = MeshcatVisualizerCpp.AddToBuilder(builder, scene_graph, meshcat, meshcat_params)\n",
    "\n",
    "diagram = builder.Build()\n",
    "\n",
    "context = diagram.CreateDefaultContext()\n",
    "#plant_context = plant.GetMyContextFromRoot(context)\n",
    "plant_context = plant.GetMyMutableContextFromRoot(context)\n",
    "q0 =[0, 0.3, 0, -1.8, 0, 1, 1.57]\n",
    "plant.SetPositions(plant_context, q0)\n",
    "diagram.Publish(context)"
   ]
  },
  {
   "cell_type": "markdown",
   "metadata": {
    "pycharm": {
     "name": "#%% md\n"
    }
   },
   "source": [
    "# Generate Iris Regions\n",
    "### via manual seeds"
   ]
  },
  {
   "cell_type": "code",
   "execution_count": 28,
   "metadata": {
    "pycharm": {
     "name": "#%%\n"
    }
   },
   "outputs": [],
   "source": [
    "milestones =  {\"Above Bins\": [[0.75, 0, 0.9],    [0, -np.pi, -np.pi/2]],   \n",
    "                \"Left Bin\":    [[0.4,  0.3, 0.05], [np.pi/2, np.pi, 0]], \n",
    "                \"Right Bin\":   [[0.4, -0.3, 0.05], [np.pi/2, np.pi, np.pi]]}\n",
    "\n",
    "additional_seed_points = {\"Left to Bins\": np.array([[0.4, 0.9, 0.05], [0, 0, np.pi/2]]),\n",
    "                          \"Right to Bins\":np.array([[0.4, -0.9, 0.05], [0, 0, np.pi/2]]),\n",
    "                          \"Front to Bins\":np.array([[0.9, ]])} \n",
    "\n",
    "q0 =[0, 0.3, 0, -1.8, 0, 1, 1.57]\n",
    "milestone_configurations =  {name: InverseKinematics(q0, trans, rot) for name, (trans, rot) in milestones.items()}\n",
    "\n",
    "seed_points = {**milestone_configurations, **additional_seed_points}"
   ]
  },
  {
   "cell_type": "code",
   "execution_count": 29,
   "metadata": {
    "pycharm": {
     "name": "#%%\n"
    }
   },
   "outputs": [],
   "source": [
    "iris_options = IrisOptions()\n",
    "iris_options.require_sample_point_is_contained = True\n",
    "iris_options.iteration_limit = 10\n",
    "iris_options.termination_threshold = -1\n",
    "iris_options.relative_termination_threshold = 0.01\n",
    "iris_options.enable_ibex = False\n",
    "CORE_CNT = mp.cpu_count() # you may edit this"
   ]
  },
  {
   "cell_type": "code",
   "execution_count": 30,
   "metadata": {
    "pycharm": {
     "name": "#%%\n"
    },
    "scrolled": true
   },
   "outputs": [],
   "source": [
    "def calcRegion(seed, verbose):\n",
    "    start_time = time.time()\n",
    "    context = diagram.CreateDefaultContext()\n",
    "    plant_context = plant.GetMyContextFromRoot(context)\n",
    "    plant.SetPositions(plant_context, seed)\n",
    "    hpoly = IrisInConfigurationSpace(plant, plant_context, iris_options)\n",
    "    print(\"Seed:\", seed, \"\\tTime:\", time.time() - start_time, flush=True)\n",
    "    return hpoly\n",
    "\n",
    "def generateRegions(seed_points, verbose = True):\n",
    "    seeds = list(seed_points.values()) if type(seed_points) is dict else seed_points\n",
    "    regions = []\n",
    "    loop_time = time.time()\n",
    "    with mp.Pool(processes = CORE_CNT) as pool:\n",
    "        regions = pool.starmap(calcRegion, [[seed, verbose] for seed in seeds])\n",
    "#     regions = [calcRegion(seed, verbose) for seed in seeds] # Non-parallel version\n",
    "    \n",
    "    if verbose:\n",
    "        print(\"Loop time:\", time.time() - loop_time)\n",
    "    \n",
    "    if type(seed_points) is dict:\n",
    "        return dict(list(zip(seed_points.keys(), regions)))\n",
    "    \n",
    "    return regions"
   ]
  },
  {
   "cell_type": "code",
   "execution_count": null,
   "metadata": {
    "pycharm": {
     "is_executing": true,
     "name": "#%%\n"
    },
    "scrolled": false
   },
   "outputs": [
    {
     "name": "stdout",
     "output_type": "stream",
     "text": [
      "Seed: Seed: [ 0.43966202  0.95411279  0.26243307 -1.78993236 -0.4936849   0.46365433\n",
      "  1.04320642][-0.43941033  0.95416781 -0.26276085 -1.78993337  0.49425353  0.46375902\n",
      "  2.09793841]  \tTime:\tTime:  0.06161522865295410.06212973594665527\n",
      "\n"
     ]
    },
    {
     "name": "stderr",
     "output_type": "stream",
     "text": [
      "Assertion failed: (kstatus == KERN_SUCCESS), function signal_cilk_semaphore, file signal_node.c, line 94.\n"
     ]
    }
   ],
   "source": [
    "regions = generateRegions(seed_points)"
   ]
  },
  {
   "cell_type": "markdown",
   "metadata": {
    "pycharm": {
     "name": "#%% md\n"
    }
   },
   "source": [
    "## via pre-generated regions"
   ]
  },
  {
   "cell_type": "code",
   "execution_count": null,
   "metadata": {
    "pycharm": {
     "name": "#%%\n"
    }
   },
   "outputs": [],
   "source": [
    "#load regions\n",
    "with open(os.path.join(GcsDir(), \"data/prm_comparison/IRIS.reg\"), \"rb\") as f:\n",
    "    regions = pickle.load(f)"
   ]
  },
  {
   "cell_type": "code",
   "execution_count": null,
   "metadata": {
    "pycharm": {
     "name": "#%%\n"
    }
   },
   "outputs": [],
   "source": [
    "gcs = LinearGCS({f\"q_{i + 1}\":r for i, r in enumerate(regions.values())})\n",
    "SVG(gcs.VisualizeGraph()) "
   ]
  },
  {
   "cell_type": "markdown",
   "metadata": {
    "pycharm": {
     "name": "#%% md\n"
    }
   },
   "source": [
    "# Build PRM"
   ]
  },
  {
   "cell_type": "code",
   "execution_count": null,
   "metadata": {
    "pycharm": {
     "name": "#%%\n"
    }
   },
   "outputs": [],
   "source": [
    "collision_step_size = 0.02\n",
    "K = 5\n",
    "roadmap_size = 15000\n",
    "\n",
    "#initlize with seeds for fairness\n",
    "prm = PRM(plant, diagram, collision_step_size, SEED, K, list(seed_points.values()))"
   ]
  },
  {
   "cell_type": "markdown",
   "metadata": {
    "pycharm": {
     "name": "#%% md\n"
    }
   },
   "source": [
    "### Load Roadmap if you don't want to wait 15 minutes"
   ]
  },
  {
   "cell_type": "code",
   "execution_count": null,
   "metadata": {
    "pycharm": {
     "name": "#%%\n"
    }
   },
   "outputs": [],
   "source": [
    "#TODO use wget here to download th prm map from server\n",
    "prm.load(os.path.join(GcsDir(), \"data/prm_comparison/15k_presplined.rmp\"))"
   ]
  },
  {
   "cell_type": "markdown",
   "metadata": {
    "pycharm": {
     "name": "#%% md\n"
    }
   },
   "source": [
    "### Or Grow it "
   ]
  },
  {
   "cell_type": "code",
   "execution_count": null,
   "metadata": {
    "pycharm": {
     "name": "#%%\n"
    }
   },
   "outputs": [],
   "source": [
    "solve_timeout = 200\n",
    "goal_bias = 0.05\n",
    "step_size = 0.1\n",
    "birrt = BiRRT(plant, diagram, collision_step_size, SEED, step_size, goal_bias, solve_timeout)"
   ]
  },
  {
   "cell_type": "markdown",
   "metadata": {
    "pycharm": {
     "name": "#%% md\n"
    }
   },
   "source": [
    "### Connect via BiRRT first\n",
    "Given the knowledge of the Graph of Convex Sets, we will use BiRRT to connect the edges. All of the nodes of the RRT trees will be added to the PRM map"
   ]
  },
  {
   "cell_type": "code",
   "execution_count": null,
   "metadata": {
    "pycharm": {
     "name": "#%%\n"
    }
   },
   "outputs": [],
   "source": [
    "pairs_2_connect = [\n",
    "  [SimpleRRTPlannerState(seed_points[\"Front to Shelve\"]), SimpleRRTPlannerState(seed_points[\"Top Rack\"])],\n",
    "  [SimpleRRTPlannerState(seed_points[\"Front to Shelve\"]), SimpleRRTPlannerState(seed_points[\"Middle Rack\"])],\n",
    "  [SimpleRRTPlannerState(seed_points[\"Front to Shelve\"]), SimpleRRTPlannerState(seed_points[\"Left Bin\"])],\n",
    "  [SimpleRRTPlannerState(seed_points[\"Front to Shelve\"]), SimpleRRTPlannerState(seed_points[\"Right Bin\"])],\n",
    "    \n",
    "  [SimpleRRTPlannerState(seed_points[\"Left Bin\"]), SimpleRRTPlannerState(seed_points[\"Above Shelve\"])],\n",
    "  [SimpleRRTPlannerState(seed_points[\"Left Bin\"]), SimpleRRTPlannerState(seed_points[\"Left to Shelve\"])],\n",
    "\n",
    "    \n",
    "  [SimpleRRTPlannerState(seed_points[\"Right Bin\"]), SimpleRRTPlannerState(seed_points[\"Above Shelve\"])],\n",
    "  [SimpleRRTPlannerState(seed_points[\"Right Bin\"]), SimpleRRTPlannerState(seed_points[\"Right to Shelve\"])],\n",
    "    \n",
    "  [SimpleRRTPlannerState(seed_points[\"Above Shelve\"]), SimpleRRTPlannerState(seed_points[\"Left to Shelve\"])],\n",
    "  [SimpleRRTPlannerState(seed_points[\"Above Shelve\"]), SimpleRRTPlannerState(seed_points[\"Right to Shelve\"])],\n",
    "]\n",
    "\n",
    "prm = PRM(plant, diagram, collision_step_size, SEED, K)\n",
    "\n",
    "start_time = time.time()\n",
    "\n",
    "for start_tree, goal_tree in  pairs_2_connect:\n",
    "    result, start_tree_extended, end_tree_extended = birrt.connect([start_tree], [goal_tree], use_parallel = True)\n",
    "    if len(result.Path()) == 0:\n",
    "        raise Exception(\"Failed to connect nodes\")\n",
    "    prm.addNodes(list(map(lambda x: x.GetValueImmutable(), start_tree_extended)) + list(map(lambda x: x.GetValueImmutable(), end_tree_extended)))\n",
    "\n",
    "print(f\"Roadmap extended to {prm.roadmap_size} in {round(time.time()-start_time,2)} s\")"
   ]
  },
  {
   "cell_type": "markdown",
   "metadata": {
    "pycharm": {
     "name": "#%% md\n"
    }
   },
   "source": [
    "### Continue growing the Roadmap"
   ]
  },
  {
   "cell_type": "code",
   "execution_count": null,
   "metadata": {
    "pycharm": {
     "name": "#%%\n"
    }
   },
   "outputs": [],
   "source": [
    "stats = prm.GrowRoadMap(roadmap_size, True)\n",
    "print(f'Grow time: {stats[\"growing_time\"]} s') "
   ]
  },
  {
   "cell_type": "code",
   "execution_count": null,
   "metadata": {
    "pycharm": {
     "name": "#%%\n"
    }
   },
   "outputs": [],
   "source": [
    "prm.save(os.path.join(GcsDir(), \"data/prm_comparison/15k_presplined.rmp\"))"
   ]
  },
  {
   "cell_type": "markdown",
   "metadata": {
    "pycharm": {
     "name": "#%% md\n"
    }
   },
   "source": [
    "# Run Comparison"
   ]
  },
  {
   "cell_type": "code",
   "execution_count": 13,
   "metadata": {
    "pycharm": {
     "name": "#%%\n"
    }
   },
   "outputs": [],
   "source": [
    "def getGCSPath(sequence, verbose = False):\n",
    "    path = [sequence[0]]\n",
    "    run_time = 0.0\n",
    "    for start_pt, goal_pt in zip(sequence[:-1], sequence[1:]):\n",
    "        gcs = LinearGCS(regions.copy())\n",
    "        gcs.addSourceTarget(start_pt, goal_pt)\n",
    "        gcs.setRoundingStrategy(randomForwardPathSearch, max_paths = 10, max_trials = 100, seed = SEED)\n",
    "        gcs.setSolver(MosekSolver())\n",
    "        start_time = time.time()\n",
    "        waypoints, results_dict = gcs.SolvePath(rounding=True, verbose=False, preprocessing=True)\n",
    "        if waypoints is None:\n",
    "            if verbose:\n",
    "                print(f\"Failed between {start_pt} and {goal_pt}\")\n",
    "            return None\n",
    "\n",
    "        run_time += results_dict[\"preprocessing_stats\"][\"linear_programs\"]\n",
    "        run_time += results_dict[\"relaxation_solver_time\"]\n",
    "        run_time += results_dict[\"total_rounded_solver_time\"]\n",
    "        if verbose:\n",
    "            print(\"Convex Relaxation\", round(results_dict[\"relaxation_cost\"], 3),\n",
    "                  \"min hard result cost\", round(results_dict[\"rounded_cost\"], 3),\n",
    "                  \"Gap\", round((results_dict[\"rounded_cost\"] - results_dict[\"relaxation_cost\"])/results_dict[\"relaxation_cost\"], 3))\n",
    "    \n",
    "        path += waypoints.T[1:].tolist()\n",
    "    return np.stack(path).T, run_time\n",
    "\n",
    "def shortcut(path):\n",
    "    \"\"\"Those values are used by TRI\"\"\"\n",
    "    return prm.shortcut(np.stack(path),\n",
    "                 max_iter = 200,\n",
    "                 max_failed_iter = 200,\n",
    "                 max_backtracking_steps = 0,\n",
    "                 max_shortcut_fraction = 1.0,\n",
    "                 resample_shortcuts_interval = 0.25,\n",
    "                 check_for_marginal_shortcuts = False)"
   ]
  },
  {
   "cell_type": "markdown",
   "metadata": {
    "pycharm": {
     "name": "#%% md\n"
    }
   },
   "source": [
    "# Demonstration"
   ]
  },
  {
   "cell_type": "code",
   "execution_count": 18,
   "metadata": {
    "pycharm": {
     "name": "#%%\n"
    }
   },
   "outputs": [],
   "source": [
    "demonstration =  {\"Above Bins\": [[0.75, -0.12, 0.9], [0, -np.pi, -np.pi/2]],   \n",
    "                \"Left Bin\":       [[0.48, 0.3, 0.05],  [np.pi/2, np.pi, 0]], \n",
    "                \"Right Bin\":      [[-0.32, -0.3, 0.05], [np.pi/2, np.pi, np.pi]]}\n",
    "\n",
    "q0 =[0, 0.3, 0, -1.8, 0, 1, 1.57]\n",
    "demonstration_configurations =  {name: InverseKinematics(q0, trans, rot) for name, (trans, rot) in demonstration.items()}\n"
   ]
  },
  {
   "cell_type": "code",
   "execution_count": 19,
   "metadata": {
    "pycharm": {
     "name": "#%%\n"
    }
   },
   "outputs": [],
   "source": [
    "demo_a = [demonstration_configurations[\"Left Bin\"],\n",
    "          demonstration_configurations[\"Right Bin\"]]\n",
    "\n",
    "demo_b = [demonstration_configurations[\"Left Bin\"],\n",
    "          demonstration_configurations[\"Above Bins\"]]\n",
    "\n",
    "demo_c = [demonstration_configurations[\"Right Bin\"],\n",
    "          demonstration_configurations[\"Above Bins\"]]\n",
    "\n",
    "demo_circle = [demonstration_configurations[\"Above Bins\"],\n",
    "               demonstration_configurations[\"Left Bin\"],\n",
    "               demonstration_configurations[\"Right Bin\"],\n",
    "               demonstration_configurations[\"Above Bins\"]]\n",
    "\n"
   ]
  },
  {
   "cell_type": "code",
   "execution_count": 20,
   "metadata": {
    "pycharm": {
     "name": "#%%\n"
    },
    "scrolled": false
   },
   "outputs": [
    {
     "name": "stdout",
     "output_type": "stream",
     "text": [
      "Convex Relaxation 2.845 min hard result cost 2.845 Gap -0.0\n",
      "Linear GCS length: 2.845, and time: 0.242 s\n"
     ]
    }
   ],
   "source": [
    "execute_demo = demo_a\n",
    "GCS_path, GCS_time = getGCSPath(execute_demo, verbose = True)\n",
    "linear_gcs_traj = make_traj(GCS_path, speed = 2)\n",
    "print(f\"Linear GCS length: {round(get_traj_length(linear_gcs_traj), 3)}, and time: {round(GCS_time, 3)} s\")\n",
    "\n",
    "# PRM_path, PRM_time = prm.getPath(execute_demo, verbose = True)\n",
    "# prm_traj = make_traj(PRM_path, speed = 2)\n",
    "# print(f\"PRM length: {round(get_traj_length(prm_traj), 3)}, and time: {round(PRM_time, 3)} s\")\n",
    "\n",
    "# sPRM_path, sPRM_time = prm.getPath(execute_demo, path_processing = shortcut)\n",
    "# sprm_traj = make_traj(sPRM_path, speed = 2)\n",
    "# print(f\"Smoothed PRM length: {round(get_traj_length(sprm_traj), 3)}, and time: {round(sPRM_time, 3)} s\")\n"
   ]
  },
  {
   "cell_type": "code",
   "execution_count": 21,
   "metadata": {
    "pycharm": {
     "name": "#%%\n"
    },
    "scrolled": true
   },
   "outputs": [
    {
     "ename": "TypeError",
     "evalue": "is_traj_confined() missing 1 required positional argument: 'regions'",
     "output_type": "error",
     "traceback": [
      "\u001b[0;31m---------------------------------------------------------------------------\u001b[0m",
      "\u001b[0;31mTypeError\u001b[0m                                 Traceback (most recent call last)",
      "Input \u001b[0;32mIn [21]\u001b[0m, in \u001b[0;36m<cell line: 1>\u001b[0;34m()\u001b[0m\n\u001b[0;32m----> 1\u001b[0m \u001b[43mis_traj_confined\u001b[49m\u001b[43m(\u001b[49m\u001b[43mregions\u001b[49m\u001b[43m)\u001b[49m\n",
      "\u001b[0;31mTypeError\u001b[0m: is_traj_confined() missing 1 required positional argument: 'regions'"
     ]
    }
   ],
   "source": [
    "is_traj_confined(regions)"
   ]
  },
  {
   "cell_type": "code",
   "execution_count": 21,
   "metadata": {
    "pycharm": {
     "name": "#%%\n"
    }
   },
   "outputs": [],
   "source": [
    "visualize_trajectory(meshcat,\n",
    "                     [linear_gcs_traj],\n",
    "                     show_line = True,\n",
    "                     iiwa_ghosts = execute_demo,\n",
    "                     alpha =  0.3,\n",
    "                     regions = [])\n"
   ]
  },
  {
   "cell_type": "code",
   "execution_count": 19,
   "metadata": {
    "pycharm": {
     "name": "#%%\n"
    }
   },
   "outputs": [],
   "source": [
    "with open (\"GCS_PRM15k_comparison.html\", \"w\") as f:\n",
    "    f.write(meshcat.StaticHtml())"
   ]
  },
  {
   "cell_type": "markdown",
   "metadata": {
    "pycharm": {
     "name": "#%% md\n"
    }
   },
   "source": [
    "## Comparison Table for Paper\n"
   ]
  },
  {
   "cell_type": "code",
   "execution_count": null,
   "metadata": {
    "pycharm": {
     "name": "#%%\n"
    }
   },
   "outputs": [],
   "source": [
    "demos_for_paper = [demo_a, demo_b, demo_c, demo_d, demo_e]\n",
    "\n",
    "proposed_planner_data = []\n",
    "PRM_data = []\n",
    "sPRM_data = []\n",
    "\n",
    "N = 10 # We ran this 100 in the paper \n",
    "for _ in range(N):\n",
    "    #extract trajectory and time \n",
    "    trajectories = map(lambda d:[getGCSPath(d),prm.getPath(d),prm.getPath(d, path_processing = shortcut)], demos_for_paper)\n",
    "    #get length of trajectory\n",
    "    length_time_list = map(lambda traj_time: [[get_traj_length(make_traj(trj)), t] for trj, t in traj_time], trajectories)\n",
    "    #flatten for pandas\n",
    "    length_time_list = np.array(list(length_time_list))\n",
    "    \n",
    "    proposed_planner_data.append(length_time_list[:,0].flatten())\n",
    "    PRM_data.append(length_time_list[:,1].flatten())\n",
    "    sPRM_data.append(length_time_list[:,2].flatten())\n",
    "    \n",
    "proposed_planner_data = np.mean(proposed_planner_data, axis = 0)\n",
    "PRM_data = np.mean(PRM_data, axis = 0)\n",
    "sPRM_data = np.mean(sPRM_data, axis = 0)"
   ]
  },
  {
   "cell_type": "code",
   "execution_count": null,
   "metadata": {
    "pycharm": {
     "name": "#%%\n"
    }
   },
   "outputs": [],
   "source": [
    "cols = {\"Proposed Planner\":proposed_planner_data,\n",
    "        \"Regular PRM\":PRM_data,\n",
    "        \"Shortcut PRM\":sPRM_data}\n",
    "\n",
    "index = pd.MultiIndex.from_tuples([('q1-q2', 'length (rad)'), ('q1-q2', 'runtime (s)'),\n",
    "                                    ('q2-q3', 'length (rad)'), ('q2-q3', 'runtime (s)'),\n",
    "                                    ('q3-q4', 'length (rad)'), ('q3-q4', 'runtime (s)'),\n",
    "                                    ('q4-q5', 'length (rad)'), ('q4-q5', 'runtime (s)'),\n",
    "                                    ('q5-q1', 'length (rad)'), ('q5-q1', 'runtime (s)'),], names=[\"Task\", \"\"])\n",
    "df = pd.DataFrame(data = cols, index=index)"
   ]
  },
  {
   "cell_type": "code",
   "execution_count": null,
   "metadata": {
    "pycharm": {
     "name": "#%%\n"
    }
   },
   "outputs": [],
   "source": [
    "df.round(2)"
   ]
  },
  {
   "cell_type": "markdown",
   "metadata": {
    "pycharm": {
     "name": "#%% md\n"
    }
   },
   "source": [
    "## Debug\n",
    "When playing with the demonstration points, use this to understand where PRM fails and where the regions to include the configurations"
   ]
  },
  {
   "cell_type": "code",
   "execution_count": null,
   "metadata": {
    "pycharm": {
     "name": "#%%\n"
    }
   },
   "outputs": [],
   "source": [
    "for k,v in {name: InverseKinematics(q0, trans, rot) for name, (trans, rot) in demonstration.items()}.items():\n",
    "    print(k, regions[k].PointInSet(v), not prm.getPath([q0, v]) is None)"
   ]
  },
  {
   "cell_type": "code",
   "execution_count": null,
   "metadata": {
    "pycharm": {
     "name": "#%%\n"
    }
   },
   "outputs": [],
   "source": []
  }
 ],
 "metadata": {
  "kernelspec": {
   "display_name": "gg2",
   "language": "python",
   "name": "gg2"
  },
  "language_info": {
   "codemirror_mode": {
    "name": "ipython",
    "version": 3
   },
   "file_extension": ".py",
   "mimetype": "text/x-python",
   "name": "python",
   "nbconvert_exporter": "python",
   "pygments_lexer": "ipython3",
   "version": "3.9.13"
  }
 },
 "nbformat": 4,
 "nbformat_minor": 2
}

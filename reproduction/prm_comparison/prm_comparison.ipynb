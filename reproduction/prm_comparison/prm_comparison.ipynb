{
 "cells": [
  {
   "cell_type": "code",
   "execution_count": 113,
   "metadata": {
    "pycharm": {
     "name": "#%%\n"
    }
   },
   "outputs": [
    {
     "name": "stdout",
     "output_type": "stream",
     "text": [
      "The autoreload extension is already loaded. To reload it, use:\n",
      "  %reload_ext autoreload\n",
      "True\n"
     ]
    }
   ],
   "source": [
    "%load_ext autoreload\n",
    "%autoreload 2\n",
    "import os\n",
    "import time\n",
    "import pickle\n",
    "import numpy as np\n",
    "import pandas as pd\n",
    "import multiprocess as mp\n",
    "from IPython.display import HTML, SVG\n",
    "\n",
    "from pydrake.geometry import MeshcatVisualizerCpp, MeshcatVisualizerParams, Role, StartMeshcat\n",
    "from pydrake.geometry.optimization import IrisInConfigurationSpace, IrisOptions\n",
    "from pydrake.multibody.parsing import LoadModelDirectives, Parser, ProcessModelDirectives\n",
    "from pydrake.multibody.plant import AddMultibodyPlantSceneGraph\n",
    "# from pydrake.solvers.gurobi import GurobiSolver\n",
    "from pydrake.solvers.mosek import MosekSolver\n",
    "# from pydrake.solvers import MathematicalProgram\n",
    "from pydrake.solvers.snopt import SnoptSolver\n",
    "from pydrake.systems.framework import DiagramBuilder\n",
    "# from pydrake.planning.common_robotics_utilities import SimpleRRTPlannerState\n",
    "\n",
    "\n",
    "from gcs.linear import LinearGCS\n",
    "from gcs.rounding import randomForwardPathSearch\n",
    "from reproduction.prm_comparison.planning import PRM, BiRRT\n",
    "from reproduction.prm_comparison.helpers import (\n",
    "    ForwardKinematics,\n",
    "    get_traj_length,\n",
    "    InverseKinematics,\n",
    "    is_traj_confined,\n",
    "    make_traj,\n",
    "    visualize_trajectory,\n",
    ")\n",
    "from reproduction.util import *\n",
    "\n",
    "# GurobiSolver.AcquireLicense()\n",
    "os.environ['MOSEKLM_LICENSE_FILE'] = '/Users/varun/mosek/mosek.lic'\n",
    "MosekSolver.AcquireLicense()\n",
    "\n",
    "print(MosekSolver().available())"
   ]
  },
  {
   "cell_type": "code",
   "execution_count": 114,
   "metadata": {
    "pycharm": {
     "name": "#%%\n"
    }
   },
   "outputs": [
    {
     "name": "stderr",
     "output_type": "stream",
     "text": [
      "INFO:drake:Meshcat listening for connections at http://localhost:7005\n"
     ]
    }
   ],
   "source": [
    "# Start the visualizer (run this cell only once, each instance consumes a port)\n",
    "meshcat = StartMeshcat()"
   ]
  },
  {
   "cell_type": "code",
   "execution_count": 115,
   "metadata": {
    "pycharm": {
     "name": "#%%\n"
    }
   },
   "outputs": [],
   "source": [
    "SEED = 17\n",
    "np.random.seed(SEED)"
   ]
  },
  {
   "cell_type": "code",
   "execution_count": 116,
   "metadata": {
    "pycharm": {
     "name": "#%%\n"
    }
   },
   "outputs": [
    {
     "name": "stderr",
     "output_type": "stream",
     "text": [
      "/var/folders/p0/l4__0wtd3j184sv9zspd0qlm0000gn/T/ipykernel_8862/1353813250.py:18: DrakeDeprecationWarning: MeshcatVisualizerCpp has been renamed to MeshcatVisualizer. The deprecated code will be removed from Drake on or after 2022-11-01.\n",
      "  meshcat_cpp = MeshcatVisualizerCpp.AddToBuilder(builder, scene_graph, meshcat, meshcat_params)\n"
     ]
    }
   ],
   "source": [
    "builder = DiagramBuilder()\n",
    "plant, scene_graph = AddMultibodyPlantSceneGraph(builder, time_step=0.0)\n",
    "parser = Parser(plant)\n",
    "parser.package_map().Add(\"gcs\", GcsDir())\n",
    "\n",
    "directives_file = FindModelFile(\"models/iiwa14_spheres_collision_welded_gripper.yaml\")\n",
    "directives = LoadModelDirectives(directives_file)\n",
    "models = ProcessModelDirectives(directives, plant, parser)\n",
    "[iiwa, wsg, binR, binL, table] =  models\n",
    " \n",
    "\n",
    "plant.Finalize()\n",
    "\n",
    "meshcat_params = MeshcatVisualizerParams()\n",
    "meshcat_params.delete_on_initialization_event = False\n",
    "meshcat_params.role = Role.kIllustration\n",
    "# meshcat_params.role = Role.kProximity\n",
    "meshcat_cpp = MeshcatVisualizerCpp.AddToBuilder(builder, scene_graph, meshcat, meshcat_params)\n",
    "\n",
    "diagram = builder.Build()\n",
    "\n",
    "context = diagram.CreateDefaultContext()\n",
    "#plant_context = plant.GetMyContextFromRoot(context)\n",
    "plant_context = plant.GetMyMutableContextFromRoot(context)\n",
    "q0 =[0, 0.3, 0, -1.8, 0, 1, 1.57]\n",
    "plant.SetPositions(plant_context, q0)\n",
    "diagram.Publish(context)"
   ]
  },
  {
   "cell_type": "markdown",
   "metadata": {
    "pycharm": {
     "name": "#%% md\n"
    }
   },
   "source": [
    "# Generate Iris Regions\n",
    "### via manual seeds"
   ]
  },
  {
   "cell_type": "code",
   "execution_count": 117,
   "metadata": {
    "pycharm": {
     "name": "#%%\n"
    }
   },
   "outputs": [],
   "source": [
    "milestones =  {\"Above Shelve\": [[0.75, 0, 0.9],    [0, -np.pi, -np.pi/2]],   \n",
    "#                 \"Top Rack\":    [[0.75, 0, 0.67],   [0, -np.pi, -np.pi/2]],   \n",
    "#                 \"Middle Rack\": [[0.75, 0, 0.41],   [0, -np.pi, -np.pi/2]],       \n",
    "                \"Left Bin\":    [[0.2,  0.4, 0.22], [np.pi/2, np.pi, 0]], \n",
    "                \"Right Bin\":   [[0.2, -0.4, 0.22], [np.pi/2, np.pi, np.pi]],\n",
    "                \"Test Seed\":   [[0.75, 0, 0.85],   [0, -np.pi, -np.pi/2]]}\n",
    "\n",
    "\n",
    "additional_seed_points = {\"Front to Shelve\":np.array([0, 0.2, 0, -2.09, 0, -0.3, np.pi/2]), \n",
    "                          \"Left to Shelve\": np.array([0.8, 0.7, 0, -1.6, 0, 0, np.pi/2]),\n",
    "                          \"Right to Shelve\":np.array([-0.8, 0.7, 0, -1.6, 0, 0, np.pi/2])} \n",
    "\n",
    "q0 =[0, 0.3, 0, -1.8, 0, 1, 1.57]\n",
    "milestone_configurations =  {name: InverseKinematics(q0, trans, rot) for name, (trans, rot) in milestones.items()}\n",
    "\n",
    "seed_points = {**milestone_configurations, **additional_seed_points}"
   ]
  },
  {
   "cell_type": "code",
   "execution_count": 118,
   "metadata": {
    "pycharm": {
     "name": "#%%\n"
    },
    "scrolled": true
   },
   "outputs": [
    {
     "name": "stdout",
     "output_type": "stream",
     "text": [
      "{'Above Shelve': array([ 6.41950821e-05,  4.71953264e-01, -1.49318242e-04, -6.71673454e-01,\n",
      "        1.85368193e-04,  4.26169599e-01,  1.57069215e+00]), 'Left Bin': array([ 0.75117606,  0.53571564,  0.43807787, -1.97863357, -0.34178714,\n",
      "        0.69952074,  1.40025733]), 'Right Bin': array([-0.7508839 ,  0.53578589, -0.43844716, -1.97863323,  0.34208802,\n",
      "        0.69958   ,  1.74107712]), 'Test Seed': array([ 9.83600730e-05,  4.14759451e-01, -1.78732762e-04, -8.88337408e-01,\n",
      "        2.63138161e-04,  2.68699468e-01,  1.57061296e+00]), 'Front to Shelve': array([ 0.        ,  0.2       ,  0.        , -2.09      ,  0.        ,\n",
      "       -0.3       ,  1.57079633]), 'Left to Shelve': array([ 0.8       ,  0.7       ,  0.        , -1.6       ,  0.        ,\n",
      "        0.        ,  1.57079633]), 'Right to Shelve': array([-0.8       ,  0.7       ,  0.        , -1.6       ,  0.        ,\n",
      "        0.        ,  1.57079633])}\n"
     ]
    }
   ],
   "source": [
    "print(seed_points)"
   ]
  },
  {
   "cell_type": "code",
   "execution_count": 119,
   "metadata": {
    "pycharm": {
     "name": "#%%\n"
    }
   },
   "outputs": [],
   "source": [
    "iris_options = IrisOptions()\n",
    "iris_options.require_sample_point_is_contained = True\n",
    "iris_options.iteration_limit = 10\n",
    "iris_options.termination_threshold = -1\n",
    "iris_options.relative_termination_threshold = 0.01\n",
    "iris_options.enable_ibex = False\n",
    "CORE_CNT = mp.cpu_count() # you may edit this"
   ]
  },
  {
   "cell_type": "code",
   "execution_count": 120,
   "metadata": {
    "pycharm": {
     "name": "#%%\n"
    }
   },
   "outputs": [],
   "source": [
    "def calcRegion(seed, verbose):\n",
    "    print(\"Seed:\", seed)\n",
    "    start_time = time.time()\n",
    "    context = diagram.CreateDefaultContext()\n",
    "    plant_context = plant.GetMyContextFromRoot(context)\n",
    "    plant.SetPositions(plant_context, seed)\n",
    "    hpoly = IrisInConfigurationSpace(plant, plant_context, iris_options)\n",
    "    print(\"Seed:\", seed, \"\\tTime:\", time.time() - start_time, flush=True)\n",
    "    return hpoly"
   ]
  },
  {
   "cell_type": "code",
   "execution_count": 121,
   "metadata": {
    "pycharm": {
     "name": "#%%\n"
    }
   },
   "outputs": [],
   "source": [
    "def generateRegions(seed_points, verbose = True):\n",
    "    seeds = list(seed_points.values()) if type(seed_points) is dict else seed_points\n",
    "    regions = []\n",
    "    loop_time = time.time()\n",
    "#     with mp.Pool(processes = CORE_CNT) as pool:\n",
    "#         regions = pool.starmap(calcRegion, [[seed, verbose] for seed in seeds])\n",
    "    regions = [calcRegion(seed, verbose) for seed in seeds]\n",
    "\n",
    "    \n",
    "    if verbose:\n",
    "        print(\"Loop time:\", time.time() - loop_time)\n",
    "    \n",
    "    if type(seed_points) is dict:\n",
    "        return dict(list(zip(seed_points.keys(), regions)))\n",
    "    \n",
    "    return regions"
   ]
  },
  {
   "cell_type": "code",
   "execution_count": 122,
   "metadata": {
    "pycharm": {
     "name": "#%%\n"
    },
    "scrolled": false
   },
   "outputs": [
    {
     "name": "stdout",
     "output_type": "stream",
     "text": [
      "Seed: [ 6.41950821e-05  4.71953264e-01 -1.49318242e-04 -6.71673454e-01\n",
      "  1.85368193e-04  4.26169599e-01  1.57069215e+00]\n",
      "Seed: [ 6.41950821e-05  4.71953264e-01 -1.49318242e-04 -6.71673454e-01\n",
      "  1.85368193e-04  4.26169599e-01  1.57069215e+00] \tTime: 78.21111989021301\n",
      "Seed: [ 0.75117606  0.53571564  0.43807787 -1.97863357 -0.34178714  0.69952074\n",
      "  1.40025733]\n",
      "Seed: [ 0.75117606  0.53571564  0.43807787 -1.97863357 -0.34178714  0.69952074\n",
      "  1.40025733] \tTime: 24.428672075271606\n",
      "Seed: [-0.7508839   0.53578589 -0.43844716 -1.97863323  0.34208802  0.69958\n",
      "  1.74107712]\n",
      "Seed: [-0.7508839   0.53578589 -0.43844716 -1.97863323  0.34208802  0.69958\n",
      "  1.74107712] \tTime: 22.09395408630371\n",
      "Seed: [ 9.83600730e-05  4.14759451e-01 -1.78732762e-04 -8.88337408e-01\n",
      "  2.63138161e-04  2.68699468e-01  1.57061296e+00]\n",
      "Seed: [ 9.83600730e-05  4.14759451e-01 -1.78732762e-04 -8.88337408e-01\n",
      "  2.63138161e-04  2.68699468e-01  1.57061296e+00] \tTime: 59.13076710700989\n",
      "Seed: [ 0.          0.2         0.         -2.09        0.         -0.3\n",
      "  1.57079633]\n",
      "Seed: [ 0.          0.2         0.         -2.09        0.         -0.3\n",
      "  1.57079633] \tTime: 79.12132382392883\n",
      "Seed: [ 0.8         0.7         0.         -1.6         0.          0.\n",
      "  1.57079633]\n",
      "Seed: [ 0.8         0.7         0.         -1.6         0.          0.\n",
      "  1.57079633] \tTime: 0.0037796497344970703\n",
      "Seed: [-0.8         0.7         0.         -1.6         0.          0.\n",
      "  1.57079633]\n",
      "Seed: [-0.8         0.7         0.         -1.6         0.          0.\n",
      "  1.57079633] \tTime: 0.004136085510253906\n",
      "Loop time: 263.0374131202698\n"
     ]
    }
   ],
   "source": [
    "regions = generateRegions(seed_points)"
   ]
  },
  {
   "cell_type": "code",
   "execution_count": 123,
   "metadata": {
    "pycharm": {
     "name": "#%%\n"
    }
   },
   "outputs": [
    {
     "name": "stdout",
     "output_type": "stream",
     "text": [
      "{'Above Shelve': <pydrake.geometry.optimization.HPolyhedron object at 0x11ad46370>, 'Left Bin': <pydrake.geometry.optimization.HPolyhedron object at 0x14d428e70>, 'Right Bin': <pydrake.geometry.optimization.HPolyhedron object at 0x14d17e730>, 'Test Seed': <pydrake.geometry.optimization.HPolyhedron object at 0x14c3914f0>, 'Front to Shelve': <pydrake.geometry.optimization.HPolyhedron object at 0x14c4626b0>, 'Left to Shelve': <pydrake.geometry.optimization.HPolyhedron object at 0x14d425830>, 'Right to Shelve': <pydrake.geometry.optimization.HPolyhedron object at 0x14c408b30>}\n"
     ]
    }
   ],
   "source": [
    "print(regions)"
   ]
  },
  {
   "cell_type": "markdown",
   "metadata": {
    "pycharm": {
     "name": "#%% md\n"
    }
   },
   "source": [
    "## via pre-generated regions"
   ]
  },
  {
   "cell_type": "code",
   "execution_count": 124,
   "metadata": {
    "pycharm": {
     "name": "#%%\n"
    }
   },
   "outputs": [],
   "source": [
    "#load regions\n",
    "# with open(os.path.join(GcsDir(), \"data/prm_comparison/IRIS.reg\"), \"rb\") as f:\n",
    "#     regions = pickle.load(f)"
   ]
  },
  {
   "cell_type": "code",
   "execution_count": 125,
   "metadata": {
    "pycharm": {
     "name": "#%%\n"
    }
   },
   "outputs": [
    {
     "data": {
      "image/svg+xml": [
       "<svg xmlns=\"http://www.w3.org/2000/svg\" xmlns:xlink=\"http://www.w3.org/1999/xlink\" width=\"1288pt\" height=\"566pt\" viewBox=\"0.00 0.00 1288.00 566.00\">\n",
       "<g id=\"graph0\" class=\"graph\" transform=\"scale(1 1) rotate(0) translate(4 562)\">\n",
       "<title>GraphOfConvexSets</title>\n",
       "<polygon fill=\"white\" stroke=\"transparent\" points=\"-4,4 -4,-562 1284,-562 1284,4 -4,4\"/>\n",
       "<!-- v19992 -->\n",
       "<g id=\"node1\" class=\"node\">\n",
       "<title>v19992</title>\n",
       "<ellipse fill=\"none\" stroke=\"black\" cx=\"552\" cy=\"-540\" rx=\"27\" ry=\"18\"/>\n",
       "<text text-anchor=\"middle\" x=\"552\" y=\"-536.3\" font-family=\"Times,serif\" font-size=\"14.00\">q_1</text>\n",
       "</g>\n",
       "<!-- v19993 -->\n",
       "<g id=\"node2\" class=\"node\">\n",
       "<title>v19993</title>\n",
       "<ellipse fill=\"none\" stroke=\"black\" cx=\"671\" cy=\"-453\" rx=\"27\" ry=\"18\"/>\n",
       "<text text-anchor=\"middle\" x=\"671\" y=\"-449.3\" font-family=\"Times,serif\" font-size=\"14.00\">q_2</text>\n",
       "</g>\n",
       "<!-- v19992&#45;&gt;v19993 -->\n",
       "<g id=\"edge1\" class=\"edge\">\n",
       "<title>v19992-&gt;v19993</title>\n",
       "<path fill=\"none\" stroke=\"black\" d=\"M573.1,-528.43C577.94,-526.18 583.1,-523.9 588,-522 613.15,-512.21 625.43,-521.47 646,-504 653.31,-497.79 658.7,-488.93 662.57,-480.38\"/>\n",
       "<polygon fill=\"black\" stroke=\"black\" points=\"665.84,-481.61 666.3,-471.03 659.34,-479.02 665.84,-481.61\"/>\n",
       "<text text-anchor=\"middle\" x=\"686\" y=\"-492.8\" font-family=\"Times,serif\" font-size=\"14.00\">(q_1, q_2)</text>\n",
       "</g>\n",
       "<!-- v19994 -->\n",
       "<g id=\"node3\" class=\"node\">\n",
       "<title>v19994</title>\n",
       "<ellipse fill=\"none\" stroke=\"black\" cx=\"585\" cy=\"-18\" rx=\"27\" ry=\"18\"/>\n",
       "<text text-anchor=\"middle\" x=\"585\" y=\"-14.3\" font-family=\"Times,serif\" font-size=\"14.00\">q_3</text>\n",
       "</g>\n",
       "<!-- v19992&#45;&gt;v19994 -->\n",
       "<g id=\"edge3\" class=\"edge\">\n",
       "<title>v19992-&gt;v19994</title>\n",
       "<path fill=\"none\" stroke=\"black\" d=\"M524.8,-538.69C437.25,-537.43 163.56,-531.35 80,-504 40.15,-490.96 0,-495.93 0,-454 0,-454 0,-454 0,-104 0,-62.07 40.12,-66.95 80,-54 166.99,-25.76 446.34,-20.3 547.76,-19.25\"/>\n",
       "<polygon fill=\"black\" stroke=\"black\" points=\"547.88,-22.75 557.84,-19.16 547.81,-15.75 547.88,-22.75\"/>\n",
       "<text text-anchor=\"middle\" x=\"29\" y=\"-275.3\" font-family=\"Times,serif\" font-size=\"14.00\">(q_1, q_3)</text>\n",
       "</g>\n",
       "<!-- v19995 -->\n",
       "<g id=\"node4\" class=\"node\">\n",
       "<title>v19995</title>\n",
       "<ellipse fill=\"none\" stroke=\"black\" cx=\"586\" cy=\"-105\" rx=\"27\" ry=\"18\"/>\n",
       "<text text-anchor=\"middle\" x=\"586\" y=\"-101.3\" font-family=\"Times,serif\" font-size=\"14.00\">q_4</text>\n",
       "</g>\n",
       "<!-- v19992&#45;&gt;v19995 -->\n",
       "<g id=\"edge5\" class=\"edge\">\n",
       "<title>v19992-&gt;v19995</title>\n",
       "<path fill=\"none\" stroke=\"black\" d=\"M525.07,-538.48C469.23,-536.89 343.36,-530.38 311,-504 242.36,-448.06 234.96,-402.58 248,-315 253.95,-275.02 270.05,-167 301,-141 337.69,-110.18 479.96,-105.91 548.57,-105.7\"/>\n",
       "<polygon fill=\"black\" stroke=\"black\" points=\"548.93,-109.2 558.92,-105.69 548.92,-102.2 548.93,-109.2\"/>\n",
       "<text text-anchor=\"middle\" x=\"277\" y=\"-318.8\" font-family=\"Times,serif\" font-size=\"14.00\">(q_1, q_4)</text>\n",
       "</g>\n",
       "<!-- v19996 -->\n",
       "<g id=\"node5\" class=\"node\">\n",
       "<title>v19996</title>\n",
       "<ellipse fill=\"none\" stroke=\"black\" cx=\"866\" cy=\"-192\" rx=\"27\" ry=\"18\"/>\n",
       "<text text-anchor=\"middle\" x=\"866\" y=\"-188.3\" font-family=\"Times,serif\" font-size=\"14.00\">q_5</text>\n",
       "</g>\n",
       "<!-- v19992&#45;&gt;v19996 -->\n",
       "<g id=\"edge7\" class=\"edge\">\n",
       "<title>v19992-&gt;v19996</title>\n",
       "<path fill=\"none\" stroke=\"black\" d=\"M572.46,-527.81C577.42,-525.53 582.79,-523.4 588,-522 793,-466.78 935.9,-593.42 1054,-417 1106.19,-339.04 1038.18,-279.86 960,-228 942,-216.06 919.38,-207.47 900.84,-201.8\"/>\n",
       "<polygon fill=\"black\" stroke=\"black\" points=\"901.59,-198.37 891.01,-198.94 899.63,-205.09 901.59,-198.37\"/>\n",
       "<text text-anchor=\"middle\" x=\"1101\" y=\"-362.3\" font-family=\"Times,serif\" font-size=\"14.00\">(q_1, q_5)</text>\n",
       "</g>\n",
       "<!-- v19997 -->\n",
       "<g id=\"node6\" class=\"node\">\n",
       "<title>v19997</title>\n",
       "<ellipse fill=\"none\" stroke=\"black\" cx=\"892\" cy=\"-279\" rx=\"27\" ry=\"18\"/>\n",
       "<text text-anchor=\"middle\" x=\"892\" y=\"-275.3\" font-family=\"Times,serif\" font-size=\"14.00\">q_6</text>\n",
       "</g>\n",
       "<!-- v19992&#45;&gt;v19997 -->\n",
       "<g id=\"edge9\" class=\"edge\">\n",
       "<title>v19992-&gt;v19997</title>\n",
       "<path fill=\"none\" stroke=\"black\" d=\"M572.52,-528C577.47,-525.71 582.83,-523.54 588,-522 644.33,-505.26 663.59,-523.58 719,-504 816.38,-469.6 867.21,-473.93 918,-384 932.09,-359.04 919.82,-326.48 907.81,-304.49\"/>\n",
       "<polygon fill=\"black\" stroke=\"black\" points=\"910.79,-302.66 902.75,-295.77 904.74,-306.17 910.79,-302.66\"/>\n",
       "<text text-anchor=\"middle\" x=\"935\" y=\"-405.8\" font-family=\"Times,serif\" font-size=\"14.00\">(q_1, q_6)</text>\n",
       "</g>\n",
       "<!-- v19998 -->\n",
       "<g id=\"node7\" class=\"node\">\n",
       "<title>v19998</title>\n",
       "<ellipse fill=\"none\" stroke=\"black\" cx=\"520\" cy=\"-366\" rx=\"27\" ry=\"18\"/>\n",
       "<text text-anchor=\"middle\" x=\"520\" y=\"-362.3\" font-family=\"Times,serif\" font-size=\"14.00\">q_7</text>\n",
       "</g>\n",
       "<!-- v19992&#45;&gt;v19998 -->\n",
       "<g id=\"edge11\" class=\"edge\">\n",
       "<title>v19992-&gt;v19998</title>\n",
       "<path fill=\"none\" stroke=\"black\" d=\"M544.7,-522.45C534.96,-499.37 518.22,-455.96 512,-417 510.78,-409.36 511.34,-401.07 512.61,-393.47\"/>\n",
       "<polygon fill=\"black\" stroke=\"black\" points=\"516.04,-394.17 514.67,-383.67 509.19,-392.73 516.04,-394.17\"/>\n",
       "<text text-anchor=\"middle\" x=\"554\" y=\"-449.3\" font-family=\"Times,serif\" font-size=\"14.00\">(q_1, q_7)</text>\n",
       "</g>\n",
       "<!-- v19993&#45;&gt;v19992 -->\n",
       "<g id=\"edge2\" class=\"edge\">\n",
       "<title>v19993-&gt;v19992</title>\n",
       "<path fill=\"none\" stroke=\"black\" d=\"M645.59,-459.75C626.97,-464.96 601.93,-474.14 584,-489 576.07,-495.57 569.46,-504.62 564.35,-513.22\"/>\n",
       "<polygon fill=\"black\" stroke=\"black\" points=\"561.14,-511.79 559.39,-522.24 567.27,-515.16 561.14,-511.79\"/>\n",
       "<text text-anchor=\"middle\" x=\"613\" y=\"-492.8\" font-family=\"Times,serif\" font-size=\"14.00\">(q_2, q_1)</text>\n",
       "</g>\n",
       "<!-- v19993&#45;&gt;v19994 -->\n",
       "<g id=\"edge13\" class=\"edge\">\n",
       "<title>v19993-&gt;v19994</title>\n",
       "<path fill=\"none\" stroke=\"black\" d=\"M698.39,-452.29C761.89,-452.35 923.68,-449.06 1054,-417 1100.33,-405.6 1149,-414.71 1149,-367 1149,-367 1149,-367 1149,-104 1149,-47.04 1086.33,-67.51 1031,-54 953.72,-35.12 714.53,-24.05 622.04,-20.37\"/>\n",
       "<polygon fill=\"black\" stroke=\"black\" points=\"622.15,-16.87 612.02,-19.98 621.87,-23.87 622.15,-16.87\"/>\n",
       "<text text-anchor=\"middle\" x=\"1178\" y=\"-231.8\" font-family=\"Times,serif\" font-size=\"14.00\">(q_2, q_3)</text>\n",
       "</g>\n",
       "<!-- v19993&#45;&gt;v19995 -->\n",
       "<g id=\"edge15\" class=\"edge\">\n",
       "<title>v19993-&gt;v19995</title>\n",
       "<path fill=\"none\" stroke=\"black\" d=\"M645.59,-446.76C602.21,-437.78 517.95,-420.08 512,-417 441.57,-380.58 412.08,-369.51 380,-297 356.39,-243.62 383.02,-213.49 426,-174 461.6,-141.29 515.3,-122.89 550.5,-113.7\"/>\n",
       "<polygon fill=\"black\" stroke=\"black\" points=\"551.49,-117.06 560.35,-111.24 549.8,-110.27 551.49,-117.06\"/>\n",
       "<text text-anchor=\"middle\" x=\"409\" y=\"-275.3\" font-family=\"Times,serif\" font-size=\"14.00\">(q_2, q_4)</text>\n",
       "</g>\n",
       "<!-- v19993&#45;&gt;v19996 -->\n",
       "<g id=\"edge17\" class=\"edge\">\n",
       "<title>v19993-&gt;v19996</title>\n",
       "<path fill=\"none\" stroke=\"black\" d=\"M679.95,-435.59C695.74,-406.68 727.08,-349.55 729,-348 749.96,-331 764.76,-345.29 787,-330 802.39,-319.42 806.88,-314.64 813,-297 818.24,-281.88 816.32,-276.65 813,-261 811.18,-252.44 806.82,-251.56 805,-243 803.62,-236.48 801.66,-233.77 805,-228 808.6,-221.78 821.81,-213.87 835.02,-207.14\"/>\n",
       "<polygon fill=\"black\" stroke=\"black\" points=\"836.61,-210.26 844.04,-202.71 833.52,-203.98 836.61,-210.26\"/>\n",
       "<text text-anchor=\"middle\" x=\"833\" y=\"-318.8\" font-family=\"Times,serif\" font-size=\"14.00\">(q_2, q_5)</text>\n",
       "</g>\n",
       "<!-- v19993&#45;&gt;v19997 -->\n",
       "<g id=\"edge19\" class=\"edge\">\n",
       "<title>v19993-&gt;v19997</title>\n",
       "<path fill=\"none\" stroke=\"black\" d=\"M695.52,-444.83C715.14,-438.65 743.05,-428.88 766,-417 812.02,-393.18 816.7,-376.47 860,-348 873.96,-338.82 884.47,-344.37 893,-330 897.07,-323.15 898.09,-314.78 897.73,-306.87\"/>\n",
       "<polygon fill=\"black\" stroke=\"black\" points=\"901.2,-306.43 896.59,-296.89 894.25,-307.22 901.2,-306.43\"/>\n",
       "<text text-anchor=\"middle\" x=\"889\" y=\"-362.3\" font-family=\"Times,serif\" font-size=\"14.00\">(q_2, q_6)</text>\n",
       "</g>\n",
       "<!-- v19993&#45;&gt;v19998 -->\n",
       "<g id=\"edge21\" class=\"edge\">\n",
       "<title>v19993-&gt;v19998</title>\n",
       "<path fill=\"none\" stroke=\"black\" d=\"M645.41,-446.77C604.11,-438.22 526.97,-421.72 523,-417 517.73,-410.73 515.93,-402.3 515.76,-394.15\"/>\n",
       "<polygon fill=\"black\" stroke=\"black\" points=\"519.26,-394.34 516.28,-384.17 512.27,-393.97 519.26,-394.34\"/>\n",
       "<text text-anchor=\"middle\" x=\"552\" y=\"-405.8\" font-family=\"Times,serif\" font-size=\"14.00\">(q_2, q_7)</text>\n",
       "</g>\n",
       "<!-- v19994&#45;&gt;v19992 -->\n",
       "<g id=\"edge4\" class=\"edge\">\n",
       "<title>v19994-&gt;v19992</title>\n",
       "<path fill=\"none\" stroke=\"black\" d=\"M558.25,-20.77C455.79,-27.91 94,-56.47 94,-104 94,-454 94,-454 94,-454 94,-496.75 406.49,-526.87 515.23,-536.06\"/>\n",
       "<polygon fill=\"black\" stroke=\"black\" points=\"515.14,-539.56 525.4,-536.91 515.72,-532.59 515.14,-539.56\"/>\n",
       "<text text-anchor=\"middle\" x=\"123\" y=\"-275.3\" font-family=\"Times,serif\" font-size=\"14.00\">(q_3, q_1)</text>\n",
       "</g>\n",
       "<!-- v19994&#45;&gt;v19993 -->\n",
       "<g id=\"edge14\" class=\"edge\">\n",
       "<title>v19994-&gt;v19993</title>\n",
       "<path fill=\"none\" stroke=\"black\" d=\"M558.18,-20.65C511.28,-23.97 411.59,-33.05 330,-54 290.35,-64.18 276.34,-61.89 244,-87 86.83,-209.02 118.46,-173.55 144,-243 148.38,-254.91 207.48,-322.9 218,-330 319.34,-398.42 360.33,-387.53 479,-417 526.23,-428.73 539.15,-426.17 587,-435 603.05,-437.96 620.77,-441.51 635.78,-444.59\"/>\n",
       "<polygon fill=\"black\" stroke=\"black\" points=\"635.18,-448.04 645.68,-446.64 636.6,-441.19 635.18,-448.04\"/>\n",
       "<text text-anchor=\"middle\" x=\"173\" y=\"-231.8\" font-family=\"Times,serif\" font-size=\"14.00\">(q_3, q_2)</text>\n",
       "</g>\n",
       "<!-- v19994&#45;&gt;v19995 -->\n",
       "<g id=\"edge23\" class=\"edge\">\n",
       "<title>v19994-&gt;v19995</title>\n",
       "<path fill=\"none\" stroke=\"black\" d=\"M565.64,-30.85C552.79,-40.35 539.4,-54.46 546,-69 548.87,-75.32 553.51,-80.95 558.63,-85.75\"/>\n",
       "<polygon fill=\"black\" stroke=\"black\" points=\"556.4,-88.45 566.32,-92.17 560.89,-83.08 556.4,-88.45\"/>\n",
       "<text text-anchor=\"middle\" x=\"575\" y=\"-57.8\" font-family=\"Times,serif\" font-size=\"14.00\">(q_3, q_4)</text>\n",
       "</g>\n",
       "<!-- v19994&#45;&gt;v19996 -->\n",
       "<g id=\"edge25\" class=\"edge\">\n",
       "<title>v19994-&gt;v19996</title>\n",
       "<path fill=\"none\" stroke=\"black\" d=\"M612.01,-18.91C658.11,-19.6 754.26,-24.81 829,-54 853.11,-63.42 863.5,-64.91 877,-87 883.89,-98.27 888.71,-136.56 884,-156 883.17,-159.42 881.95,-162.89 880.52,-166.24\"/>\n",
       "<polygon fill=\"black\" stroke=\"black\" points=\"877.36,-164.73 876.12,-175.25 883.65,-167.8 877.36,-164.73\"/>\n",
       "<text text-anchor=\"middle\" x=\"914\" y=\"-101.3\" font-family=\"Times,serif\" font-size=\"14.00\">(q_3, q_5)</text>\n",
       "</g>\n",
       "<!-- v19994&#45;&gt;v19997 -->\n",
       "<g id=\"edge27\" class=\"edge\">\n",
       "<title>v19994-&gt;v19997</title>\n",
       "<path fill=\"none\" stroke=\"black\" d=\"M611.91,-19.72C700,-22.28 976,-32.01 1009,-54 1079.29,-100.85 1089.61,-184.16 1029,-243 1002.61,-268.62 960.18,-276.24 929.53,-278.15\"/>\n",
       "<polygon fill=\"black\" stroke=\"black\" points=\"929.05,-274.67 919.22,-278.61 929.37,-281.66 929.05,-274.67\"/>\n",
       "<text text-anchor=\"middle\" x=\"1097\" y=\"-144.8\" font-family=\"Times,serif\" font-size=\"14.00\">(q_3, q_6)</text>\n",
       "</g>\n",
       "<!-- v19994&#45;&gt;v19998 -->\n",
       "<g id=\"edge29\" class=\"edge\">\n",
       "<title>v19994-&gt;v19998</title>\n",
       "<path fill=\"none\" stroke=\"black\" d=\"M565.88,-30.98C531.6,-53.8 460.92,-107.2 436,-174 412.69,-236.48 466.34,-307.86 498.32,-343.04\"/>\n",
       "<polygon fill=\"black\" stroke=\"black\" points=\"495.78,-345.45 505.16,-350.38 500.9,-340.68 495.78,-345.45\"/>\n",
       "<text text-anchor=\"middle\" x=\"465\" y=\"-188.3\" font-family=\"Times,serif\" font-size=\"14.00\">(q_3, q_7)</text>\n",
       "</g>\n",
       "<!-- v19995&#45;&gt;v19992 -->\n",
       "<g id=\"edge6\" class=\"edge\">\n",
       "<title>v19995-&gt;v19992</title>\n",
       "<path fill=\"none\" stroke=\"black\" d=\"M559.08,-107.21C516.22,-110.64 432.74,-123.8 388,-174 342.69,-224.84 341.61,-248.27 328,-315 307.43,-415.89 379.58,-442.28 462,-504 478.27,-516.18 499.31,-524.67 516.95,-530.24\"/>\n",
       "<polygon fill=\"black\" stroke=\"black\" points=\"516.3,-533.7 526.89,-533.18 518.29,-526.99 516.3,-533.7\"/>\n",
       "<text text-anchor=\"middle\" x=\"357\" y=\"-318.8\" font-family=\"Times,serif\" font-size=\"14.00\">(q_4, q_1)</text>\n",
       "</g>\n",
       "<!-- v19995&#45;&gt;v19993 -->\n",
       "<g id=\"edge16\" class=\"edge\">\n",
       "<title>v19995-&gt;v19993</title>\n",
       "<path fill=\"none\" stroke=\"black\" d=\"M590.41,-123.02C596.92,-145.33 611.01,-184.61 635,-210 643.16,-218.64 722.92,-250.79 729,-261 737.18,-274.75 739.27,-284.73 729,-297 699.72,-331.96 657.28,-280.04 628,-315 601.34,-346.83 649.35,-362.46 662,-402 664.3,-409.19 666.07,-417.17 667.41,-424.6\"/>\n",
       "<polygon fill=\"black\" stroke=\"black\" points=\"663.97,-425.29 669.01,-434.6 670.88,-424.17 663.97,-425.29\"/>\n",
       "<text text-anchor=\"middle\" x=\"764\" y=\"-275.3\" font-family=\"Times,serif\" font-size=\"14.00\">(q_4, q_2)</text>\n",
       "</g>\n",
       "<!-- v19995&#45;&gt;v19994 -->\n",
       "<g id=\"edge24\" class=\"edge\">\n",
       "<title>v19995-&gt;v19994</title>\n",
       "<path fill=\"none\" stroke=\"black\" d=\"M596.93,-88.03C602.26,-78.34 606.95,-65.62 604,-54 603.12,-50.54 601.83,-47.06 600.32,-43.7\"/>\n",
       "<polygon fill=\"black\" stroke=\"black\" points=\"603.36,-41.97 595.67,-34.69 597.14,-45.18 603.36,-41.97\"/>\n",
       "<text text-anchor=\"middle\" x=\"633\" y=\"-57.8\" font-family=\"Times,serif\" font-size=\"14.00\">(q_4, q_3)</text>\n",
       "</g>\n",
       "<!-- v19995&#45;&gt;v19996 -->\n",
       "<g id=\"edge31\" class=\"edge\">\n",
       "<title>v19995-&gt;v19996</title>\n",
       "<path fill=\"none\" stroke=\"black\" d=\"M612.9,-107.65C650.41,-110.68 720,-119 775,-141 786.33,-145.53 787.45,-149.87 798,-156 810.05,-163 823.64,-170.15 835.5,-176.14\"/>\n",
       "<polygon fill=\"black\" stroke=\"black\" points=\"834.05,-179.33 844.56,-180.67 837.18,-173.07 834.05,-179.33\"/>\n",
       "<text text-anchor=\"middle\" x=\"827\" y=\"-144.8\" font-family=\"Times,serif\" font-size=\"14.00\">(q_4, q_5)</text>\n",
       "</g>\n",
       "<!-- v19995&#45;&gt;v19997 -->\n",
       "<g id=\"edge33\" class=\"edge\">\n",
       "<title>v19995-&gt;v19997</title>\n",
       "<path fill=\"none\" stroke=\"black\" d=\"M609.04,-114.46C625.98,-120.98 649.37,-130.61 669,-141 692.86,-153.63 698.15,-158.14 720,-174 759.37,-202.59 763.07,-218.31 805,-243 821.61,-252.78 841.47,-261 858.02,-267.02\"/>\n",
       "<polygon fill=\"black\" stroke=\"black\" points=\"857.24,-270.45 867.84,-270.47 859.56,-263.85 857.24,-270.45\"/>\n",
       "<text text-anchor=\"middle\" x=\"790\" y=\"-188.3\" font-family=\"Times,serif\" font-size=\"14.00\">(q_4, q_6)</text>\n",
       "</g>\n",
       "<!-- v19995&#45;&gt;v19998 -->\n",
       "<g id=\"edge35\" class=\"edge\">\n",
       "<title>v19995-&gt;v19998</title>\n",
       "<path fill=\"none\" stroke=\"black\" d=\"M580.54,-123.08C571.56,-151.5 553.43,-210.39 541,-261 534.61,-287.01 528.7,-317.04 524.79,-338.11\"/>\n",
       "<polygon fill=\"black\" stroke=\"black\" points=\"521.35,-337.5 522.99,-347.97 528.23,-338.76 521.35,-337.5\"/>\n",
       "<text text-anchor=\"middle\" x=\"578\" y=\"-231.8\" font-family=\"Times,serif\" font-size=\"14.00\">(q_4, q_7)</text>\n",
       "</g>\n",
       "<!-- v19996&#45;&gt;v19992 -->\n",
       "<g id=\"edge8\" class=\"edge\">\n",
       "<title>v19996-&gt;v19992</title>\n",
       "<path fill=\"none\" stroke=\"black\" d=\"M892.84,-194.03C969.25,-197.19 1184.03,-207.82 1208,-228 1225.65,-242.86 1222,-254.92 1222,-278 1222,-454 1222,-454 1222,-454 1222,-563.39 1089.54,-490.34 981,-504 894.26,-514.91 672.85,-500.92 588,-522 585.82,-522.54 583.61,-523.22 581.42,-523.99\"/>\n",
       "<polygon fill=\"black\" stroke=\"black\" points=\"579.97,-520.8 572.04,-527.83 582.62,-527.28 579.97,-520.8\"/>\n",
       "<text text-anchor=\"middle\" x=\"1251\" y=\"-362.3\" font-family=\"Times,serif\" font-size=\"14.00\">(q_5, q_1)</text>\n",
       "</g>\n",
       "<!-- v19996&#45;&gt;v19993 -->\n",
       "<g id=\"edge18\" class=\"edge\">\n",
       "<title>v19996-&gt;v19993</title>\n",
       "<path fill=\"none\" stroke=\"black\" d=\"M891.87,-197.88C909.02,-202.55 930.44,-211.45 942,-228 1027.41,-350.27 963.75,-408.24 956,-417 939.83,-435.28 781.57,-446.08 708.11,-450.14\"/>\n",
       "<polygon fill=\"black\" stroke=\"black\" points=\"707.71,-446.66 697.91,-450.69 708.09,-453.65 707.71,-446.66\"/>\n",
       "<text text-anchor=\"middle\" x=\"1014\" y=\"-318.8\" font-family=\"Times,serif\" font-size=\"14.00\">(q_5, q_2)</text>\n",
       "</g>\n",
       "<!-- v19996&#45;&gt;v19994 -->\n",
       "<g id=\"edge26\" class=\"edge\">\n",
       "<title>v19996-&gt;v19994</title>\n",
       "<path fill=\"none\" stroke=\"black\" d=\"M866.39,-173.58C865.75,-163.12 863.32,-150.11 856,-141 843.53,-125.49 833.14,-131.18 815,-123 748.47,-93 732.61,-83.81 666,-54 649.83,-46.76 631.73,-38.92 616.76,-32.5\"/>\n",
       "<polygon fill=\"black\" stroke=\"black\" points=\"617.99,-29.22 607.42,-28.5 615.23,-35.65 617.99,-29.22\"/>\n",
       "<text text-anchor=\"middle\" x=\"844\" y=\"-101.3\" font-family=\"Times,serif\" font-size=\"14.00\">(q_5, q_3)</text>\n",
       "</g>\n",
       "<!-- v19996&#45;&gt;v19995 -->\n",
       "<g id=\"edge32\" class=\"edge\">\n",
       "<title>v19996-&gt;v19995</title>\n",
       "<path fill=\"none\" stroke=\"black\" d=\"M843.3,-182.06C835.38,-179.19 826.38,-176.19 818,-174 772.18,-162.05 756.25,-175.26 713,-156 703.17,-151.62 703.49,-146.07 694,-141 671.04,-128.73 643.02,-119.8 621.28,-114.04\"/>\n",
       "<polygon fill=\"black\" stroke=\"black\" points=\"622.02,-110.61 611.46,-111.53 620.29,-117.4 622.02,-110.61\"/>\n",
       "<text text-anchor=\"middle\" x=\"742\" y=\"-144.8\" font-family=\"Times,serif\" font-size=\"14.00\">(q_5, q_4)</text>\n",
       "</g>\n",
       "<!-- v19996&#45;&gt;v19997 -->\n",
       "<g id=\"edge37\" class=\"edge\">\n",
       "<title>v19996-&gt;v19997</title>\n",
       "<path fill=\"none\" stroke=\"black\" d=\"M843.46,-201.94C824.11,-211.02 800.95,-226.11 812,-243 812.75,-244.15 838.18,-255.16 860.16,-264.54\"/>\n",
       "<polygon fill=\"black\" stroke=\"black\" points=\"859.04,-267.86 869.61,-268.55 861.78,-261.42 859.04,-267.86\"/>\n",
       "<text text-anchor=\"middle\" x=\"841\" y=\"-231.8\" font-family=\"Times,serif\" font-size=\"14.00\">(q_5, q_6)</text>\n",
       "</g>\n",
       "<!-- v19996&#45;&gt;v19998 -->\n",
       "<g id=\"edge39\" class=\"edge\">\n",
       "<title>v19996-&gt;v19998</title>\n",
       "<path fill=\"none\" stroke=\"black\" d=\"M843.93,-202.53C837.28,-205.19 829.92,-207.91 823,-210 786.46,-221.06 775.1,-215.58 739,-228 707.24,-238.93 699.5,-243.21 671,-261 648.98,-274.74 646.07,-281.84 625,-297 603.39,-312.55 597.34,-315.52 575,-330 566.02,-335.82 556.18,-342.11 547.33,-347.73\"/>\n",
       "<polygon fill=\"black\" stroke=\"black\" points=\"545.46,-344.78 538.89,-353.09 549.21,-350.69 545.46,-344.78\"/>\n",
       "<text text-anchor=\"middle\" x=\"700\" y=\"-275.3\" font-family=\"Times,serif\" font-size=\"14.00\">(q_5, q_7)</text>\n",
       "</g>\n",
       "<!-- v19997&#45;&gt;v19992 -->\n",
       "<g id=\"edge10\" class=\"edge\">\n",
       "<title>v19997-&gt;v19992</title>\n",
       "<path fill=\"none\" stroke=\"black\" d=\"M918.3,-283.19C953,-288 1011.21,-298.37 1024,-315 1054.55,-354.71 1012.33,-382.49 976,-417 936.22,-454.78 916.11,-451.05 865,-471 817.45,-489.56 805.03,-493.89 755,-504 681.83,-518.79 659.86,-501.78 588,-522 586.05,-522.55 584.08,-523.19 582.12,-523.9\"/>\n",
       "<polygon fill=\"black\" stroke=\"black\" points=\"580.39,-520.83 572.48,-527.89 583.06,-527.3 580.39,-520.83\"/>\n",
       "<text text-anchor=\"middle\" x=\"1021\" y=\"-405.8\" font-family=\"Times,serif\" font-size=\"14.00\">(q_6, q_1)</text>\n",
       "</g>\n",
       "<!-- v19997&#45;&gt;v19993 -->\n",
       "<g id=\"edge20\" class=\"edge\">\n",
       "<title>v19997-&gt;v19993</title>\n",
       "<path fill=\"none\" stroke=\"black\" d=\"M888.2,-297.03C884.81,-308.17 878.67,-322.08 868,-330 826.11,-361.1 793.68,-316.62 752,-348 724.99,-368.33 741.58,-390.98 720,-417 714.34,-423.82 707.05,-429.97 699.84,-435.13\"/>\n",
       "<polygon fill=\"black\" stroke=\"black\" points=\"697.85,-432.25 691.5,-440.73 701.75,-438.06 697.85,-432.25\"/>\n",
       "<text text-anchor=\"middle\" x=\"781\" y=\"-362.3\" font-family=\"Times,serif\" font-size=\"14.00\">(q_6, q_2)</text>\n",
       "</g>\n",
       "<!-- v19997&#45;&gt;v19994 -->\n",
       "<g id=\"edge28\" class=\"edge\">\n",
       "<title>v19997-&gt;v19994</title>\n",
       "<path fill=\"none\" stroke=\"black\" d=\"M913.91,-268.45C924.34,-262.68 935.84,-254.25 942,-243 975.31,-182.15 986.51,-144.02 947,-87 910.32,-34.08 707.33,-22.34 622.39,-19.74\"/>\n",
       "<polygon fill=\"black\" stroke=\"black\" points=\"622.25,-16.23 612.16,-19.45 622.06,-23.23 622.25,-16.23\"/>\n",
       "<text text-anchor=\"middle\" x=\"1001\" y=\"-144.8\" font-family=\"Times,serif\" font-size=\"14.00\">(q_6, q_3)</text>\n",
       "</g>\n",
       "<!-- v19997&#45;&gt;v19995 -->\n",
       "<g id=\"edge34\" class=\"edge\">\n",
       "<title>v19997-&gt;v19995</title>\n",
       "<path fill=\"none\" stroke=\"black\" d=\"M866.9,-271.95C809.86,-258.04 674.17,-223.89 658,-210 632.36,-187.97 646.27,-168.05 626,-141 621.93,-135.57 616.9,-130.38 611.8,-125.73\"/>\n",
       "<polygon fill=\"black\" stroke=\"black\" points=\"613.72,-122.76 603.85,-118.91 609.17,-128.08 613.72,-122.76\"/>\n",
       "<text text-anchor=\"middle\" x=\"687\" y=\"-188.3\" font-family=\"Times,serif\" font-size=\"14.00\">(q_6, q_4)</text>\n",
       "</g>\n",
       "<!-- v19997&#45;&gt;v19996 -->\n",
       "<g id=\"edge38\" class=\"edge\">\n",
       "<title>v19997-&gt;v19996</title>\n",
       "<path fill=\"none\" stroke=\"black\" d=\"M886.86,-261.21C883.23,-249.33 878.29,-233.17 874.12,-219.56\"/>\n",
       "<polygon fill=\"black\" stroke=\"black\" points=\"877.4,-218.3 871.13,-209.76 870.7,-220.34 877.4,-218.3\"/>\n",
       "<text text-anchor=\"middle\" x=\"909\" y=\"-231.8\" font-family=\"Times,serif\" font-size=\"14.00\">(q_6, q_5)</text>\n",
       "</g>\n",
       "<!-- v19997&#45;&gt;v19998 -->\n",
       "<g id=\"edge41\" class=\"edge\">\n",
       "<title>v19997-&gt;v19998</title>\n",
       "<path fill=\"none\" stroke=\"black\" d=\"M866.74,-285.44C851.23,-288.78 830.97,-293.14 813,-297 775.67,-305.02 764.25,-300.33 729,-315 717.73,-319.69 717.32,-325.45 706,-330 656.67,-349.81 595.4,-358.56 556.99,-362.32\"/>\n",
       "<polygon fill=\"black\" stroke=\"black\" points=\"556.43,-358.86 546.79,-363.25 557.07,-365.83 556.43,-358.86\"/>\n",
       "<text text-anchor=\"middle\" x=\"758\" y=\"-318.8\" font-family=\"Times,serif\" font-size=\"14.00\">(q_6, q_7)</text>\n",
       "</g>\n",
       "<!-- v19998&#45;&gt;v19992 -->\n",
       "<g id=\"edge12\" class=\"edge\">\n",
       "<title>v19998-&gt;v19992</title>\n",
       "<path fill=\"none\" stroke=\"black\" d=\"M501.88,-379.37C476.34,-398.44 434.79,-436.41 453,-471 466.91,-497.43 496.26,-515.58 519.41,-526.43\"/>\n",
       "<polygon fill=\"black\" stroke=\"black\" points=\"518,-529.64 528.56,-530.51 520.85,-523.24 518,-529.64\"/>\n",
       "<text text-anchor=\"middle\" x=\"482\" y=\"-449.3\" font-family=\"Times,serif\" font-size=\"14.00\">(q_7, q_1)</text>\n",
       "</g>\n",
       "<!-- v19998&#45;&gt;v19993 -->\n",
       "<g id=\"edge22\" class=\"edge\">\n",
       "<title>v19998-&gt;v19993</title>\n",
       "<path fill=\"none\" stroke=\"black\" d=\"M540.22,-378.22C552.18,-384.95 567.57,-393.78 581,-402 591.41,-408.37 593.47,-410.83 604,-417 615.89,-423.96 629.29,-431.09 640.96,-437.09\"/>\n",
       "<polygon fill=\"black\" stroke=\"black\" points=\"639.39,-440.22 649.89,-441.63 642.57,-433.98 639.39,-440.22\"/>\n",
       "<text text-anchor=\"middle\" x=\"633\" y=\"-405.8\" font-family=\"Times,serif\" font-size=\"14.00\">(q_7, q_2)</text>\n",
       "</g>\n",
       "<!-- v19998&#45;&gt;v19994 -->\n",
       "<g id=\"edge30\" class=\"edge\">\n",
       "<title>v19998-&gt;v19994</title>\n",
       "<path fill=\"none\" stroke=\"black\" d=\"M493.6,-361.86C421.81,-353.32 228.3,-330.28 228,-330 215.18,-318.05 196.19,-189.15 205,-174 276.39,-51.25 466.94,-25.68 547.84,-20.38\"/>\n",
       "<polygon fill=\"black\" stroke=\"black\" points=\"548.28,-23.86 558.06,-19.78 547.87,-16.87 548.28,-23.86\"/>\n",
       "<text text-anchor=\"middle\" x=\"234\" y=\"-188.3\" font-family=\"Times,serif\" font-size=\"14.00\">(q_7, q_3)</text>\n",
       "</g>\n",
       "<!-- v19998&#45;&gt;v19995 -->\n",
       "<g id=\"edge36\" class=\"edge\">\n",
       "<title>v19998-&gt;v19995</title>\n",
       "<path fill=\"none\" stroke=\"black\" d=\"M509.43,-349.11C493.64,-323.29 467.35,-270.81 483,-228 483.27,-227.25 536.5,-164.4 566.32,-129.21\"/>\n",
       "<polygon fill=\"black\" stroke=\"black\" points=\"569.2,-131.22 573,-121.33 563.86,-126.7 569.2,-131.22\"/>\n",
       "<text text-anchor=\"middle\" x=\"512\" y=\"-231.8\" font-family=\"Times,serif\" font-size=\"14.00\">(q_7, q_4)</text>\n",
       "</g>\n",
       "<!-- v19998&#45;&gt;v19996 -->\n",
       "<g id=\"edge40\" class=\"edge\">\n",
       "<title>v19998-&gt;v19996</title>\n",
       "<path fill=\"none\" stroke=\"black\" d=\"M526.02,-348.15C536.11,-320.27 556.04,-266.99 563,-261 574.63,-251 681.95,-230.92 697,-228 752.53,-217.22 768.32,-224.5 823,-210 826.82,-208.99 830.76,-207.74 834.63,-206.37\"/>\n",
       "<polygon fill=\"black\" stroke=\"black\" points=\"835.89,-209.64 844.02,-202.84 833.42,-203.09 835.89,-209.64\"/>\n",
       "<text text-anchor=\"middle\" x=\"592\" y=\"-275.3\" font-family=\"Times,serif\" font-size=\"14.00\">(q_7, q_5)</text>\n",
       "</g>\n",
       "<!-- v19998&#45;&gt;v19997 -->\n",
       "<g id=\"edge42\" class=\"edge\">\n",
       "<title>v19998-&gt;v19997</title>\n",
       "<path fill=\"none\" stroke=\"black\" d=\"M542.25,-355.64C575.08,-341.88 633.73,-317.57 644,-315 717.29,-296.7 738.42,-308.96 813,-297 827.46,-294.68 843.26,-291.43 856.91,-288.38\"/>\n",
       "<polygon fill=\"black\" stroke=\"black\" points=\"857.89,-291.75 866.87,-286.12 856.34,-284.93 857.89,-291.75\"/>\n",
       "<text text-anchor=\"middle\" x=\"673\" y=\"-318.8\" font-family=\"Times,serif\" font-size=\"14.00\">(q_7, q_6)</text>\n",
       "</g>\n",
       "<!-- \\n -->\n",
       "<g id=\"node8\" class=\"node\">\n",
       "<title>\\n</title>\n",
       "<ellipse fill=\"none\" stroke=\"black\" cx=\"624\" cy=\"-540\" rx=\"27\" ry=\"18\"/>\n",
       "</g>\n",
       "</g>\n",
       "</svg>"
      ],
      "text/plain": [
       "<IPython.core.display.SVG object>"
      ]
     },
     "execution_count": 125,
     "metadata": {},
     "output_type": "execute_result"
    }
   ],
   "source": [
    "gcs = LinearGCS({f\"q_{i + 1}\":r for i, r in enumerate(regions.values())})\n",
    "# print('regions', regions)\n",
    "SVG(gcs.VisualizeGraph()) "
   ]
  },
  {
   "cell_type": "code",
   "execution_count": 126,
   "metadata": {
    "pycharm": {
     "name": "#%%\n"
    }
   },
   "outputs": [
    {
     "name": "stdout",
     "output_type": "stream",
     "text": [
      "42\n"
     ]
    }
   ],
   "source": [
    "print(len(gcs.gcs.Edges()))\n",
    "# print({f\"q_{i + 1}\":r for i, r in enumerate(regions.values())})"
   ]
  },
  {
   "cell_type": "markdown",
   "metadata": {
    "pycharm": {
     "name": "#%% md\n"
    }
   },
   "source": [
    "# Build PRM"
   ]
  },
  {
   "cell_type": "markdown",
   "metadata": {
    "pycharm": {
     "name": "#%% md\n"
    }
   },
   "source": [
    "### Load Roadmap if you don't want to wait 15 minutes"
   ]
  },
  {
   "cell_type": "markdown",
   "metadata": {
    "pycharm": {
     "name": "#%% md\n"
    }
   },
   "source": [
    "### Or Grow it "
   ]
  },
  {
   "cell_type": "markdown",
   "metadata": {
    "pycharm": {
     "name": "#%% md\n"
    }
   },
   "source": [
    "### Connect via BiRRT first\n",
    "Given the knowledge of the Graph of Convex Sets, we will use BiRRT to connect the edges. All of the nodes of the RRT trees will be added to the PRM map"
   ]
  },
  {
   "cell_type": "markdown",
   "metadata": {
    "pycharm": {
     "name": "#%% md\n"
    }
   },
   "source": [
    "### Continue growing the Roadmap"
   ]
  },
  {
   "cell_type": "markdown",
   "metadata": {
    "pycharm": {
     "name": "#%% md\n"
    }
   },
   "source": [
    "# Run Comparison"
   ]
  },
  {
   "cell_type": "code",
   "execution_count": 132,
   "metadata": {
    "pycharm": {
     "name": "#%%\n"
    }
   },
   "outputs": [],
   "source": [
    "def getGCSPath(sequence, verbose = False):\n",
    "    path = [sequence[0]]\n",
    "    run_time = 0.0\n",
    "    for start_pt, goal_pt in zip(sequence[:-1], sequence[1:]):\n",
    "        gcs = LinearGCS(regions.copy())\n",
    "        gcs.addSourceTarget(start_pt, goal_pt)\n",
    "        gcs.setRoundingStrategy(randomForwardPathSearch, max_paths = 10, max_trials = 100, seed = SEED)\n",
    "        gcs.setSolver(MosekSolver())\n",
    "        start_time = time.time()\n",
    "        waypoints, results_dict = gcs.SolvePath(rounding=True, verbose=False, preprocessing=True)\n",
    "        if waypoints is None:\n",
    "            if verbose:\n",
    "                print(f\"Failed between {start_pt} and {goal_pt}\")\n",
    "            return None\n",
    "\n",
    "        run_time += results_dict[\"preprocessing_stats\"][\"linear_programs\"]\n",
    "        run_time += results_dict[\"relaxation_solver_time\"]\n",
    "        run_time += results_dict[\"total_rounded_solver_time\"]\n",
    "        if verbose:\n",
    "            print(\"Convex Relaxation\", round(results_dict[\"relaxation_cost\"], 3),\n",
    "                  \"min hard result cost\", round(results_dict[\"rounded_cost\"], 3),\n",
    "                  \"Gap\", round((results_dict[\"rounded_cost\"] - results_dict[\"relaxation_cost\"])/results_dict[\"relaxation_cost\"], 3))\n",
    "    \n",
    "        path += waypoints.T[1:].tolist()\n",
    "    return np.stack(path).T, run_time\n",
    "\n",
    "def shortcut(path):\n",
    "    \"\"\"Those values are used by TRI\"\"\"\n",
    "    return prm.shortcut(np.stack(path),\n",
    "                 max_iter = 200,\n",
    "                 max_failed_iter = 200,\n",
    "                 max_backtracking_steps = 0,\n",
    "                 max_shortcut_fraction = 1.0,\n",
    "                 resample_shortcuts_interval = 0.25,\n",
    "                 check_for_marginal_shortcuts = False)"
   ]
  },
  {
   "cell_type": "markdown",
   "metadata": {
    "pycharm": {
     "name": "#%% md\n"
    }
   },
   "source": [
    "# Demonstration"
   ]
  },
  {
   "cell_type": "code",
   "execution_count": 138,
   "metadata": {
    "pycharm": {
     "name": "#%%\n"
    }
   },
   "outputs": [],
   "source": [
    "demonstration =  {\"Above Shelve\": [[0.75, -0.12, 0.9], [0, -np.pi, -np.pi/2]],   \n",
    "                \"Top Rack\":       [[0.75, 0.12, 0.67], [0, -np.pi, -np.pi/2]],   \n",
    "                \"Middle Rack\":    [[0.75, 0.12, 0.41], [0, -np.pi, -np.pi/2]],       \n",
    "                \"Left Bin\":       [[0.32, 0.4, 0.22],  [np.pi/2, np.pi, 0]], \n",
    "                \"Right Bin\":      [[0.48, -0.4, 0.22], [np.pi/2, np.pi, np.pi]]}\n",
    "\n",
    "q0 =[0, 0.3, 0, -1.8, 0, 1, 1.57]\n",
    "demonstration_configurations =  {name: InverseKinematics(q0, trans, rot) for name, (trans, rot) in demonstration.items()}\n"
   ]
  },
  {
   "cell_type": "code",
   "execution_count": 139,
   "metadata": {
    "pycharm": {
     "name": "#%%\n"
    }
   },
   "outputs": [],
   "source": [
    "demo_a = [demonstration_configurations[\"Above Shelve\"],\n",
    "          demonstration_configurations[\"Top Rack\"]]\n",
    "\n",
    "demo_b = [demonstration_configurations[\"Top Rack\"],\n",
    "          demonstration_configurations[\"Middle Rack\"]]\n",
    "\n",
    "demo_c = [demonstration_configurations[\"Middle Rack\"],\n",
    "          demonstration_configurations[\"Left Bin\"]]\n",
    "\n",
    "demo_d = [demonstration_configurations[\"Left Bin\"],\n",
    "          demonstration_configurations[\"Right Bin\"]]\n",
    "\n",
    "demo_e = [demonstration_configurations[\"Right Bin\"],\n",
    "          demonstration_configurations[\"Above Shelve\"]]\n",
    "\n",
    "demo_f = [demonstration_configurations[\"Above Shelve\"],\n",
    "         seed_points[\"Left to Shelve\"]]\n",
    "\n",
    "\n",
    "demo_circle = [demonstration_configurations[\"Above Shelve\"],\n",
    "               demonstration_configurations[\"Top Rack\"],\n",
    "               demonstration_configurations[\"Middle Rack\"],\n",
    "               demonstration_configurations[\"Left Bin\"],\n",
    "               demonstration_configurations[\"Right Bin\"],\n",
    "               demonstration_configurations[\"Above Shelve\"]]\n",
    "# print(demo_circle)\n",
    "# # CHANGED FOR TESTING:\n",
    "# demo_d = [milestone_configurations[\"Left Bin\"],\n",
    "#           milestone_configurations[\"Right Bin\"]]\n",
    "# print(demo_circle)"
   ]
  },
  {
   "cell_type": "code",
   "execution_count": 140,
   "metadata": {
    "pycharm": {
     "name": "#%%\n"
    }
   },
   "outputs": [
    {
     "name": "stdout",
     "output_type": "stream",
     "text": [
      "[array([ 0.5946618 ,  0.63801783,  0.3993998 , -1.78350943, -0.33281442,\n",
      "        0.78719595,  1.16187228]), array([-0.48411317,  0.82945085, -0.33777296, -1.40071615,  0.30282931,\n",
      "        0.96182966,  2.24715022])]\n",
      "edges [[1, 5, 6], [5, 6]]\n",
      "Convex Relaxation 1.872 min hard result cost 1.872 Gap -0.0\n",
      "Linear GCS length: 1.872, and time: 0.335 s\n"
     ]
    }
   ],
   "source": [
    "execute_demo = demo_d\n",
    "print(demo_d)\n",
    "GCS_path, GCS_time = getGCSPath(execute_demo, verbose = True)\n",
    "linear_gcs_traj = make_traj(GCS_path, speed = 2)\n",
    "print(f\"Linear GCS length: {round(get_traj_length(linear_gcs_traj), 3)}, and time: {round(GCS_time, 3)} s\")\n",
    "\n",
    "# PRM_path, PRM_time = prm.getPath(execute_demo, verbose = True)\n",
    "# prm_traj = make_traj(PRM_path, speed = 2)\n",
    "# print(f\"PRM length: {round(get_traj_length(prm_traj), 3)}, and time: {round(PRM_time, 3)} s\")\n",
    "\n",
    "# sPRM_path, sPRM_time = prm.getPath(execute_demo, path_processing = shortcut)\n",
    "# sprm_traj = make_traj(sPRM_path, speed = 2)\n",
    "# print(f\"Smoothed PRM length: {round(get_traj_length(sprm_traj), 3)}, and time: {round(sPRM_time, 3)} s\")\n"
   ]
  },
  {
   "cell_type": "code",
   "execution_count": 141,
   "metadata": {},
   "outputs": [],
   "source": [
    "# prm.save(os.path.join(GcsDir(), \"data/prm_comparison/15k_presplined.rmp\"))"
   ]
  },
  {
   "cell_type": "code",
   "execution_count": 142,
   "metadata": {},
   "outputs": [
    {
     "name": "stderr",
     "output_type": "stream",
     "text": [
      "/Users/varun/gcs/reproduction/prm_comparison/helpers.py:233: DrakeDeprecationWarning: MeshcatVisualizerCpp has been renamed to MeshcatVisualizer. The deprecated code will be removed from Drake on or after 2022-11-01.\n",
      "  meshcat_cpp = MeshcatVisualizerCpp.AddToBuilder(builder, scene_graph, meshcat, meshcat_params)\n"
     ]
    }
   ],
   "source": [
    "visualize_trajectory(meshcat,\n",
    "                     [linear_gcs_traj],\n",
    "                     show_line = True,\n",
    "                     iiwa_ghosts = execute_demo,\n",
    "                     alpha =  0.3,\n",
    "                     regions = [])\n"
   ]
  },
  {
   "cell_type": "code",
   "execution_count": null,
   "metadata": {},
   "outputs": [],
   "source": [
    "# with open (\"GCS_PRM15k_comparison.html\", \"w\") as f:\n",
    "#     f.write(meshcat.StaticHtml())"
   ]
  },
  {
   "cell_type": "markdown",
   "metadata": {},
   "source": [
    "## Comparison Table for Paper\n"
   ]
  },
  {
   "cell_type": "code",
   "execution_count": null,
   "metadata": {},
   "outputs": [],
   "source": [
    "# demos_for_paper = [demo_a, demo_b, demo_c, demo_d, demo_e]\n",
    "\n",
    "# proposed_planner_data = []\n",
    "# PRM_data = []\n",
    "# sPRM_data = []\n",
    "\n",
    "# N = 10 # We ran this 100 in the paper \n",
    "# for _ in range(N):\n",
    "#     #extract trajectory and time \n",
    "#     trajectories = map(lambda d:[getGCSPath(d),prm.getPath(d),prm.getPath(d, path_processing = shortcut)], demos_for_paper)\n",
    "#     #get length of trajectory\n",
    "#     length_time_list = map(lambda traj_time: [[get_traj_length(make_traj(trj)), t] for trj, t in traj_time], trajectories)\n",
    "#     #flatten for pandas\n",
    "#     length_time_list = np.array(list(length_time_list))\n",
    "    \n",
    "#     proposed_planner_data.append(length_time_list[:,0].flatten())\n",
    "#     PRM_data.append(length_time_list[:,1].flatten())\n",
    "#     sPRM_data.append(length_time_list[:,2].flatten())\n",
    "    \n",
    "# proposed_planner_data = np.mean(proposed_planner_data, axis = 0)\n",
    "# PRM_data = np.mean(PRM_data, axis = 0)\n",
    "# sPRM_data = np.mean(sPRM_data, axis = 0)"
   ]
  },
  {
   "cell_type": "code",
   "execution_count": null,
   "metadata": {},
   "outputs": [],
   "source": [
    "# cols = {\"Proposed Planner\":proposed_planner_data,\n",
    "#         \"Regular PRM\":PRM_data,\n",
    "#         \"Shortcut PRM\":sPRM_data}\n",
    "\n",
    "# index = pd.MultiIndex.from_tuples([('q1-q2', 'length (rad)'), ('q1-q2', 'runtime (s)'),\n",
    "#                                     ('q2-q3', 'length (rad)'), ('q2-q3', 'runtime (s)'),\n",
    "#                                     ('q3-q4', 'length (rad)'), ('q3-q4', 'runtime (s)'),\n",
    "#                                     ('q4-q5', 'length (rad)'), ('q4-q5', 'runtime (s)'),\n",
    "#                                     ('q5-q1', 'length (rad)'), ('q5-q1', 'runtime (s)'),], names=[\"Task\", \"\"])\n",
    "# df = pd.DataFrame(data = cols, index=index)"
   ]
  },
  {
   "cell_type": "code",
   "execution_count": null,
   "metadata": {},
   "outputs": [],
   "source": [
    "# df.round(2)"
   ]
  },
  {
   "cell_type": "markdown",
   "metadata": {},
   "source": [
    "## Debug\n",
    "When playing with the demonstration points, use this to understand where PRM fails and where the regions to include the configurations"
   ]
  },
  {
   "cell_type": "code",
   "execution_count": null,
   "metadata": {},
   "outputs": [],
   "source": [
    "# for k,v in {name: InverseKinematics(q0, trans, rot) for name, (trans, rot) in demonstration.items()}.items():\n",
    "#     print(k, regions[k].PointInSet(v), not prm.getPath([q0, v]) is None)"
   ]
  },
  {
   "cell_type": "code",
   "execution_count": null,
   "metadata": {},
   "outputs": [],
   "source": []
  }
 ],
 "metadata": {
  "kernelspec": {
   "display_name": "gomp-gcs",
   "language": "python",
   "name": "gomp-gcs"
  },
  "language_info": {
   "codemirror_mode": {
    "name": "ipython",
    "version": 3
   },
   "file_extension": ".py",
   "mimetype": "text/x-python",
   "name": "python",
   "nbconvert_exporter": "python",
   "pygments_lexer": "ipython3",
   "version": "3.9.13"
  }
 },
 "nbformat": 4,
 "nbformat_minor": 2
}

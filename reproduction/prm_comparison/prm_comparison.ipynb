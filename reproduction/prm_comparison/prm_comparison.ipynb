{
 "cells": [
  {
   "cell_type": "code",
   "execution_count": 111,
   "metadata": {},
   "outputs": [
    {
     "name": "stdout",
     "output_type": "stream",
     "text": [
      "The autoreload extension is already loaded. To reload it, use:\n",
      "  %reload_ext autoreload\n"
     ]
    },
    {
     "ename": "RuntimeError",
     "evalue": "Could not acquire MOSEK license.",
     "output_type": "error",
     "traceback": [
      "\u001b[0;31m---------------------------------------------------------------------------\u001b[0m",
      "\u001b[0;31mRuntimeError\u001b[0m                              Traceback (most recent call last)",
      "Input \u001b[0;32mIn [111]\u001b[0m, in \u001b[0;36m<cell line: 38>\u001b[0;34m()\u001b[0m\n\u001b[1;32m     36\u001b[0m \u001b[38;5;66;03m# GurobiSolver.AcquireLicense()\u001b[39;00m\n\u001b[1;32m     37\u001b[0m os\u001b[38;5;241m.\u001b[39menviron[\u001b[38;5;124m'\u001b[39m\u001b[38;5;124mMOSEKLM_LICENSE_FILE\u001b[39m\u001b[38;5;124m'\u001b[39m] \u001b[38;5;241m=\u001b[39m \u001b[38;5;124m'\u001b[39m\u001b[38;5;124mmosek/mosek.lic\u001b[39m\u001b[38;5;124m'\u001b[39m\n\u001b[0;32m---> 38\u001b[0m \u001b[43mMosekSolver\u001b[49m\u001b[38;5;241;43m.\u001b[39;49m\u001b[43mAcquireLicense\u001b[49m\u001b[43m(\u001b[49m\u001b[43m)\u001b[49m\n",
      "\u001b[0;31mRuntimeError\u001b[0m: Could not acquire MOSEK license."
     ]
    }
   ],
   "source": [
    "%load_ext autoreload\n",
    "%autoreload 2\n",
    "import os\n",
    "import time\n",
    "import pickle\n",
    "import numpy as np\n",
    "import pandas as pd\n",
    "import multiprocess as mp\n",
    "from IPython.display import HTML, SVG\n",
    "\n",
    "from pydrake.geometry import MeshcatVisualizerCpp, MeshcatVisualizerParams, Role, StartMeshcat\n",
    "from pydrake.geometry.optimization import IrisInConfigurationSpace, IrisOptions\n",
    "from pydrake.multibody.parsing import LoadModelDirectives, Parser, ProcessModelDirectives\n",
    "from pydrake.multibody.plant import AddMultibodyPlantSceneGraph\n",
    "# from pydrake.solvers.gurobi import GurobiSolver\n",
    "# from pydrake.solvers.mosek import MosekSolver\n",
    "from pydrake.solvers import MathematicalProgram\n",
    "from pydrake.solvers.snopt import SnoptSolver\n",
    "from pydrake.systems.framework import DiagramBuilder\n",
    "# from pydrake.planning.common_robotics_utilities import SimpleRRTPlannerState\n",
    "\n",
    "\n",
    "from gcs.linear import LinearGCS\n",
    "from gcs.rounding import randomForwardPathSearch\n",
    "from reproduction.prm_comparison.planning import PRM, BiRRT\n",
    "from reproduction.prm_comparison.helpers import (\n",
    "    ForwardKinematics,\n",
    "    get_traj_length,\n",
    "    InverseKinematics,\n",
    "    is_traj_confined,\n",
    "    make_traj,\n",
    "    visualize_trajectory,\n",
    ")\n",
    "from reproduction.util import *\n",
    "\n",
    "# GurobiSolver.AcquireLicense()\n",
    "os.environ['MOSEKLM_LICENSE_FILE'] = 'mosek/mosek.lic'\n",
    "MosekSolver.AcquireLicense()"
   ]
  },
  {
   "cell_type": "code",
   "execution_count": 4,
   "metadata": {},
   "outputs": [
    {
     "name": "stderr",
     "output_type": "stream",
     "text": [
      "INFO:drake:Meshcat listening for connections at http://localhost:7000\n"
     ]
    }
   ],
   "source": [
    "# Start the visualizer (run this cell only once, each instance consumes a port)\n",
    "meshcat = StartMeshcat()"
   ]
  },
  {
   "cell_type": "code",
   "execution_count": 5,
   "metadata": {},
   "outputs": [],
   "source": [
    "SEED = 17\n",
    "np.random.seed(SEED)"
   ]
  },
  {
   "cell_type": "code",
   "execution_count": 6,
   "metadata": {
    "scrolled": false
   },
   "outputs": [
    {
     "name": "stderr",
     "output_type": "stream",
     "text": [
      "/var/folders/p0/l4__0wtd3j184sv9zspd0qlm0000gn/T/ipykernel_29450/3718143493.py:18: DrakeDeprecationWarning: MeshcatVisualizerCpp has been renamed to MeshcatVisualizer. The deprecated code will be removed from Drake on or after 2022-11-01.\n",
      "  meshcat_cpp = MeshcatVisualizerCpp.AddToBuilder(builder, scene_graph, meshcat, meshcat_params)\n"
     ]
    }
   ],
   "source": [
    "builder = DiagramBuilder()\n",
    "plant, scene_graph = AddMultibodyPlantSceneGraph(builder, time_step=0.0)\n",
    "parser = Parser(plant)\n",
    "parser.package_map().Add(\"gcs\", GcsDir())\n",
    "\n",
    "directives_file = FindModelFile(\"models/iiwa14_spheres_collision_welded_gripper.yaml\")\n",
    "directives = LoadModelDirectives(directives_file)\n",
    "models = ProcessModelDirectives(directives, plant, parser)\n",
    "[iiwa, wsg, shelf, binR, binL, table] =  models\n",
    " \n",
    "\n",
    "plant.Finalize()\n",
    "\n",
    "meshcat_params = MeshcatVisualizerParams()\n",
    "meshcat_params.delete_on_initialization_event = False\n",
    "meshcat_params.role = Role.kIllustration\n",
    "# meshcat_params.role = Role.kProximity\n",
    "meshcat_cpp = MeshcatVisualizerCpp.AddToBuilder(builder, scene_graph, meshcat, meshcat_params)\n",
    "\n",
    "diagram = builder.Build()\n",
    "\n",
    "context = diagram.CreateDefaultContext()\n",
    "#plant_context = plant.GetMyContextFromRoot(context)\n",
    "plant_context = plant.GetMyMutableContextFromRoot(context)\n",
    "q0 =[0, 0.3, 0, -1.8, 0, 1, 1.57]\n",
    "plant.SetPositions(plant_context, q0)\n",
    "diagram.Publish(context)"
   ]
  },
  {
   "cell_type": "markdown",
   "metadata": {},
   "source": [
    "# Generate Iris Regions\n",
    "### via manual seeds"
   ]
  },
  {
   "cell_type": "code",
   "execution_count": 7,
   "metadata": {},
   "outputs": [],
   "source": [
    "milestones =  {\"Above Shelve\": [[0.75, 0, 0.9],    [0, -np.pi, -np.pi/2]],   \n",
    "                \"Top Rack\":    [[0.75, 0, 0.67],   [0, -np.pi, -np.pi/2]],   \n",
    "                \"Middle Rack\": [[0.75, 0, 0.41],   [0, -np.pi, -np.pi/2]],       \n",
    "                \"Left Bin\":    [[0.0,  0.6, 0.22], [np.pi/2, np.pi, 0]], \n",
    "                \"Right Bin\":   [[0.0, -0.6, 0.22], [np.pi/2, np.pi, np.pi]]}\n",
    "\n",
    "\n",
    "additional_seed_points = {\"Front to Shelve\":np.array([0, 0.2, 0, -2.09, 0, -0.3, np.pi/2]), \n",
    "                          \"Left to Shelve\": np.array([0.8, 0.7, 0, -1.6, 0, 0, np.pi/2]),\n",
    "                          \"Right to Shelve\":np.array([-0.8, 0.7, 0, -1.6, 0, 0, np.pi/2])} \n",
    "\n",
    "q0 =[0, 0.3, 0, -1.8, 0, 1, 1.57]\n",
    "milestone_configurations =  {name: InverseKinematics(q0, trans, rot) for name, (trans, rot) in milestones.items()}\n",
    "\n",
    "seed_points = {**milestone_configurations, **additional_seed_points}"
   ]
  },
  {
   "cell_type": "code",
   "execution_count": 52,
   "metadata": {},
   "outputs": [
    {
     "name": "stdout",
     "output_type": "stream",
     "text": [
      "<class 'dict'>\n"
     ]
    }
   ],
   "source": [
    "print(type(seed_points))"
   ]
  },
  {
   "cell_type": "code",
   "execution_count": 24,
   "metadata": {},
   "outputs": [],
   "source": [
    "iris_options = IrisOptions()\n",
    "iris_options.require_sample_point_is_contained = True\n",
    "iris_options.iteration_limit = 10\n",
    "iris_options.termination_threshold = -1\n",
    "iris_options.relative_termination_threshold = 0.01\n",
    "iris_options.enable_ibex = False\n",
    "CORE_CNT = mp.cpu_count() # you may edit this"
   ]
  },
  {
   "cell_type": "code",
   "execution_count": 27,
   "metadata": {},
   "outputs": [],
   "source": [
    "def calcRegion(seed, verbose):\n",
    "    context = diagram.CreateDefaultContext()\n",
    "    plant_context = plant.GetMyContextFromRoot(context)\n",
    "    plant.SetPositions(plant_context, seed)\n",
    "    hpoly = IrisInConfigurationSpace(plant, plant_context, iris_options)\n",
    "    print(\"Seed:\", seed, \"\\tTime:\", time.time() - start_time, flush=True)\n",
    "    return hpoly"
   ]
  },
  {
   "cell_type": "code",
   "execution_count": 34,
   "metadata": {
    "scrolled": true
   },
   "outputs": [],
   "source": [
    "def generateRegions(seed_points, verbose = True):\n",
    "    seeds = list(seed_points.values()) if type(seed_points) is dict else seed_points\n",
    "    regions = []\n",
    "    loop_time = time.time()\n",
    "#     with mp.Pool(processes = CORE_CNT) as pool:\n",
    "#         regions = pool.starmap(calcRegion, [[seed, verbose] for seed in seeds])\n",
    "    regions = [calcRegion(seed, verbose) for seed in seeds]\n",
    "\n",
    "    \n",
    "    if verbose:\n",
    "        print(\"Loop time:\", time.time() - loop_time)\n",
    "    \n",
    "    if type(seed_points) is dict:\n",
    "        return dict(list(zip(seed_points.keys(), regions)))\n",
    "    \n",
    "    return regions"
   ]
  },
  {
   "cell_type": "code",
   "execution_count": 35,
   "metadata": {
    "scrolled": true
   },
   "outputs": [
    {
     "name": "stdout",
     "output_type": "stream",
     "text": [
      "Seed: [ 6.41950821e-05  4.71953264e-01 -1.49318242e-04 -6.71673454e-01\n",
      "  1.85368193e-04  4.26169599e-01  1.57069215e+00] \tTime: 22.524271249771118\n",
      "Seed: [-1.55038457e-04  3.97272587e-01  2.19576109e-04 -1.36747559e+00\n",
      "  2.47152850e-04 -1.92951824e-01  1.57046879e+00] \tTime: 77.1456139087677\n",
      "Seed: [-1.75984695e-04  6.83027947e-01  2.44995700e-04 -1.64782293e+00\n",
      "  2.09087139e-05 -7.59054535e-01  1.57062627e+00] \tTime: 48.7941951751709\n",
      "Seed: [ 1.33266562  0.78659315  0.36233843 -1.49165291 -0.31925088  0.92173247\n",
      "  1.79119041] \tTime: 14.458280086517334\n",
      "Seed: [-1.33246236  0.78664776 -0.36265619 -1.49165281  0.31953404  0.92178332\n",
      "  1.350209  ] \tTime: 13.372639894485474\n",
      "Seed: [ 0.          0.2         0.         -2.09        0.         -0.3\n",
      "  1.57079633] \tTime: 29.399556875228882\n",
      "Seed: [ 0.8         0.7         0.         -1.6         0.          0.\n",
      "  1.57079633] \tTime: 6.099326848983765\n",
      "Seed: [-0.8         0.7         0.         -1.6         0.          0.\n",
      "  1.57079633] \tTime: 22.34925389289856\n",
      "Loop time: 234.15941619873047\n"
     ]
    }
   ],
   "source": [
    "regions = generateRegions(seed_points)"
   ]
  },
  {
   "cell_type": "code",
   "execution_count": 55,
   "metadata": {},
   "outputs": [
    {
     "name": "stdout",
     "output_type": "stream",
     "text": [
      "8\n"
     ]
    }
   ],
   "source": [
    "print(len(regions))"
   ]
  },
  {
   "cell_type": "markdown",
   "metadata": {},
   "source": [
    "## via pre-generated regions"
   ]
  },
  {
   "cell_type": "code",
   "execution_count": 22,
   "metadata": {},
   "outputs": [
    {
     "ename": "FileNotFoundError",
     "evalue": "[Errno 2] No such file or directory: '/Users/varun/gcs/data/prm_comparison/IRIS.reg'",
     "output_type": "error",
     "traceback": [
      "\u001b[0;31m---------------------------------------------------------------------------\u001b[0m",
      "\u001b[0;31mFileNotFoundError\u001b[0m                         Traceback (most recent call last)",
      "Input \u001b[0;32mIn [22]\u001b[0m, in \u001b[0;36m<cell line: 2>\u001b[0;34m()\u001b[0m\n\u001b[1;32m      1\u001b[0m \u001b[38;5;66;03m#load regions\u001b[39;00m\n\u001b[0;32m----> 2\u001b[0m \u001b[38;5;28;01mwith\u001b[39;00m \u001b[38;5;28;43mopen\u001b[39;49m\u001b[43m(\u001b[49m\u001b[43mos\u001b[49m\u001b[38;5;241;43m.\u001b[39;49m\u001b[43mpath\u001b[49m\u001b[38;5;241;43m.\u001b[39;49m\u001b[43mjoin\u001b[49m\u001b[43m(\u001b[49m\u001b[43mGcsDir\u001b[49m\u001b[43m(\u001b[49m\u001b[43m)\u001b[49m\u001b[43m,\u001b[49m\u001b[43m \u001b[49m\u001b[38;5;124;43m\"\u001b[39;49m\u001b[38;5;124;43mdata/prm_comparison/IRIS.reg\u001b[39;49m\u001b[38;5;124;43m\"\u001b[39;49m\u001b[43m)\u001b[49m\u001b[43m,\u001b[49m\u001b[43m \u001b[49m\u001b[38;5;124;43m\"\u001b[39;49m\u001b[38;5;124;43mrb\u001b[39;49m\u001b[38;5;124;43m\"\u001b[39;49m\u001b[43m)\u001b[49m \u001b[38;5;28;01mas\u001b[39;00m f:\n\u001b[1;32m      3\u001b[0m     regions \u001b[38;5;241m=\u001b[39m pickle\u001b[38;5;241m.\u001b[39mload(f)\n",
      "\u001b[0;31mFileNotFoundError\u001b[0m: [Errno 2] No such file or directory: '/Users/varun/gcs/data/prm_comparison/IRIS.reg'"
     ]
    }
   ],
   "source": [
    "#load regions\n",
    "with open(os.path.join(GcsDir(), \"data/prm_comparison/IRIS.reg\"), \"rb\") as f:\n",
    "    regions = pickle.load(f)"
   ]
  },
  {
   "cell_type": "code",
   "execution_count": 54,
   "metadata": {},
   "outputs": [
    {
     "name": "stdout",
     "output_type": "stream",
     "text": [
      "regions {'Above Shelve': <pydrake.geometry.optimization.HPolyhedron object at 0x14ee4eb70>, 'Top Rack': <pydrake.geometry.optimization.HPolyhedron object at 0x157729c30>, 'Middle Rack': <pydrake.geometry.optimization.HPolyhedron object at 0x1577532f0>, 'Left Bin': <pydrake.geometry.optimization.HPolyhedron object at 0x1106ec070>, 'Right Bin': <pydrake.geometry.optimization.HPolyhedron object at 0x14edd63f0>, 'Front to Shelve': <pydrake.geometry.optimization.HPolyhedron object at 0x156fbffb0>, 'Left to Shelve': <pydrake.geometry.optimization.HPolyhedron object at 0x1577cb0f0>, 'Right to Shelve': <pydrake.geometry.optimization.HPolyhedron object at 0x157a9a130>}\n"
     ]
    },
    {
     "data": {
      "image/svg+xml": [
       "<svg xmlns=\"http://www.w3.org/2000/svg\" xmlns:xlink=\"http://www.w3.org/1999/xlink\" width=\"854pt\" height=\"479pt\" viewBox=\"0.00 0.00 854.00 479.00\">\n",
       "<g id=\"graph0\" class=\"graph\" transform=\"scale(1 1) rotate(0) translate(4 475)\">\n",
       "<title>GraphOfConvexSets</title>\n",
       "<polygon fill=\"white\" stroke=\"transparent\" points=\"-4,4 -4,-475 850,-475 850,4 -4,4\"/>\n",
       "<!-- v3793 -->\n",
       "<g id=\"node1\" class=\"node\">\n",
       "<title>v3793</title>\n",
       "<ellipse fill=\"none\" stroke=\"black\" cx=\"410\" cy=\"-453\" rx=\"27\" ry=\"18\"/>\n",
       "<text text-anchor=\"middle\" x=\"410\" y=\"-449.3\" font-family=\"Times,serif\" font-size=\"14.00\">q_1</text>\n",
       "</g>\n",
       "<!-- v3796 -->\n",
       "<g id=\"node4\" class=\"node\">\n",
       "<title>v3796</title>\n",
       "<ellipse fill=\"none\" stroke=\"black\" cx=\"237\" cy=\"-366\" rx=\"27\" ry=\"18\"/>\n",
       "<text text-anchor=\"middle\" x=\"237\" y=\"-362.3\" font-family=\"Times,serif\" font-size=\"14.00\">q_4</text>\n",
       "</g>\n",
       "<!-- v3793&#45;&gt;v3796 -->\n",
       "<g id=\"edge1\" class=\"edge\">\n",
       "<title>v3793-&gt;v3796</title>\n",
       "<path fill=\"none\" stroke=\"black\" d=\"M382.83,-451.39C333.38,-449.64 231.77,-442.91 210,-417 202.83,-408.47 207.24,-397.74 214.41,-388.4\"/>\n",
       "<polygon fill=\"black\" stroke=\"black\" points=\"217.24,-390.48 221.2,-380.65 211.98,-385.87 217.24,-390.48\"/>\n",
       "<text text-anchor=\"middle\" x=\"239\" y=\"-405.8\" font-family=\"Times,serif\" font-size=\"14.00\">(q_1, q_4)</text>\n",
       "</g>\n",
       "<!-- v3797 -->\n",
       "<g id=\"node5\" class=\"node\">\n",
       "<title>v3797</title>\n",
       "<ellipse fill=\"none\" stroke=\"black\" cx=\"174\" cy=\"-18\" rx=\"27\" ry=\"18\"/>\n",
       "<text text-anchor=\"middle\" x=\"174\" y=\"-14.3\" font-family=\"Times,serif\" font-size=\"14.00\">q_5</text>\n",
       "</g>\n",
       "<!-- v3793&#45;&gt;v3797 -->\n",
       "<g id=\"edge3\" class=\"edge\">\n",
       "<title>v3793-&gt;v3797</title>\n",
       "<path fill=\"none\" stroke=\"black\" d=\"M382.78,-452.17C291.21,-452.03 0,-445.42 0,-367 0,-367 0,-367 0,-104 0,-43.61 85.66,-26.12 136.78,-21.06\"/>\n",
       "<polygon fill=\"black\" stroke=\"black\" points=\"137.16,-24.54 146.81,-20.18 136.55,-17.56 137.16,-24.54\"/>\n",
       "<text text-anchor=\"middle\" x=\"29\" y=\"-231.8\" font-family=\"Times,serif\" font-size=\"14.00\">(q_1, q_5)</text>\n",
       "</g>\n",
       "<!-- v3798 -->\n",
       "<g id=\"node6\" class=\"node\">\n",
       "<title>v3798</title>\n",
       "<ellipse fill=\"none\" stroke=\"black\" cx=\"365\" cy=\"-192\" rx=\"27\" ry=\"18\"/>\n",
       "<text text-anchor=\"middle\" x=\"365\" y=\"-188.3\" font-family=\"Times,serif\" font-size=\"14.00\">q_6</text>\n",
       "</g>\n",
       "<!-- v3793&#45;&gt;v3798 -->\n",
       "<g id=\"edge5\" class=\"edge\">\n",
       "<title>v3793-&gt;v3798</title>\n",
       "<path fill=\"none\" stroke=\"black\" d=\"M429.45,-440.23C453.56,-425.19 492.41,-399.25 500,-384 507.13,-369.68 503.73,-363.56 500,-348 486.06,-289.82 481.9,-269.7 439,-228 427.85,-217.16 412.71,-209.19 399.03,-203.62\"/>\n",
       "<polygon fill=\"black\" stroke=\"black\" points=\"399.99,-200.24 389.4,-199.98 397.52,-206.79 399.99,-200.24\"/>\n",
       "<text text-anchor=\"middle\" x=\"524\" y=\"-318.8\" font-family=\"Times,serif\" font-size=\"14.00\">(q_1, q_6)</text>\n",
       "</g>\n",
       "<!-- v3799 -->\n",
       "<g id=\"node7\" class=\"node\">\n",
       "<title>v3799</title>\n",
       "<ellipse fill=\"none\" stroke=\"black\" cx=\"375\" cy=\"-279\" rx=\"27\" ry=\"18\"/>\n",
       "<text text-anchor=\"middle\" x=\"375\" y=\"-275.3\" font-family=\"Times,serif\" font-size=\"14.00\">q_7</text>\n",
       "</g>\n",
       "<!-- v3793&#45;&gt;v3799 -->\n",
       "<g id=\"edge7\" class=\"edge\">\n",
       "<title>v3793-&gt;v3799</title>\n",
       "<path fill=\"none\" stroke=\"black\" d=\"M399.82,-436.28C391.84,-422.96 381.38,-403.06 377,-384 373.42,-368.41 371.09,-362.87 377,-348 381.07,-337.77 389.93,-340.23 394,-330 396.46,-323.8 395.64,-321.46 394,-315 393.12,-311.54 391.83,-308.06 390.32,-304.7\"/>\n",
       "<polygon fill=\"black\" stroke=\"black\" points=\"393.36,-302.97 385.67,-295.69 387.14,-306.18 393.36,-302.97\"/>\n",
       "<text text-anchor=\"middle\" x=\"406\" y=\"-362.3\" font-family=\"Times,serif\" font-size=\"14.00\">(q_1, q_7)</text>\n",
       "</g>\n",
       "<!-- v3800 -->\n",
       "<g id=\"node8\" class=\"node\">\n",
       "<title>v3800</title>\n",
       "<ellipse fill=\"none\" stroke=\"black\" cx=\"592\" cy=\"-105\" rx=\"27\" ry=\"18\"/>\n",
       "<text text-anchor=\"middle\" x=\"592\" y=\"-101.3\" font-family=\"Times,serif\" font-size=\"14.00\">q_8</text>\n",
       "</g>\n",
       "<!-- v3793&#45;&gt;v3800 -->\n",
       "<g id=\"edge9\" class=\"edge\">\n",
       "<title>v3793-&gt;v3800</title>\n",
       "<path fill=\"none\" stroke=\"black\" d=\"M431.06,-441.31C435.9,-439.06 441.07,-436.82 446,-435 553.19,-395.34 694,-481.29 694,-367 694,-367 694,-367 694,-191 694,-165.53 684.62,-158.38 666,-141 654.63,-130.39 639.46,-122.45 625.81,-116.84\"/>\n",
       "<polygon fill=\"black\" stroke=\"black\" points=\"626.81,-113.48 616.22,-113.17 624.31,-120.01 626.81,-113.48\"/>\n",
       "<text text-anchor=\"middle\" x=\"723\" y=\"-275.3\" font-family=\"Times,serif\" font-size=\"14.00\">(q_1, q_8)</text>\n",
       "</g>\n",
       "<!-- v3794 -->\n",
       "<g id=\"node2\" class=\"node\">\n",
       "<title>v3794</title>\n",
       "<ellipse fill=\"none\" stroke=\"black\" cx=\"510\" cy=\"-18\" rx=\"27\" ry=\"18\"/>\n",
       "<text text-anchor=\"middle\" x=\"510\" y=\"-14.3\" font-family=\"Times,serif\" font-size=\"14.00\">q_2</text>\n",
       "</g>\n",
       "<!-- v3794&#45;&gt;v3798 -->\n",
       "<g id=\"edge11\" class=\"edge\">\n",
       "<title>v3794-&gt;v3798</title>\n",
       "<path fill=\"none\" stroke=\"black\" d=\"M503.81,-35.64C498.92,-46.61 491.07,-60.47 480,-69 457.27,-86.51 442.63,-72.28 418,-87 403.57,-95.63 371.36,-125.44 365,-141 362.14,-147.99 361.23,-156 361.26,-163.54\"/>\n",
       "<polygon fill=\"black\" stroke=\"black\" points=\"357.78,-163.93 361.85,-173.71 364.77,-163.53 357.78,-163.93\"/>\n",
       "<text text-anchor=\"middle\" x=\"447\" y=\"-101.3\" font-family=\"Times,serif\" font-size=\"14.00\">(q_2, q_6)</text>\n",
       "</g>\n",
       "<!-- v3794&#45;&gt;v3800 -->\n",
       "<g id=\"edge13\" class=\"edge\">\n",
       "<title>v3794-&gt;v3800</title>\n",
       "<path fill=\"none\" stroke=\"black\" d=\"M535.67,-24.02C552.73,-28.76 574.12,-37.68 586,-54 590.72,-60.49 592.83,-68.75 593.59,-76.68\"/>\n",
       "<polygon fill=\"black\" stroke=\"black\" points=\"590.1,-76.86 593.92,-86.74 597.09,-76.63 590.1,-76.86\"/>\n",
       "<text text-anchor=\"middle\" x=\"621\" y=\"-57.8\" font-family=\"Times,serif\" font-size=\"14.00\">(q_2, q_8)</text>\n",
       "</g>\n",
       "<!-- v3795 -->\n",
       "<g id=\"node3\" class=\"node\">\n",
       "<title>v3795</title>\n",
       "<ellipse fill=\"none\" stroke=\"black\" cx=\"512\" cy=\"-105\" rx=\"27\" ry=\"18\"/>\n",
       "<text text-anchor=\"middle\" x=\"512\" y=\"-101.3\" font-family=\"Times,serif\" font-size=\"14.00\">q_3</text>\n",
       "</g>\n",
       "<!-- v3795&#45;&gt;v3798 -->\n",
       "<g id=\"edge15\" class=\"edge\">\n",
       "<title>v3795-&gt;v3798</title>\n",
       "<path fill=\"none\" stroke=\"black\" d=\"M490.17,-116C484.05,-118.54 477.34,-121.09 471,-123 431.11,-135.04 409.61,-112.74 379,-141 372.6,-146.91 369.03,-155.49 367.08,-163.88\"/>\n",
       "<polygon fill=\"black\" stroke=\"black\" points=\"363.61,-163.38 365.41,-173.82 370.52,-164.54 363.61,-163.38\"/>\n",
       "<text text-anchor=\"middle\" x=\"408\" y=\"-144.8\" font-family=\"Times,serif\" font-size=\"14.00\">(q_3, q_6)</text>\n",
       "</g>\n",
       "<!-- v3796&#45;&gt;v3793 -->\n",
       "<g id=\"edge2\" class=\"edge\">\n",
       "<title>v3796-&gt;v3793</title>\n",
       "<path fill=\"none\" stroke=\"black\" d=\"M249.78,-382.12C259.92,-393.23 275,-407.91 291,-417 316.89,-431.7 349.52,-440.73 374.06,-445.93\"/>\n",
       "<polygon fill=\"black\" stroke=\"black\" points=\"373.55,-449.4 384.04,-447.93 374.92,-442.53 373.55,-449.4\"/>\n",
       "<text text-anchor=\"middle\" x=\"320\" y=\"-405.8\" font-family=\"Times,serif\" font-size=\"14.00\">(q_4, q_1)</text>\n",
       "</g>\n",
       "<!-- v3796&#45;&gt;v3798 -->\n",
       "<g id=\"edge17\" class=\"edge\">\n",
       "<title>v3796-&gt;v3798</title>\n",
       "<path fill=\"none\" stroke=\"black\" d=\"M234.67,-347.84C233.98,-337.95 234.23,-325.45 238,-315 255.33,-266.97 304.1,-229.68 335.91,-209.56\"/>\n",
       "<polygon fill=\"black\" stroke=\"black\" points=\"338.1,-212.33 344.79,-204.11 334.44,-206.36 338.1,-212.33\"/>\n",
       "<text text-anchor=\"middle\" x=\"300\" y=\"-275.3\" font-family=\"Times,serif\" font-size=\"14.00\">(q_4, q_6)</text>\n",
       "</g>\n",
       "<!-- v3796&#45;&gt;v3799 -->\n",
       "<g id=\"edge19\" class=\"edge\">\n",
       "<title>v3796-&gt;v3799</title>\n",
       "<path fill=\"none\" stroke=\"black\" d=\"M260.04,-356.14C275.51,-349.78 296.09,-340.49 313,-330 326.62,-321.56 340.61,-310.51 351.85,-300.95\"/>\n",
       "<polygon fill=\"black\" stroke=\"black\" points=\"354.24,-303.51 359.5,-294.31 349.65,-298.22 354.24,-303.51\"/>\n",
       "<text text-anchor=\"middle\" x=\"361\" y=\"-318.8\" font-family=\"Times,serif\" font-size=\"14.00\">(q_4, q_7)</text>\n",
       "</g>\n",
       "<!-- v3797&#45;&gt;v3793 -->\n",
       "<g id=\"edge4\" class=\"edge\">\n",
       "<title>v3797-&gt;v3793</title>\n",
       "<path fill=\"none\" stroke=\"black\" d=\"M151.01,-28.08C123.47,-40.64 81,-66.16 81,-104 81,-367 81,-367 81,-367 81,-426.75 286.96,-445.16 372.97,-450.24\"/>\n",
       "<polygon fill=\"black\" stroke=\"black\" points=\"372.9,-453.75 383.08,-450.81 373.29,-446.76 372.9,-453.75\"/>\n",
       "<text text-anchor=\"middle\" x=\"110\" y=\"-231.8\" font-family=\"Times,serif\" font-size=\"14.00\">(q_5, q_1)</text>\n",
       "</g>\n",
       "<!-- v3797&#45;&gt;v3798 -->\n",
       "<g id=\"edge21\" class=\"edge\">\n",
       "<title>v3797-&gt;v3798</title>\n",
       "<path fill=\"none\" stroke=\"black\" d=\"M161.74,-34.09C146.15,-55.24 123.27,-94.32 141,-123 160.9,-155.21 270.48,-176.55 328.67,-185.79\"/>\n",
       "<polygon fill=\"black\" stroke=\"black\" points=\"328.14,-189.25 338.56,-187.32 329.21,-182.33 328.14,-189.25\"/>\n",
       "<text text-anchor=\"middle\" x=\"170\" y=\"-101.3\" font-family=\"Times,serif\" font-size=\"14.00\">(q_5, q_6)</text>\n",
       "</g>\n",
       "<!-- v3797&#45;&gt;v3800 -->\n",
       "<g id=\"edge23\" class=\"edge\">\n",
       "<title>v3797-&gt;v3800</title>\n",
       "<path fill=\"none\" stroke=\"black\" d=\"M197.13,-27.57C229.03,-39.01 288.53,-58.97 341,-69 431.71,-86.33 458.04,-66.15 548,-87 552.13,-87.96 556.39,-89.22 560.55,-90.63\"/>\n",
       "<polygon fill=\"black\" stroke=\"black\" points=\"559.41,-93.94 570,-94.1 561.82,-87.37 559.41,-93.94\"/>\n",
       "<text text-anchor=\"middle\" x=\"370\" y=\"-57.8\" font-family=\"Times,serif\" font-size=\"14.00\">(q_5, q_8)</text>\n",
       "</g>\n",
       "<!-- v3798&#45;&gt;v3793 -->\n",
       "<g id=\"edge6\" class=\"edge\">\n",
       "<title>v3798-&gt;v3793</title>\n",
       "<path fill=\"none\" stroke=\"black\" d=\"M389.9,-199.28C434.51,-212.11 526.25,-246.12 557,-315 579.41,-365.21 531.37,-384.53 487,-417 470.94,-428.75 464.11,-426.75 446,-435 444.21,-435.82 442.37,-436.66 440.51,-437.52\"/>\n",
       "<polygon fill=\"black\" stroke=\"black\" points=\"438.85,-434.43 431.28,-441.83 441.82,-440.77 438.85,-434.43\"/>\n",
       "<text text-anchor=\"middle\" x=\"590\" y=\"-318.8\" font-family=\"Times,serif\" font-size=\"14.00\">(q_6, q_1)</text>\n",
       "</g>\n",
       "<!-- v3798&#45;&gt;v3794 -->\n",
       "<g id=\"edge12\" class=\"edge\">\n",
       "<title>v3798-&gt;v3794</title>\n",
       "<path fill=\"none\" stroke=\"black\" d=\"M350.15,-176.68C338.05,-163.9 321.9,-144.02 315,-123 305.4,-93.75 299.27,-75.8 321,-54 341.8,-33.14 423.8,-24.4 472.69,-20.99\"/>\n",
       "<polygon fill=\"black\" stroke=\"black\" points=\"473.13,-24.47 482.88,-20.32 472.68,-17.49 473.13,-24.47\"/>\n",
       "<text text-anchor=\"middle\" x=\"344\" y=\"-101.3\" font-family=\"Times,serif\" font-size=\"14.00\">(q_6, q_2)</text>\n",
       "</g>\n",
       "<!-- v3798&#45;&gt;v3795 -->\n",
       "<g id=\"edge16\" class=\"edge\">\n",
       "<title>v3798-&gt;v3795</title>\n",
       "<path fill=\"none\" stroke=\"black\" d=\"M386.82,-181.33C401.3,-174.69 420.6,-165.4 437,-156 439.54,-154.55 464.73,-137.71 485.23,-123.97\"/>\n",
       "<polygon fill=\"black\" stroke=\"black\" points=\"487.29,-126.8 493.65,-118.33 483.39,-120.99 487.29,-126.8\"/>\n",
       "<text text-anchor=\"middle\" x=\"488\" y=\"-144.8\" font-family=\"Times,serif\" font-size=\"14.00\">(q_6, q_3)</text>\n",
       "</g>\n",
       "<!-- v3798&#45;&gt;v3796 -->\n",
       "<g id=\"edge18\" class=\"edge\">\n",
       "<title>v3798-&gt;v3796</title>\n",
       "<path fill=\"none\" stroke=\"black\" d=\"M338.11,-194.09C296.86,-197.38 219.07,-210.36 184,-261 165.32,-287.97 191.47,-322.43 213.21,-344.11\"/>\n",
       "<polygon fill=\"black\" stroke=\"black\" points=\"211,-346.83 220.64,-351.22 215.83,-341.77 211,-346.83\"/>\n",
       "<text text-anchor=\"middle\" x=\"213\" y=\"-275.3\" font-family=\"Times,serif\" font-size=\"14.00\">(q_6, q_4)</text>\n",
       "</g>\n",
       "<!-- v3798&#45;&gt;v3797 -->\n",
       "<g id=\"edge22\" class=\"edge\">\n",
       "<title>v3798-&gt;v3797</title>\n",
       "<path fill=\"none\" stroke=\"black\" d=\"M342.02,-181.95C316.06,-170.91 273.58,-150.29 244,-123 219.37,-100.27 199.04,-67.25 186.75,-44.55\"/>\n",
       "<polygon fill=\"black\" stroke=\"black\" points=\"189.75,-42.73 181.99,-35.51 183.55,-45.99 189.75,-42.73\"/>\n",
       "<text text-anchor=\"middle\" x=\"273\" y=\"-101.3\" font-family=\"Times,serif\" font-size=\"14.00\">(q_6, q_5)</text>\n",
       "</g>\n",
       "<!-- v3798&#45;&gt;v3799 -->\n",
       "<g id=\"edge25\" class=\"edge\">\n",
       "<title>v3798-&gt;v3799</title>\n",
       "<path fill=\"none\" stroke=\"black\" d=\"M343.65,-203.23C327.39,-212.53 309.16,-227.2 318,-243 323.41,-252.68 332.72,-260 342.26,-265.39\"/>\n",
       "<polygon fill=\"black\" stroke=\"black\" points=\"340.85,-268.6 351.36,-269.97 344,-262.35 340.85,-268.6\"/>\n",
       "<text text-anchor=\"middle\" x=\"347\" y=\"-231.8\" font-family=\"Times,serif\" font-size=\"14.00\">(q_6, q_7)</text>\n",
       "</g>\n",
       "<!-- v3798&#45;&gt;v3800 -->\n",
       "<g id=\"edge27\" class=\"edge\">\n",
       "<title>v3798-&gt;v3800</title>\n",
       "<path fill=\"none\" stroke=\"black\" d=\"M391.37,-187.97C422.61,-183.72 475.76,-174.34 518,-156 520.66,-154.85 545.49,-137.96 565.67,-124.13\"/>\n",
       "<polygon fill=\"black\" stroke=\"black\" points=\"567.69,-126.99 573.95,-118.44 563.72,-121.21 567.69,-126.99\"/>\n",
       "<text text-anchor=\"middle\" x=\"568\" y=\"-144.8\" font-family=\"Times,serif\" font-size=\"14.00\">(q_6, q_8)</text>\n",
       "</g>\n",
       "<!-- v3799&#45;&gt;v3793 -->\n",
       "<g id=\"edge8\" class=\"edge\">\n",
       "<title>v3799-&gt;v3793</title>\n",
       "<path fill=\"none\" stroke=\"black\" d=\"M392.39,-293.15C407.05,-305.46 426.9,-325.31 435,-348 444.37,-374.24 434.17,-405.44 424.12,-426.78\"/>\n",
       "<polygon fill=\"black\" stroke=\"black\" points=\"420.93,-425.32 419.59,-435.83 427.19,-428.46 420.93,-425.32\"/>\n",
       "<text text-anchor=\"middle\" x=\"467\" y=\"-362.3\" font-family=\"Times,serif\" font-size=\"14.00\">(q_7, q_1)</text>\n",
       "</g>\n",
       "<!-- v3799&#45;&gt;v3796 -->\n",
       "<g id=\"edge20\" class=\"edge\">\n",
       "<title>v3799-&gt;v3796</title>\n",
       "<path fill=\"none\" stroke=\"black\" d=\"M350.36,-286.63C314.71,-296.27 252.8,-313.2 251,-315 245,-321.01 241.52,-329.37 239.52,-337.54\"/>\n",
       "<polygon fill=\"black\" stroke=\"black\" points=\"236.04,-337.12 237.69,-347.58 242.93,-338.37 236.04,-337.12\"/>\n",
       "<text text-anchor=\"middle\" x=\"280\" y=\"-318.8\" font-family=\"Times,serif\" font-size=\"14.00\">(q_7, q_4)</text>\n",
       "</g>\n",
       "<!-- v3799&#45;&gt;v3798 -->\n",
       "<g id=\"edge26\" class=\"edge\">\n",
       "<title>v3799-&gt;v3798</title>\n",
       "<path fill=\"none\" stroke=\"black\" d=\"M376.8,-260.78C377.44,-251.09 377.66,-238.81 376,-228 375.58,-225.26 374.98,-222.44 374.29,-219.65\"/>\n",
       "<polygon fill=\"black\" stroke=\"black\" points=\"377.59,-218.47 371.43,-209.84 370.87,-220.42 377.59,-218.47\"/>\n",
       "<text text-anchor=\"middle\" x=\"406\" y=\"-231.8\" font-family=\"Times,serif\" font-size=\"14.00\">(q_7, q_6)</text>\n",
       "</g>\n",
       "<!-- v3800&#45;&gt;v3793 -->\n",
       "<g id=\"edge10\" class=\"edge\">\n",
       "<title>v3800-&gt;v3793</title>\n",
       "<path fill=\"none\" stroke=\"black\" d=\"M619.25,-105.84C673.11,-107.1 788,-118.3 788,-191 788,-367 788,-367 788,-367 788,-414.32 739.47,-403.89 694,-417 587.81,-447.61 552.89,-406.93 446,-435 443.83,-435.57 441.63,-436.27 439.44,-437.06\"/>\n",
       "<polygon fill=\"black\" stroke=\"black\" points=\"437.97,-433.88 430.07,-440.93 440.65,-440.35 437.97,-433.88\"/>\n",
       "<text text-anchor=\"middle\" x=\"817\" y=\"-275.3\" font-family=\"Times,serif\" font-size=\"14.00\">(q_8, q_1)</text>\n",
       "</g>\n",
       "<!-- v3800&#45;&gt;v3794 -->\n",
       "<g id=\"edge14\" class=\"edge\">\n",
       "<title>v3800-&gt;v3794</title>\n",
       "<path fill=\"none\" stroke=\"black\" d=\"M569.57,-94.79C552.26,-87.26 530.25,-76.67 524,-69 518.71,-62.52 515.42,-54.16 513.37,-46.15\"/>\n",
       "<polygon fill=\"black\" stroke=\"black\" points=\"516.8,-45.44 511.38,-36.34 509.94,-46.83 516.8,-45.44\"/>\n",
       "<text text-anchor=\"middle\" x=\"553\" y=\"-57.8\" font-family=\"Times,serif\" font-size=\"14.00\">(q_8, q_2)</text>\n",
       "</g>\n",
       "<!-- v3800&#45;&gt;v3797 -->\n",
       "<g id=\"edge24\" class=\"edge\">\n",
       "<title>v3800-&gt;v3797</title>\n",
       "<path fill=\"none\" stroke=\"black\" d=\"M569.88,-94.55C562.97,-91.84 555.24,-89.07 548,-87 506.68,-75.21 494.85,-78.76 453,-69 428.74,-63.34 423.35,-59.26 399,-54 333.18,-39.79 255.33,-28.99 210.6,-23.36\"/>\n",
       "<polygon fill=\"black\" stroke=\"black\" points=\"210.86,-19.87 200.51,-22.11 210,-26.81 210.86,-19.87\"/>\n",
       "<text text-anchor=\"middle\" x=\"482\" y=\"-57.8\" font-family=\"Times,serif\" font-size=\"14.00\">(q_8, q_5)</text>\n",
       "</g>\n",
       "<!-- v3800&#45;&gt;v3798 -->\n",
       "<g id=\"edge28\" class=\"edge\">\n",
       "<title>v3800-&gt;v3798</title>\n",
       "<path fill=\"none\" stroke=\"black\" d=\"M600.12,-122.24C604.24,-133.02 606.9,-146.84 599,-156 574.09,-184.92 462.03,-190.29 402.48,-191.07\"/>\n",
       "<polygon fill=\"black\" stroke=\"black\" points=\"402.32,-187.57 392.35,-191.16 402.38,-194.57 402.32,-187.57\"/>\n",
       "<text text-anchor=\"middle\" x=\"633\" y=\"-144.8\" font-family=\"Times,serif\" font-size=\"14.00\">(q_8, q_6)</text>\n",
       "</g>\n",
       "<!-- \\n -->\n",
       "<g id=\"node9\" class=\"node\">\n",
       "<title>\\n</title>\n",
       "<ellipse fill=\"none\" stroke=\"black\" cx=\"482\" cy=\"-453\" rx=\"27\" ry=\"18\"/>\n",
       "</g>\n",
       "</g>\n",
       "</svg>"
      ],
      "text/plain": [
       "<IPython.core.display.SVG object>"
      ]
     },
     "execution_count": 54,
     "metadata": {},
     "output_type": "execute_result"
    }
   ],
   "source": [
    "gcs = LinearGCS({f\"q_{i + 1}\":r for i, r in enumerate(regions.values())})\n",
    "# print('regions', regions)\n",
    "SVG(gcs.VisualizeGraph()) "
   ]
  },
  {
   "cell_type": "code",
   "execution_count": 66,
   "metadata": {
    "scrolled": true
   },
   "outputs": [
    {
     "name": "stdout",
     "output_type": "stream",
     "text": [
      "28\n"
     ]
    }
   ],
   "source": [
    "print(len(gcs.gcs.Edges()))\n",
    "# print({f\"q_{i + 1}\":r for i, r in enumerate(regions.values())})"
   ]
  },
  {
   "cell_type": "markdown",
   "metadata": {},
   "source": [
    "# Build PRM"
   ]
  },
  {
   "cell_type": "code",
   "execution_count": null,
   "metadata": {},
   "outputs": [],
   "source": [
    "collision_step_size = 0.02\n",
    "K = 5\n",
    "roadmap_size = 15000\n",
    "\n",
    "#initlize with seeds for fairness\n",
    "prm = PRM(plant, diagram, collision_step_size, SEED, K, list(seed_points.values()))"
   ]
  },
  {
   "cell_type": "markdown",
   "metadata": {},
   "source": [
    "### Load Roadmap if you don't want to wait 15 minutes"
   ]
  },
  {
   "cell_type": "code",
   "execution_count": null,
   "metadata": {},
   "outputs": [],
   "source": [
    "#TODO use wget here to download th prm map from server\n",
    "prm.load(os.path.join(GcsDir(), \"data/prm_comparison/15k_presplined.rmp\"))"
   ]
  },
  {
   "cell_type": "markdown",
   "metadata": {},
   "source": [
    "### Or Grow it "
   ]
  },
  {
   "cell_type": "code",
   "execution_count": null,
   "metadata": {},
   "outputs": [],
   "source": [
    "solve_timeout = 200\n",
    "goal_bias = 0.05\n",
    "step_size = 0.1\n",
    "birrt = BiRRT(plant, diagram, collision_step_size, SEED, step_size, goal_bias, solve_timeout)"
   ]
  },
  {
   "cell_type": "markdown",
   "metadata": {},
   "source": [
    "### Connect via BiRRT first\n",
    "Given the knowledge of the Graph of Convex Sets, we will use BiRRT to connect the edges. All of the nodes of the RRT trees will be added to the PRM map"
   ]
  },
  {
   "cell_type": "code",
   "execution_count": null,
   "metadata": {},
   "outputs": [],
   "source": [
    "pairs_2_connect = [\n",
    "  [SimpleRRTPlannerState(seed_points[\"Front to Shelve\"]), SimpleRRTPlannerState(seed_points[\"Top Rack\"])],\n",
    "  [SimpleRRTPlannerState(seed_points[\"Front to Shelve\"]), SimpleRRTPlannerState(seed_points[\"Middle Rack\"])],\n",
    "  [SimpleRRTPlannerState(seed_points[\"Front to Shelve\"]), SimpleRRTPlannerState(seed_points[\"Left Bin\"])],\n",
    "  [SimpleRRTPlannerState(seed_points[\"Front to Shelve\"]), SimpleRRTPlannerState(seed_points[\"Right Bin\"])],\n",
    "    \n",
    "  [SimpleRRTPlannerState(seed_points[\"Left Bin\"]), SimpleRRTPlannerState(seed_points[\"Above Shelve\"])],\n",
    "  [SimpleRRTPlannerState(seed_points[\"Left Bin\"]), SimpleRRTPlannerState(seed_points[\"Left to Shelve\"])],\n",
    "\n",
    "    \n",
    "  [SimpleRRTPlannerState(seed_points[\"Right Bin\"]), SimpleRRTPlannerState(seed_points[\"Above Shelve\"])],\n",
    "  [SimpleRRTPlannerState(seed_points[\"Right Bin\"]), SimpleRRTPlannerState(seed_points[\"Right to Shelve\"])],\n",
    "    \n",
    "  [SimpleRRTPlannerState(seed_points[\"Above Shelve\"]), SimpleRRTPlannerState(seed_points[\"Left to Shelve\"])],\n",
    "  [SimpleRRTPlannerState(seed_points[\"Above Shelve\"]), SimpleRRTPlannerState(seed_points[\"Right to Shelve\"])],\n",
    "]\n",
    "\n",
    "prm = PRM(plant, diagram, collision_step_size, SEED, K)\n",
    "\n",
    "start_time = time.time()\n",
    "\n",
    "for start_tree, goal_tree in  pairs_2_connect:\n",
    "    result, start_tree_extended, end_tree_extended = birrt.connect([start_tree], [goal_tree], use_parallel = True)\n",
    "    if len(result.Path()) == 0:\n",
    "        raise Exception(\"Failed to connect nodes\")\n",
    "    prm.addNodes(list(map(lambda x: x.GetValueImmutable(), start_tree_extended)) + list(map(lambda x: x.GetValueImmutable(), end_tree_extended)))\n",
    "\n",
    "print(f\"Roadmap extended to {prm.roadmap_size} in {round(time.time()-start_time,2)} s\")"
   ]
  },
  {
   "cell_type": "markdown",
   "metadata": {},
   "source": [
    "### Continue growing the Roadmap"
   ]
  },
  {
   "cell_type": "code",
   "execution_count": null,
   "metadata": {},
   "outputs": [],
   "source": [
    "stats = prm.GrowRoadMap(roadmap_size, True)\n",
    "print(f'Grow time: {stats[\"growing_time\"]} s') "
   ]
  },
  {
   "cell_type": "code",
   "execution_count": null,
   "metadata": {},
   "outputs": [],
   "source": [
    "prm.save(os.path.join(GcsDir(), \"data/prm_comparison/15k_presplined.rmp\"))"
   ]
  },
  {
   "cell_type": "markdown",
   "metadata": {},
   "source": [
    "# Run Comparison"
   ]
  },
  {
   "cell_type": "code",
   "execution_count": 107,
   "metadata": {},
   "outputs": [],
   "source": [
    "def getGCSPath(sequence, verbose = False):\n",
    "    path = [sequence[0]]\n",
    "    run_time = 0.0\n",
    "    for start_pt, goal_pt in zip(sequence[:-1], sequence[1:]):\n",
    "        gcs = LinearGCS(regions.copy())\n",
    "        gcs.addSourceTarget(start_pt, goal_pt)\n",
    "        gcs.setRoundingStrategy(randomForwardPathSearch, max_paths = 10, max_trials = 100, seed = SEED)\n",
    "        gcs.setSolver(SnoptSolver)\n",
    "        start_time = time.time()\n",
    "        waypoints, results_dict = gcs.SolvePath(rounding=True, verbose=False, preprocessing=True)\n",
    "        if waypoints is None:\n",
    "            if verbose:\n",
    "                print(f\"Failed between {start_pt} and {goal_pt}\")\n",
    "            return None\n",
    "\n",
    "        run_time += results_dict[\"preprocessing_stats\"][\"linear_programs\"]\n",
    "        run_time += results_dict[\"relaxation_solver_time\"]\n",
    "        run_time += results_dict[\"total_rounded_solver_time\"]\n",
    "        if verbose:\n",
    "            print(\"Convex Relaxation\", round(results_dict[\"relaxation_cost\"], 3),\n",
    "                  \"min hard result cost\", round(results_dict[\"rounded_cost\"], 3),\n",
    "                  \"Gap\", round((results_dict[\"rounded_cost\"] - results_dict[\"relaxation_cost\"])/results_dict[\"relaxation_cost\"], 3))\n",
    "    \n",
    "        path += waypoints.T[1:].tolist()\n",
    "    return np.stack(path).T, run_time\n",
    "\n",
    "def shortcut(path):\n",
    "    \"\"\"Those values are used by TRI\"\"\"\n",
    "    return prm.shortcut(np.stack(path),\n",
    "                 max_iter = 200,\n",
    "                 max_failed_iter = 200,\n",
    "                 max_backtracking_steps = 0,\n",
    "                 max_shortcut_fraction = 1.0,\n",
    "                 resample_shortcuts_interval = 0.25,\n",
    "                 check_for_marginal_shortcuts = False)"
   ]
  },
  {
   "cell_type": "markdown",
   "metadata": {},
   "source": [
    "# Demonstration"
   ]
  },
  {
   "cell_type": "code",
   "execution_count": 99,
   "metadata": {},
   "outputs": [],
   "source": [
    "demonstration =  {\"Above Shelve\": [[0.75, -0.12, 0.9], [0, -np.pi, -np.pi/2]],   \n",
    "                \"Top Rack\":       [[0.75, 0.12, 0.67], [0, -np.pi, -np.pi/2]],   \n",
    "                \"Middle Rack\":    [[0.75, 0.12, 0.41], [0, -np.pi, -np.pi/2]],       \n",
    "                \"Left Bin\":       [[0.08, 0.6, 0.22],  [np.pi/2, np.pi, 0]], \n",
    "                \"Right Bin\":      [[-0.08, -0.6, 0.22], [np.pi/2, np.pi, np.pi]]}\n",
    "\n",
    "q0 =[0, 0.3, 0, -1.8, 0, 1, 1.57]\n",
    "demonstration_configurations =  {name: InverseKinematics(q0, trans, rot) for name, (trans, rot) in demonstration.items()}\n"
   ]
  },
  {
   "cell_type": "code",
   "execution_count": 100,
   "metadata": {},
   "outputs": [],
   "source": [
    "demo_a = [demonstration_configurations[\"Above Shelve\"],\n",
    "          demonstration_configurations[\"Top Rack\"]]\n",
    "\n",
    "demo_b = [demonstration_configurations[\"Top Rack\"],\n",
    "          demonstration_configurations[\"Middle Rack\"]]\n",
    "\n",
    "demo_c = [demonstration_configurations[\"Middle Rack\"],\n",
    "          demonstration_configurations[\"Left Bin\"]]\n",
    "\n",
    "demo_d = [demonstration_configurations[\"Left Bin\"],\n",
    "          demonstration_configurations[\"Right Bin\"]]\n",
    "\n",
    "demo_e = [demonstration_configurations[\"Right Bin\"],\n",
    "          demonstration_configurations[\"Above Shelve\"]]\n",
    "\n",
    "demo_f = [demonstration_configurations[\"Above Shelve\"],\n",
    "         seed_points[\"Left to Shelve\"]]\n",
    "\n",
    "\n",
    "demo_circle = [demonstration_configurations[\"Above Shelve\"],\n",
    "               demonstration_configurations[\"Top Rack\"],\n",
    "               demonstration_configurations[\"Middle Rack\"],\n",
    "               demonstration_configurations[\"Left Bin\"],\n",
    "               demonstration_configurations[\"Right Bin\"],\n",
    "               demonstration_configurations[\"Above Shelve\"]]\n",
    "# print(demo_circle)\n",
    "# # CHANGED FOR TESTING:\n",
    "# demo_d = [milestone_configurations[\"Left Bin\"],\n",
    "#           milestone_configurations[\"Right Bin\"]]\n",
    "# print(demo_circle)"
   ]
  },
  {
   "cell_type": "code",
   "execution_count": 101,
   "metadata": {},
   "outputs": [
    {
     "ename": "NameError",
     "evalue": "name 'demo_circ' is not defined",
     "output_type": "error",
     "traceback": [
      "\u001b[0;31m---------------------------------------------------------------------------\u001b[0m",
      "\u001b[0;31mNameError\u001b[0m                                 Traceback (most recent call last)",
      "Input \u001b[0;32mIn [101]\u001b[0m, in \u001b[0;36m<cell line: 1>\u001b[0;34m()\u001b[0m\n\u001b[0;32m----> 1\u001b[0m sequence\u001b[38;5;241m=\u001b[39m\u001b[43mdemo_circ\u001b[49m\n\u001b[1;32m      3\u001b[0m \u001b[38;5;28mlist\u001b[39m(\u001b[38;5;28mzip\u001b[39m(sequence[:\u001b[38;5;241m-\u001b[39m\u001b[38;5;241m1\u001b[39m], sequence[\u001b[38;5;241m1\u001b[39m:]))\n",
      "\u001b[0;31mNameError\u001b[0m: name 'demo_circ' is not defined"
     ]
    }
   ],
   "source": [
    "sequence=demo_circ\n",
    "\n",
    "list(zip(sequence[:-1], sequence[1:]))"
   ]
  },
  {
   "cell_type": "code",
   "execution_count": 110,
   "metadata": {
    "scrolled": false
   },
   "outputs": [
    {
     "ename": "RuntimeError",
     "evalue": "Could not acquire MOSEK license.",
     "output_type": "error",
     "traceback": [
      "\u001b[0;31m---------------------------------------------------------------------------\u001b[0m",
      "\u001b[0;31mRuntimeError\u001b[0m                              Traceback (most recent call last)",
      "Input \u001b[0;32mIn [110]\u001b[0m, in \u001b[0;36m<cell line: 2>\u001b[0;34m()\u001b[0m\n\u001b[1;32m      1\u001b[0m execute_demo \u001b[38;5;241m=\u001b[39m demo_d\n\u001b[0;32m----> 2\u001b[0m GCS_path, GCS_time \u001b[38;5;241m=\u001b[39m \u001b[43mgetGCSPath\u001b[49m\u001b[43m(\u001b[49m\u001b[43mexecute_demo\u001b[49m\u001b[43m,\u001b[49m\u001b[43m \u001b[49m\u001b[43mverbose\u001b[49m\u001b[43m \u001b[49m\u001b[38;5;241;43m=\u001b[39;49m\u001b[43m \u001b[49m\u001b[38;5;28;43;01mTrue\u001b[39;49;00m\u001b[43m)\u001b[49m\n\u001b[1;32m      3\u001b[0m linear_gcs_traj \u001b[38;5;241m=\u001b[39m make_traj(GCS_path, speed \u001b[38;5;241m=\u001b[39m \u001b[38;5;241m2\u001b[39m)\n\u001b[1;32m      4\u001b[0m \u001b[38;5;28mprint\u001b[39m(\u001b[38;5;124mf\u001b[39m\u001b[38;5;124m\"\u001b[39m\u001b[38;5;124mLinear GCS length: \u001b[39m\u001b[38;5;132;01m{\u001b[39;00m\u001b[38;5;28mround\u001b[39m(get_traj_length(linear_gcs_traj), \u001b[38;5;241m3\u001b[39m)\u001b[38;5;132;01m}\u001b[39;00m\u001b[38;5;124m, and time: \u001b[39m\u001b[38;5;132;01m{\u001b[39;00m\u001b[38;5;28mround\u001b[39m(GCS_time, \u001b[38;5;241m3\u001b[39m)\u001b[38;5;132;01m}\u001b[39;00m\u001b[38;5;124m s\u001b[39m\u001b[38;5;124m\"\u001b[39m)\n",
      "Input \u001b[0;32mIn [107]\u001b[0m, in \u001b[0;36mgetGCSPath\u001b[0;34m(sequence, verbose)\u001b[0m\n\u001b[1;32m      3\u001b[0m run_time \u001b[38;5;241m=\u001b[39m \u001b[38;5;241m0.0\u001b[39m\n\u001b[1;32m      4\u001b[0m \u001b[38;5;28;01mfor\u001b[39;00m start_pt, goal_pt \u001b[38;5;129;01min\u001b[39;00m \u001b[38;5;28mzip\u001b[39m(sequence[:\u001b[38;5;241m-\u001b[39m\u001b[38;5;241m1\u001b[39m], sequence[\u001b[38;5;241m1\u001b[39m:]):\n\u001b[0;32m----> 5\u001b[0m     gcs \u001b[38;5;241m=\u001b[39m \u001b[43mLinearGCS\u001b[49m\u001b[43m(\u001b[49m\u001b[43mregions\u001b[49m\u001b[38;5;241;43m.\u001b[39;49m\u001b[43mcopy\u001b[49m\u001b[43m(\u001b[49m\u001b[43m)\u001b[49m\u001b[43m)\u001b[49m\n\u001b[1;32m      6\u001b[0m     gcs\u001b[38;5;241m.\u001b[39maddSourceTarget(start_pt, goal_pt)\n\u001b[1;32m      7\u001b[0m     gcs\u001b[38;5;241m.\u001b[39msetRoundingStrategy(randomForwardPathSearch, max_paths \u001b[38;5;241m=\u001b[39m \u001b[38;5;241m10\u001b[39m, max_trials \u001b[38;5;241m=\u001b[39m \u001b[38;5;241m100\u001b[39m, seed \u001b[38;5;241m=\u001b[39m SEED)\n",
      "File \u001b[0;32m~/gcs/gcs/linear.py:37\u001b[0m, in \u001b[0;36mLinearGCS.__init__\u001b[0;34m(self, regions, edges, path_weights, full_dim_overlap)\u001b[0m\n\u001b[1;32m     35\u001b[0m         edges \u001b[38;5;241m=\u001b[39m \u001b[38;5;28mself\u001b[39m\u001b[38;5;241m.\u001b[39mfindEdgesViaFullDimensionOverlaps()\n\u001b[1;32m     36\u001b[0m     \u001b[38;5;28;01melse\u001b[39;00m:\n\u001b[0;32m---> 37\u001b[0m         edges \u001b[38;5;241m=\u001b[39m \u001b[38;5;28;43mself\u001b[39;49m\u001b[38;5;241;43m.\u001b[39;49m\u001b[43mfindEdgesViaOverlaps\u001b[49m\u001b[43m(\u001b[49m\u001b[43m)\u001b[49m\n\u001b[1;32m     39\u001b[0m vertices \u001b[38;5;241m=\u001b[39m \u001b[38;5;28mself\u001b[39m\u001b[38;5;241m.\u001b[39mgcs\u001b[38;5;241m.\u001b[39mVertices()\n\u001b[1;32m     40\u001b[0m \u001b[38;5;28;01mfor\u001b[39;00m ii, jj \u001b[38;5;129;01min\u001b[39;00m edges:\n",
      "File \u001b[0;32m~/gcs/gcs/base.py:125\u001b[0m, in \u001b[0;36mBaseGCS.findEdgesViaOverlaps\u001b[0;34m(self)\u001b[0m\n\u001b[1;32m    123\u001b[0m \u001b[38;5;28;01mfor\u001b[39;00m ii \u001b[38;5;129;01min\u001b[39;00m \u001b[38;5;28mrange\u001b[39m(\u001b[38;5;28mlen\u001b[39m(\u001b[38;5;28mself\u001b[39m\u001b[38;5;241m.\u001b[39mregions)):\n\u001b[1;32m    124\u001b[0m     \u001b[38;5;28;01mfor\u001b[39;00m jj \u001b[38;5;129;01min\u001b[39;00m \u001b[38;5;28mrange\u001b[39m(ii \u001b[38;5;241m+\u001b[39m \u001b[38;5;241m1\u001b[39m, \u001b[38;5;28mlen\u001b[39m(\u001b[38;5;28mself\u001b[39m\u001b[38;5;241m.\u001b[39mregions)):\n\u001b[0;32m--> 125\u001b[0m         \u001b[38;5;28;01mif\u001b[39;00m \u001b[38;5;28;43mself\u001b[39;49m\u001b[38;5;241;43m.\u001b[39;49m\u001b[43mregions\u001b[49m\u001b[43m[\u001b[49m\u001b[43mii\u001b[49m\u001b[43m]\u001b[49m\u001b[38;5;241;43m.\u001b[39;49m\u001b[43mIntersectsWith\u001b[49m\u001b[43m(\u001b[49m\u001b[38;5;28;43mself\u001b[39;49m\u001b[38;5;241;43m.\u001b[39;49m\u001b[43mregions\u001b[49m\u001b[43m[\u001b[49m\u001b[43mjj\u001b[49m\u001b[43m]\u001b[49m\u001b[43m)\u001b[49m:\n\u001b[1;32m    126\u001b[0m             edges\u001b[38;5;241m.\u001b[39mappend((ii, jj))\n\u001b[1;32m    127\u001b[0m             edges\u001b[38;5;241m.\u001b[39mappend((jj, ii))\n",
      "\u001b[0;31mRuntimeError\u001b[0m: Could not acquire MOSEK license."
     ]
    }
   ],
   "source": [
    "execute_demo = demo_d\n",
    "GCS_path, GCS_time = getGCSPath(execute_demo, verbose = True)\n",
    "linear_gcs_traj = make_traj(GCS_path, speed = 2)\n",
    "print(f\"Linear GCS length: {round(get_traj_length(linear_gcs_traj), 3)}, and time: {round(GCS_time, 3)} s\")\n",
    "\n",
    "# PRM_path, PRM_time = prm.getPath(execute_demo, verbose = True)\n",
    "# prm_traj = make_traj(PRM_path, speed = 2)\n",
    "# print(f\"PRM length: {round(get_traj_length(prm_traj), 3)}, and time: {round(PRM_time, 3)} s\")\n",
    "\n",
    "# sPRM_path, sPRM_time = prm.getPath(execute_demo, path_processing = shortcut)\n",
    "# sprm_traj = make_traj(sPRM_path, speed = 2)\n",
    "# print(f\"Smoothed PRM length: {round(get_traj_length(sprm_traj), 3)}, and time: {round(sPRM_time, 3)} s\")\n"
   ]
  },
  {
   "cell_type": "code",
   "execution_count": 69,
   "metadata": {},
   "outputs": [
    {
     "name": "stdout",
     "output_type": "stream",
     "text": [
      "> \u001b[0;32m/var/folders/p0/l4__0wtd3j184sv9zspd0qlm0000gn/T/ipykernel_29450/2423713009.py\u001b[0m(1)\u001b[0;36m<cell line: 1>\u001b[0;34m()\u001b[0m\n",
      "\u001b[0;32m----> 1 \u001b[0;31m\u001b[0mprint\u001b[0m\u001b[0;34m(\u001b[0m\u001b[0mgcs\u001b[0m\u001b[0;34m.\u001b[0m\u001b[0mgcs\u001b[0m\u001b[0;34m.\u001b[0m\u001b[0mvertices\u001b[0m\u001b[0;34m)\u001b[0m\u001b[0;34m\u001b[0m\u001b[0;34m\u001b[0m\u001b[0m\n",
      "\u001b[0m\n",
      "ipdb> \n"
     ]
    }
   ],
   "source": [
    "%debug"
   ]
  },
  {
   "cell_type": "code",
   "execution_count": 44,
   "metadata": {
    "scrolled": true
   },
   "outputs": [
    {
     "ename": "NameError",
     "evalue": "name 'sprm_traj' is not defined",
     "output_type": "error",
     "traceback": [
      "\u001b[0;31m---------------------------------------------------------------------------\u001b[0m",
      "\u001b[0;31mNameError\u001b[0m                                 Traceback (most recent call last)",
      "Input \u001b[0;32mIn [44]\u001b[0m, in \u001b[0;36m<cell line: 1>\u001b[0;34m()\u001b[0m\n\u001b[0;32m----> 1\u001b[0m is_traj_confined(\u001b[43msprm_traj\u001b[49m, regions)\n",
      "\u001b[0;31mNameError\u001b[0m: name 'sprm_traj' is not defined"
     ]
    }
   ],
   "source": [
    "is_traj_confined(sprm_traj, regions)"
   ]
  },
  {
   "cell_type": "code",
   "execution_count": 45,
   "metadata": {},
   "outputs": [
    {
     "ename": "NameError",
     "evalue": "name 'linear_gcs_traj' is not defined",
     "output_type": "error",
     "traceback": [
      "\u001b[0;31m---------------------------------------------------------------------------\u001b[0m",
      "\u001b[0;31mNameError\u001b[0m                                 Traceback (most recent call last)",
      "Input \u001b[0;32mIn [45]\u001b[0m, in \u001b[0;36m<cell line: 1>\u001b[0;34m()\u001b[0m\n\u001b[1;32m      1\u001b[0m visualize_trajectory(meshcat,\n\u001b[0;32m----> 2\u001b[0m                      [\u001b[43mlinear_gcs_traj\u001b[49m,prm_traj,sprm_traj],\n\u001b[1;32m      3\u001b[0m                      show_line \u001b[38;5;241m=\u001b[39m \u001b[38;5;28;01mTrue\u001b[39;00m,\n\u001b[1;32m      4\u001b[0m                      iiwa_ghosts \u001b[38;5;241m=\u001b[39m execute_demo,\n\u001b[1;32m      5\u001b[0m                      alpha \u001b[38;5;241m=\u001b[39m  \u001b[38;5;241m0.3\u001b[39m,\n\u001b[1;32m      6\u001b[0m                      regions \u001b[38;5;241m=\u001b[39m [])\n",
      "\u001b[0;31mNameError\u001b[0m: name 'linear_gcs_traj' is not defined"
     ]
    }
   ],
   "source": [
    "visualize_trajectory(meshcat,\n",
    "                     [linear_gcs_traj,prm_traj,sprm_traj],\n",
    "                     show_line = True,\n",
    "                     iiwa_ghosts = execute_demo,\n",
    "                     alpha =  0.3,\n",
    "                     regions = [])\n"
   ]
  },
  {
   "cell_type": "code",
   "execution_count": 46,
   "metadata": {},
   "outputs": [],
   "source": [
    "with open (\"GCS_PRM15k_comparison.html\", \"w\") as f:\n",
    "    f.write(meshcat.StaticHtml())"
   ]
  },
  {
   "cell_type": "markdown",
   "metadata": {},
   "source": [
    "## Comparison Table for Paper\n"
   ]
  },
  {
   "cell_type": "code",
   "execution_count": null,
   "metadata": {},
   "outputs": [],
   "source": [
    "demos_for_paper = [demo_a, demo_b, demo_c, demo_d, demo_e]\n",
    "\n",
    "proposed_planner_data = []\n",
    "PRM_data = []\n",
    "sPRM_data = []\n",
    "\n",
    "N = 10 # We ran this 100 in the paper \n",
    "for _ in range(N):\n",
    "    #extract trajectory and time \n",
    "    trajectories = map(lambda d:[getGCSPath(d),prm.getPath(d),prm.getPath(d, path_processing = shortcut)], demos_for_paper)\n",
    "    #get length of trajectory\n",
    "    length_time_list = map(lambda traj_time: [[get_traj_length(make_traj(trj)), t] for trj, t in traj_time], trajectories)\n",
    "    #flatten for pandas\n",
    "    length_time_list = np.array(list(length_time_list))\n",
    "    \n",
    "    proposed_planner_data.append(length_time_list[:,0].flatten())\n",
    "    PRM_data.append(length_time_list[:,1].flatten())\n",
    "    sPRM_data.append(length_time_list[:,2].flatten())\n",
    "    \n",
    "proposed_planner_data = np.mean(proposed_planner_data, axis = 0)\n",
    "PRM_data = np.mean(PRM_data, axis = 0)\n",
    "sPRM_data = np.mean(sPRM_data, axis = 0)"
   ]
  },
  {
   "cell_type": "code",
   "execution_count": null,
   "metadata": {},
   "outputs": [],
   "source": [
    "cols = {\"Proposed Planner\":proposed_planner_data,\n",
    "        \"Regular PRM\":PRM_data,\n",
    "        \"Shortcut PRM\":sPRM_data}\n",
    "\n",
    "index = pd.MultiIndex.from_tuples([('q1-q2', 'length (rad)'), ('q1-q2', 'runtime (s)'),\n",
    "                                    ('q2-q3', 'length (rad)'), ('q2-q3', 'runtime (s)'),\n",
    "                                    ('q3-q4', 'length (rad)'), ('q3-q4', 'runtime (s)'),\n",
    "                                    ('q4-q5', 'length (rad)'), ('q4-q5', 'runtime (s)'),\n",
    "                                    ('q5-q1', 'length (rad)'), ('q5-q1', 'runtime (s)'),], names=[\"Task\", \"\"])\n",
    "df = pd.DataFrame(data = cols, index=index)"
   ]
  },
  {
   "cell_type": "code",
   "execution_count": null,
   "metadata": {},
   "outputs": [],
   "source": [
    "df.round(2)"
   ]
  },
  {
   "cell_type": "markdown",
   "metadata": {},
   "source": [
    "## Debug\n",
    "When playing with the demonstration points, use this to understand where PRM fails and where the regions to include the configurations"
   ]
  },
  {
   "cell_type": "code",
   "execution_count": null,
   "metadata": {},
   "outputs": [],
   "source": [
    "for k,v in {name: InverseKinematics(q0, trans, rot) for name, (trans, rot) in demonstration.items()}.items():\n",
    "    print(k, regions[k].PointInSet(v), not prm.getPath([q0, v]) is None)"
   ]
  },
  {
   "cell_type": "code",
   "execution_count": null,
   "metadata": {},
   "outputs": [],
   "source": []
  }
 ],
 "metadata": {
  "kernelspec": {
   "display_name": "gomp-gcs",
   "language": "python",
   "name": "gomp-gcs"
  },
  "language_info": {
   "codemirror_mode": {
    "name": "ipython",
    "version": 3
   },
   "file_extension": ".py",
   "mimetype": "text/x-python",
   "name": "python",
   "nbconvert_exporter": "python",
   "pygments_lexer": "ipython3",
   "version": "3.9.13"
  }
 },
 "nbformat": 4,
 "nbformat_minor": 2
}

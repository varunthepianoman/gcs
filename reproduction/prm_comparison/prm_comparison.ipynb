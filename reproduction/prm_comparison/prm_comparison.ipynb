{
 "cells": [
  {
   "cell_type": "code",
   "execution_count": 11,
   "metadata": {
    "pycharm": {
     "name": "#%%\n"
    }
   },
   "outputs": [
    {
     "data": {
      "text/plain": [
       "['/Users/varun/gcs/reproduction/prm_comparison',\n",
       " '/usr/local/Cellar/python@3.9/3.9.13_1/Frameworks/Python.framework/Versions/3.9/lib/python39.zip',\n",
       " '/usr/local/Cellar/python@3.9/3.9.13_1/Frameworks/Python.framework/Versions/3.9/lib/python3.9',\n",
       " '/usr/local/Cellar/python@3.9/3.9.13_1/Frameworks/Python.framework/Versions/3.9/lib/python3.9/lib-dynload',\n",
       " '',\n",
       " '/Users/varun/Documents/virtualenvs/gomp-gcs/lib/python3.9/site-packages',\n",
       " '/Users/varun/gcs',\n",
       " '/usr/local/opt/python-tk@3.9/libexec']"
      ]
     },
     "execution_count": 11,
     "metadata": {},
     "output_type": "execute_result"
    }
   ],
   "source": [
    "import sys\n",
    "sys.path"
   ]
  },
  {
   "cell_type": "code",
   "execution_count": 12,
   "metadata": {
    "pycharm": {
     "name": "#%%\n"
    }
   },
   "outputs": [
    {
     "name": "stdout",
     "output_type": "stream",
     "text": [
      "The autoreload extension is already loaded. To reload it, use:\n",
      "  %reload_ext autoreload\n",
      "True\n"
     ]
    }
   ],
   "source": [
    "%load_ext autoreload\n",
    "%autoreload 2\n",
    "import os\n",
    "import time\n",
    "import pickle\n",
    "import numpy as np\n",
    "import pandas as pd\n",
    "import multiprocess as mp\n",
    "from IPython.display import HTML, SVG\n",
    "\n",
    "from pydrake.geometry import MeshcatVisualizerCpp, MeshcatVisualizerParams, Role, StartMeshcat\n",
    "from pydrake.geometry.optimization import IrisInConfigurationSpace, IrisOptions\n",
    "from pydrake.multibody.parsing import LoadModelDirectives, Parser, ProcessModelDirectives\n",
    "from pydrake.multibody.plant import AddMultibodyPlantSceneGraph\n",
    "# from pydrake.solvers.gurobi import GurobiSolver\n",
    "from pydrake.solvers.mosek import MosekSolver\n",
    "# from pydrake.solvers import MathematicalProgram\n",
    "from pydrake.solvers.snopt import SnoptSolver\n",
    "from pydrake.systems.framework import DiagramBuilder\n",
    "# from pydrake.planning.common_robotics_utilities import SimpleRRTPlannerState\n",
    "\n",
    "\n",
    "from gcs.linear import LinearGCS\n",
    "from gcs.rounding import randomForwardPathSearch\n",
    "from reproduction.prm_comparison.planning import PRM, BiRRT\n",
    "from reproduction.prm_comparison.helpers import (\n",
    "    ForwardKinematics,\n",
    "    get_traj_length,\n",
    "    InverseKinematics,\n",
    "    is_traj_confined,\n",
    "    make_traj,\n",
    "    visualize_trajectory,\n",
    ")\n",
    "from reproduction.util import *\n",
    "\n",
    "# GurobiSolver.AcquireLicense()\n",
    "os.environ['MOSEKLM_LICENSE_FILE'] = '/Users/varun/mosek/mosek.lic'\n",
    "MosekSolver.AcquireLicense()\n",
    "\n",
    "print(MosekSolver().available())"
   ]
  },
  {
   "cell_type": "code",
   "execution_count": 13,
   "metadata": {
    "pycharm": {
     "name": "#%%\n"
    }
   },
   "outputs": [
    {
     "name": "stderr",
     "output_type": "stream",
     "text": [
      "INFO:drake:Meshcat listening for connections at http://localhost:7001\n"
     ]
    }
   ],
   "source": [
    "# Start the visualizer (run this cell only once, each instance consumes a port)\n",
    "meshcat = StartMeshcat()"
   ]
  },
  {
   "cell_type": "code",
   "execution_count": 14,
   "metadata": {
    "pycharm": {
     "name": "#%%\n"
    }
   },
   "outputs": [],
   "source": [
    "SEED = 17\n",
    "np.random.seed(SEED)"
   ]
  },
  {
   "cell_type": "code",
   "execution_count": 16,
   "metadata": {
    "pycharm": {
     "name": "#%%\n"
    }
   },
   "outputs": [
    {
     "name": "stderr",
     "output_type": "stream",
     "text": [
      "/var/folders/p0/l4__0wtd3j184sv9zspd0qlm0000gn/T/ipykernel_4961/1353813250.py:18: DrakeDeprecationWarning: MeshcatVisualizerCpp has been renamed to MeshcatVisualizer. The deprecated code will be removed from Drake on or after 2022-11-01.\n",
      "  meshcat_cpp = MeshcatVisualizerCpp.AddToBuilder(builder, scene_graph, meshcat, meshcat_params)\n"
     ]
    }
   ],
   "source": [
    "builder = DiagramBuilder()\n",
    "plant, scene_graph = AddMultibodyPlantSceneGraph(builder, time_step=0.0)\n",
    "parser = Parser(plant)\n",
    "parser.package_map().Add(\"gcs\", GcsDir())\n",
    "\n",
    "directives_file = FindModelFile(\"models/iiwa14_spheres_collision_welded_gripper.yaml\")\n",
    "directives = LoadModelDirectives(directives_file)\n",
    "models = ProcessModelDirectives(directives, plant, parser)\n",
    "[iiwa, wsg, binR, binL, table] =  models\n",
    " \n",
    "\n",
    "plant.Finalize()\n",
    "\n",
    "meshcat_params = MeshcatVisualizerParams()\n",
    "meshcat_params.delete_on_initialization_event = False\n",
    "meshcat_params.role = Role.kIllustration\n",
    "# meshcat_params.role = Role.kProximity\n",
    "meshcat_cpp = MeshcatVisualizerCpp.AddToBuilder(builder, scene_graph, meshcat, meshcat_params)\n",
    "\n",
    "diagram = builder.Build()\n",
    "\n",
    "context = diagram.CreateDefaultContext()\n",
    "#plant_context = plant.GetMyContextFromRoot(context)\n",
    "plant_context = plant.GetMyMutableContextFromRoot(context)\n",
    "q0 =[0, 0.3, 0, -1.8, 0, 1, 1.57]\n",
    "plant.SetPositions(plant_context, q0)\n",
    "diagram.Publish(context)"
   ]
  },
  {
   "cell_type": "markdown",
   "metadata": {
    "pycharm": {
     "name": "#%% md\n"
    }
   },
   "source": [
    "# Generate Iris Regions\n",
    "### via manual seeds"
   ]
  },
  {
   "cell_type": "code",
   "execution_count": 17,
   "metadata": {
    "pycharm": {
     "name": "#%%\n"
    }
   },
   "outputs": [],
   "source": [
    "milestones =  {\"Above Shelve\": [[0.75, 0, 0.9],    [0, -np.pi, -np.pi/2]],   \n",
    "                \"Top Rack\":    [[0.75, 0, 0.67],   [0, -np.pi, -np.pi/2]],   \n",
    "                \"Middle Rack\": [[0.75, 0, 0.41],   [0, -np.pi, -np.pi/2]],       \n",
    "                \"Left Bin\":    [[0.0,  0.6, 0.22], [np.pi/2, np.pi, 0]], \n",
    "                \"Right Bin\":   [[0.0, -0.6, 0.22], [np.pi/2, np.pi, np.pi]]}\n",
    "\n",
    "\n",
    "additional_seed_points = {\"Front to Shelve\":np.array([0, 0.2, 0, -2.09, 0, -0.3, np.pi/2]), \n",
    "                          \"Left to Shelve\": np.array([0.8, 0.7, 0, -1.6, 0, 0, np.pi/2]),\n",
    "                          \"Right to Shelve\":np.array([-0.8, 0.7, 0, -1.6, 0, 0, np.pi/2])} \n",
    "\n",
    "q0 =[0, 0.3, 0, -1.8, 0, 1, 1.57]\n",
    "milestone_configurations =  {name: InverseKinematics(q0, trans, rot) for name, (trans, rot) in milestones.items()}\n",
    "\n",
    "seed_points = {**milestone_configurations, **additional_seed_points}"
   ]
  },
  {
   "cell_type": "code",
   "execution_count": 18,
   "metadata": {
    "pycharm": {
     "name": "#%%\n"
    }
   },
   "outputs": [
    {
     "name": "stdout",
     "output_type": "stream",
     "text": [
      "<class 'dict'>\n"
     ]
    }
   ],
   "source": [
    "print(type(seed_points))"
   ]
  },
  {
   "cell_type": "code",
   "execution_count": 19,
   "metadata": {
    "pycharm": {
     "name": "#%%\n"
    }
   },
   "outputs": [],
   "source": [
    "iris_options = IrisOptions()\n",
    "iris_options.require_sample_point_is_contained = True\n",
    "iris_options.iteration_limit = 10\n",
    "iris_options.termination_threshold = -1\n",
    "iris_options.relative_termination_threshold = 0.01\n",
    "iris_options.enable_ibex = False\n",
    "CORE_CNT = mp.cpu_count() # you may edit this"
   ]
  },
  {
   "cell_type": "code",
   "execution_count": 20,
   "metadata": {
    "pycharm": {
     "name": "#%%\n"
    }
   },
   "outputs": [],
   "source": [
    "def calcRegion(seed, verbose):\n",
    "    start_time = time.time()\n",
    "    context = diagram.CreateDefaultContext()\n",
    "    plant_context = plant.GetMyContextFromRoot(context)\n",
    "    plant.SetPositions(plant_context, seed)\n",
    "    hpoly = IrisInConfigurationSpace(plant, plant_context, iris_options)\n",
    "    print(\"Seed:\", seed, \"\\tTime:\", time.time() - start_time, flush=True)\n",
    "    return hpoly"
   ]
  },
  {
   "cell_type": "code",
   "execution_count": 21,
   "metadata": {
    "pycharm": {
     "name": "#%%\n"
    }
   },
   "outputs": [],
   "source": [
    "def generateRegions(seed_points, verbose = True):\n",
    "    seeds = list(seed_points.values()) if type(seed_points) is dict else seed_points\n",
    "    regions = []\n",
    "    loop_time = time.time()\n",
    "    with mp.Pool(processes = CORE_CNT) as pool:\n",
    "        regions = pool.starmap(calcRegion, [[seed, verbose] for seed in seeds])\n",
    "#     regions = [calcRegion(seed, verbose) for seed in seeds]\n",
    "\n",
    "    \n",
    "    if verbose:\n",
    "        print(\"Loop time:\", time.time() - loop_time)\n",
    "    \n",
    "    if type(seed_points) is dict:\n",
    "        return dict(list(zip(seed_points.keys(), regions)))\n",
    "    \n",
    "    return regions"
   ]
  },
  {
   "cell_type": "code",
   "execution_count": 22,
   "metadata": {
    "pycharm": {
     "name": "#%%\n"
    }
   },
   "outputs": [
    {
     "name": "stdout",
     "output_type": "stream",
     "text": [
      "Seed: [ 6.41950821e-05  4.71953264e-01 -1.49318242e-04 -6.71673454e-01\n",
      "  1.85368193e-04  4.26169599e-01  1.57069215e+00] \tTime: 75.53762984275818\n",
      "Seed: [-1.55038457e-04  3.97272587e-01  2.19576109e-04 -1.36747559e+00\n",
      "  2.47152850e-04 -1.92951824e-01  1.57046879e+00] \tTime: 68.16760182380676\n",
      "Seed: [-1.75984695e-04  6.83027947e-01  2.44995700e-04 -1.64782293e+00\n",
      "  2.09087139e-05 -7.59054535e-01  1.57062627e+00] \tTime: 81.10459804534912\n",
      "Seed: [ 1.33266562  0.78659315  0.36233843 -1.49165291 -0.31925088  0.92173247\n",
      "  1.79119041] \tTime: 49.54414510726929\n",
      "Seed: [-1.33246236  0.78664776 -0.36265619 -1.49165281  0.31953404  0.92178332\n",
      "  1.350209  ] \tTime: 39.54574012756348\n",
      "Seed: [ 0.          0.2         0.         -2.09        0.         -0.3\n",
      "  1.57079633] \tTime: 90.3114709854126\n",
      "Seed: [ 0.8         0.7         0.         -1.6         0.          0.\n",
      "  1.57079633] \tTime: 15.0728440284729\n",
      "Seed: [-0.8         0.7         0.         -1.6         0.          0.\n",
      "  1.57079633] \tTime: 81.88872981071472\n",
      "Loop time: 501.28769421577454\n"
     ]
    }
   ],
   "source": [
    "regions = generateRegions(seed_points)"
   ]
  },
  {
   "cell_type": "code",
   "execution_count": 23,
   "metadata": {
    "pycharm": {
     "name": "#%%\n"
    }
   },
   "outputs": [
    {
     "name": "stdout",
     "output_type": "stream",
     "text": [
      "{'Above Shelve': <pydrake.geometry.optimization.HPolyhedron object at 0x13c9dcaf0>, 'Top Rack': <pydrake.geometry.optimization.HPolyhedron object at 0x13ce03ab0>, 'Middle Rack': <pydrake.geometry.optimization.HPolyhedron object at 0x13ce03e70>, 'Left Bin': <pydrake.geometry.optimization.HPolyhedron object at 0x14df91230>, 'Right Bin': <pydrake.geometry.optimization.HPolyhedron object at 0x13c93cb30>, 'Front to Shelve': <pydrake.geometry.optimization.HPolyhedron object at 0x13c93cf30>, 'Left to Shelve': <pydrake.geometry.optimization.HPolyhedron object at 0x13ce14cb0>, 'Right to Shelve': <pydrake.geometry.optimization.HPolyhedron object at 0x127fd8970>}\n"
     ]
    }
   ],
   "source": [
    "print(regions)"
   ]
  },
  {
   "cell_type": "markdown",
   "metadata": {
    "pycharm": {
     "name": "#%% md\n"
    }
   },
   "source": [
    "## via pre-generated regions"
   ]
  },
  {
   "cell_type": "code",
   "execution_count": null,
   "metadata": {
    "pycharm": {
     "name": "#%%\n"
    }
   },
   "outputs": [],
   "source": [
    "#load regions\n",
    "with open(os.path.join(GcsDir(), \"data/prm_comparison/IRIS.reg\"), \"rb\") as f:\n",
    "    regions = pickle.load(f)"
   ]
  },
  {
   "cell_type": "code",
   "execution_count": 24,
   "metadata": {
    "pycharm": {
     "name": "#%%\n"
    }
   },
   "outputs": [
    {
     "data": {
      "image/svg+xml": [
       "<svg xmlns=\"http://www.w3.org/2000/svg\" xmlns:xlink=\"http://www.w3.org/1999/xlink\" width=\"1666pt\" height=\"653pt\" viewBox=\"0.00 0.00 1666.00 653.00\">\n",
       "<g id=\"graph0\" class=\"graph\" transform=\"scale(1 1) rotate(0) translate(4 649)\">\n",
       "<title>GraphOfConvexSets</title>\n",
       "<polygon fill=\"white\" stroke=\"transparent\" points=\"-4,4 -4,-649 1662,-649 1662,4 -4,4\"/>\n",
       "<!-- v2773 -->\n",
       "<g id=\"node1\" class=\"node\">\n",
       "<title>v2773</title>\n",
       "<ellipse fill=\"none\" stroke=\"black\" cx=\"970\" cy=\"-627\" rx=\"27\" ry=\"18\"/>\n",
       "<text text-anchor=\"middle\" x=\"970\" y=\"-623.3\" font-family=\"Times,serif\" font-size=\"14.00\">q_1</text>\n",
       "</g>\n",
       "<!-- v2774 -->\n",
       "<g id=\"node2\" class=\"node\">\n",
       "<title>v2774</title>\n",
       "<ellipse fill=\"none\" stroke=\"black\" cx=\"710\" cy=\"-540\" rx=\"27\" ry=\"18\"/>\n",
       "<text text-anchor=\"middle\" x=\"710\" y=\"-536.3\" font-family=\"Times,serif\" font-size=\"14.00\">q_2</text>\n",
       "</g>\n",
       "<!-- v2773&#45;&gt;v2774 -->\n",
       "<g id=\"edge1\" class=\"edge\">\n",
       "<title>v2773-&gt;v2774</title>\n",
       "<path fill=\"none\" stroke=\"black\" d=\"M943.18,-624.68C875.68,-621.1 702.91,-610.12 686,-591 678.97,-583.05 682.44,-572.67 688.68,-563.43\"/>\n",
       "<polygon fill=\"black\" stroke=\"black\" points=\"691.58,-565.41 694.96,-555.37 686.06,-561.11 691.58,-565.41\"/>\n",
       "<text text-anchor=\"middle\" x=\"715\" y=\"-579.8\" font-family=\"Times,serif\" font-size=\"14.00\">(q_1, q_2)</text>\n",
       "</g>\n",
       "<!-- v2775 -->\n",
       "<g id=\"node3\" class=\"node\">\n",
       "<title>v2775</title>\n",
       "<ellipse fill=\"none\" stroke=\"black\" cx=\"804\" cy=\"-105\" rx=\"27\" ry=\"18\"/>\n",
       "<text text-anchor=\"middle\" x=\"804\" y=\"-101.3\" font-family=\"Times,serif\" font-size=\"14.00\">q_3</text>\n",
       "</g>\n",
       "<!-- v2773&#45;&gt;v2775 -->\n",
       "<g id=\"edge3\" class=\"edge\">\n",
       "<title>v2773-&gt;v2775</title>\n",
       "<path fill=\"none\" stroke=\"black\" d=\"M990.47,-614.84C995.43,-612.56 1000.8,-610.42 1006,-609 1125.47,-576.28 1180.68,-632.02 1280,-558 1377.33,-485.47 1420,-444.88 1420,-323.5 1420,-323.5 1420,-323.5 1420,-191 1420,-132.2 973.92,-111.92 840.96,-107.18\"/>\n",
       "<polygon fill=\"black\" stroke=\"black\" points=\"840.98,-103.68 830.86,-106.83 840.74,-110.68 840.98,-103.68\"/>\n",
       "<text text-anchor=\"middle\" x=\"1448\" y=\"-362.3\" font-family=\"Times,serif\" font-size=\"14.00\">(q_1, q_3)</text>\n",
       "</g>\n",
       "<!-- v2776 -->\n",
       "<g id=\"node4\" class=\"node\">\n",
       "<title>v2776</title>\n",
       "<ellipse fill=\"none\" stroke=\"black\" cx=\"515\" cy=\"-18\" rx=\"27\" ry=\"18\"/>\n",
       "<text text-anchor=\"middle\" x=\"515\" y=\"-14.3\" font-family=\"Times,serif\" font-size=\"14.00\">q_4</text>\n",
       "</g>\n",
       "<!-- v2773&#45;&gt;v2776 -->\n",
       "<g id=\"edge5\" class=\"edge\">\n",
       "<title>v2773-&gt;v2776</title>\n",
       "<path fill=\"none\" stroke=\"black\" d=\"M942.76,-625.57C804.64,-623.3 185.06,-612.04 102,-591 53.06,-578.61 0,-591.49 0,-541 0,-541 0,-541 0,-104 0,-55.51 360.01,-28.68 478.03,-21.19\"/>\n",
       "<polygon fill=\"black\" stroke=\"black\" points=\"478.27,-24.69 488.04,-20.57 477.84,-17.7 478.27,-24.69\"/>\n",
       "<text text-anchor=\"middle\" x=\"29\" y=\"-318.8\" font-family=\"Times,serif\" font-size=\"14.00\">(q_1, q_4)</text>\n",
       "</g>\n",
       "<!-- v2777 -->\n",
       "<g id=\"node5\" class=\"node\">\n",
       "<title>v2777</title>\n",
       "<ellipse fill=\"none\" stroke=\"black\" cx=\"946\" cy=\"-192\" rx=\"27\" ry=\"18\"/>\n",
       "<text text-anchor=\"middle\" x=\"946\" y=\"-188.3\" font-family=\"Times,serif\" font-size=\"14.00\">q_5</text>\n",
       "</g>\n",
       "<!-- v2773&#45;&gt;v2777 -->\n",
       "<g id=\"edge7\" class=\"edge\">\n",
       "<title>v2773-&gt;v2777</title>\n",
       "<path fill=\"none\" stroke=\"black\" d=\"M990.51,-615C995.47,-612.71 1000.83,-610.53 1006,-609 1062.77,-592.16 1084.74,-616.86 1138,-591 1188.05,-566.7 1202.12,-553.25 1228,-504 1247.76,-466.38 1274.71,-353.63 1257,-315 1210.1,-212.7 1055.62,-195.39 983.59,-193\"/>\n",
       "<polygon fill=\"black\" stroke=\"black\" points=\"983.26,-189.49 973.18,-192.74 983.09,-196.49 983.26,-189.49\"/>\n",
       "<text text-anchor=\"middle\" x=\"1286\" y=\"-405.8\" font-family=\"Times,serif\" font-size=\"14.00\">(q_1, q_5)</text>\n",
       "</g>\n",
       "<!-- v2778 -->\n",
       "<g id=\"node6\" class=\"node\">\n",
       "<title>v2778</title>\n",
       "<ellipse fill=\"none\" stroke=\"black\" cx=\"583\" cy=\"-279\" rx=\"27\" ry=\"18\"/>\n",
       "<text text-anchor=\"middle\" x=\"583\" y=\"-275.3\" font-family=\"Times,serif\" font-size=\"14.00\">q_6</text>\n",
       "</g>\n",
       "<!-- v2773&#45;&gt;v2778 -->\n",
       "<g id=\"edge9\" class=\"edge\">\n",
       "<title>v2773-&gt;v2778</title>\n",
       "<path fill=\"none\" stroke=\"black\" d=\"M942.73,-625.62C801.84,-623.55 161.49,-612.99 126,-591 74.26,-558.94 75.14,-529.95 60,-471 56.02,-455.5 51.61,-448.63 60,-435 114.27,-346.81 176.13,-377.79 268,-330 280.52,-323.49 282.44,-318.92 296,-315 405.15,-283.48 441.79,-328.33 551,-297 552.22,-296.65 553.46,-296.25 554.68,-295.8\"/>\n",
       "<polygon fill=\"black\" stroke=\"black\" points=\"556.14,-298.99 563.92,-291.79 553.35,-292.57 556.14,-298.99\"/>\n",
       "<text text-anchor=\"middle\" x=\"89\" y=\"-449.3\" font-family=\"Times,serif\" font-size=\"14.00\">(q_1, q_6)</text>\n",
       "</g>\n",
       "<!-- v2779 -->\n",
       "<g id=\"node7\" class=\"node\">\n",
       "<title>v2779</title>\n",
       "<ellipse fill=\"none\" stroke=\"black\" cx=\"977\" cy=\"-366\" rx=\"27\" ry=\"18\"/>\n",
       "<text text-anchor=\"middle\" x=\"977\" y=\"-362.3\" font-family=\"Times,serif\" font-size=\"14.00\">q_7</text>\n",
       "</g>\n",
       "<!-- v2773&#45;&gt;v2779 -->\n",
       "<g id=\"edge11\" class=\"edge\">\n",
       "<title>v2773-&gt;v2779</title>\n",
       "<path fill=\"none\" stroke=\"black\" d=\"M990.54,-615.1C995.5,-612.81 1000.85,-610.6 1006,-609 1053.3,-594.28 1075.52,-619.56 1116,-591 1152.08,-565.54 1152.99,-546.77 1164,-504 1177.41,-451.94 1146.36,-427.43 1099,-402 1068.04,-385.37 1055.62,-394.23 1022,-384 1017.87,-382.74 1013.56,-381.3 1009.33,-379.79\"/>\n",
       "<polygon fill=\"black\" stroke=\"black\" points=\"1010.29,-376.42 999.69,-376.24 1007.86,-382.98 1010.29,-376.42\"/>\n",
       "<text text-anchor=\"middle\" x=\"1195\" y=\"-492.8\" font-family=\"Times,serif\" font-size=\"14.00\">(q_1, q_7)</text>\n",
       "</g>\n",
       "<!-- v2780 -->\n",
       "<g id=\"node8\" class=\"node\">\n",
       "<title>v2780</title>\n",
       "<ellipse fill=\"none\" stroke=\"black\" cx=\"650\" cy=\"-453\" rx=\"27\" ry=\"18\"/>\n",
       "<text text-anchor=\"middle\" x=\"650\" y=\"-449.3\" font-family=\"Times,serif\" font-size=\"14.00\">q_8</text>\n",
       "</g>\n",
       "<!-- v2773&#45;&gt;v2780 -->\n",
       "<g id=\"edge13\" class=\"edge\">\n",
       "<title>v2773-&gt;v2780</title>\n",
       "<path fill=\"none\" stroke=\"black\" d=\"M942.82,-625.65C865.85,-623.98 649.79,-614.27 616,-558 600.7,-532.52 616.8,-499.34 631.63,-477.39\"/>\n",
       "<polygon fill=\"black\" stroke=\"black\" points=\"634.65,-479.18 637.61,-469.01 628.95,-475.12 634.65,-479.18\"/>\n",
       "<text text-anchor=\"middle\" x=\"645\" y=\"-536.3\" font-family=\"Times,serif\" font-size=\"14.00\">(q_1, q_8)</text>\n",
       "</g>\n",
       "<!-- v2774&#45;&gt;v2773 -->\n",
       "<g id=\"edge2\" class=\"edge\">\n",
       "<title>v2774-&gt;v2773</title>\n",
       "<path fill=\"none\" stroke=\"black\" d=\"M724.54,-555.4C738.1,-568.52 757.62,-586.52 767,-591 820.85,-616.71 890.74,-623.77 932.89,-625.58\"/>\n",
       "<polygon fill=\"black\" stroke=\"black\" points=\"932.86,-629.08 942.98,-625.93 933.11,-622.08 932.86,-629.08\"/>\n",
       "<text text-anchor=\"middle\" x=\"796\" y=\"-579.8\" font-family=\"Times,serif\" font-size=\"14.00\">(q_2, q_1)</text>\n",
       "</g>\n",
       "<!-- v2774&#45;&gt;v2775 -->\n",
       "<g id=\"edge15\" class=\"edge\">\n",
       "<title>v2774-&gt;v2775</title>\n",
       "<path fill=\"none\" stroke=\"black\" d=\"M690.93,-527.16C686.8,-525.09 682.36,-523.21 678,-522 605.95,-501.99 408.38,-538.43 342,-504 325.43,-495.4 327.52,-485.69 316,-471 263.66,-404.24 152.36,-380.72 206,-315 231.24,-284.07 255.6,-307.91 294,-297 360.95,-277.97 391.88,-292.32 441,-243 475.03,-208.83 440.05,-170.75 478,-141 522.07,-106.45 690.95,-104.33 766.77,-105.2\"/>\n",
       "<polygon fill=\"black\" stroke=\"black\" points=\"766.78,-108.71 776.83,-105.34 766.88,-101.71 766.78,-108.71\"/>\n",
       "<text text-anchor=\"middle\" x=\"235\" y=\"-318.8\" font-family=\"Times,serif\" font-size=\"14.00\">(q_2, q_3)</text>\n",
       "</g>\n",
       "<!-- v2774&#45;&gt;v2776 -->\n",
       "<g id=\"edge17\" class=\"edge\">\n",
       "<title>v2774-&gt;v2776</title>\n",
       "<path fill=\"none\" stroke=\"black\" d=\"M690.94,-527.12C686.81,-525.05 682.37,-523.19 678,-522 632.07,-509.53 290.46,-529.07 250,-504 220.24,-485.56 238.04,-458.4 212,-435 196.59,-421.15 183.08,-432.2 169,-417 139.25,-384.88 138,-367.28 138,-323.5 138,-323.5 138,-323.5 138,-104 138,-34.8 382.75,-21.93 477.84,-19.54\"/>\n",
       "<polygon fill=\"black\" stroke=\"black\" points=\"477.97,-23.04 487.89,-19.32 477.81,-16.04 477.97,-23.04\"/>\n",
       "<text text-anchor=\"middle\" x=\"167\" y=\"-275.3\" font-family=\"Times,serif\" font-size=\"14.00\">(q_2, q_4)</text>\n",
       "</g>\n",
       "<!-- v2774&#45;&gt;v2777 -->\n",
       "<g id=\"edge19\" class=\"edge\">\n",
       "<title>v2774-&gt;v2777</title>\n",
       "<path fill=\"none\" stroke=\"black\" d=\"M736.19,-534.65C759.66,-530.87 795.05,-525.48 826,-522 851.36,-519.15 1034.28,-518.91 1055,-504 1107.04,-466.56 1180.09,-277.21 1139,-228 1119.54,-204.69 1033.55,-196.87 983.15,-194.27\"/>\n",
       "<polygon fill=\"black\" stroke=\"black\" points=\"983.13,-190.77 972.98,-193.8 982.8,-197.76 983.13,-190.77\"/>\n",
       "<text text-anchor=\"middle\" x=\"1167\" y=\"-362.3\" font-family=\"Times,serif\" font-size=\"14.00\">(q_2, q_5)</text>\n",
       "</g>\n",
       "<!-- v2774&#45;&gt;v2778 -->\n",
       "<g id=\"edge21\" class=\"edge\">\n",
       "<title>v2774-&gt;v2778</title>\n",
       "<path fill=\"none\" stroke=\"black\" d=\"M690.93,-527.17C686.8,-525.1 682.36,-523.22 678,-522 610.69,-503.17 424.99,-538.13 364,-504 331.4,-485.76 339.97,-463.65 316,-435 308.74,-426.32 302.33,-427.45 298,-417 295.45,-410.84 296.17,-408.41 298,-402 304.24,-380.12 332.66,-326.99 352,-315 388.05,-292.66 500.84,-307.24 542,-297 545.39,-296.16 548.87,-295.08 552.3,-293.87\"/>\n",
       "<polygon fill=\"black\" stroke=\"black\" points=\"553.64,-297.11 561.71,-290.24 551.12,-290.58 553.64,-297.11\"/>\n",
       "<text text-anchor=\"middle\" x=\"327\" y=\"-405.8\" font-family=\"Times,serif\" font-size=\"14.00\">(q_2, q_6)</text>\n",
       "</g>\n",
       "<!-- v2774&#45;&gt;v2779 -->\n",
       "<g id=\"edge23\" class=\"edge\">\n",
       "<title>v2774-&gt;v2779</title>\n",
       "<path fill=\"none\" stroke=\"black\" d=\"M736.08,-534.86C776.62,-528.21 852.73,-514.8 878,-504 901.81,-493.83 907.94,-489.55 926,-471 945.95,-450.5 948.76,-442.85 961,-417 964.47,-409.67 967.46,-401.39 969.89,-393.71\"/>\n",
       "<polygon fill=\"black\" stroke=\"black\" points=\"973.26,-394.68 972.75,-384.09 966.54,-392.68 973.26,-394.68\"/>\n",
       "<text text-anchor=\"middle\" x=\"981\" y=\"-449.3\" font-family=\"Times,serif\" font-size=\"14.00\">(q_2, q_7)</text>\n",
       "</g>\n",
       "<!-- v2774&#45;&gt;v2780 -->\n",
       "<g id=\"edge25\" class=\"edge\">\n",
       "<title>v2774-&gt;v2780</title>\n",
       "<path fill=\"none\" stroke=\"black\" d=\"M685.06,-532.98C670.04,-527.93 652.11,-519.04 643,-504 638.72,-496.94 638.54,-488.3 640.02,-480.2\"/>\n",
       "<polygon fill=\"black\" stroke=\"black\" points=\"643.44,-480.96 642.6,-470.4 636.67,-479.18 643.44,-480.96\"/>\n",
       "<text text-anchor=\"middle\" x=\"672\" y=\"-492.8\" font-family=\"Times,serif\" font-size=\"14.00\">(q_2, q_8)</text>\n",
       "</g>\n",
       "<!-- v2775&#45;&gt;v2773 -->\n",
       "<g id=\"edge4\" class=\"edge\">\n",
       "<title>v2775-&gt;v2773</title>\n",
       "<path fill=\"none\" stroke=\"black\" d=\"M831.01,-106.87C924.94,-110.02 1236.86,-121.74 1335,-141 1380.51,-149.93 1401.09,-141.32 1434,-174 1512.14,-251.59 1514,-298.38 1514,-408.5 1514,-541 1514,-541 1514,-541 1514,-654.9 1116.13,-579.97 1006,-609 1003.83,-609.57 1001.63,-610.27 999.44,-611.06\"/>\n",
       "<polygon fill=\"black\" stroke=\"black\" points=\"997.97,-607.88 990.07,-614.94 1000.65,-614.35 997.97,-607.88\"/>\n",
       "<text text-anchor=\"middle\" x=\"1542\" y=\"-362.3\" font-family=\"Times,serif\" font-size=\"14.00\">(q_3, q_1)</text>\n",
       "</g>\n",
       "<!-- v2775&#45;&gt;v2774 -->\n",
       "<g id=\"edge16\" class=\"edge\">\n",
       "<title>v2775-&gt;v2774</title>\n",
       "<path fill=\"none\" stroke=\"black\" d=\"M830.97,-106.82C872.93,-108.85 955.8,-116 1021,-141 1146.24,-189.03 1238.12,-255.39 1200,-384 1181.92,-444.99 1176.96,-471.98 1122,-504 1093.53,-520.59 858.77,-518.61 826,-522 799.14,-524.78 768.96,-529.24 746.12,-532.9\"/>\n",
       "<polygon fill=\"black\" stroke=\"black\" points=\"745.49,-529.46 736.18,-534.52 746.61,-536.37 745.49,-529.46\"/>\n",
       "<text text-anchor=\"middle\" x=\"1237\" y=\"-318.8\" font-family=\"Times,serif\" font-size=\"14.00\">(q_3, q_2)</text>\n",
       "</g>\n",
       "<!-- v2775&#45;&gt;v2776 -->\n",
       "<g id=\"edge27\" class=\"edge\">\n",
       "<title>v2775-&gt;v2776</title>\n",
       "<path fill=\"none\" stroke=\"black\" d=\"M779.86,-96.9C728.43,-81.77 607.97,-46.34 548.89,-28.97\"/>\n",
       "<polygon fill=\"black\" stroke=\"black\" points=\"549.86,-25.6 539.28,-26.14 547.88,-32.32 549.86,-25.6\"/>\n",
       "<text text-anchor=\"middle\" x=\"705\" y=\"-57.8\" font-family=\"Times,serif\" font-size=\"14.00\">(q_3, q_4)</text>\n",
       "</g>\n",
       "<!-- v2775&#45;&gt;v2777 -->\n",
       "<g id=\"edge29\" class=\"edge\">\n",
       "<title>v2775-&gt;v2777</title>\n",
       "<path fill=\"none\" stroke=\"black\" d=\"M818.84,-120.49C830.44,-131.26 847.34,-145.81 864,-156 879.27,-165.34 897.48,-173.39 912.86,-179.4\"/>\n",
       "<polygon fill=\"black\" stroke=\"black\" points=\"911.9,-182.78 922.5,-183.05 914.38,-176.24 911.9,-182.78\"/>\n",
       "<text text-anchor=\"middle\" x=\"893\" y=\"-144.8\" font-family=\"Times,serif\" font-size=\"14.00\">(q_3, q_5)</text>\n",
       "</g>\n",
       "<!-- v2775&#45;&gt;v2778 -->\n",
       "<g id=\"edge31\" class=\"edge\">\n",
       "<title>v2775-&gt;v2778</title>\n",
       "<path fill=\"none\" stroke=\"black\" d=\"M778.8,-111.97C732.87,-123.35 638.24,-149.19 616,-174 596.9,-195.31 588.85,-227.69 585.46,-250.65\"/>\n",
       "<polygon fill=\"black\" stroke=\"black\" points=\"581.96,-250.41 584.17,-260.77 588.91,-251.29 581.96,-250.41\"/>\n",
       "<text text-anchor=\"middle\" x=\"645\" y=\"-188.3\" font-family=\"Times,serif\" font-size=\"14.00\">(q_3, q_6)</text>\n",
       "</g>\n",
       "<!-- v2775&#45;&gt;v2779 -->\n",
       "<g id=\"edge33\" class=\"edge\">\n",
       "<title>v2775-&gt;v2779</title>\n",
       "<path fill=\"none\" stroke=\"black\" d=\"M808.82,-122.93C820.02,-159.46 851.11,-246.45 906,-297 919.45,-309.39 929.17,-303.04 943,-315 951.01,-321.93 957.99,-331.17 963.51,-339.82\"/>\n",
       "<polygon fill=\"black\" stroke=\"black\" points=\"960.57,-341.72 968.71,-348.5 966.57,-338.12 960.57,-341.72\"/>\n",
       "<text text-anchor=\"middle\" x=\"890\" y=\"-231.8\" font-family=\"Times,serif\" font-size=\"14.00\">(q_3, q_7)</text>\n",
       "</g>\n",
       "<!-- v2775&#45;&gt;v2780 -->\n",
       "<g id=\"edge35\" class=\"edge\">\n",
       "<title>v2775-&gt;v2780</title>\n",
       "<path fill=\"none\" stroke=\"black\" d=\"M802.28,-123.27C799.17,-145.85 790.67,-185.43 768,-210 754.51,-224.63 743.51,-216.89 727,-228 709.53,-239.75 701.83,-241.88 693,-261 670.03,-310.73 699.62,-331.2 685,-384 680.79,-399.19 672.96,-414.92 665.77,-427.42\"/>\n",
       "<polygon fill=\"black\" stroke=\"black\" points=\"662.59,-425.91 660.46,-436.28 668.6,-429.5 662.59,-425.91\"/>\n",
       "<text text-anchor=\"middle\" x=\"722\" y=\"-275.3\" font-family=\"Times,serif\" font-size=\"14.00\">(q_3, q_8)</text>\n",
       "</g>\n",
       "<!-- v2776&#45;&gt;v2773 -->\n",
       "<g id=\"edge6\" class=\"edge\">\n",
       "<title>v2776-&gt;v2773</title>\n",
       "<path fill=\"none\" stroke=\"black\" d=\"M542.09,-19.66C709.86,-23.94 1600,-49.24 1600,-104 1600,-541 1600,-541 1600,-541 1600,-592.29 1545.79,-578.69 1496,-591 1284.45,-643.32 1217.73,-557.42 1006,-609 1003.82,-609.53 1001.61,-610.2 999.42,-610.97\"/>\n",
       "<polygon fill=\"black\" stroke=\"black\" points=\"997.97,-607.78 990.03,-614.8 1000.61,-614.26 997.97,-607.78\"/>\n",
       "<text text-anchor=\"middle\" x=\"1629\" y=\"-318.8\" font-family=\"Times,serif\" font-size=\"14.00\">(q_4, q_1)</text>\n",
       "</g>\n",
       "<!-- v2776&#45;&gt;v2774 -->\n",
       "<g id=\"edge18\" class=\"edge\">\n",
       "<title>v2776-&gt;v2774</title>\n",
       "<path fill=\"none\" stroke=\"black\" d=\"M488.38,-21.27C417.93,-27.99 232,-50.78 232,-104 232,-236.5 232,-236.5 232,-236.5 232,-275.46 203.61,-277.52 193,-315 184.64,-344.53 178.17,-355.67 190,-384 190.96,-386.3 279.95,-488.69 323,-504 397.42,-530.47 601.86,-500.97 678,-522 679.23,-522.34 680.46,-522.73 681.69,-523.17\"/>\n",
       "<polygon fill=\"black\" stroke=\"black\" points=\"680.37,-526.41 690.94,-527.15 683.14,-519.98 680.37,-526.41\"/>\n",
       "<text text-anchor=\"middle\" x=\"256\" y=\"-275.3\" font-family=\"Times,serif\" font-size=\"14.00\">(q_4, q_2)</text>\n",
       "</g>\n",
       "<!-- v2776&#45;&gt;v2775 -->\n",
       "<g id=\"edge28\" class=\"edge\">\n",
       "<title>v2776-&gt;v2775</title>\n",
       "<path fill=\"none\" stroke=\"black\" d=\"M542.25,-19.05C585.47,-20.05 671.64,-25.79 738,-54 754.12,-60.85 769.85,-72.52 781.91,-82.85\"/>\n",
       "<polygon fill=\"black\" stroke=\"black\" points=\"779.83,-85.69 789.63,-89.72 784.49,-80.46 779.83,-85.69\"/>\n",
       "<text text-anchor=\"middle\" x=\"792\" y=\"-57.8\" font-family=\"Times,serif\" font-size=\"14.00\">(q_4, q_3)</text>\n",
       "</g>\n",
       "<!-- v2776&#45;&gt;v2778 -->\n",
       "<g id=\"edge37\" class=\"edge\">\n",
       "<title>v2776-&gt;v2778</title>\n",
       "<path fill=\"none\" stroke=\"black\" d=\"M519.48,-36.06C531.05,-80.12 562,-198.03 575.98,-251.26\"/>\n",
       "<polygon fill=\"black\" stroke=\"black\" points=\"572.61,-252.22 578.54,-261.01 579.38,-250.45 572.61,-252.22\"/>\n",
       "<text text-anchor=\"middle\" x=\"579\" y=\"-144.8\" font-family=\"Times,serif\" font-size=\"14.00\">(q_4, q_6)</text>\n",
       "</g>\n",
       "<!-- v2776&#45;&gt;v2779 -->\n",
       "<g id=\"edge39\" class=\"edge\">\n",
       "<title>v2776-&gt;v2779</title>\n",
       "<path fill=\"none\" stroke=\"black\" d=\"M542.28,-19.47C672.35,-21.81 1224.48,-32.98 1254,-54 1355.75,-126.45 1392.24,-238.7 1307,-330 1287.09,-351.33 1073.82,-343.44 1045,-348 1033.89,-349.76 1021.93,-352.46 1011.19,-355.2\"/>\n",
       "<polygon fill=\"black\" stroke=\"black\" points=\"1010.11,-351.87 1001.34,-357.81 1011.9,-358.63 1010.11,-351.87\"/>\n",
       "<text text-anchor=\"middle\" x=\"1383\" y=\"-188.3\" font-family=\"Times,serif\" font-size=\"14.00\">(q_4, q_7)</text>\n",
       "</g>\n",
       "<!-- v2776&#45;&gt;v2780 -->\n",
       "<g id=\"edge41\" class=\"edge\">\n",
       "<title>v2776-&gt;v2780</title>\n",
       "<path fill=\"none\" stroke=\"black\" d=\"M501.72,-33.91C496.91,-39.86 491.75,-46.96 488,-54 447.26,-130.49 427.22,-157.28 440,-243 449.66,-307.8 445.38,-330.36 483,-384 512.7,-426.35 573.63,-442.36 613.11,-448.39\"/>\n",
       "<polygon fill=\"black\" stroke=\"black\" points=\"612.75,-451.87 623.14,-449.78 613.71,-444.94 612.75,-451.87\"/>\n",
       "<text text-anchor=\"middle\" x=\"469\" y=\"-231.8\" font-family=\"Times,serif\" font-size=\"14.00\">(q_4, q_8)</text>\n",
       "</g>\n",
       "<!-- v2777&#45;&gt;v2773 -->\n",
       "<g id=\"edge8\" class=\"edge\">\n",
       "<title>v2777-&gt;v2773</title>\n",
       "<path fill=\"none\" stroke=\"black\" d=\"M972.92,-193.58C1018.45,-195.29 1113.01,-201.96 1188,-228 1279.44,-259.75 1295.83,-308.01 1319,-402 1344.86,-506.93 1267.93,-555.09 1166,-591 1098.51,-614.78 1074.84,-589.46 1006,-609 1004.06,-609.55 1002.08,-610.2 1000.12,-610.91\"/>\n",
       "<polygon fill=\"black\" stroke=\"black\" points=\"998.39,-607.84 990.49,-614.91 1001.07,-614.31 998.39,-607.84\"/>\n",
       "<text text-anchor=\"middle\" x=\"1351\" y=\"-405.8\" font-family=\"Times,serif\" font-size=\"14.00\">(q_5, q_1)</text>\n",
       "</g>\n",
       "<!-- v2777&#45;&gt;v2774 -->\n",
       "<g id=\"edge20\" class=\"edge\">\n",
       "<title>v2777-&gt;v2774</title>\n",
       "<path fill=\"none\" stroke=\"black\" d=\"M969.88,-200.73C995.21,-210.37 1033.88,-229.52 1051,-261 1073.64,-302.63 1046.02,-436.07 1014,-471 995.85,-490.8 822.81,-520.82 746.19,-533.27\"/>\n",
       "<polygon fill=\"black\" stroke=\"black\" points=\"745.36,-529.86 736.05,-534.91 746.48,-536.77 745.36,-529.86\"/>\n",
       "<text text-anchor=\"middle\" x=\"1085\" y=\"-362.3\" font-family=\"Times,serif\" font-size=\"14.00\">(q_5, q_2)</text>\n",
       "</g>\n",
       "<!-- v2777&#45;&gt;v2775 -->\n",
       "<g id=\"edge30\" class=\"edge\">\n",
       "<title>v2777-&gt;v2775</title>\n",
       "<path fill=\"none\" stroke=\"black\" d=\"M941.69,-173.94C938.12,-163.07 931.97,-149.49 922,-141 899.27,-121.63 866.2,-112.98 840.84,-109.11\"/>\n",
       "<polygon fill=\"black\" stroke=\"black\" points=\"841.22,-105.63 830.85,-107.77 840.29,-112.57 841.22,-105.63\"/>\n",
       "<text text-anchor=\"middle\" x=\"962\" y=\"-144.8\" font-family=\"Times,serif\" font-size=\"14.00\">(q_5, q_3)</text>\n",
       "</g>\n",
       "<!-- v2777&#45;&gt;v2778 -->\n",
       "<g id=\"edge43\" class=\"edge\">\n",
       "<title>v2777-&gt;v2778</title>\n",
       "<path fill=\"none\" stroke=\"black\" d=\"M919.66,-196.37C881.32,-201.56 808.04,-212.55 747,-228 726.56,-233.17 722.12,-236.69 702,-243 673.59,-251.91 641.16,-261.4 617.34,-268.25\"/>\n",
       "<polygon fill=\"black\" stroke=\"black\" points=\"616.34,-264.9 607.69,-271.02 618.27,-271.63 616.34,-264.9\"/>\n",
       "<text text-anchor=\"middle\" x=\"776\" y=\"-231.8\" font-family=\"Times,serif\" font-size=\"14.00\">(q_5, q_6)</text>\n",
       "</g>\n",
       "<!-- v2777&#45;&gt;v2779 -->\n",
       "<g id=\"edge45\" class=\"edge\">\n",
       "<title>v2777-&gt;v2779</title>\n",
       "<path fill=\"none\" stroke=\"black\" d=\"M954.95,-209.13C958.02,-214.98 961.35,-221.7 964,-228 979.81,-265.57 986.47,-274.77 993,-315 994.07,-321.58 994.42,-323.49 993,-330 992.33,-333.1 991.35,-336.25 990.21,-339.33\"/>\n",
       "<polygon fill=\"black\" stroke=\"black\" points=\"986.89,-338.2 986.17,-348.77 993.32,-340.96 986.89,-338.2\"/>\n",
       "<text text-anchor=\"middle\" x=\"1018\" y=\"-275.3\" font-family=\"Times,serif\" font-size=\"14.00\">(q_5, q_7)</text>\n",
       "</g>\n",
       "<!-- v2777&#45;&gt;v2780 -->\n",
       "<g id=\"edge47\" class=\"edge\">\n",
       "<title>v2777-&gt;v2780</title>\n",
       "<path fill=\"none\" stroke=\"black\" d=\"M936.59,-209.07C916.66,-243.01 871.26,-319.7 862,-330 819.62,-377.13 804.69,-386.73 749,-417 728.68,-428.05 704.18,-436.74 684.64,-442.7\"/>\n",
       "<polygon fill=\"black\" stroke=\"black\" points=\"683.52,-439.38 674.92,-445.57 685.5,-446.1 683.52,-439.38\"/>\n",
       "<text text-anchor=\"middle\" x=\"900\" y=\"-318.8\" font-family=\"Times,serif\" font-size=\"14.00\">(q_5, q_8)</text>\n",
       "</g>\n",
       "<!-- v2778&#45;&gt;v2773 -->\n",
       "<g id=\"edge10\" class=\"edge\">\n",
       "<title>v2778-&gt;v2773</title>\n",
       "<path fill=\"none\" stroke=\"black\" d=\"M563.91,-291.74C559.78,-293.82 555.35,-295.72 551,-297 458.14,-324.26 420.81,-272.22 334,-315 264.11,-349.44 208.01,-408.1 254,-471 335.86,-582.96 797.9,-616.65 932.94,-624.18\"/>\n",
       "<polygon fill=\"black\" stroke=\"black\" points=\"933,-627.68 943.18,-624.73 933.38,-620.69 933,-627.68\"/>\n",
       "<text text-anchor=\"middle\" x=\"283\" y=\"-449.3\" font-family=\"Times,serif\" font-size=\"14.00\">(q_6, q_1)</text>\n",
       "</g>\n",
       "<!-- v2778&#45;&gt;v2774 -->\n",
       "<g id=\"edge22\" class=\"edge\">\n",
       "<title>v2778-&gt;v2774</title>\n",
       "<path fill=\"none\" stroke=\"black\" d=\"M560.63,-289.18C502.61,-313.64 353.47,-380.97 379,-417 460.44,-531.91 549,-465.47 678,-522 678.86,-522.38 679.72,-522.76 680.59,-523.17\"/>\n",
       "<polygon fill=\"black\" stroke=\"black\" points=\"679.39,-526.48 689.91,-527.74 682.48,-520.19 679.39,-526.48\"/>\n",
       "<text text-anchor=\"middle\" x=\"408\" y=\"-405.8\" font-family=\"Times,serif\" font-size=\"14.00\">(q_6, q_2)</text>\n",
       "</g>\n",
       "<!-- v2778&#45;&gt;v2775 -->\n",
       "<g id=\"edge32\" class=\"edge\">\n",
       "<title>v2778-&gt;v2775</title>\n",
       "<path fill=\"none\" stroke=\"black\" d=\"M592,-261.53C598.7,-250.64 608.79,-236.79 621,-228 641.19,-213.46 652.88,-223.14 674,-210 693.21,-198.05 692.78,-188.68 710,-174 731.54,-155.65 757.74,-136.96 777.01,-123.83\"/>\n",
       "<polygon fill=\"black\" stroke=\"black\" points=\"779,-126.71 785.33,-118.21 775.08,-120.91 779,-126.71\"/>\n",
       "<text text-anchor=\"middle\" x=\"739\" y=\"-188.3\" font-family=\"Times,serif\" font-size=\"14.00\">(q_6, q_3)</text>\n",
       "</g>\n",
       "<!-- v2778&#45;&gt;v2776 -->\n",
       "<g id=\"edge38\" class=\"edge\">\n",
       "<title>v2778-&gt;v2776</title>\n",
       "<path fill=\"none\" stroke=\"black\" d=\"M566.51,-264.32C543.09,-243.7 501.23,-202.13 485,-156 471.62,-117.99 488.08,-71.87 501.39,-44.01\"/>\n",
       "<polygon fill=\"black\" stroke=\"black\" points=\"504.57,-45.47 505.91,-34.96 498.31,-42.34 504.57,-45.47\"/>\n",
       "<text text-anchor=\"middle\" x=\"514\" y=\"-144.8\" font-family=\"Times,serif\" font-size=\"14.00\">(q_6, q_4)</text>\n",
       "</g>\n",
       "<!-- v2778&#45;&gt;v2777 -->\n",
       "<g id=\"edge44\" class=\"edge\">\n",
       "<title>v2778-&gt;v2777</title>\n",
       "<path fill=\"none\" stroke=\"black\" d=\"M597.48,-263.48C611.01,-250.27 630.49,-232.21 640,-228 664.13,-217.31 833.1,-202.29 909.1,-195.98\"/>\n",
       "<polygon fill=\"black\" stroke=\"black\" points=\"909.51,-199.45 919.19,-195.14 908.93,-192.48 909.51,-199.45\"/>\n",
       "<text text-anchor=\"middle\" x=\"669\" y=\"-231.8\" font-family=\"Times,serif\" font-size=\"14.00\">(q_6, q_5)</text>\n",
       "</g>\n",
       "<!-- v2778&#45;&gt;v2779 -->\n",
       "<g id=\"edge49\" class=\"edge\">\n",
       "<title>v2778-&gt;v2779</title>\n",
       "<path fill=\"none\" stroke=\"black\" d=\"M608.47,-285.2C625.79,-288.68 649.24,-293.29 670,-297 719.2,-305.79 734.39,-296.96 781,-315 792.38,-319.41 792.71,-325.37 804,-330 848.91,-348.39 904.46,-357.42 940.3,-361.64\"/>\n",
       "<polygon fill=\"black\" stroke=\"black\" points=\"939.98,-365.12 950.31,-362.75 940.76,-358.17 939.98,-365.12\"/>\n",
       "<text text-anchor=\"middle\" x=\"833\" y=\"-318.8\" font-family=\"Times,serif\" font-size=\"14.00\">(q_6, q_7)</text>\n",
       "</g>\n",
       "<!-- v2778&#45;&gt;v2780 -->\n",
       "<g id=\"edge51\" class=\"edge\">\n",
       "<title>v2778-&gt;v2780</title>\n",
       "<path fill=\"none\" stroke=\"black\" d=\"M568.74,-294.62C550.47,-315.21 523.07,-353.62 540,-384 556.09,-412.87 590.04,-431.02 616,-441.23\"/>\n",
       "<polygon fill=\"black\" stroke=\"black\" points=\"614.91,-444.56 625.5,-444.77 617.35,-438 614.91,-444.56\"/>\n",
       "<text text-anchor=\"middle\" x=\"569\" y=\"-362.3\" font-family=\"Times,serif\" font-size=\"14.00\">(q_6, q_8)</text>\n",
       "</g>\n",
       "<!-- v2779&#45;&gt;v2773 -->\n",
       "<g id=\"edge12\" class=\"edge\">\n",
       "<title>v2779-&gt;v2773</title>\n",
       "<path fill=\"none\" stroke=\"black\" d=\"M994.04,-380.03C1022.25,-403.32 1074.05,-454.31 1058,-504 1045.07,-544.01 1013.6,-581.96 992.02,-604.6\"/>\n",
       "<polygon fill=\"black\" stroke=\"black\" points=\"989.32,-602.35 984.84,-611.95 994.33,-607.24 989.32,-602.35\"/>\n",
       "<text text-anchor=\"middle\" x=\"1089\" y=\"-492.8\" font-family=\"Times,serif\" font-size=\"14.00\">(q_7, q_1)</text>\n",
       "</g>\n",
       "<!-- v2779&#45;&gt;v2774 -->\n",
       "<g id=\"edge24\" class=\"edge\">\n",
       "<title>v2779-&gt;v2774</title>\n",
       "<path fill=\"none\" stroke=\"black\" d=\"M967.55,-383.32C960.3,-394.43 949.28,-408.59 936,-417 908.13,-434.65 893.89,-421.05 864,-435 816.71,-457.07 812.6,-475.32 769,-504 759.35,-510.35 748.54,-516.91 738.84,-522.61\"/>\n",
       "<polygon fill=\"black\" stroke=\"black\" points=\"736.83,-519.73 729.95,-527.78 740.35,-525.78 736.83,-519.73\"/>\n",
       "<text text-anchor=\"middle\" x=\"893\" y=\"-449.3\" font-family=\"Times,serif\" font-size=\"14.00\">(q_7, q_2)</text>\n",
       "</g>\n",
       "<!-- v2779&#45;&gt;v2775 -->\n",
       "<g id=\"edge34\" class=\"edge\">\n",
       "<title>v2779-&gt;v2775</title>\n",
       "<path fill=\"none\" stroke=\"black\" d=\"M996.2,-353.21C1029.85,-330.89 1094.11,-280.06 1074,-228 1055.18,-179.28 1040.65,-166.38 995,-141 946.58,-114.08 881.63,-107.3 841.32,-105.9\"/>\n",
       "<polygon fill=\"black\" stroke=\"black\" points=\"841.22,-102.39 831.13,-105.64 841.04,-109.39 841.22,-102.39\"/>\n",
       "<text text-anchor=\"middle\" x=\"1106\" y=\"-231.8\" font-family=\"Times,serif\" font-size=\"14.00\">(q_7, q_3)</text>\n",
       "</g>\n",
       "<!-- v2779&#45;&gt;v2776 -->\n",
       "<g id=\"edge40\" class=\"edge\">\n",
       "<title>v2779-&gt;v2776</title>\n",
       "<path fill=\"none\" stroke=\"black\" d=\"M1001.35,-357.9C1014.22,-354.4 1030.35,-350.43 1045,-348 1068.65,-344.08 1243.77,-347.64 1260,-330 1318.98,-265.88 1278.07,-192.77 1208,-141 1101.68,-62.45 679.86,-29.52 551.96,-21.21\"/>\n",
       "<polygon fill=\"black\" stroke=\"black\" points=\"552.08,-17.72 541.88,-20.57 551.64,-24.7 552.08,-17.72\"/>\n",
       "<text text-anchor=\"middle\" x=\"1301\" y=\"-188.3\" font-family=\"Times,serif\" font-size=\"14.00\">(q_7, q_4)</text>\n",
       "</g>\n",
       "<!-- v2779&#45;&gt;v2777 -->\n",
       "<g id=\"edge46\" class=\"edge\">\n",
       "<title>v2779-&gt;v2777</title>\n",
       "<path fill=\"none\" stroke=\"black\" d=\"M978.05,-347.87C977.79,-337.26 975.68,-323.98 968,-315 952.1,-296.42 930.19,-316.92 916,-297 906.72,-283.97 909.49,-275.62 916,-261 920.87,-250.08 930.08,-253.39 936,-243 939.92,-236.12 942.32,-227.96 943.78,-220.23\"/>\n",
       "<polygon fill=\"black\" stroke=\"black\" points=\"947.27,-220.55 945.26,-210.15 940.35,-219.54 947.27,-220.55\"/>\n",
       "<text text-anchor=\"middle\" x=\"945\" y=\"-275.3\" font-family=\"Times,serif\" font-size=\"14.00\">(q_7, q_5)</text>\n",
       "</g>\n",
       "<!-- v2779&#45;&gt;v2778 -->\n",
       "<g id=\"edge50\" class=\"edge\">\n",
       "<title>v2779-&gt;v2778</title>\n",
       "<path fill=\"none\" stroke=\"black\" d=\"M949.99,-364.22C880.56,-361.9 697.39,-353.65 642,-330 627.29,-323.72 613.5,-312.46 602.96,-302.22\"/>\n",
       "<polygon fill=\"black\" stroke=\"black\" points=\"605.39,-299.7 595.88,-295.02 600.4,-304.61 605.39,-299.7\"/>\n",
       "<text text-anchor=\"middle\" x=\"671\" y=\"-318.8\" font-family=\"Times,serif\" font-size=\"14.00\">(q_7, q_6)</text>\n",
       "</g>\n",
       "<!-- v2779&#45;&gt;v2780 -->\n",
       "<g id=\"edge53\" class=\"edge\">\n",
       "<title>v2779-&gt;v2780</title>\n",
       "<path fill=\"none\" stroke=\"black\" d=\"M950.16,-368.98C914.16,-372.36 848.78,-381.02 797,-402 785.69,-406.58 785.11,-411.95 774,-417 745.54,-429.93 711.2,-439.17 685.88,-444.9\"/>\n",
       "<polygon fill=\"black\" stroke=\"black\" points=\"684.99,-441.51 675.97,-447.07 686.49,-448.35 684.99,-441.51\"/>\n",
       "<text text-anchor=\"middle\" x=\"826\" y=\"-405.8\" font-family=\"Times,serif\" font-size=\"14.00\">(q_7, q_8)</text>\n",
       "</g>\n",
       "<!-- v2780&#45;&gt;v2773 -->\n",
       "<g id=\"edge14\" class=\"edge\">\n",
       "<title>v2780-&gt;v2773</title>\n",
       "<path fill=\"none\" stroke=\"black\" d=\"M675.45,-459.06C700.13,-464.52 738.25,-474.44 769,-489 837.91,-521.62 909.58,-576.36 945.86,-605.8\"/>\n",
       "<polygon fill=\"black\" stroke=\"black\" points=\"943.93,-608.75 953.88,-612.37 948.36,-603.33 943.93,-608.75\"/>\n",
       "<text text-anchor=\"middle\" x=\"910\" y=\"-536.3\" font-family=\"Times,serif\" font-size=\"14.00\">(q_8, q_1)</text>\n",
       "</g>\n",
       "<!-- v2780&#45;&gt;v2774 -->\n",
       "<g id=\"edge26\" class=\"edge\">\n",
       "<title>v2780-&gt;v2774</title>\n",
       "<path fill=\"none\" stroke=\"black\" d=\"M671.71,-463.83C682.17,-469.67 693.95,-478.09 701,-489 705.28,-495.62 707.67,-503.71 708.96,-511.44\"/>\n",
       "<polygon fill=\"black\" stroke=\"black\" points=\"705.51,-512.05 710.13,-521.58 712.46,-511.25 705.51,-512.05\"/>\n",
       "<text text-anchor=\"middle\" x=\"736\" y=\"-492.8\" font-family=\"Times,serif\" font-size=\"14.00\">(q_8, q_2)</text>\n",
       "</g>\n",
       "<!-- v2780&#45;&gt;v2775 -->\n",
       "<g id=\"edge36\" class=\"edge\">\n",
       "<title>v2780-&gt;v2775</title>\n",
       "<path fill=\"none\" stroke=\"black\" d=\"M623.86,-448.18C601.85,-443.83 570.59,-434.86 549,-417 491.75,-369.66 457.88,-328.45 489,-261 507.18,-221.61 602.87,-157.49 643,-141 683.83,-124.23 733.93,-114.96 767.29,-110.24\"/>\n",
       "<polygon fill=\"black\" stroke=\"black\" points=\"768.06,-113.67 777.5,-108.87 767.12,-106.73 768.06,-113.67\"/>\n",
       "<text text-anchor=\"middle\" x=\"518\" y=\"-275.3\" font-family=\"Times,serif\" font-size=\"14.00\">(q_8, q_3)</text>\n",
       "</g>\n",
       "<!-- v2780&#45;&gt;v2776 -->\n",
       "<g id=\"edge42\" class=\"edge\">\n",
       "<title>v2780-&gt;v2776</title>\n",
       "<path fill=\"none\" stroke=\"black\" d=\"M623.33,-449.91C591.52,-446.55 537.45,-438.02 496,-417 412.44,-374.63 401.15,-333.52 377,-243 354.39,-158.24 443.37,-74.59 489.23,-38.09\"/>\n",
       "<polygon fill=\"black\" stroke=\"black\" points=\"491.52,-40.74 497.26,-31.83 487.22,-35.22 491.52,-40.74\"/>\n",
       "<text text-anchor=\"middle\" x=\"406\" y=\"-231.8\" font-family=\"Times,serif\" font-size=\"14.00\">(q_8, q_4)</text>\n",
       "</g>\n",
       "<!-- v2780&#45;&gt;v2777 -->\n",
       "<g id=\"edge48\" class=\"edge\">\n",
       "<title>v2780-&gt;v2777</title>\n",
       "<path fill=\"none\" stroke=\"black\" d=\"M675.32,-446.5C691.14,-441.61 710.29,-432.72 720,-417 740.33,-384.11 720.07,-368.65 719,-330 718.82,-323.34 715.34,-320.57 719,-315 724.55,-306.56 877.39,-248.29 886,-243 899.26,-234.86 912.69,-223.97 923.47,-214.43\"/>\n",
       "<polygon fill=\"black\" stroke=\"black\" points=\"926.09,-216.78 931.15,-207.47 921.39,-211.59 926.09,-216.78\"/>\n",
       "<text text-anchor=\"middle\" x=\"748\" y=\"-318.8\" font-family=\"Times,serif\" font-size=\"14.00\">(q_8, q_5)</text>\n",
       "</g>\n",
       "<!-- v2780&#45;&gt;v2778 -->\n",
       "<g id=\"edge52\" class=\"edge\">\n",
       "<title>v2780-&gt;v2778</title>\n",
       "<path fill=\"none\" stroke=\"black\" d=\"M643.58,-435.51C631.9,-405.53 607.12,-341.91 593.14,-306.03\"/>\n",
       "<polygon fill=\"black\" stroke=\"black\" points=\"596.39,-304.74 589.5,-296.69 589.87,-307.28 596.39,-304.74\"/>\n",
       "<text text-anchor=\"middle\" x=\"652\" y=\"-362.3\" font-family=\"Times,serif\" font-size=\"14.00\">(q_8, q_6)</text>\n",
       "</g>\n",
       "<!-- v2780&#45;&gt;v2779 -->\n",
       "<g id=\"edge54\" class=\"edge\">\n",
       "<title>v2780-&gt;v2779</title>\n",
       "<path fill=\"none\" stroke=\"black\" d=\"M677.14,-450.87C717.3,-448.43 794.32,-440.78 855,-417 866.36,-412.55 867.06,-407.41 878,-402 898.74,-391.75 923.24,-383.07 942.68,-376.91\"/>\n",
       "<polygon fill=\"black\" stroke=\"black\" points=\"943.81,-380.22 952.34,-373.93 941.75,-373.53 943.81,-380.22\"/>\n",
       "<text text-anchor=\"middle\" x=\"907\" y=\"-405.8\" font-family=\"Times,serif\" font-size=\"14.00\">(q_8, q_7)</text>\n",
       "</g>\n",
       "<!-- \\n -->\n",
       "<g id=\"node9\" class=\"node\">\n",
       "<title>\\n</title>\n",
       "<ellipse fill=\"none\" stroke=\"black\" cx=\"1042\" cy=\"-627\" rx=\"27\" ry=\"18\"/>\n",
       "</g>\n",
       "</g>\n",
       "</svg>"
      ],
      "text/plain": [
       "<IPython.core.display.SVG object>"
      ]
     },
     "execution_count": 24,
     "metadata": {},
     "output_type": "execute_result"
    }
   ],
   "source": [
    "gcs = LinearGCS({f\"q_{i + 1}\":r for i, r in enumerate(regions.values())})\n",
    "# print('regions', regions)\n",
    "SVG(gcs.VisualizeGraph()) "
   ]
  },
  {
   "cell_type": "code",
   "execution_count": null,
   "metadata": {
    "pycharm": {
     "name": "#%%\n"
    }
   },
   "outputs": [],
   "source": [
    "print(len(gcs.gcs.Edges()))\n",
    "# print({f\"q_{i + 1}\":r for i, r in enumerate(regions.values())})"
   ]
  },
  {
   "cell_type": "markdown",
   "metadata": {
    "pycharm": {
     "name": "#%% md\n"
    }
   },
   "source": [
    "# Build PRM"
   ]
  },
  {
   "cell_type": "code",
   "execution_count": null,
   "metadata": {
    "pycharm": {
     "name": "#%%\n"
    }
   },
   "outputs": [],
   "source": [
    "collision_step_size = 0.02\n",
    "K = 5\n",
    "roadmap_size = 15000\n",
    "\n",
    "#initlize with seeds for fairness\n",
    "prm = PRM(plant, diagram, collision_step_size, SEED, K, list(seed_points.values()))"
   ]
  },
  {
   "cell_type": "markdown",
   "metadata": {
    "pycharm": {
     "name": "#%% md\n"
    }
   },
   "source": [
    "### Load Roadmap if you don't want to wait 15 minutes"
   ]
  },
  {
   "cell_type": "code",
   "execution_count": null,
   "metadata": {
    "pycharm": {
     "name": "#%%\n"
    }
   },
   "outputs": [],
   "source": [
    "#TODO use wget here to download th prm map from server\n",
    "prm.load(os.path.join(GcsDir(), \"data/prm_comparison/15k_presplined.rmp\"))"
   ]
  },
  {
   "cell_type": "markdown",
   "metadata": {
    "pycharm": {
     "name": "#%% md\n"
    }
   },
   "source": [
    "### Or Grow it "
   ]
  },
  {
   "cell_type": "code",
   "execution_count": null,
   "metadata": {
    "pycharm": {
     "name": "#%%\n"
    }
   },
   "outputs": [],
   "source": [
    "solve_timeout = 200\n",
    "goal_bias = 0.05\n",
    "step_size = 0.1\n",
    "birrt = BiRRT(plant, diagram, collision_step_size, SEED, step_size, goal_bias, solve_timeout)"
   ]
  },
  {
   "cell_type": "markdown",
   "metadata": {
    "pycharm": {
     "name": "#%% md\n"
    }
   },
   "source": [
    "### Connect via BiRRT first\n",
    "Given the knowledge of the Graph of Convex Sets, we will use BiRRT to connect the edges. All of the nodes of the RRT trees will be added to the PRM map"
   ]
  },
  {
   "cell_type": "code",
   "execution_count": null,
   "metadata": {
    "pycharm": {
     "name": "#%%\n"
    }
   },
   "outputs": [],
   "source": [
    "pairs_2_connect = [\n",
    "  [SimpleRRTPlannerState(seed_points[\"Front to Shelve\"]), SimpleRRTPlannerState(seed_points[\"Top Rack\"])],\n",
    "  [SimpleRRTPlannerState(seed_points[\"Front to Shelve\"]), SimpleRRTPlannerState(seed_points[\"Middle Rack\"])],\n",
    "  [SimpleRRTPlannerState(seed_points[\"Front to Shelve\"]), SimpleRRTPlannerState(seed_points[\"Left Bin\"])],\n",
    "  [SimpleRRTPlannerState(seed_points[\"Front to Shelve\"]), SimpleRRTPlannerState(seed_points[\"Right Bin\"])],\n",
    "    \n",
    "  [SimpleRRTPlannerState(seed_points[\"Left Bin\"]), SimpleRRTPlannerState(seed_points[\"Above Shelve\"])],\n",
    "  [SimpleRRTPlannerState(seed_points[\"Left Bin\"]), SimpleRRTPlannerState(seed_points[\"Left to Shelve\"])],\n",
    "\n",
    "    \n",
    "  [SimpleRRTPlannerState(seed_points[\"Right Bin\"]), SimpleRRTPlannerState(seed_points[\"Above Shelve\"])],\n",
    "  [SimpleRRTPlannerState(seed_points[\"Right Bin\"]), SimpleRRTPlannerState(seed_points[\"Right to Shelve\"])],\n",
    "    \n",
    "  [SimpleRRTPlannerState(seed_points[\"Above Shelve\"]), SimpleRRTPlannerState(seed_points[\"Left to Shelve\"])],\n",
    "  [SimpleRRTPlannerState(seed_points[\"Above Shelve\"]), SimpleRRTPlannerState(seed_points[\"Right to Shelve\"])],\n",
    "]\n",
    "\n",
    "prm = PRM(plant, diagram, collision_step_size, SEED, K)\n",
    "\n",
    "start_time = time.time()\n",
    "\n",
    "for start_tree, goal_tree in  pairs_2_connect:\n",
    "    result, start_tree_extended, end_tree_extended = birrt.connect([start_tree], [goal_tree], use_parallel = True)\n",
    "    if len(result.Path()) == 0:\n",
    "        raise Exception(\"Failed to connect nodes\")\n",
    "    prm.addNodes(list(map(lambda x: x.GetValueImmutable(), start_tree_extended)) + list(map(lambda x: x.GetValueImmutable(), end_tree_extended)))\n",
    "\n",
    "print(f\"Roadmap extended to {prm.roadmap_size} in {round(time.time()-start_time,2)} s\")"
   ]
  },
  {
   "cell_type": "markdown",
   "metadata": {
    "pycharm": {
     "name": "#%% md\n"
    }
   },
   "source": [
    "### Continue growing the Roadmap"
   ]
  },
  {
   "cell_type": "code",
   "execution_count": null,
   "metadata": {
    "pycharm": {
     "name": "#%%\n"
    }
   },
   "outputs": [],
   "source": [
    "stats = prm.GrowRoadMap(roadmap_size, True)\n",
    "print(f'Grow time: {stats[\"growing_time\"]} s') "
   ]
  },
  {
   "cell_type": "code",
   "execution_count": null,
   "metadata": {
    "pycharm": {
     "name": "#%%\n"
    }
   },
   "outputs": [],
   "source": [
    "prm.save(os.path.join(GcsDir(), \"data/prm_comparison/15k_presplined.rmp\"))"
   ]
  },
  {
   "cell_type": "markdown",
   "metadata": {
    "pycharm": {
     "name": "#%% md\n"
    }
   },
   "source": [
    "# Run Comparison"
   ]
  },
  {
   "cell_type": "code",
   "execution_count": null,
   "metadata": {
    "pycharm": {
     "name": "#%%\n"
    }
   },
   "outputs": [],
   "source": [
    "def getGCSPath(sequence, verbose = False):\n",
    "    path = [sequence[0]]\n",
    "    run_time = 0.0\n",
    "    for start_pt, goal_pt in zip(sequence[:-1], sequence[1:]):\n",
    "        gcs = LinearGCS(regions.copy())\n",
    "        gcs.addSourceTarget(start_pt, goal_pt)\n",
    "        gcs.setRoundingStrategy(randomForwardPathSearch, max_paths = 10, max_trials = 100, seed = SEED)\n",
    "        gcs.setSolver(SnoptSolver)\n",
    "        start_time = time.time()\n",
    "        waypoints, results_dict = gcs.SolvePath(rounding=True, verbose=False, preprocessing=True)\n",
    "        if waypoints is None:\n",
    "            if verbose:\n",
    "                print(f\"Failed between {start_pt} and {goal_pt}\")\n",
    "            return None\n",
    "\n",
    "        run_time += results_dict[\"preprocessing_stats\"][\"linear_programs\"]\n",
    "        run_time += results_dict[\"relaxation_solver_time\"]\n",
    "        run_time += results_dict[\"total_rounded_solver_time\"]\n",
    "        if verbose:\n",
    "            print(\"Convex Relaxation\", round(results_dict[\"relaxation_cost\"], 3),\n",
    "                  \"min hard result cost\", round(results_dict[\"rounded_cost\"], 3),\n",
    "                  \"Gap\", round((results_dict[\"rounded_cost\"] - results_dict[\"relaxation_cost\"])/results_dict[\"relaxation_cost\"], 3))\n",
    "    \n",
    "        path += waypoints.T[1:].tolist()\n",
    "    return np.stack(path).T, run_time\n",
    "\n",
    "def shortcut(path):\n",
    "    \"\"\"Those values are used by TRI\"\"\"\n",
    "    return prm.shortcut(np.stack(path),\n",
    "                 max_iter = 200,\n",
    "                 max_failed_iter = 200,\n",
    "                 max_backtracking_steps = 0,\n",
    "                 max_shortcut_fraction = 1.0,\n",
    "                 resample_shortcuts_interval = 0.25,\n",
    "                 check_for_marginal_shortcuts = False)"
   ]
  },
  {
   "cell_type": "markdown",
   "metadata": {
    "pycharm": {
     "name": "#%% md\n"
    }
   },
   "source": [
    "# Demonstration"
   ]
  },
  {
   "cell_type": "code",
   "execution_count": null,
   "metadata": {
    "pycharm": {
     "name": "#%%\n"
    }
   },
   "outputs": [],
   "source": [
    "demonstration =  {\"Above Shelve\": [[0.75, -0.12, 0.9], [0, -np.pi, -np.pi/2]],   \n",
    "                \"Top Rack\":       [[0.75, 0.12, 0.67], [0, -np.pi, -np.pi/2]],   \n",
    "                \"Middle Rack\":    [[0.75, 0.12, 0.41], [0, -np.pi, -np.pi/2]],       \n",
    "                \"Left Bin\":       [[0.08, 0.6, 0.22],  [np.pi/2, np.pi, 0]], \n",
    "                \"Right Bin\":      [[-0.08, -0.6, 0.22], [np.pi/2, np.pi, np.pi]]}\n",
    "\n",
    "q0 =[0, 0.3, 0, -1.8, 0, 1, 1.57]\n",
    "demonstration_configurations =  {name: InverseKinematics(q0, trans, rot) for name, (trans, rot) in demonstration.items()}\n"
   ]
  },
  {
   "cell_type": "code",
   "execution_count": null,
   "metadata": {
    "pycharm": {
     "name": "#%%\n"
    }
   },
   "outputs": [],
   "source": [
    "demo_a = [demonstration_configurations[\"Above Shelve\"],\n",
    "          demonstration_configurations[\"Top Rack\"]]\n",
    "\n",
    "demo_b = [demonstration_configurations[\"Top Rack\"],\n",
    "          demonstration_configurations[\"Middle Rack\"]]\n",
    "\n",
    "demo_c = [demonstration_configurations[\"Middle Rack\"],\n",
    "          demonstration_configurations[\"Left Bin\"]]\n",
    "\n",
    "demo_d = [demonstration_configurations[\"Left Bin\"],\n",
    "          demonstration_configurations[\"Right Bin\"]]\n",
    "\n",
    "demo_e = [demonstration_configurations[\"Right Bin\"],\n",
    "          demonstration_configurations[\"Above Shelve\"]]\n",
    "\n",
    "demo_f = [demonstration_configurations[\"Above Shelve\"],\n",
    "         seed_points[\"Left to Shelve\"]]\n",
    "\n",
    "\n",
    "demo_circle = [demonstration_configurations[\"Above Shelve\"],\n",
    "               demonstration_configurations[\"Top Rack\"],\n",
    "               demonstration_configurations[\"Middle Rack\"],\n",
    "               demonstration_configurations[\"Left Bin\"],\n",
    "               demonstration_configurations[\"Right Bin\"],\n",
    "               demonstration_configurations[\"Above Shelve\"]]\n",
    "# print(demo_circle)\n",
    "# # CHANGED FOR TESTING:\n",
    "# demo_d = [milestone_configurations[\"Left Bin\"],\n",
    "#           milestone_configurations[\"Right Bin\"]]\n",
    "# print(demo_circle)"
   ]
  },
  {
   "cell_type": "code",
   "execution_count": null,
   "metadata": {
    "pycharm": {
     "name": "#%%\n"
    }
   },
   "outputs": [],
   "source": [
    "sequence=demo_circ\n",
    "\n",
    "list(zip(sequence[:-1], sequence[1:]))"
   ]
  },
  {
   "cell_type": "code",
   "execution_count": null,
   "metadata": {
    "pycharm": {
     "name": "#%%\n"
    }
   },
   "outputs": [],
   "source": [
    "execute_demo = demo_d\n",
    "GCS_path, GCS_time = getGCSPath(execute_demo, verbose = True)\n",
    "linear_gcs_traj = make_traj(GCS_path, speed = 2)\n",
    "print(f\"Linear GCS length: {round(get_traj_length(linear_gcs_traj), 3)}, and time: {round(GCS_time, 3)} s\")\n",
    "\n",
    "# PRM_path, PRM_time = prm.getPath(execute_demo, verbose = True)\n",
    "# prm_traj = make_traj(PRM_path, speed = 2)\n",
    "# print(f\"PRM length: {round(get_traj_length(prm_traj), 3)}, and time: {round(PRM_time, 3)} s\")\n",
    "\n",
    "# sPRM_path, sPRM_time = prm.getPath(execute_demo, path_processing = shortcut)\n",
    "# sprm_traj = make_traj(sPRM_path, speed = 2)\n",
    "# print(f\"Smoothed PRM length: {round(get_traj_length(sprm_traj), 3)}, and time: {round(sPRM_time, 3)} s\")\n"
   ]
  },
  {
   "cell_type": "code",
   "execution_count": null,
   "metadata": {
    "pycharm": {
     "name": "#%%\n"
    }
   },
   "outputs": [],
   "source": [
    "%debug"
   ]
  },
  {
   "cell_type": "code",
   "execution_count": null,
   "metadata": {},
   "outputs": [],
   "source": [
    "prm.save(os.path.join(GcsDir(), \"data/prm_comparison/15k_presplined.rmp\"))"
   ]
  },
  {
   "cell_type": "markdown",
   "metadata": {},
   "source": [
    "# Run Comparison"
   ]
  },
  {
   "cell_type": "code",
   "execution_count": 107,
   "metadata": {},
   "outputs": [],
   "source": [
    "def getGCSPath(sequence, verbose = False):\n",
    "    path = [sequence[0]]\n",
    "    run_time = 0.0\n",
    "    for start_pt, goal_pt in zip(sequence[:-1], sequence[1:]):\n",
    "        gcs = LinearGCS(regions.copy())\n",
    "        gcs.addSourceTarget(start_pt, goal_pt)\n",
    "        gcs.setRoundingStrategy(randomForwardPathSearch, max_paths = 10, max_trials = 100, seed = SEED)\n",
    "        gcs.setSolver(SnoptSolver)\n",
    "        start_time = time.time()\n",
    "        waypoints, results_dict = gcs.SolvePath(rounding=True, verbose=False, preprocessing=True)\n",
    "        if waypoints is None:\n",
    "            if verbose:\n",
    "                print(f\"Failed between {start_pt} and {goal_pt}\")\n",
    "            return None\n",
    "\n",
    "        run_time += results_dict[\"preprocessing_stats\"][\"linear_programs\"]\n",
    "        run_time += results_dict[\"relaxation_solver_time\"]\n",
    "        run_time += results_dict[\"total_rounded_solver_time\"]\n",
    "        if verbose:\n",
    "            print(\"Convex Relaxation\", round(results_dict[\"relaxation_cost\"], 3),\n",
    "                  \"min hard result cost\", round(results_dict[\"rounded_cost\"], 3),\n",
    "                  \"Gap\", round((results_dict[\"rounded_cost\"] - results_dict[\"relaxation_cost\"])/results_dict[\"relaxation_cost\"], 3))\n",
    "    \n",
    "        path += waypoints.T[1:].tolist()\n",
    "    return np.stack(path).T, run_time\n",
    "\n",
    "def shortcut(path):\n",
    "    \"\"\"Those values are used by TRI\"\"\"\n",
    "    return prm.shortcut(np.stack(path),\n",
    "                 max_iter = 200,\n",
    "                 max_failed_iter = 200,\n",
    "                 max_backtracking_steps = 0,\n",
    "                 max_shortcut_fraction = 1.0,\n",
    "                 resample_shortcuts_interval = 0.25,\n",
    "                 check_for_marginal_shortcuts = False)"
   ]
  },
  {
   "cell_type": "markdown",
   "metadata": {},
   "source": [
    "# Demonstration"
   ]
  },
  {
   "cell_type": "code",
   "execution_count": 99,
   "metadata": {},
   "outputs": [],
   "source": [
    "demonstration =  {\"Above Shelve\": [[0.75, -0.12, 0.9], [0, -np.pi, -np.pi/2]],   \n",
    "                \"Top Rack\":       [[0.75, 0.12, 0.67], [0, -np.pi, -np.pi/2]],   \n",
    "                \"Middle Rack\":    [[0.75, 0.12, 0.41], [0, -np.pi, -np.pi/2]],       \n",
    "                \"Left Bin\":       [[0.08, 0.6, 0.22],  [np.pi/2, np.pi, 0]], \n",
    "                \"Right Bin\":      [[-0.08, -0.6, 0.22], [np.pi/2, np.pi, np.pi]]}\n",
    "\n",
    "q0 =[0, 0.3, 0, -1.8, 0, 1, 1.57]\n",
    "demonstration_configurations =  {name: InverseKinematics(q0, trans, rot) for name, (trans, rot) in demonstration.items()}\n"
   ]
  },
  {
   "cell_type": "code",
   "execution_count": 11,
   "metadata": {},
   "outputs": [
    {
     "ename": "NameError",
     "evalue": "name 'demonstration_configurations' is not defined",
     "output_type": "error",
     "traceback": [
      "\u001b[0;31m---------------------------------------------------------------------------\u001b[0m",
      "\u001b[0;31mNameError\u001b[0m                                 Traceback (most recent call last)",
      "Input \u001b[0;32mIn [11]\u001b[0m, in \u001b[0;36m<cell line: 1>\u001b[0;34m()\u001b[0m\n\u001b[0;32m----> 1\u001b[0m demo_a \u001b[38;5;241m=\u001b[39m [\u001b[43mdemonstration_configurations\u001b[49m[\u001b[38;5;124m\"\u001b[39m\u001b[38;5;124mAbove Shelve\u001b[39m\u001b[38;5;124m\"\u001b[39m],\n\u001b[1;32m      2\u001b[0m           demonstration_configurations[\u001b[38;5;124m\"\u001b[39m\u001b[38;5;124mTop Rack\u001b[39m\u001b[38;5;124m\"\u001b[39m]]\n\u001b[1;32m      4\u001b[0m demo_b \u001b[38;5;241m=\u001b[39m [demonstration_configurations[\u001b[38;5;124m\"\u001b[39m\u001b[38;5;124mTop Rack\u001b[39m\u001b[38;5;124m\"\u001b[39m],\n\u001b[1;32m      5\u001b[0m           demonstration_configurations[\u001b[38;5;124m\"\u001b[39m\u001b[38;5;124mMiddle Rack\u001b[39m\u001b[38;5;124m\"\u001b[39m]]\n\u001b[1;32m      7\u001b[0m demo_c \u001b[38;5;241m=\u001b[39m [demonstration_configurations[\u001b[38;5;124m\"\u001b[39m\u001b[38;5;124mMiddle Rack\u001b[39m\u001b[38;5;124m\"\u001b[39m],\n\u001b[1;32m      8\u001b[0m           demonstration_configurations[\u001b[38;5;124m\"\u001b[39m\u001b[38;5;124mLeft Bin\u001b[39m\u001b[38;5;124m\"\u001b[39m]]\n",
      "\u001b[0;31mNameError\u001b[0m: name 'demonstration_configurations' is not defined"
     ]
    }
   ],
   "source": [
    "demo_a = [demonstration_configurations[\"Above Shelve\"],\n",
    "          demonstration_configurations[\"Top Rack\"]]\n",
    "\n",
    "demo_b = [demonstration_configurations[\"Top Rack\"],\n",
    "          demonstration_configurations[\"Middle Rack\"]]\n",
    "\n",
    "demo_c = [demonstration_configurations[\"Middle Rack\"],\n",
    "          demonstration_configurations[\"Left Bin\"]]\n",
    "\n",
    "demo_d = [demonstration_configurations[\"Left Bin\"],\n",
    "          demonstration_configurations[\"Right Bin\"]]\n",
    "\n",
    "demo_e = [demonstration_configurations[\"Right Bin\"],\n",
    "          demonstration_configurations[\"Above Shelve\"]]\n",
    "\n",
    "demo_f = [demonstration_configurations[\"Above Shelve\"],\n",
    "         seed_points[\"Left to Shelve\"]]\n",
    "\n",
    "\n",
    "demo_circle = [demonstration_configurations[\"Above Shelve\"],\n",
    "               demonstration_configurations[\"Top Rack\"],\n",
    "               demonstration_configurations[\"Middle Rack\"],\n",
    "               demonstration_configurations[\"Left Bin\"],\n",
    "               demonstration_configurations[\"Right Bin\"],\n",
    "               demonstration_configurations[\"Above Shelve\"]]\n",
    "# print(demo_circle)\n",
    "# # CHANGED FOR TESTING:\n",
    "# demo_d = [milestone_configurations[\"Left Bin\"],\n",
    "#           milestone_configurations[\"Right Bin\"]]\n",
    "# print(demo_circle)"
   ]
  },
  {
   "cell_type": "code",
   "execution_count": 101,
   "metadata": {
    "scrolled": true
   },
   "outputs": [
    {
     "ename": "NameError",
     "evalue": "name 'demo_circ' is not defined",
     "output_type": "error",
     "traceback": [
      "\u001b[0;31m---------------------------------------------------------------------------\u001b[0m",
      "\u001b[0;31mNameError\u001b[0m                                 Traceback (most recent call last)",
      "Input \u001b[0;32mIn [101]\u001b[0m, in \u001b[0;36m<cell line: 1>\u001b[0;34m()\u001b[0m\n\u001b[0;32m----> 1\u001b[0m sequence\u001b[38;5;241m=\u001b[39m\u001b[43mdemo_circ\u001b[49m\n\u001b[1;32m      3\u001b[0m \u001b[38;5;28mlist\u001b[39m(\u001b[38;5;28mzip\u001b[39m(sequence[:\u001b[38;5;241m-\u001b[39m\u001b[38;5;241m1\u001b[39m], sequence[\u001b[38;5;241m1\u001b[39m:]))\n",
      "\u001b[0;31mNameError\u001b[0m: name 'demo_circ' is not defined"
     ]
    }
   ],
   "source": [
    "sequence=demo_circ\n",
    "\n",
    "list(zip(sequence[:-1], sequence[1:]))"
   ]
  },
  {
   "cell_type": "code",
   "execution_count": 10,
   "metadata": {
    "scrolled": false
   },
   "outputs": [
    {
     "ename": "NameError",
     "evalue": "name 'demo_d' is not defined",
     "output_type": "error",
     "traceback": [
      "\u001b[0;31m---------------------------------------------------------------------------\u001b[0m",
      "\u001b[0;31mNameError\u001b[0m                                 Traceback (most recent call last)",
      "Input \u001b[0;32mIn [10]\u001b[0m, in \u001b[0;36m<cell line: 1>\u001b[0;34m()\u001b[0m\n\u001b[0;32m----> 1\u001b[0m execute_demo \u001b[38;5;241m=\u001b[39m \u001b[43mdemo_d\u001b[49m\n\u001b[1;32m      2\u001b[0m GCS_path, GCS_time \u001b[38;5;241m=\u001b[39m getGCSPath(execute_demo, verbose \u001b[38;5;241m=\u001b[39m \u001b[38;5;28;01mTrue\u001b[39;00m)\n\u001b[1;32m      3\u001b[0m linear_gcs_traj \u001b[38;5;241m=\u001b[39m make_traj(GCS_path, speed \u001b[38;5;241m=\u001b[39m \u001b[38;5;241m2\u001b[39m)\n",
      "\u001b[0;31mNameError\u001b[0m: name 'demo_d' is not defined"
     ]
    }
   ],
   "source": [
    "execute_demo = demo_d\n",
    "GCS_path, GCS_time = getGCSPath(execute_demo, verbose = True)\n",
    "linear_gcs_traj = make_traj(GCS_path, speed = 2)\n",
    "print(f\"Linear GCS length: {round(get_traj_length(linear_gcs_traj), 3)}, and time: {round(GCS_time, 3)} s\")\n",
    "\n",
    "# PRM_path, PRM_time = prm.getPath(execute_demo, verbose = True)\n",
    "# prm_traj = make_traj(PRM_path, speed = 2)\n",
    "# print(f\"PRM length: {round(get_traj_length(prm_traj), 3)}, and time: {round(PRM_time, 3)} s\")\n",
    "\n",
    "# sPRM_path, sPRM_time = prm.getPath(execute_demo, path_processing = shortcut)\n",
    "# sprm_traj = make_traj(sPRM_path, speed = 2)\n",
    "# print(f\"Smoothed PRM length: {round(get_traj_length(sprm_traj), 3)}, and time: {round(sPRM_time, 3)} s\")\n"
   ]
  },
  {
   "cell_type": "code",
   "execution_count": 69,
   "metadata": {},
   "outputs": [
    {
     "name": "stdout",
     "output_type": "stream",
     "text": [
      "> \u001b[0;32m/var/folders/p0/l4__0wtd3j184sv9zspd0qlm0000gn/T/ipykernel_29450/2423713009.py\u001b[0m(1)\u001b[0;36m<cell line: 1>\u001b[0;34m()\u001b[0m\n",
      "\u001b[0;32m----> 1 \u001b[0;31m\u001b[0mprint\u001b[0m\u001b[0;34m(\u001b[0m\u001b[0mgcs\u001b[0m\u001b[0;34m.\u001b[0m\u001b[0mgcs\u001b[0m\u001b[0;34m.\u001b[0m\u001b[0mvertices\u001b[0m\u001b[0;34m)\u001b[0m\u001b[0;34m\u001b[0m\u001b[0;34m\u001b[0m\u001b[0m\n",
      "\u001b[0m\n",
      "ipdb> \n"
     ]
    }
   ],
   "source": [
    "%debug"
   ]
  },
  {
   "cell_type": "code",
   "execution_count": 44,
   "metadata": {
    "scrolled": false
   },
   "outputs": [
    {
     "ename": "NameError",
     "evalue": "name 'sprm_traj' is not defined",
     "output_type": "error",
     "traceback": [
      "\u001b[0;31m---------------------------------------------------------------------------\u001b[0m",
      "\u001b[0;31mNameError\u001b[0m                                 Traceback (most recent call last)",
      "Input \u001b[0;32mIn [44]\u001b[0m, in \u001b[0;36m<cell line: 1>\u001b[0;34m()\u001b[0m\n\u001b[0;32m----> 1\u001b[0m is_traj_confined(\u001b[43msprm_traj\u001b[49m, regions)\n",
      "\u001b[0;31mNameError\u001b[0m: name 'sprm_traj' is not defined"
     ]
    }
   ],
   "source": [
    "is_traj_confined(sprm_traj, regions)"
   ]
  },
  {
   "cell_type": "code",
   "execution_count": 45,
   "metadata": {},
   "outputs": [
    {
     "ename": "NameError",
     "evalue": "name 'linear_gcs_traj' is not defined",
     "output_type": "error",
     "traceback": [
      "\u001b[0;31m---------------------------------------------------------------------------\u001b[0m",
      "\u001b[0;31mNameError\u001b[0m                                 Traceback (most recent call last)",
      "Input \u001b[0;32mIn [45]\u001b[0m, in \u001b[0;36m<cell line: 1>\u001b[0;34m()\u001b[0m\n\u001b[1;32m      1\u001b[0m visualize_trajectory(meshcat,\n\u001b[0;32m----> 2\u001b[0m                      [\u001b[43mlinear_gcs_traj\u001b[49m,prm_traj,sprm_traj],\n\u001b[1;32m      3\u001b[0m                      show_line \u001b[38;5;241m=\u001b[39m \u001b[38;5;28;01mTrue\u001b[39;00m,\n\u001b[1;32m      4\u001b[0m                      iiwa_ghosts \u001b[38;5;241m=\u001b[39m execute_demo,\n\u001b[1;32m      5\u001b[0m                      alpha \u001b[38;5;241m=\u001b[39m  \u001b[38;5;241m0.3\u001b[39m,\n\u001b[1;32m      6\u001b[0m                      regions \u001b[38;5;241m=\u001b[39m [])\n",
      "\u001b[0;31mNameError\u001b[0m: name 'linear_gcs_traj' is not defined"
     ]
    }
   ],
   "source": [
    "visualize_trajectory(meshcat,\n",
    "                     [linear_gcs_traj,prm_traj,sprm_traj],\n",
    "                     show_line = True,\n",
    "                     iiwa_ghosts = execute_demo,\n",
    "                     alpha =  0.3,\n",
    "                     regions = [])\n"
   ]
  },
  {
   "cell_type": "code",
   "execution_count": 46,
   "metadata": {},
   "outputs": [],
   "source": [
    "with open (\"GCS_PRM15k_comparison.html\", \"w\") as f:\n",
    "    f.write(meshcat.StaticHtml())"
   ]
  },
  {
   "cell_type": "markdown",
   "metadata": {},
   "source": [
    "## Comparison Table for Paper\n"
   ]
  },
  {
   "cell_type": "code",
   "execution_count": null,
   "metadata": {},
   "outputs": [],
   "source": [
    "demos_for_paper = [demo_a, demo_b, demo_c, demo_d, demo_e]\n",
    "\n",
    "proposed_planner_data = []\n",
    "PRM_data = []\n",
    "sPRM_data = []\n",
    "\n",
    "N = 10 # We ran this 100 in the paper \n",
    "for _ in range(N):\n",
    "    #extract trajectory and time \n",
    "    trajectories = map(lambda d:[getGCSPath(d),prm.getPath(d),prm.getPath(d, path_processing = shortcut)], demos_for_paper)\n",
    "    #get length of trajectory\n",
    "    length_time_list = map(lambda traj_time: [[get_traj_length(make_traj(trj)), t] for trj, t in traj_time], trajectories)\n",
    "    #flatten for pandas\n",
    "    length_time_list = np.array(list(length_time_list))\n",
    "    \n",
    "    proposed_planner_data.append(length_time_list[:,0].flatten())\n",
    "    PRM_data.append(length_time_list[:,1].flatten())\n",
    "    sPRM_data.append(length_time_list[:,2].flatten())\n",
    "    \n",
    "proposed_planner_data = np.mean(proposed_planner_data, axis = 0)\n",
    "PRM_data = np.mean(PRM_data, axis = 0)\n",
    "sPRM_data = np.mean(sPRM_data, axis = 0)"
   ]
  },
  {
   "cell_type": "code",
   "execution_count": null,
   "metadata": {},
   "outputs": [],
   "source": [
    "cols = {\"Proposed Planner\":proposed_planner_data,\n",
    "        \"Regular PRM\":PRM_data,\n",
    "        \"Shortcut PRM\":sPRM_data}\n",
    "\n",
    "index = pd.MultiIndex.from_tuples([('q1-q2', 'length (rad)'), ('q1-q2', 'runtime (s)'),\n",
    "                                    ('q2-q3', 'length (rad)'), ('q2-q3', 'runtime (s)'),\n",
    "                                    ('q3-q4', 'length (rad)'), ('q3-q4', 'runtime (s)'),\n",
    "                                    ('q4-q5', 'length (rad)'), ('q4-q5', 'runtime (s)'),\n",
    "                                    ('q5-q1', 'length (rad)'), ('q5-q1', 'runtime (s)'),], names=[\"Task\", \"\"])\n",
    "df = pd.DataFrame(data = cols, index=index)"
   ]
  },
  {
   "cell_type": "code",
   "execution_count": null,
   "metadata": {},
   "outputs": [],
   "source": [
    "df.round(2)"
   ]
  },
  {
   "cell_type": "markdown",
   "metadata": {},
   "source": [
    "## Debug\n",
    "When playing with the demonstration points, use this to understand where PRM fails and where the regions to include the configurations"
   ]
  },
  {
   "cell_type": "code",
   "execution_count": null,
   "metadata": {},
   "outputs": [],
   "source": [
    "for k,v in {name: InverseKinematics(q0, trans, rot) for name, (trans, rot) in demonstration.items()}.items():\n",
    "    print(k, regions[k].PointInSet(v), not prm.getPath([q0, v]) is None)"
   ]
  },
  {
   "cell_type": "code",
   "execution_count": null,
   "metadata": {},
   "outputs": [],
   "source": []
  }
 ],
 "metadata": {
  "kernelspec": {
   "display_name": "gomp-gcs",
   "language": "python",
   "name": "gomp-gcs"
  },
  "language_info": {
   "codemirror_mode": {
    "name": "ipython",
    "version": 3
   },
   "file_extension": ".py",
   "mimetype": "text/x-python",
   "name": "python",
   "nbconvert_exporter": "python",
   "pygments_lexer": "ipython3",
   "version": "3.9.13"
  }
 },
 "nbformat": 4,
 "nbformat_minor": 2
}
